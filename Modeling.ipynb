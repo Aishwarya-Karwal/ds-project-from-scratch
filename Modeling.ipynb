{
 "cells": [
  {
   "cell_type": "code",
   "execution_count": 142,
   "id": "66471965-0402-4f3a-b0e6-cd912cac18c9",
   "metadata": {},
   "outputs": [],
   "source": [
    "import pandas as pd\n",
    "import numpy as np\n",
    "\n",
    "# for visualization\n",
    "import matplotlib.pyplot as plt\n",
    "import seaborn as sns\n",
    "import plotly.express as px\n",
    "\n",
    "# dimensionality reduction\n",
    "from sklearn.decomposition import PCA\n",
    "\n",
    "from sklearn.preprocessing import StandardScaler, MinMaxScaler\n",
    "\n",
    "from sklearn.linear_model import LinearRegression\n",
    "from sklearn.linear_model import Lasso\n",
    "from sklearn.ensemble import RandomForestRegressor\n",
    "\n",
    "import statsmodels.api as sm\n"
   ]
  },
  {
   "cell_type": "code",
   "execution_count": 2,
   "id": "543511a3-a6bd-4d84-9875-0a18dbec6456",
   "metadata": {},
   "outputs": [],
   "source": [
    "from sklearn.model_selection import cross_val_score\n",
    "from sklearn.metrics import r2_score, mean_absolute_error"
   ]
  },
  {
   "cell_type": "code",
   "execution_count": 5,
   "id": "b2fef508-8b8f-4302-bfae-b4814e91d649",
   "metadata": {},
   "outputs": [],
   "source": [
    "df = pd.read_csv(\"Bag_of_words_data.csv\")"
   ]
  },
  {
   "cell_type": "code",
   "execution_count": 7,
   "id": "abcb67d3-0d9e-4b63-a909-f8a9e168ce1b",
   "metadata": {},
   "outputs": [
    {
     "data": {
      "text/plain": [
       "(374, 1674)"
      ]
     },
     "execution_count": 7,
     "metadata": {},
     "output_type": "execute_result"
    }
   ],
   "source": [
    "df.shape"
   ]
  },
  {
   "cell_type": "code",
   "execution_count": 9,
   "id": "2a11f426-bf50-4e32-9afa-e928f3018f62",
   "metadata": {},
   "outputs": [
    {
     "data": {
      "text/plain": [
       "company_name_a66         0\n",
       "company_name_adci        0\n",
       "company_name_adobe       0\n",
       "company_name_airtel      0\n",
       "company_name_alignerr    0\n",
       "                        ..\n",
       "rating                   0\n",
       "employer_estimate        0\n",
       "avg_salary               0\n",
       "age                      0\n",
       "seniority                0\n",
       "Length: 1674, dtype: int64"
      ]
     },
     "execution_count": 9,
     "metadata": {},
     "output_type": "execute_result"
    }
   ],
   "source": [
    "df.isnull().sum()"
   ]
  },
  {
   "cell_type": "code",
   "execution_count": 11,
   "id": "4f912006-2ddc-4cd7-8765-9d12e6c26cd7",
   "metadata": {},
   "outputs": [
    {
     "data": {
      "text/plain": [
       "5"
      ]
     },
     "execution_count": 11,
     "metadata": {},
     "output_type": "execute_result"
    }
   ],
   "source": [
    "df.duplicated().sum() # letting these rows be there for time being, since earlier the data was cleaned to remove duplicates , this time they might have occurred becoz of same encoding "
   ]
  },
  {
   "cell_type": "code",
   "execution_count": 13,
   "id": "0b8c632d-26df-43a6-8c4a-b2720b42921a",
   "metadata": {},
   "outputs": [
    {
     "data": {
      "text/plain": [
       "Index(['company_name_a66', 'company_name_adci', 'company_name_adobe',\n",
       "       'company_name_airtel', 'company_name_alignerr', 'company_name_altair',\n",
       "       'company_name_american', 'company_name_amex', 'company_name_analytics',\n",
       "       'company_name_ananta',\n",
       "       ...\n",
       "       'job_simp_other', 'job_simp_python', 'job_simp_related',\n",
       "       'job_simp_scientist', 'job_simp_software', 'rating',\n",
       "       'employer_estimate', 'avg_salary', 'age', 'seniority'],\n",
       "      dtype='object', length=1674)"
      ]
     },
     "execution_count": 13,
     "metadata": {},
     "output_type": "execute_result"
    }
   ],
   "source": [
    "df.columns"
   ]
  },
  {
   "cell_type": "code",
   "execution_count": 15,
   "id": "eb77e126-0e92-4912-bf75-c0a852d193fb",
   "metadata": {},
   "outputs": [
    {
     "name": "stdout",
     "output_type": "stream",
     "text": [
      "<class 'pandas.core.frame.DataFrame'>\n",
      "RangeIndex: 374 entries, 0 to 373\n",
      "Columns: 1674 entries, company_name_a66 to seniority\n",
      "dtypes: float64(4), int64(1670)\n",
      "memory usage: 4.8 MB\n"
     ]
    }
   ],
   "source": [
    "df.info()"
   ]
  },
  {
   "cell_type": "markdown",
   "id": "0a2139f0-6196-4d02-ba3c-8d6d36a77645",
   "metadata": {},
   "source": [
    "## Train Test split"
   ]
  },
  {
   "cell_type": "code",
   "execution_count": 17,
   "id": "fad0155d-c4e6-4188-9669-78f3c4c7f5a5",
   "metadata": {},
   "outputs": [],
   "source": [
    "# Filter once for training data\n",
    "train_data = df[df['avg_salary'] != -1]\n",
    "\n",
    "# Now split into features (xtrain) and target (ytrain) this was required for the modelling phase purpose but since we are still in eda phase,\n",
    "# we can scale both features and target column together\n",
    "xtrain = train_data.drop('avg_salary', axis=1)\n",
    "ytrain = train_data['avg_salary']  # Selecting a single column doesn't need .loc\n",
    "\n",
    "# For test data\n",
    "xtest = df[df['avg_salary'] == -1].drop('avg_salary', axis=1)"
   ]
  },
  {
   "cell_type": "code",
   "execution_count": 19,
   "id": "55a72c2d-5a88-444e-8a15-9c9200ec51ed",
   "metadata": {},
   "outputs": [
    {
     "data": {
      "text/plain": [
       "((173, 1673), (173,), (201, 1673))"
      ]
     },
     "execution_count": 19,
     "metadata": {},
     "output_type": "execute_result"
    }
   ],
   "source": [
    "xtrain.shape, ytrain.shape, xtest.shape"
   ]
  },
  {
   "cell_type": "markdown",
   "id": "9fcd0951-f9a9-427d-b6f9-b295bd41106a",
   "metadata": {},
   "source": [
    "## Scaling"
   ]
  },
  {
   "cell_type": "code",
   "execution_count": 22,
   "id": "44be908e-9ed6-4621-8d87-83b91ea71611",
   "metadata": {},
   "outputs": [
    {
     "data": {
      "text/plain": [
       "Index(['company_name_a66', 'company_name_adci', 'company_name_adobe',\n",
       "       'company_name_airtel', 'company_name_alignerr', 'company_name_altair',\n",
       "       'company_name_american', 'company_name_amex', 'company_name_analytics',\n",
       "       'company_name_ananta',\n",
       "       ...\n",
       "       'job_simp_other', 'job_simp_python', 'job_simp_related',\n",
       "       'job_simp_scientist', 'job_simp_software', 'rating',\n",
       "       'employer_estimate', 'avg_salary', 'age', 'seniority'],\n",
       "      dtype='object', length=1674)"
      ]
     },
     "execution_count": 22,
     "metadata": {},
     "output_type": "execute_result"
    }
   ],
   "source": [
    "df.columns"
   ]
  },
  {
   "cell_type": "code",
   "execution_count": 24,
   "id": "c09b27f3-6d47-4e9a-9467-e8eb5b51b73b",
   "metadata": {},
   "outputs": [],
   "source": [
    "cols_scale_train = xtrain[['rating', 'age']]\n",
    "cols_scale_test = xtest[['rating', 'age']]"
   ]
  },
  {
   "cell_type": "code",
   "execution_count": 26,
   "id": "5fe6399f-1b8b-4f75-b5a5-30347b495e86",
   "metadata": {},
   "outputs": [
    {
     "data": {
      "text/html": [
       "<div>\n",
       "<style scoped>\n",
       "    .dataframe tbody tr th:only-of-type {\n",
       "        vertical-align: middle;\n",
       "    }\n",
       "\n",
       "    .dataframe tbody tr th {\n",
       "        vertical-align: top;\n",
       "    }\n",
       "\n",
       "    .dataframe thead th {\n",
       "        text-align: right;\n",
       "    }\n",
       "</style>\n",
       "<table border=\"1\" class=\"dataframe\">\n",
       "  <thead>\n",
       "    <tr style=\"text-align: right;\">\n",
       "      <th></th>\n",
       "      <th>rating</th>\n",
       "      <th>age</th>\n",
       "    </tr>\n",
       "  </thead>\n",
       "  <tbody>\n",
       "    <tr>\n",
       "      <th>39</th>\n",
       "      <td>4.0</td>\n",
       "      <td>225.0</td>\n",
       "    </tr>\n",
       "    <tr>\n",
       "      <th>40</th>\n",
       "      <td>3.5</td>\n",
       "      <td>61.0</td>\n",
       "    </tr>\n",
       "    <tr>\n",
       "      <th>41</th>\n",
       "      <td>4.1</td>\n",
       "      <td>164.0</td>\n",
       "    </tr>\n",
       "    <tr>\n",
       "      <th>42</th>\n",
       "      <td>3.7</td>\n",
       "      <td>43.0</td>\n",
       "    </tr>\n",
       "    <tr>\n",
       "      <th>43</th>\n",
       "      <td>4.6</td>\n",
       "      <td>17.0</td>\n",
       "    </tr>\n",
       "    <tr>\n",
       "      <th>...</th>\n",
       "      <td>...</td>\n",
       "      <td>...</td>\n",
       "    </tr>\n",
       "    <tr>\n",
       "      <th>369</th>\n",
       "      <td>3.9</td>\n",
       "      <td>15.0</td>\n",
       "    </tr>\n",
       "    <tr>\n",
       "      <th>370</th>\n",
       "      <td>4.7</td>\n",
       "      <td>61.0</td>\n",
       "    </tr>\n",
       "    <tr>\n",
       "      <th>371</th>\n",
       "      <td>4.1</td>\n",
       "      <td>61.0</td>\n",
       "    </tr>\n",
       "    <tr>\n",
       "      <th>372</th>\n",
       "      <td>4.3</td>\n",
       "      <td>9.0</td>\n",
       "    </tr>\n",
       "    <tr>\n",
       "      <th>373</th>\n",
       "      <td>4.1</td>\n",
       "      <td>61.0</td>\n",
       "    </tr>\n",
       "  </tbody>\n",
       "</table>\n",
       "<p>201 rows × 2 columns</p>\n",
       "</div>"
      ],
      "text/plain": [
       "     rating    age\n",
       "39      4.0  225.0\n",
       "40      3.5   61.0\n",
       "41      4.1  164.0\n",
       "42      3.7   43.0\n",
       "43      4.6   17.0\n",
       "..      ...    ...\n",
       "369     3.9   15.0\n",
       "370     4.7   61.0\n",
       "371     4.1   61.0\n",
       "372     4.3    9.0\n",
       "373     4.1   61.0\n",
       "\n",
       "[201 rows x 2 columns]"
      ]
     },
     "execution_count": 26,
     "metadata": {},
     "output_type": "execute_result"
    }
   ],
   "source": [
    "cols_scale_test"
   ]
  },
  {
   "cell_type": "code",
   "execution_count": 28,
   "id": "fa604204-cd5a-4f51-b081-00a0065acf72",
   "metadata": {},
   "outputs": [
    {
     "data": {
      "text/plain": [
       "rating    0\n",
       "age       0\n",
       "dtype: int64"
      ]
     },
     "execution_count": 28,
     "metadata": {},
     "output_type": "execute_result"
    }
   ],
   "source": [
    "cols_scale_train.isna().sum()"
   ]
  },
  {
   "cell_type": "code",
   "execution_count": 30,
   "id": "3b42fabf-fc3c-42a2-baf2-7972c2b1a680",
   "metadata": {},
   "outputs": [
    {
     "name": "stdout",
     "output_type": "stream",
     "text": [
      "rating     4.000000\n",
      "age       68.560694\n",
      "dtype: float64\n",
      "rating     3.998010\n",
      "age       67.920398\n",
      "dtype: float64\n"
     ]
    }
   ],
   "source": [
    "print(cols_scale_train.mean())\n",
    "print(cols_scale_test.mean())"
   ]
  },
  {
   "cell_type": "code",
   "execution_count": 32,
   "id": "6c708bb4-22f3-456a-89e0-8b00d67b9730",
   "metadata": {},
   "outputs": [],
   "source": [
    "scaler1 = MinMaxScaler()\n",
    "xtrain_trf = scaler1.fit_transform(cols_scale_train)\n",
    "xtest_trf = scaler1.transform(cols_scale_test)"
   ]
  },
  {
   "cell_type": "code",
   "execution_count": 34,
   "id": "1b529540-dabc-4f01-b457-d24fe9e8f75f",
   "metadata": {},
   "outputs": [
    {
     "data": {
      "text/plain": [
       "numpy.ndarray"
      ]
     },
     "execution_count": 34,
     "metadata": {},
     "output_type": "execute_result"
    }
   ],
   "source": [
    "type(xtest_trf)"
   ]
  },
  {
   "cell_type": "code",
   "execution_count": 36,
   "id": "c18e7d23-5823-42fa-a3c3-b8c4329442da",
   "metadata": {},
   "outputs": [],
   "source": [
    "scaled_train_X = pd.DataFrame(xtrain_trf, columns = cols_scale_train.columns)\n",
    "scaled_test_X = pd.DataFrame(xtest_trf, columns = cols_scale_test.columns)"
   ]
  },
  {
   "cell_type": "code",
   "execution_count": 20,
   "id": "03e6a405-fcc9-4981-bc0a-7e57cc8df333",
   "metadata": {},
   "outputs": [],
   "source": [
    "# this is done so that when we merge encoded and scaled columns into one they are merged properly\n",
    "# but maybe original xtrain wont be required anymore after merging we'll get a new df\n",
    "# xtrain.reset_index(drop = 'first', inplace = True)\n",
    "# xtest.reset_index(drop = 'first', inplace = True)"
   ]
  },
  {
   "cell_type": "markdown",
   "id": "09b8ebd3-20bc-45de-9e58-777c1f39fefa",
   "metadata": {},
   "source": [
    "## Encoding - done in a separate notebook"
   ]
  },
  {
   "cell_type": "code",
   "execution_count": 22,
   "id": "1c9c92b0-495b-492a-b477-b81b5a400597",
   "metadata": {},
   "outputs": [],
   "source": [
    "# st = set()\n",
    "# for i in xtrain['skills']:\n",
    "#     for skill in i.split(','):\n",
    "#         st.add(skill.strip())\n",
    "# len(st)\n",
    "    "
   ]
  },
  {
   "cell_type": "markdown",
   "id": "22f4800b-a87a-47de-b6dc-17b5369313b8",
   "metadata": {},
   "source": [
    "`skills column looked like this` - {'.NET',\n",
    " 'AI',\n",
    " 'AJAX',\n",
    " 'APIs',\n",
    " 'ASP.NET',\n",
    " 'AWS',\n",
    " 'Administrative experience',\n",
    " 'Adobe Creative Suite',\n",
    " 'Agile',\n",
    " 'Alteryx',\n",
    " 'Analysis skills',\n",
    " 'Analytics',\n",
    " 'Android',\n",
    " 'Angular',\n",
    " 'Apache Hive',\n",
    " 'Application development',\n",
    " 'ArcGIS',\n",
    " 'Azure',\n",
    " 'Big data',\n",
    " 'Bootstrap',\n",
    " 'Business analysis',\n",
    " 'Business intelligence',\n",
    " 'C#',\n",
    " 'CI/CD',\n",
    " 'CSS',\n",
    " 'Cassandra',\n",
    " 'Clerical experience',\n",
    " 'Clinical research',\n",
    " 'Cloud architecture',\n",
    " 'Cloud computing',\n",
    " 'Cloud infrastructure',\n",
    " 'Communication skills',\n",
    " 'Computer science',\n",
    " 'Computer vision',\n",
    " 'Content development',\n",
    " 'Customer service',\n",
    " 'Data analysis skills',\n",
    " 'Data entry',\n",
    " 'Data management',\n",
    " 'Data mining',\n",
    " 'Data modeling',\n",
    " 'Data science',\n",
    " 'Data structures',\n",
    " 'Data visualization',\n",
    " 'Database management',\n",
    " 'Databases',\n",
    " 'Deep learning',\n",
    " 'DevOps',\n",
    " 'Django',\n",
    " 'Docker',\n",
    " 'Elasticsearch',\n",
    " 'Electrical experience',\n",
    " 'English',\n",
    " 'Enterprise Software',\n",
    " 'FTP',\n",
    " 'Financial services',\n",
    " 'Git',\n",
    " 'Go',\n",
    " 'Google AdWords',\n",
    " 'Google Cloud Platform',\n",
    " 'Gradle',\n",
    " 'Hadoop',\n",
    " 'Image processing',\n",
    " 'Incident response',\n",
    " 'Information security',\n",
    " 'Java',\n",
    " 'Jira',\n",
    " 'Kanban',\n",
    " 'Kubernetes',\n",
    " 'Laboratory experience',\n",
    " 'Learning technology',\n",
    " 'Less',\n",
    " 'Linux',\n",
    " 'Lucene',\n",
    " 'MATLAB',\n",
    " 'MVC',\n",
    " 'Machine learning',\n",
    " 'Management',\n",
    " 'Math',\n",
    " 'Microservices',\n",
    " 'Microsoft Access',\n",
    " 'Microsoft Excel',\n",
    " 'Microsoft Office',\n",
    " 'Microsoft Powerpoint',\n",
    " 'Microsoft SQL Server',\n",
    " 'Mobile applications',\n",
    " 'MongoDB',\n",
    " 'Multilingual',\n",
    " 'NFS',\n",
    " 'Natural language processing',\n",
    " 'NoSQL',\n",
    " 'Node.js',\n",
    " 'Ontology',\n",
    " 'Operating systems',\n",
    " 'Oracle',\n",
    " 'PCI',\n",
    " 'PaaS',\n",
    " 'Performance tuning',\n",
    " 'Power BI',\n",
    " 'Predictive analytics',\n",
    " 'Presentation skills',\n",
    " 'Pricing',\n",
    " 'Procurement',\n",
    " 'Project management',\n",
    " 'Python',\n",
    " 'Quality assurance',\n",
    " 'R',\n",
    " 'RMF',\n",
    " 'React',\n",
    " 'Relational databases',\n",
    " 'Research',\n",
    " 'Research & development',\n",
    " 'Risk management',\n",
    " 'Rust',\n",
    " 'SAFe',\n",
    " 'SAP',\n",
    " 'SAP HANA',\n",
    " 'SAP S/4HANA',\n",
    " 'SAS',\n",
    " 'SOX',\n",
    " 'SQL',\n",
    " 'SSRS',\n",
    " 'Scalability',\n",
    " 'Search engines',\n",
    " 'SharePoint',\n",
    " 'Software deployment',\n",
    " 'Software development',\n",
    " 'Software testing',\n",
    " 'Software troubleshooting',\n",
    " 'Spark',\n",
    " 'Statistical analysis',\n",
    " 'Statistics',\n",
    " 'Supply chain',\n",
    " 'System administration',\n",
    " 'System design',\n",
    " 'Tableau',\n",
    " 'TensorFlow',\n",
    " 'Test-driven development',\n",
    " 'Training & development',\n",
    " 'Visual Basic',\n",
    " 'Web development',\n",
    " 'XML',\n",
    " 'iOS'}"
   ]
  },
  {
   "cell_type": "markdown",
   "id": "b1337f89-66d7-46c7-b510-02a075127ac0",
   "metadata": {},
   "source": [
    "##### Problems encountered : tried looking into the encoding notebook\n",
    "1) how to deal with description col with many lines\n",
    "2) how to deal with cols with hundreds of categories - maybe we can make a new category as other\n",
    "3) how to deal with skills col - like we want the model should capture the importance of each skill type on the salary - so what should be done how it should be encoded ? as separate skill tag each or according to the value counts output with around 100 categoies ..\n",
    "4) even if we have collected all the unique skill tags in a set , now the problem arises to associate each skill tag with each job title and then associate salary with it."
   ]
  },
  {
   "cell_type": "code",
   "execution_count": 38,
   "id": "ba8c91b5-f431-4ab1-a3af-dfd690e58e1e",
   "metadata": {},
   "outputs": [
    {
     "data": {
      "text/plain": [
       "(173, 2)"
      ]
     },
     "execution_count": 38,
     "metadata": {},
     "output_type": "execute_result"
    }
   ],
   "source": [
    "scaled_train_X.shape"
   ]
  },
  {
   "cell_type": "code",
   "execution_count": 40,
   "id": "783d8b90-2442-45ff-88af-7982b4234cf0",
   "metadata": {},
   "outputs": [],
   "source": [
    "subset = xtrain.drop(columns=['rating', 'age']).reset_index(drop=True)\n",
    "subset2 = xtest.drop(columns=['rating', 'age']).reset_index(drop=True)"
   ]
  },
  {
   "cell_type": "code",
   "execution_count": 42,
   "id": "38c980a9-c258-4ae4-b15a-4c3aa3fb6dbd",
   "metadata": {},
   "outputs": [
    {
     "data": {
      "text/plain": [
       "(173, 1671)"
      ]
     },
     "execution_count": 42,
     "metadata": {},
     "output_type": "execute_result"
    }
   ],
   "source": [
    "subset.shape"
   ]
  },
  {
   "cell_type": "code",
   "execution_count": 44,
   "id": "c3fdee42-7d53-47cb-b448-55448cd00a41",
   "metadata": {},
   "outputs": [],
   "source": [
    "final_train_x = pd.concat([scaled_train_X,subset], axis = 1)#.shape\n",
    "final_test_x = pd.concat([scaled_test_X,subset2], axis = 1)#.shape"
   ]
  },
  {
   "cell_type": "code",
   "execution_count": 46,
   "id": "b45b7d8e-5d7f-4dca-b36d-572f9a5c41bf",
   "metadata": {},
   "outputs": [
    {
     "data": {
      "text/html": [
       "<div>\n",
       "<style scoped>\n",
       "    .dataframe tbody tr th:only-of-type {\n",
       "        vertical-align: middle;\n",
       "    }\n",
       "\n",
       "    .dataframe tbody tr th {\n",
       "        vertical-align: top;\n",
       "    }\n",
       "\n",
       "    .dataframe thead th {\n",
       "        text-align: right;\n",
       "    }\n",
       "</style>\n",
       "<table border=\"1\" class=\"dataframe\">\n",
       "  <thead>\n",
       "    <tr style=\"text-align: right;\">\n",
       "      <th></th>\n",
       "      <th>rating</th>\n",
       "      <th>age</th>\n",
       "      <th>company_name_a66</th>\n",
       "      <th>company_name_adci</th>\n",
       "      <th>company_name_adobe</th>\n",
       "      <th>company_name_airtel</th>\n",
       "      <th>company_name_alignerr</th>\n",
       "      <th>company_name_altair</th>\n",
       "      <th>company_name_american</th>\n",
       "      <th>company_name_amex</th>\n",
       "      <th>...</th>\n",
       "      <th>job_simp_machine</th>\n",
       "      <th>job_simp_manager</th>\n",
       "      <th>job_simp_nlp</th>\n",
       "      <th>job_simp_other</th>\n",
       "      <th>job_simp_python</th>\n",
       "      <th>job_simp_related</th>\n",
       "      <th>job_simp_scientist</th>\n",
       "      <th>job_simp_software</th>\n",
       "      <th>employer_estimate</th>\n",
       "      <th>seniority</th>\n",
       "    </tr>\n",
       "  </thead>\n",
       "  <tbody>\n",
       "    <tr>\n",
       "      <th>0</th>\n",
       "      <td>0.71875</td>\n",
       "      <td>0.558559</td>\n",
       "      <td>0</td>\n",
       "      <td>0</td>\n",
       "      <td>0</td>\n",
       "      <td>0</td>\n",
       "      <td>0</td>\n",
       "      <td>0</td>\n",
       "      <td>0</td>\n",
       "      <td>0</td>\n",
       "      <td>...</td>\n",
       "      <td>0</td>\n",
       "      <td>1</td>\n",
       "      <td>0</td>\n",
       "      <td>0</td>\n",
       "      <td>0</td>\n",
       "      <td>0</td>\n",
       "      <td>0</td>\n",
       "      <td>0</td>\n",
       "      <td>0</td>\n",
       "      <td>2.0</td>\n",
       "    </tr>\n",
       "    <tr>\n",
       "      <th>1</th>\n",
       "      <td>0.71875</td>\n",
       "      <td>0.489489</td>\n",
       "      <td>0</td>\n",
       "      <td>0</td>\n",
       "      <td>0</td>\n",
       "      <td>0</td>\n",
       "      <td>0</td>\n",
       "      <td>0</td>\n",
       "      <td>0</td>\n",
       "      <td>0</td>\n",
       "      <td>...</td>\n",
       "      <td>0</td>\n",
       "      <td>0</td>\n",
       "      <td>0</td>\n",
       "      <td>0</td>\n",
       "      <td>0</td>\n",
       "      <td>0</td>\n",
       "      <td>0</td>\n",
       "      <td>0</td>\n",
       "      <td>0</td>\n",
       "      <td>0.0</td>\n",
       "    </tr>\n",
       "    <tr>\n",
       "      <th>2</th>\n",
       "      <td>0.71875</td>\n",
       "      <td>0.180180</td>\n",
       "      <td>0</td>\n",
       "      <td>0</td>\n",
       "      <td>0</td>\n",
       "      <td>0</td>\n",
       "      <td>0</td>\n",
       "      <td>0</td>\n",
       "      <td>0</td>\n",
       "      <td>0</td>\n",
       "      <td>...</td>\n",
       "      <td>0</td>\n",
       "      <td>0</td>\n",
       "      <td>0</td>\n",
       "      <td>0</td>\n",
       "      <td>0</td>\n",
       "      <td>0</td>\n",
       "      <td>1</td>\n",
       "      <td>0</td>\n",
       "      <td>1</td>\n",
       "      <td>0.0</td>\n",
       "    </tr>\n",
       "    <tr>\n",
       "      <th>3</th>\n",
       "      <td>0.71875</td>\n",
       "      <td>0.180180</td>\n",
       "      <td>0</td>\n",
       "      <td>0</td>\n",
       "      <td>0</td>\n",
       "      <td>0</td>\n",
       "      <td>0</td>\n",
       "      <td>0</td>\n",
       "      <td>0</td>\n",
       "      <td>0</td>\n",
       "      <td>...</td>\n",
       "      <td>0</td>\n",
       "      <td>1</td>\n",
       "      <td>0</td>\n",
       "      <td>0</td>\n",
       "      <td>0</td>\n",
       "      <td>0</td>\n",
       "      <td>1</td>\n",
       "      <td>0</td>\n",
       "      <td>0</td>\n",
       "      <td>2.0</td>\n",
       "    </tr>\n",
       "    <tr>\n",
       "      <th>4</th>\n",
       "      <td>0.75000</td>\n",
       "      <td>0.072072</td>\n",
       "      <td>0</td>\n",
       "      <td>0</td>\n",
       "      <td>0</td>\n",
       "      <td>0</td>\n",
       "      <td>0</td>\n",
       "      <td>0</td>\n",
       "      <td>0</td>\n",
       "      <td>0</td>\n",
       "      <td>...</td>\n",
       "      <td>0</td>\n",
       "      <td>0</td>\n",
       "      <td>0</td>\n",
       "      <td>0</td>\n",
       "      <td>0</td>\n",
       "      <td>0</td>\n",
       "      <td>0</td>\n",
       "      <td>0</td>\n",
       "      <td>0</td>\n",
       "      <td>1.0</td>\n",
       "    </tr>\n",
       "  </tbody>\n",
       "</table>\n",
       "<p>5 rows × 1673 columns</p>\n",
       "</div>"
      ],
      "text/plain": [
       "    rating       age  company_name_a66  company_name_adci  company_name_adobe  \\\n",
       "0  0.71875  0.558559                 0                  0                   0   \n",
       "1  0.71875  0.489489                 0                  0                   0   \n",
       "2  0.71875  0.180180                 0                  0                   0   \n",
       "3  0.71875  0.180180                 0                  0                   0   \n",
       "4  0.75000  0.072072                 0                  0                   0   \n",
       "\n",
       "   company_name_airtel  company_name_alignerr  company_name_altair  \\\n",
       "0                    0                      0                    0   \n",
       "1                    0                      0                    0   \n",
       "2                    0                      0                    0   \n",
       "3                    0                      0                    0   \n",
       "4                    0                      0                    0   \n",
       "\n",
       "   company_name_american  company_name_amex  ...  job_simp_machine  \\\n",
       "0                      0                  0  ...                 0   \n",
       "1                      0                  0  ...                 0   \n",
       "2                      0                  0  ...                 0   \n",
       "3                      0                  0  ...                 0   \n",
       "4                      0                  0  ...                 0   \n",
       "\n",
       "   job_simp_manager  job_simp_nlp  job_simp_other  job_simp_python  \\\n",
       "0                 1             0               0                0   \n",
       "1                 0             0               0                0   \n",
       "2                 0             0               0                0   \n",
       "3                 1             0               0                0   \n",
       "4                 0             0               0                0   \n",
       "\n",
       "   job_simp_related  job_simp_scientist  job_simp_software  employer_estimate  \\\n",
       "0                 0                   0                  0                  0   \n",
       "1                 0                   0                  0                  0   \n",
       "2                 0                   1                  0                  1   \n",
       "3                 0                   1                  0                  0   \n",
       "4                 0                   0                  0                  0   \n",
       "\n",
       "   seniority  \n",
       "0        2.0  \n",
       "1        0.0  \n",
       "2        0.0  \n",
       "3        2.0  \n",
       "4        1.0  \n",
       "\n",
       "[5 rows x 1673 columns]"
      ]
     },
     "execution_count": 46,
     "metadata": {},
     "output_type": "execute_result"
    }
   ],
   "source": [
    "final_train_x.head()"
   ]
  },
  {
   "cell_type": "markdown",
   "id": "117c00bc-0f80-42f6-8ccc-b74a40dda4f3",
   "metadata": {},
   "source": [
    "## Dimensionality reduction - Applying PCA "
   ]
  },
  {
   "cell_type": "code",
   "execution_count": 48,
   "id": "6b75f7d4-a1db-406f-a7ca-a4ebc195ed21",
   "metadata": {},
   "outputs": [
    {
     "data": {
      "text/plain": [
       "(173,)"
      ]
     },
     "execution_count": 48,
     "metadata": {},
     "output_type": "execute_result"
    }
   ],
   "source": [
    "pca = PCA(n_components = None) # None by default takes min(nsamples, nfeatures)-1\n",
    "xtrain_pca = pca.fit_transform(final_train_x)\n",
    "xtest_pca = pca.transform(final_test_x)\n",
    "\n",
    "pca.explained_variance_ratio_.shape"
   ]
  },
  {
   "cell_type": "code",
   "execution_count": 50,
   "id": "3b54c3bd-6e50-4a68-b4bc-89bda6e415a8",
   "metadata": {},
   "outputs": [
    {
     "data": {
      "text/plain": [
       "(173, 1673)"
      ]
     },
     "execution_count": 50,
     "metadata": {},
     "output_type": "execute_result"
    }
   ],
   "source": [
    "xtrain.shape"
   ]
  },
  {
   "cell_type": "code",
   "execution_count": 52,
   "id": "cf42ab3d-dfcc-4982-81a1-efb8e9f75742",
   "metadata": {},
   "outputs": [],
   "source": [
    "cumulative_variance = np.cumsum(pca.explained_variance_ratio_)"
   ]
  },
  {
   "cell_type": "code",
   "execution_count": 54,
   "id": "564412c9-d640-4f5a-95a3-315e3ba4c37c",
   "metadata": {},
   "outputs": [
    {
     "data": {
      "text/plain": [
       "array([0.07869806, 0.12378997, 0.16468958, 0.19956292, 0.23161461,\n",
       "       0.25702777, 0.28078458, 0.30305372, 0.32438265, 0.34456573,\n",
       "       0.36184834, 0.37893484, 0.3950263 , 0.41061188, 0.42612741,\n",
       "       0.44100999, 0.45470698, 0.46699441, 0.47876163, 0.49014733,\n",
       "       0.50107084, 0.51188625, 0.52218741, 0.53219733, 0.54189342,\n",
       "       0.55145462, 0.56074221, 0.56964746, 0.57832901, 0.58687313,\n",
       "       0.59523101, 0.60331867, 0.61108182, 0.61859421, 0.62598158,\n",
       "       0.6330691 , 0.64009313, 0.6469493 , 0.65370754, 0.66039375,\n",
       "       0.66705615, 0.67330425, 0.67950758, 0.6856664 , 0.69164281,\n",
       "       0.69747778, 0.70316626, 0.70877988, 0.71432153, 0.71969037,\n",
       "       0.7249109 , 0.73004058, 0.73510434, 0.74011407, 0.74509524,\n",
       "       0.74998731, 0.75478678, 0.75955102, 0.76422221, 0.76879034,\n",
       "       0.77327163, 0.77770901, 0.78206781, 0.78639516, 0.79062783,\n",
       "       0.7948174 , 0.79895292, 0.80301975, 0.80702102, 0.81095217,\n",
       "       0.81484919, 0.81867028, 0.82243117, 0.82618632, 0.82986793,\n",
       "       0.83347188, 0.8370685 , 0.8405877 , 0.84406202, 0.84751711,\n",
       "       0.85092454, 0.85429317, 0.85763108, 0.86090305, 0.864133  ,\n",
       "       0.86728426, 0.87040535, 0.87348309, 0.87650556, 0.87950385,\n",
       "       0.8824711 , 0.88536797, 0.8882164 , 0.89104175, 0.89384907,\n",
       "       0.89661652, 0.89932067, 0.9019766 , 0.90460667, 0.90721119,\n",
       "       0.90978192, 0.91229358, 0.91479539, 0.9172627 , 0.91970555,\n",
       "       0.92211077, 0.92449527, 0.92684115, 0.92916146, 0.93144164,\n",
       "       0.93370328, 0.93592298, 0.93812014, 0.94027599, 0.94240898,\n",
       "       0.94450736, 0.94655088, 0.94856395, 0.9505549 , 0.95250891,\n",
       "       0.95443499, 0.95631944, 0.95819971, 0.96006593, 0.96188819,\n",
       "       0.96368654, 0.96545323, 0.96716977, 0.96887264, 0.97054332,\n",
       "       0.97220313, 0.97382969, 0.97544325, 0.97700582, 0.97851132,\n",
       "       0.97999979, 0.98146169, 0.98289175, 0.98431305, 0.98572586,\n",
       "       0.98706962, 0.9883868 , 0.98962161, 0.99081856, 0.99197245,\n",
       "       0.99292412, 0.99381886, 0.99464769, 0.99540966, 0.99615224,\n",
       "       0.99684833, 0.99748121, 0.99797727, 0.9984343 , 0.99881355,\n",
       "       0.99914975, 0.99945718, 0.99963119, 0.9997707 , 0.99987944,\n",
       "       0.99996106, 0.9999817 , 1.        , 1.        , 1.        ,\n",
       "       1.        , 1.        , 1.        , 1.        , 1.        ,\n",
       "       1.        , 1.        , 1.        ])"
      ]
     },
     "execution_count": 54,
     "metadata": {},
     "output_type": "execute_result"
    }
   ],
   "source": [
    "cumulative_variance#[:5]"
   ]
  },
  {
   "cell_type": "code",
   "execution_count": 56,
   "id": "d7018377-77ef-4ae2-9be5-eddcb56a5c1d",
   "metadata": {},
   "outputs": [
    {
     "data": {
      "image/png": "[encoded data removed]",
      "text/plain": [
       "<Figure size 640x480 with 1 Axes>"
      ]
     },
     "metadata": {},
     "output_type": "display_data"
    }
   ],
   "source": [
    "plt.plot(cumulative_variance)\n",
    "plt.xlabel(\"Number of Principal Components\")\n",
    "plt.ylabel(\"Cumulative Explained Variance\")\n",
    "plt.title(\"Cumulative Explained Variance vs. Number of Components\")\n",
    "plt.axhline(y=0.95, color='r', linestyle='--', label='95% Variance')\n",
    "plt.legend()\n",
    "plt.show()"
   ]
  },
  {
   "cell_type": "code",
   "execution_count": 58,
   "id": "1afd1796-4095-448a-a7c0-3653b291547b",
   "metadata": {},
   "outputs": [
    {
     "data": {
      "text/plain": [
       "<bound method ClassNamePrefixFeaturesOutMixin.get_feature_names_out of PCA()>"
      ]
     },
     "execution_count": 58,
     "metadata": {},
     "output_type": "execute_result"
    }
   ],
   "source": [
    "# The PCA object in scikit-learn doesn't inherently provide feature names using get_feature_names_out(). \n",
    "# PCA operates on transformed data, where the original feature names lose their meaning\n",
    "# because PCA creates principal components, which are linear combinations of the original features.\n",
    "pca.get_feature_names_out "
   ]
  },
  {
   "cell_type": "markdown",
   "id": "a20cb793-0292-4a5a-ae22-60fa1dd71205",
   "metadata": {},
   "source": [
    "Interpretation:\n",
    "- pca.components_ tells you the directions (axes) of the new feature space.\n",
    "- pca.explained_variance_ratio_ tells you how much variance each new axis captures from the original data."
   ]
  },
  {
   "cell_type": "code",
   "execution_count": 64,
   "id": "6cff301c-734f-4bf1-8524-1ca310899dc3",
   "metadata": {},
   "outputs": [
    {
     "data": {
      "text/plain": [
       "array([[ 1.80219719e-02,  3.44498578e-03, -1.29678845e-03, ...,\n",
       "         1.90274529e-02,  2.55890550e-02,  2.29981162e-01],\n",
       "       [ 8.46677934e-03,  4.16207583e-02,  2.73927877e-03, ...,\n",
       "        -9.40137894e-04,  3.43149669e-02, -9.25204639e-02],\n",
       "       [ 1.48056783e-02, -7.63790955e-03,  6.20353800e-04, ...,\n",
       "        -5.01987512e-02, -4.52018363e-02, -1.33737850e-01],\n",
       "       ...,\n",
       "       [ 2.66982727e-02,  3.85150246e-02, -1.25957838e-02, ...,\n",
       "        -4.98392993e-03,  1.24900090e-16,  1.42247325e-16],\n",
       "       [ 9.87062118e-03,  1.26537782e-02,  3.02324691e-02, ...,\n",
       "        -8.10226120e-03,  5.37764278e-17,  2.77555756e-17],\n",
       "       [ 1.13261565e-02, -3.22045681e-02, -6.74177730e-03, ...,\n",
       "        -6.24760781e-03, -3.81639165e-17, -4.16333634e-17]])"
      ]
     },
     "execution_count": 64,
     "metadata": {},
     "output_type": "execute_result"
    }
   ],
   "source": [
    "pca.components_"
   ]
  },
  {
   "cell_type": "code",
   "execution_count": 68,
   "id": "360f9bca-eaed-4cd2-8447-8333ed794157",
   "metadata": {},
   "outputs": [
    {
     "data": {
      "text/plain": [
       "array([1., 1., 1., 1., 1., 1., 1., 1., 1., 1., 1., 1., 1., 1., 1., 1., 1.,\n",
       "       1., 1., 1., 1., 1., 1., 1., 1., 1., 1., 1., 1., 1., 1., 1., 1., 1.,\n",
       "       1., 1., 1., 1., 1., 1., 1., 1., 1., 1., 1., 1., 1., 1., 1., 1., 1.,\n",
       "       1., 1., 1., 1., 1., 1., 1., 1., 1., 1., 1., 1., 1., 1., 1., 1., 1.,\n",
       "       1., 1., 1., 1., 1., 1., 1., 1., 1., 1., 1., 1., 1., 1., 1., 1., 1.,\n",
       "       1., 1., 1., 1., 1., 1., 1., 1., 1., 1., 1., 1., 1., 1., 1., 1., 1.,\n",
       "       1., 1., 1., 1., 1., 1., 1., 1., 1., 1., 1., 1., 1., 1., 1., 1., 1.,\n",
       "       1., 1., 1., 1., 1., 1., 1., 1., 1., 1., 1., 1., 1., 1., 1., 1., 1.,\n",
       "       1., 1., 1., 1., 1., 1., 1., 1., 1., 1., 1., 1., 1., 1., 1., 1., 1.,\n",
       "       1., 1., 1., 1., 1., 1., 1., 1., 1., 1., 1., 1., 1., 1., 1., 1., 1.,\n",
       "       1., 1., 1.])"
      ]
     },
     "execution_count": 68,
     "metadata": {},
     "output_type": "execute_result"
    }
   ],
   "source": [
    "# # Check norms of principal components\n",
    "# A norm is a way to measure the size or length of a vector. Think of it as how \"big\" or \"long\" a vector is in space.\n",
    "np.linalg.norm(pca.components_, axis = 1)"
   ]
  },
  {
   "cell_type": "code",
   "execution_count": 330,
   "id": "f9274a6b-8b4d-4775-9163-b26b154cbf77",
   "metadata": {},
   "outputs": [
    {
     "data": {
      "text/plain": [
       "(173, 1673)"
      ]
     },
     "execution_count": 330,
     "metadata": {},
     "output_type": "execute_result"
    }
   ],
   "source": [
    "# to see what all features contribute more to respective principal component row wise \n",
    "# though we would not be able to see much , since the dimensionality is quite high \n",
    "components_share = pd.DataFrame(pca.components_, columns = xtrain.columns)\n",
    "components_share.shape"
   ]
  },
  {
   "cell_type": "code",
   "execution_count": 70,
   "id": "fda9b335-0ff2-44ec-bfc8-6c578635fb27",
   "metadata": {},
   "outputs": [
    {
     "data": {
      "image/png": "[encoded data removed]",
      "text/plain": [
       "<Figure size 640x480 with 1 Axes>"
      ]
     },
     "metadata": {},
     "output_type": "display_data"
    }
   ],
   "source": [
    "pca2 = PCA(n_components=1)\n",
    "plt.scatter(pca2.fit_transform(final_train_x), ytrain)\n",
    "plt.title(\"This scatter plot visualizes the relationship between the first principal component of the dataset (xtrain after being transformed by PCA) and the target variable (ytrain).\")\n",
    "plt.show()"
   ]
  },
  {
   "cell_type": "code",
   "execution_count": 332,
   "id": "1ba2b6b7-702f-4205-9390-c5bf9ff2ec80",
   "metadata": {},
   "outputs": [
    {
     "data": {
      "application/vnd.plotly.v1+json": {
       "config": {
        "plotlyServerURL": "https://plot.ly"
       },
       "data": [
        {
         "hovertemplate": "x=%{x}<br>y=%{y}<br>z=%{z}<extra></extra>",
         "legendgroup": "",
         "marker": {
          "color": "#636efa",
          "symbol": "circle"
         },
         "mode": "markers",
         "name": "",
         "scene": "scene",
         "showlegend": false,
         "type": "scatter3d",
         "x": [
          0.5464348123726019,
          0.25974566944772504,
          0.6292186565370339,
          0.0910400782350525,
          -1.8965077835189366,
          0.7013655508349333,
          1.4347556776306194,
          -0.6404905327340081,
          -0.6169986155227292,
          -1.8187976228658274,
          -1.3058500108532693,
          1.2116573760953324,
          -1.4330334657910446,
          1.8121642826832065,
          0.7160427025134983,
          -0.55272978965072,
          -1.5512178782515476,
          -0.6841474182596211,
          -2.117292398621317,
          -1.8278908734075374,
          2.1490301921045134,
          2.3179954933796,
          -1.8702301680964848,
          0.04349277117877584,
          0.01350594575277144,
          -1.860225849152307,
          2.7342434345365896,
          2.632506311690582,
          2.298909418337552,
          0.05770656968943225,
          -1.4979112516442288,
          -2.17748897638505,
          -1.9036119741461508,
          1.491325704065984,
          2.643190189748716,
          0.391129787662345,
          -1.9363406027383827,
          -3.0096497301989245,
          -0.3534657426992328,
          -0.8801133479381531,
          -2.2732934959391344,
          1.0172348052415792,
          -1.617242151511338,
          -1.6224510053489436,
          -0.46885467487680366,
          0.11461798649178823,
          -2.449334668414331,
          2.891049533697981,
          -0.31780001044900136,
          -2.6738488716740174,
          -0.04240832499790711,
          -0.5908801405848113,
          2.3943290387996874,
          -2.9197440874878873,
          -2.1270513373641187,
          -0.4744250498346538,
          -2.725325674484464,
          -1.078553074185123,
          -1.8008937941476262,
          0.4777678694847798,
          4.541750401240343,
          2.948364425065907,
          4.541750401240343,
          4.494509292148839,
          2.187912865002814,
          2.649285445384151,
          4.4177080536117606,
          2.6822758236290194,
          2.8792661970235303,
          -1.064756546056941,
          1.5098515360828304,
          0.09326862733948077,
          -0.17409442325039834,
          0.6150625285527352,
          -0.337933238557731,
          1.5132209359716025,
          2.3792145109186555,
          -0.9339053377352499,
          2.68459035045982,
          -0.10741317101357509,
          -1.742101903672165,
          0.3901712575275214,
          -0.41422028855078885,
          -0.25548040077433537,
          -0.32310521477453524,
          -1.6616180044444449,
          -2.1621139415054396,
          -0.8914929138034927,
          -1.3561804398504802,
          -0.1079307350199061,
          2.772406375644899,
          -1.583630376672812,
          -0.074831861913595,
          2.722172672947662,
          -0.12679297532636855,
          -1.4979112516442288,
          -0.5187856874374168,
          2.875213460722668,
          0.009676445354156777,
          -2.385493316182624,
          2.3291428281336786,
          -2.4774434322564582,
          -0.2824021455745455,
          -0.2167810328523959,
          -2.14196054327269,
          0.08951866975459521,
          -1.9400914950667103,
          0.3878089687218574,
          -0.6210925820811389,
          -0.09334888745964602,
          -1.6341573259322881,
          -1.5852621081762688,
          -0.6890103719047697,
          0.2582727734454343,
          0.3649007402554753,
          -0.24344888283388022,
          -2.1497494225107783,
          -2.5033074275670866,
          -0.9190060059093441,
          -0.7678134674590196,
          4.541750401240343,
          2.2315224328424854,
          -0.7077441644846314,
          -0.5727779476957879,
          -0.6072725794503054,
          2.3179954933796,
          3.1820476268516593,
          2.60691736945509,
          -0.015564797031998577,
          -1.9036119741461508,
          -0.7004541960115115,
          -0.49383294768398156,
          -1.7177131564664283,
          2.7342434345365896,
          2.0820483879050227,
          -1.6874561161980424,
          -1.0847073880314326,
          -1.564594201509639,
          -0.028301998569469154,
          -2.1113761252656484,
          -1.8639202136089468,
          1.493354735438985,
          0.07846447786819416,
          -0.13069866347362563,
          0.30666758928340665,
          -1.7320347051464529,
          -1.469722153209166,
          -0.32997226382899686,
          -1.9077702586216214,
          -1.1475793195538055,
          -0.24344722184330628,
          2.7331148210720566,
          -1.4979112516442288,
          -2.3780711275537074,
          2.608045982919623,
          2.2361620393811017,
          -0.9948309545857859,
          0.35715685300362426,
          2.8827949639322292,
          0.628257167649536,
          1.2946058107855516,
          0.6755873216915635,
          0.3461554765062108,
          -0.05490763713003597,
          0.017903828943283184,
          -0.897177693530222,
          -1.7004835818939927,
          0.34438380023039933,
          0.30061467099690187,
          0.5479885684586878,
          -0.05966808340389463,
          -1.6879228516788003,
          0.43673442730617756
         ],
         "y": [
          0.5486642134087597,
          1.6958498390854233,
          1.805883947468304,
          2.5128525533637207,
          -2.468692289054231,
          -0.08657916653815466,
          1.2041747072063531,
          2.755418234278511,
          1.9696882622776268,
          -1.3296342848819287,
          -1.0670999558357919,
          0.7247812662694197,
          0.5559461567757682,
          0.16148247940847363,
          1.5937954030028736,
          1.2180254650746423,
          -0.7905362625613415,
          2.264375281495473,
          -1.2030922541750473,
          -1.1941397593775012,
          -0.643310292909228,
          -0.7570303402552693,
          -1.243256854735359,
          1.1102438479433527,
          0.24917801888563115,
          -0.9148081526315004,
          -0.7491326414509485,
          -0.8460711348107681,
          -0.3057897190828191,
          0.5674885332719929,
          -0.9703821924059755,
          -0.011097175657963657,
          0.3367333272146003,
          1.4921126094926196,
          -0.17855666100396086,
          1.515717249442077,
          -0.8728271259203649,
          -0.5138865399579027,
          2.1397886210991417,
          1.4618277840152107,
          -0.5119382384597457,
          2.2389295847132384,
          0.9342379737363526,
          -1.8291060926441034,
          2.378327092280863,
          2.23945122592417,
          -1.2282869081672128,
          -1.3032039925641667,
          1.9545474697227057,
          -1.2859500548056177,
          2.1161015068933016,
          2.6440363045760984,
          -0.8688457735761436,
          0.1629772708689727,
          -1.0332063499587807,
          1.8086865694750953,
          -1.2026022667893543,
          -1.831637446642615,
          -1.5878943304161908,
          2.0875327426039916,
          -1.8928409532641515,
          -0.8309256993073064,
          -1.8928409532641515,
          -1.8389146794810207,
          -0.5820240647375078,
          -0.3479694761380993,
          -1.8373093406395713,
          -0.8469469592414964,
          -0.44048001726512687,
          1.333575056625517,
          0.3205861172673114,
          -1.3959936416323577,
          1.4369541567962056,
          1.7198644555914728,
          1.7880234039953369,
          0.1249390607265367,
          -0.322098825070937,
          -1.8936771370098302,
          -0.3960390936644717,
          1.3896744187685837,
          -1.4703680776325494,
          0.7610709462243264,
          0.8717974274128676,
          0.7916188560993662,
          0.7479042795753187,
          -1.294073671270006,
          -1.106013101017976,
          -0.4657720422877981,
          -0.3310096366510605,
          -0.3401951004357951,
          -0.28155474837096933,
          0.9792175392993633,
          -1.2159919454309993,
          -0.9261197893814039,
          1.0019116290455465,
          -0.9703821924059755,
          2.672639256186585,
          -0.504405941678683,
          1.8109907790462074,
          -0.3943118207604246,
          -1.0123547913657476,
          0.004445626438350763,
          1.9630165844406764,
          2.397609309906516,
          -0.8993920005311635,
          -0.459441560885641,
          -0.5017846027614081,
          1.487270762056874,
          -0.1742270474108946,
          1.0312007791024091,
          -1.730402403682488,
          0.40009398154685916,
          0.8341364803911769,
          0.27121946332720026,
          1.6918539485446824,
          1.7986335819729493,
          -1.1128966534652744,
          -0.1625582427772358,
          1.7337454622102484,
          0.7117836770981907,
          -1.8928409532641515,
          -0.6928704857853887,
          -1.9139268239129075,
          0.2566838474238152,
          1.1854934173526006,
          -0.7570303402552693,
          -0.6263657179847146,
          -0.8804062643053194,
          -1.2825328241825056,
          0.3367333272146003,
          1.1098094799607316,
          1.314098206984817,
          -2.3123716031660133,
          -0.7491326414509485,
          -0.028283989439137288,
          -1.552807796884397,
          1.0377386867932066,
          -1.4778371585889452,
          1.7606632241628546,
          -1.6953385955514584,
          -0.4519902671244553,
          0.2652239722544067,
          0.1517687133516307,
          1.1176942003454575,
          0.7840155187809689,
          -1.783197972230189,
          -1.3287181904259628,
          -0.15996152513715248,
          -0.8891236449254732,
          -1.2418986173895485,
          -1.8684252235719356,
          -0.7760626302170865,
          -0.9703821924059755,
          -0.11765971587549612,
          -0.8534762755391807,
          -0.529575467186844,
          0.8058822367120154,
          1.3155062367291868,
          -0.8413897222860025,
          0.3377825256146376,
          1.7524814907766924,
          0.8391923254296877,
          0.3209399615657455,
          -2.427911326538791,
          1.0759087184488019,
          -1.0866594366815518,
          -2.853027591868296,
          1.3344610056115502,
          0.10124678503018142,
          1.7414986402659525,
          -2.45185114058991,
          -2.8395968624159216,
          0.5631083635894654
         ],
         "z": [
          550000,
          600000,
          5000,
          1000000,
          550000,
          1400000,
          950000,
          17500,
          13000,
          650000,
          550000,
          750000,
          10000,
          700000,
          1000000,
          600000,
          600000,
          700000,
          750000,
          500000,
          492500,
          700000,
          650000,
          3250000,
          850000,
          500000,
          350000,
          16500,
          14000,
          700000,
          700000,
          550000,
          850000,
          3050000,
          1100000,
          20000,
          700000,
          450000,
          55000,
          1000000,
          700000,
          950000,
          230000,
          950000,
          750000,
          550000,
          750000,
          950000,
          450000,
          1000000,
          750000,
          650000,
          800000,
          800000,
          650000,
          400000,
          750000,
          700000,
          600000,
          900000,
          650000,
          492500,
          950000,
          500000,
          20000,
          700000,
          16000,
          800000,
          800000,
          400000,
          20000,
          800000,
          750000,
          148000,
          400000,
          650000,
          4500,
          750000,
          550000,
          550000,
          1000000,
          750000,
          750000,
          650000,
          600000,
          750000,
          550000,
          700000,
          1000000,
          450000,
          450000,
          750000,
          550000,
          650000,
          650000,
          650000,
          450000,
          600000,
          500000,
          500000,
          650000,
          750000,
          492500,
          700000,
          700000,
          650000,
          50000,
          650000,
          700000,
          1250000,
          1300000,
          350000,
          450000,
          600000,
          300000,
          1000000,
          750000,
          750000,
          75000,
          1000000,
          600000,
          400000,
          950000,
          27500,
          400000,
          550000,
          700000,
          550000,
          550000,
          650000,
          750000,
          850000,
          700000,
          450000,
          600000,
          550000,
          400000,
          750000,
          900000,
          550000,
          800000,
          850000,
          450000,
          850000,
          550000,
          500000,
          650000,
          750000,
          350000,
          750000,
          492500,
          650000,
          700000,
          600000,
          90000,
          950000,
          800000,
          550000,
          350000,
          650000,
          450000,
          400000,
          550000,
          550000,
          650000,
          500000,
          550000,
          800000,
          650000,
          600000,
          500000,
          10000,
          650000
         ]
        }
       ],
       "layout": {
        "autosize": true,
        "legend": {
         "tracegroupgap": 0
        },
        "margin": {
         "t": 60
        },
        "scene": {
         "aspectmode": "auto",
         "aspectratio": {
          "x": 1,
          "y": 1,
          "z": 1
         },
         "domain": {
          "x": [
           0,
           1
          ],
          "y": [
           0,
           1
          ]
         },
         "xaxis": {
          "title": {
           "text": "x"
          },
          "type": "linear"
         },
         "yaxis": {
          "title": {
           "text": "y"
          },
          "type": "linear"
         },
         "zaxis": {
          "title": {
           "text": "z"
          },
          "type": "linear"
         }
        },
        "template": {
         "data": {
          "bar": [
           {
            "error_x": {
             "color": "#2a3f5f"
            },
            "error_y": {
             "color": "#2a3f5f"
            },
            "marker": {
             "line": {
              "color": "#E5ECF6",
              "width": 0.5
             },
             "pattern": {
              "fillmode": "overlay",
              "size": 10,
              "solidity": 0.2
             }
            },
            "type": "bar"
           }
          ],
          "barpolar": [
           {
            "marker": {
             "line": {
              "color": "#E5ECF6",
              "width": 0.5
             },
             "pattern": {
              "fillmode": "overlay",
              "size": 10,
              "solidity": 0.2
             }
            },
            "type": "barpolar"
           }
          ],
          "carpet": [
           {
            "aaxis": {
             "endlinecolor": "#2a3f5f",
             "gridcolor": "white",
             "linecolor": "white",
             "minorgridcolor": "white",
             "startlinecolor": "#2a3f5f"
            },
            "baxis": {
             "endlinecolor": "#2a3f5f",
             "gridcolor": "white",
             "linecolor": "white",
             "minorgridcolor": "white",
             "startlinecolor": "#2a3f5f"
            },
            "type": "carpet"
           }
          ],
          "choropleth": [
           {
            "colorbar": {
             "outlinewidth": 0,
             "ticks": ""
            },
            "type": "choropleth"
           }
          ],
          "contour": [
           {
            "colorbar": {
             "outlinewidth": 0,
             "ticks": ""
            },
            "colorscale": [
             [
              0,
              "#0d0887"
             ],
             [
              0.1111111111111111,
              "#46039f"
             ],
             [
              0.2222222222222222,
              "#7201a8"
             ],
             [
              0.3333333333333333,
              "#9c179e"
             ],
             [
              0.4444444444444444,
              "#bd3786"
             ],
             [
              0.5555555555555556,
              "#d8576b"
             ],
             [
              0.6666666666666666,
              "#ed7953"
             ],
             [
              0.7777777777777778,
              "#fb9f3a"
             ],
             [
              0.8888888888888888,
              "#fdca26"
             ],
             [
              1,
              "#f0f921"
             ]
            ],
            "type": "contour"
           }
          ],
          "contourcarpet": [
           {
            "colorbar": {
             "outlinewidth": 0,
             "ticks": ""
            },
            "type": "contourcarpet"
           }
          ],
          "heatmap": [
           {
            "colorbar": {
             "outlinewidth": 0,
             "ticks": ""
            },
            "colorscale": [
             [
              0,
              "#0d0887"
             ],
             [
              0.1111111111111111,
              "#46039f"
             ],
             [
              0.2222222222222222,
              "#7201a8"
             ],
             [
              0.3333333333333333,
              "#9c179e"
             ],
             [
              0.4444444444444444,
              "#bd3786"
             ],
             [
              0.5555555555555556,
              "#d8576b"
             ],
             [
              0.6666666666666666,
              "#ed7953"
             ],
             [
              0.7777777777777778,
              "#fb9f3a"
             ],
             [
              0.8888888888888888,
              "#fdca26"
             ],
             [
              1,
              "#f0f921"
             ]
            ],
            "type": "heatmap"
           }
          ],
          "heatmapgl": [
           {
            "colorbar": {
             "outlinewidth": 0,
             "ticks": ""
            },
            "colorscale": [
             [
              0,
              "#0d0887"
             ],
             [
              0.1111111111111111,
              "#46039f"
             ],
             [
              0.2222222222222222,
              "#7201a8"
             ],
             [
              0.3333333333333333,
              "#9c179e"
             ],
             [
              0.4444444444444444,
              "#bd3786"
             ],
             [
              0.5555555555555556,
              "#d8576b"
             ],
             [
              0.6666666666666666,
              "#ed7953"
             ],
             [
              0.7777777777777778,
              "#fb9f3a"
             ],
             [
              0.8888888888888888,
              "#fdca26"
             ],
             [
              1,
              "#f0f921"
             ]
            ],
            "type": "heatmapgl"
           }
          ],
          "histogram": [
           {
            "marker": {
             "pattern": {
              "fillmode": "overlay",
              "size": 10,
              "solidity": 0.2
             }
            },
            "type": "histogram"
           }
          ],
          "histogram2d": [
           {
            "colorbar": {
             "outlinewidth": 0,
             "ticks": ""
            },
            "colorscale": [
             [
              0,
              "#0d0887"
             ],
             [
              0.1111111111111111,
              "#46039f"
             ],
             [
              0.2222222222222222,
              "#7201a8"
             ],
             [
              0.3333333333333333,
              "#9c179e"
             ],
             [
              0.4444444444444444,
              "#bd3786"
             ],
             [
              0.5555555555555556,
              "#d8576b"
             ],
             [
              0.6666666666666666,
              "#ed7953"
             ],
             [
              0.7777777777777778,
              "#fb9f3a"
             ],
             [
              0.8888888888888888,
              "#fdca26"
             ],
             [
              1,
              "#f0f921"
             ]
            ],
            "type": "histogram2d"
           }
          ],
          "histogram2dcontour": [
           {
            "colorbar": {
             "outlinewidth": 0,
             "ticks": ""
            },
            "colorscale": [
             [
              0,
              "#0d0887"
             ],
             [
              0.1111111111111111,
              "#46039f"
             ],
             [
              0.2222222222222222,
              "#7201a8"
             ],
             [
              0.3333333333333333,
              "#9c179e"
             ],
             [
              0.4444444444444444,
              "#bd3786"
             ],
             [
              0.5555555555555556,
              "#d8576b"
             ],
             [
              0.6666666666666666,
              "#ed7953"
             ],
             [
              0.7777777777777778,
              "#fb9f3a"
             ],
             [
              0.8888888888888888,
              "#fdca26"
             ],
             [
              1,
              "#f0f921"
             ]
            ],
            "type": "histogram2dcontour"
           }
          ],
          "mesh3d": [
           {
            "colorbar": {
             "outlinewidth": 0,
             "ticks": ""
            },
            "type": "mesh3d"
           }
          ],
          "parcoords": [
           {
            "line": {
             "colorbar": {
              "outlinewidth": 0,
              "ticks": ""
             }
            },
            "type": "parcoords"
           }
          ],
          "pie": [
           {
            "automargin": true,
            "type": "pie"
           }
          ],
          "scatter": [
           {
            "fillpattern": {
             "fillmode": "overlay",
             "size": 10,
             "solidity": 0.2
            },
            "type": "scatter"
           }
          ],
          "scatter3d": [
           {
            "line": {
             "colorbar": {
              "outlinewidth": 0,
              "ticks": ""
             }
            },
            "marker": {
             "colorbar": {
              "outlinewidth": 0,
              "ticks": ""
             }
            },
            "type": "scatter3d"
           }
          ],
          "scattercarpet": [
           {
            "marker": {
             "colorbar": {
              "outlinewidth": 0,
              "ticks": ""
             }
            },
            "type": "scattercarpet"
           }
          ],
          "scattergeo": [
           {
            "marker": {
             "colorbar": {
              "outlinewidth": 0,
              "ticks": ""
             }
            },
            "type": "scattergeo"
           }
          ],
          "scattergl": [
           {
            "marker": {
             "colorbar": {
              "outlinewidth": 0,
              "ticks": ""
             }
            },
            "type": "scattergl"
           }
          ],
          "scattermapbox": [
           {
            "marker": {
             "colorbar": {
              "outlinewidth": 0,
              "ticks": ""
             }
            },
            "type": "scattermapbox"
           }
          ],
          "scatterpolar": [
           {
            "marker": {
             "colorbar": {
              "outlinewidth": 0,
              "ticks": ""
             }
            },
            "type": "scatterpolar"
           }
          ],
          "scatterpolargl": [
           {
            "marker": {
             "colorbar": {
              "outlinewidth": 0,
              "ticks": ""
             }
            },
            "type": "scatterpolargl"
           }
          ],
          "scatterternary": [
           {
            "marker": {
             "colorbar": {
              "outlinewidth": 0,
              "ticks": ""
             }
            },
            "type": "scatterternary"
           }
          ],
          "surface": [
           {
            "colorbar": {
             "outlinewidth": 0,
             "ticks": ""
            },
            "colorscale": [
             [
              0,
              "#0d0887"
             ],
             [
              0.1111111111111111,
              "#46039f"
             ],
             [
              0.2222222222222222,
              "#7201a8"
             ],
             [
              0.3333333333333333,
              "#9c179e"
             ],
             [
              0.4444444444444444,
              "#bd3786"
             ],
             [
              0.5555555555555556,
              "#d8576b"
             ],
             [
              0.6666666666666666,
              "#ed7953"
             ],
             [
              0.7777777777777778,
              "#fb9f3a"
             ],
             [
              0.8888888888888888,
              "#fdca26"
             ],
             [
              1,
              "#f0f921"
             ]
            ],
            "type": "surface"
           }
          ],
          "table": [
           {
            "cells": {
             "fill": {
              "color": "#EBF0F8"
             },
             "line": {
              "color": "white"
             }
            },
            "header": {
             "fill": {
              "color": "#C8D4E3"
             },
             "line": {
              "color": "white"
             }
            },
            "type": "table"
           }
          ]
         },
         "layout": {
          "annotationdefaults": {
           "arrowcolor": "#2a3f5f",
           "arrowhead": 0,
           "arrowwidth": 1
          },
          "autotypenumbers": "strict",
          "coloraxis": {
           "colorbar": {
            "outlinewidth": 0,
            "ticks": ""
           }
          },
          "colorscale": {
           "diverging": [
            [
             0,
             "#8e0152"
            ],
            [
             0.1,
             "#c51b7d"
            ],
            [
             0.2,
             "#de77ae"
            ],
            [
             0.3,
             "#f1b6da"
            ],
            [
             0.4,
             "#fde0ef"
            ],
            [
             0.5,
             "#f7f7f7"
            ],
            [
             0.6,
             "#e6f5d0"
            ],
            [
             0.7,
             "#b8e186"
            ],
            [
             0.8,
             "#7fbc41"
            ],
            [
             0.9,
             "#4d9221"
            ],
            [
             1,
             "#276419"
            ]
           ],
           "sequential": [
            [
             0,
             "#0d0887"
            ],
            [
             0.1111111111111111,
             "#46039f"
            ],
            [
             0.2222222222222222,
             "#7201a8"
            ],
            [
             0.3333333333333333,
             "#9c179e"
            ],
            [
             0.4444444444444444,
             "#bd3786"
            ],
            [
             0.5555555555555556,
             "#d8576b"
            ],
            [
             0.6666666666666666,
             "#ed7953"
            ],
            [
             0.7777777777777778,
             "#fb9f3a"
            ],
            [
             0.8888888888888888,
             "#fdca26"
            ],
            [
             1,
             "#f0f921"
            ]
           ],
           "sequentialminus": [
            [
             0,
             "#0d0887"
            ],
            [
             0.1111111111111111,
             "#46039f"
            ],
            [
             0.2222222222222222,
             "#7201a8"
            ],
            [
             0.3333333333333333,
             "#9c179e"
            ],
            [
             0.4444444444444444,
             "#bd3786"
            ],
            [
             0.5555555555555556,
             "#d8576b"
            ],
            [
             0.6666666666666666,
             "#ed7953"
            ],
            [
             0.7777777777777778,
             "#fb9f3a"
            ],
            [
             0.8888888888888888,
             "#fdca26"
            ],
            [
             1,
             "#f0f921"
            ]
           ]
          },
          "colorway": [
           "#636efa",
           "#EF553B",
           "#00cc96",
           "#ab63fa",
           "#FFA15A",
           "#19d3f3",
           "#FF6692",
           "#B6E880",
           "#FF97FF",
           "#FECB52"
          ],
          "font": {
           "color": "#2a3f5f"
          },
          "geo": {
           "bgcolor": "white",
           "lakecolor": "white",
           "landcolor": "#E5ECF6",
           "showlakes": true,
           "showland": true,
           "subunitcolor": "white"
          },
          "hoverlabel": {
           "align": "left"
          },
          "hovermode": "closest",
          "mapbox": {
           "style": "light"
          },
          "paper_bgcolor": "white",
          "plot_bgcolor": "#E5ECF6",
          "polar": {
           "angularaxis": {
            "gridcolor": "white",
            "linecolor": "white",
            "ticks": ""
           },
           "bgcolor": "#E5ECF6",
           "radialaxis": {
            "gridcolor": "white",
            "linecolor": "white",
            "ticks": ""
           }
          },
          "scene": {
           "xaxis": {
            "backgroundcolor": "#E5ECF6",
            "gridcolor": "white",
            "gridwidth": 2,
            "linecolor": "white",
            "showbackground": true,
            "ticks": "",
            "zerolinecolor": "white"
           },
           "yaxis": {
            "backgroundcolor": "#E5ECF6",
            "gridcolor": "white",
            "gridwidth": 2,
            "linecolor": "white",
            "showbackground": true,
            "ticks": "",
            "zerolinecolor": "white"
           },
           "zaxis": {
            "backgroundcolor": "#E5ECF6",
            "gridcolor": "white",
            "gridwidth": 2,
            "linecolor": "white",
            "showbackground": true,
            "ticks": "",
            "zerolinecolor": "white"
           }
          },
          "shapedefaults": {
           "line": {
            "color": "#2a3f5f"
           }
          },
          "ternary": {
           "aaxis": {
            "gridcolor": "white",
            "linecolor": "white",
            "ticks": ""
           },
           "baxis": {
            "gridcolor": "white",
            "linecolor": "white",
            "ticks": ""
           },
           "bgcolor": "#E5ECF6",
           "caxis": {
            "gridcolor": "white",
            "linecolor": "white",
            "ticks": ""
           }
          },
          "title": {
           "x": 0.05
          },
          "xaxis": {
           "automargin": true,
           "gridcolor": "white",
           "linecolor": "white",
           "ticks": "",
           "title": {
            "standoff": 15
           },
           "zerolinecolor": "white",
           "zerolinewidth": 2
          },
          "yaxis": {
           "automargin": true,
           "gridcolor": "white",
           "linecolor": "white",
           "ticks": "",
           "title": {
            "standoff": 15
           },
           "zerolinecolor": "white",
           "zerolinewidth": 2
          }
         }
        }
       }
      },
      "text/html": [
       "<div>                            <div id=\"b5488569-3488-464a-bc3f-57da5e89a849\" class=\"plotly-graph-div\" style=\"height:525px; width:100%;\"></div>            <script type=\"text/javascript\">                require([\"plotly\"], function(Plotly) {                    window.PLOTLYENV=window.PLOTLYENV || {};                                    if (document.getElementById(\"b5488569-3488-464a-bc3f-57da5e89a849\")) {                    Plotly.newPlot(                        \"b5488569-3488-464a-bc3f-57da5e89a849\",                        [{\"hovertemplate\":\"x=%{x}\\u003cbr\\u003ey=%{y}\\u003cbr\\u003ez=%{z}\\u003cextra\\u003e\\u003c\\u002fextra\\u003e\",\"legendgroup\":\"\",\"marker\":{\"color\":\"#636efa\",\"symbol\":\"circle\"},\"mode\":\"markers\",\"name\":\"\",\"scene\":\"scene\",\"showlegend\":false,\"x\":[0.5464348123726019,0.25974566944772504,0.6292186565370339,0.0910400782350525,-1.8965077835189366,0.7013655508349333,1.4347556776306194,-0.6404905327340081,-0.6169986155227292,-1.8187976228658274,-1.3058500108532693,1.2116573760953324,-1.4330334657910446,1.8121642826832065,0.7160427025134983,-0.55272978965072,-1.5512178782515476,-0.6841474182596211,-2.117292398621317,-1.8278908734075374,2.1490301921045134,2.3179954933796,-1.8702301680964848,0.04349277117877584,0.01350594575277144,-1.860225849152307,2.7342434345365896,2.632506311690582,2.298909418337552,0.05770656968943225,-1.4979112516442288,-2.17748897638505,-1.9036119741461508,1.491325704065984,2.643190189748716,0.391129787662345,-1.9363406027383827,-3.0096497301989245,-0.3534657426992328,-0.8801133479381531,-2.2732934959391344,1.0172348052415792,-1.617242151511338,-1.6224510053489436,-0.46885467487680366,0.11461798649178823,-2.449334668414331,2.891049533697981,-0.31780001044900136,-2.6738488716740174,-0.04240832499790711,-0.5908801405848113,2.3943290387996874,-2.9197440874878873,-2.1270513373641187,-0.4744250498346538,-2.725325674484464,-1.078553074185123,-1.8008937941476262,0.4777678694847798,4.541750401240343,2.948364425065907,4.541750401240343,4.494509292148839,2.187912865002814,2.649285445384151,4.4177080536117606,2.6822758236290194,2.8792661970235303,-1.064756546056941,1.5098515360828304,0.09326862733948077,-0.17409442325039834,0.6150625285527352,-0.337933238557731,1.5132209359716025,2.3792145109186555,-0.9339053377352499,2.68459035045982,-0.10741317101357509,-1.742101903672165,0.3901712575275214,-0.41422028855078885,-0.25548040077433537,-0.32310521477453524,-1.6616180044444449,-2.1621139415054396,-0.8914929138034927,-1.3561804398504802,-0.1079307350199061,2.772406375644899,-1.583630376672812,-0.074831861913595,2.722172672947662,-0.12679297532636855,-1.4979112516442288,-0.5187856874374168,2.875213460722668,0.009676445354156777,-2.385493316182624,2.3291428281336786,-2.4774434322564582,-0.2824021455745455,-0.2167810328523959,-2.14196054327269,0.08951866975459521,-1.9400914950667103,0.3878089687218574,-0.6210925820811389,-0.09334888745964602,-1.6341573259322881,-1.5852621081762688,-0.6890103719047697,0.2582727734454343,0.3649007402554753,-0.24344888283388022,-2.1497494225107783,-2.5033074275670866,-0.9190060059093441,-0.7678134674590196,4.541750401240343,2.2315224328424854,-0.7077441644846314,-0.5727779476957879,-0.6072725794503054,2.3179954933796,3.1820476268516593,2.60691736945509,-0.015564797031998577,-1.9036119741461508,-0.7004541960115115,-0.49383294768398156,-1.7177131564664283,2.7342434345365896,2.0820483879050227,-1.6874561161980424,-1.0847073880314326,-1.564594201509639,-0.028301998569469154,-2.1113761252656484,-1.8639202136089468,1.493354735438985,0.07846447786819416,-0.13069866347362563,0.30666758928340665,-1.7320347051464529,-1.469722153209166,-0.32997226382899686,-1.9077702586216214,-1.1475793195538055,-0.24344722184330628,2.7331148210720566,-1.4979112516442288,-2.3780711275537074,2.608045982919623,2.2361620393811017,-0.9948309545857859,0.35715685300362426,2.8827949639322292,0.628257167649536,1.2946058107855516,0.6755873216915635,0.3461554765062108,-0.05490763713003597,0.017903828943283184,-0.897177693530222,-1.7004835818939927,0.34438380023039933,0.30061467099690187,0.5479885684586878,-0.05966808340389463,-1.6879228516788003,0.43673442730617756],\"y\":[0.5486642134087597,1.6958498390854233,1.805883947468304,2.5128525533637207,-2.468692289054231,-0.08657916653815466,1.2041747072063531,2.755418234278511,1.9696882622776268,-1.3296342848819287,-1.0670999558357919,0.7247812662694197,0.5559461567757682,0.16148247940847363,1.5937954030028736,1.2180254650746423,-0.7905362625613415,2.264375281495473,-1.2030922541750473,-1.1941397593775012,-0.643310292909228,-0.7570303402552693,-1.243256854735359,1.1102438479433527,0.24917801888563115,-0.9148081526315004,-0.7491326414509485,-0.8460711348107681,-0.3057897190828191,0.5674885332719929,-0.9703821924059755,-0.011097175657963657,0.3367333272146003,1.4921126094926196,-0.17855666100396086,1.515717249442077,-0.8728271259203649,-0.5138865399579027,2.1397886210991417,1.4618277840152107,-0.5119382384597457,2.2389295847132384,0.9342379737363526,-1.8291060926441034,2.378327092280863,2.23945122592417,-1.2282869081672128,-1.3032039925641667,1.9545474697227057,-1.2859500548056177,2.1161015068933016,2.6440363045760984,-0.8688457735761436,0.1629772708689727,-1.0332063499587807,1.8086865694750953,-1.2026022667893543,-1.831637446642615,-1.5878943304161908,2.0875327426039916,-1.8928409532641515,-0.8309256993073064,-1.8928409532641515,-1.8389146794810207,-0.5820240647375078,-0.3479694761380993,-1.8373093406395713,-0.8469469592414964,-0.44048001726512687,1.333575056625517,0.3205861172673114,-1.3959936416323577,1.4369541567962056,1.7198644555914728,1.7880234039953369,0.1249390607265367,-0.322098825070937,-1.8936771370098302,-0.3960390936644717,1.3896744187685837,-1.4703680776325494,0.7610709462243264,0.8717974274128676,0.7916188560993662,0.7479042795753187,-1.294073671270006,-1.106013101017976,-0.4657720422877981,-0.3310096366510605,-0.3401951004357951,-0.28155474837096933,0.9792175392993633,-1.2159919454309993,-0.9261197893814039,1.0019116290455465,-0.9703821924059755,2.672639256186585,-0.504405941678683,1.8109907790462074,-0.3943118207604246,-1.0123547913657476,0.004445626438350763,1.9630165844406764,2.397609309906516,-0.8993920005311635,-0.459441560885641,-0.5017846027614081,1.487270762056874,-0.1742270474108946,1.0312007791024091,-1.730402403682488,0.40009398154685916,0.8341364803911769,0.27121946332720026,1.6918539485446824,1.7986335819729493,-1.1128966534652744,-0.1625582427772358,1.7337454622102484,0.7117836770981907,-1.8928409532641515,-0.6928704857853887,-1.9139268239129075,0.2566838474238152,1.1854934173526006,-0.7570303402552693,-0.6263657179847146,-0.8804062643053194,-1.2825328241825056,0.3367333272146003,1.1098094799607316,1.314098206984817,-2.3123716031660133,-0.7491326414509485,-0.028283989439137288,-1.552807796884397,1.0377386867932066,-1.4778371585889452,1.7606632241628546,-1.6953385955514584,-0.4519902671244553,0.2652239722544067,0.1517687133516307,1.1176942003454575,0.7840155187809689,-1.783197972230189,-1.3287181904259628,-0.15996152513715248,-0.8891236449254732,-1.2418986173895485,-1.8684252235719356,-0.7760626302170865,-0.9703821924059755,-0.11765971587549612,-0.8534762755391807,-0.529575467186844,0.8058822367120154,1.3155062367291868,-0.8413897222860025,0.3377825256146376,1.7524814907766924,0.8391923254296877,0.3209399615657455,-2.427911326538791,1.0759087184488019,-1.0866594366815518,-2.853027591868296,1.3344610056115502,0.10124678503018142,1.7414986402659525,-2.45185114058991,-2.8395968624159216,0.5631083635894654],\"z\":[550000.0,600000.0,5000.0,1000000.0,550000.0,1400000.0,950000.0,17500.0,13000.0,650000.0,550000.0,750000.0,10000.0,700000.0,1000000.0,600000.0,600000.0,700000.0,750000.0,500000.0,492500.0,700000.0,650000.0,3250000.0,850000.0,500000.0,350000.0,16500.0,14000.0,700000.0,700000.0,550000.0,850000.0,3050000.0,1100000.0,20000.0,700000.0,450000.0,55000.0,1000000.0,700000.0,950000.0,230000.0,950000.0,750000.0,550000.0,750000.0,950000.0,450000.0,1000000.0,750000.0,650000.0,800000.0,800000.0,650000.0,400000.0,750000.0,700000.0,600000.0,900000.0,650000.0,492500.0,950000.0,500000.0,20000.0,700000.0,16000.0,800000.0,800000.0,400000.0,20000.0,800000.0,750000.0,148000.0,400000.0,650000.0,4500.0,750000.0,550000.0,550000.0,1000000.0,750000.0,750000.0,650000.0,600000.0,750000.0,550000.0,700000.0,1000000.0,450000.0,450000.0,750000.0,550000.0,650000.0,650000.0,650000.0,450000.0,600000.0,500000.0,500000.0,650000.0,750000.0,492500.0,700000.0,700000.0,650000.0,50000.0,650000.0,700000.0,1250000.0,1300000.0,350000.0,450000.0,600000.0,300000.0,1000000.0,750000.0,750000.0,75000.0,1000000.0,600000.0,400000.0,950000.0,27500.0,400000.0,550000.0,700000.0,550000.0,550000.0,650000.0,750000.0,850000.0,700000.0,450000.0,600000.0,550000.0,400000.0,750000.0,900000.0,550000.0,800000.0,850000.0,450000.0,850000.0,550000.0,500000.0,650000.0,750000.0,350000.0,750000.0,492500.0,650000.0,700000.0,600000.0,90000.0,950000.0,800000.0,550000.0,350000.0,650000.0,450000.0,400000.0,550000.0,550000.0,650000.0,500000.0,550000.0,800000.0,650000.0,600000.0,500000.0,10000.0,650000.0],\"type\":\"scatter3d\"}],                        {\"template\":{\"data\":{\"histogram2dcontour\":[{\"type\":\"histogram2dcontour\",\"colorbar\":{\"outlinewidth\":0,\"ticks\":\"\"},\"colorscale\":[[0.0,\"#0d0887\"],[0.1111111111111111,\"#46039f\"],[0.2222222222222222,\"#7201a8\"],[0.3333333333333333,\"#9c179e\"],[0.4444444444444444,\"#bd3786\"],[0.5555555555555556,\"#d8576b\"],[0.6666666666666666,\"#ed7953\"],[0.7777777777777778,\"#fb9f3a\"],[0.8888888888888888,\"#fdca26\"],[1.0,\"#f0f921\"]]}],\"choropleth\":[{\"type\":\"choropleth\",\"colorbar\":{\"outlinewidth\":0,\"ticks\":\"\"}}],\"histogram2d\":[{\"type\":\"histogram2d\",\"colorbar\":{\"outlinewidth\":0,\"ticks\":\"\"},\"colorscale\":[[0.0,\"#0d0887\"],[0.1111111111111111,\"#46039f\"],[0.2222222222222222,\"#7201a8\"],[0.3333333333333333,\"#9c179e\"],[0.4444444444444444,\"#bd3786\"],[0.5555555555555556,\"#d8576b\"],[0.6666666666666666,\"#ed7953\"],[0.7777777777777778,\"#fb9f3a\"],[0.8888888888888888,\"#fdca26\"],[1.0,\"#f0f921\"]]}],\"heatmap\":[{\"type\":\"heatmap\",\"colorbar\":{\"outlinewidth\":0,\"ticks\":\"\"},\"colorscale\":[[0.0,\"#0d0887\"],[0.1111111111111111,\"#46039f\"],[0.2222222222222222,\"#7201a8\"],[0.3333333333333333,\"#9c179e\"],[0.4444444444444444,\"#bd3786\"],[0.5555555555555556,\"#d8576b\"],[0.6666666666666666,\"#ed7953\"],[0.7777777777777778,\"#fb9f3a\"],[0.8888888888888888,\"#fdca26\"],[1.0,\"#f0f921\"]]}],\"heatmapgl\":[{\"type\":\"heatmapgl\",\"colorbar\":{\"outlinewidth\":0,\"ticks\":\"\"},\"colorscale\":[[0.0,\"#0d0887\"],[0.1111111111111111,\"#46039f\"],[0.2222222222222222,\"#7201a8\"],[0.3333333333333333,\"#9c179e\"],[0.4444444444444444,\"#bd3786\"],[0.5555555555555556,\"#d8576b\"],[0.6666666666666666,\"#ed7953\"],[0.7777777777777778,\"#fb9f3a\"],[0.8888888888888888,\"#fdca26\"],[1.0,\"#f0f921\"]]}],\"contourcarpet\":[{\"type\":\"contourcarpet\",\"colorbar\":{\"outlinewidth\":0,\"ticks\":\"\"}}],\"contour\":[{\"type\":\"contour\",\"colorbar\":{\"outlinewidth\":0,\"ticks\":\"\"},\"colorscale\":[[0.0,\"#0d0887\"],[0.1111111111111111,\"#46039f\"],[0.2222222222222222,\"#7201a8\"],[0.3333333333333333,\"#9c179e\"],[0.4444444444444444,\"#bd3786\"],[0.5555555555555556,\"#d8576b\"],[0.6666666666666666,\"#ed7953\"],[0.7777777777777778,\"#fb9f3a\"],[0.8888888888888888,\"#fdca26\"],[1.0,\"#f0f921\"]]}],\"surface\":[{\"type\":\"surface\",\"colorbar\":{\"outlinewidth\":0,\"ticks\":\"\"},\"colorscale\":[[0.0,\"#0d0887\"],[0.1111111111111111,\"#46039f\"],[0.2222222222222222,\"#7201a8\"],[0.3333333333333333,\"#9c179e\"],[0.4444444444444444,\"#bd3786\"],[0.5555555555555556,\"#d8576b\"],[0.6666666666666666,\"#ed7953\"],[0.7777777777777778,\"#fb9f3a\"],[0.8888888888888888,\"#fdca26\"],[1.0,\"#f0f921\"]]}],\"mesh3d\":[{\"type\":\"mesh3d\",\"colorbar\":{\"outlinewidth\":0,\"ticks\":\"\"}}],\"scatter\":[{\"fillpattern\":{\"fillmode\":\"overlay\",\"size\":10,\"solidity\":0.2},\"type\":\"scatter\"}],\"parcoords\":[{\"type\":\"parcoords\",\"line\":{\"colorbar\":{\"outlinewidth\":0,\"ticks\":\"\"}}}],\"scatterpolargl\":[{\"type\":\"scatterpolargl\",\"marker\":{\"colorbar\":{\"outlinewidth\":0,\"ticks\":\"\"}}}],\"bar\":[{\"error_x\":{\"color\":\"#2a3f5f\"},\"error_y\":{\"color\":\"#2a3f5f\"},\"marker\":{\"line\":{\"color\":\"#E5ECF6\",\"width\":0.5},\"pattern\":{\"fillmode\":\"overlay\",\"size\":10,\"solidity\":0.2}},\"type\":\"bar\"}],\"scattergeo\":[{\"type\":\"scattergeo\",\"marker\":{\"colorbar\":{\"outlinewidth\":0,\"ticks\":\"\"}}}],\"scatterpolar\":[{\"type\":\"scatterpolar\",\"marker\":{\"colorbar\":{\"outlinewidth\":0,\"ticks\":\"\"}}}],\"histogram\":[{\"marker\":{\"pattern\":{\"fillmode\":\"overlay\",\"size\":10,\"solidity\":0.2}},\"type\":\"histogram\"}],\"scattergl\":[{\"type\":\"scattergl\",\"marker\":{\"colorbar\":{\"outlinewidth\":0,\"ticks\":\"\"}}}],\"scatter3d\":[{\"type\":\"scatter3d\",\"line\":{\"colorbar\":{\"outlinewidth\":0,\"ticks\":\"\"}},\"marker\":{\"colorbar\":{\"outlinewidth\":0,\"ticks\":\"\"}}}],\"scattermapbox\":[{\"type\":\"scattermapbox\",\"marker\":{\"colorbar\":{\"outlinewidth\":0,\"ticks\":\"\"}}}],\"scatterternary\":[{\"type\":\"scatterternary\",\"marker\":{\"colorbar\":{\"outlinewidth\":0,\"ticks\":\"\"}}}],\"scattercarpet\":[{\"type\":\"scattercarpet\",\"marker\":{\"colorbar\":{\"outlinewidth\":0,\"ticks\":\"\"}}}],\"carpet\":[{\"aaxis\":{\"endlinecolor\":\"#2a3f5f\",\"gridcolor\":\"white\",\"linecolor\":\"white\",\"minorgridcolor\":\"white\",\"startlinecolor\":\"#2a3f5f\"},\"baxis\":{\"endlinecolor\":\"#2a3f5f\",\"gridcolor\":\"white\",\"linecolor\":\"white\",\"minorgridcolor\":\"white\",\"startlinecolor\":\"#2a3f5f\"},\"type\":\"carpet\"}],\"table\":[{\"cells\":{\"fill\":{\"color\":\"#EBF0F8\"},\"line\":{\"color\":\"white\"}},\"header\":{\"fill\":{\"color\":\"#C8D4E3\"},\"line\":{\"color\":\"white\"}},\"type\":\"table\"}],\"barpolar\":[{\"marker\":{\"line\":{\"color\":\"#E5ECF6\",\"width\":0.5},\"pattern\":{\"fillmode\":\"overlay\",\"size\":10,\"solidity\":0.2}},\"type\":\"barpolar\"}],\"pie\":[{\"automargin\":true,\"type\":\"pie\"}]},\"layout\":{\"autotypenumbers\":\"strict\",\"colorway\":[\"#636efa\",\"#EF553B\",\"#00cc96\",\"#ab63fa\",\"#FFA15A\",\"#19d3f3\",\"#FF6692\",\"#B6E880\",\"#FF97FF\",\"#FECB52\"],\"font\":{\"color\":\"#2a3f5f\"},\"hovermode\":\"closest\",\"hoverlabel\":{\"align\":\"left\"},\"paper_bgcolor\":\"white\",\"plot_bgcolor\":\"#E5ECF6\",\"polar\":{\"bgcolor\":\"#E5ECF6\",\"angularaxis\":{\"gridcolor\":\"white\",\"linecolor\":\"white\",\"ticks\":\"\"},\"radialaxis\":{\"gridcolor\":\"white\",\"linecolor\":\"white\",\"ticks\":\"\"}},\"ternary\":{\"bgcolor\":\"#E5ECF6\",\"aaxis\":{\"gridcolor\":\"white\",\"linecolor\":\"white\",\"ticks\":\"\"},\"baxis\":{\"gridcolor\":\"white\",\"linecolor\":\"white\",\"ticks\":\"\"},\"caxis\":{\"gridcolor\":\"white\",\"linecolor\":\"white\",\"ticks\":\"\"}},\"coloraxis\":{\"colorbar\":{\"outlinewidth\":0,\"ticks\":\"\"}},\"colorscale\":{\"sequential\":[[0.0,\"#0d0887\"],[0.1111111111111111,\"#46039f\"],[0.2222222222222222,\"#7201a8\"],[0.3333333333333333,\"#9c179e\"],[0.4444444444444444,\"#bd3786\"],[0.5555555555555556,\"#d8576b\"],[0.6666666666666666,\"#ed7953\"],[0.7777777777777778,\"#fb9f3a\"],[0.8888888888888888,\"#fdca26\"],[1.0,\"#f0f921\"]],\"sequentialminus\":[[0.0,\"#0d0887\"],[0.1111111111111111,\"#46039f\"],[0.2222222222222222,\"#7201a8\"],[0.3333333333333333,\"#9c179e\"],[0.4444444444444444,\"#bd3786\"],[0.5555555555555556,\"#d8576b\"],[0.6666666666666666,\"#ed7953\"],[0.7777777777777778,\"#fb9f3a\"],[0.8888888888888888,\"#fdca26\"],[1.0,\"#f0f921\"]],\"diverging\":[[0,\"#8e0152\"],[0.1,\"#c51b7d\"],[0.2,\"#de77ae\"],[0.3,\"#f1b6da\"],[0.4,\"#fde0ef\"],[0.5,\"#f7f7f7\"],[0.6,\"#e6f5d0\"],[0.7,\"#b8e186\"],[0.8,\"#7fbc41\"],[0.9,\"#4d9221\"],[1,\"#276419\"]]},\"xaxis\":{\"gridcolor\":\"white\",\"linecolor\":\"white\",\"ticks\":\"\",\"title\":{\"standoff\":15},\"zerolinecolor\":\"white\",\"automargin\":true,\"zerolinewidth\":2},\"yaxis\":{\"gridcolor\":\"white\",\"linecolor\":\"white\",\"ticks\":\"\",\"title\":{\"standoff\":15},\"zerolinecolor\":\"white\",\"automargin\":true,\"zerolinewidth\":2},\"scene\":{\"xaxis\":{\"backgroundcolor\":\"#E5ECF6\",\"gridcolor\":\"white\",\"linecolor\":\"white\",\"showbackground\":true,\"ticks\":\"\",\"zerolinecolor\":\"white\",\"gridwidth\":2},\"yaxis\":{\"backgroundcolor\":\"#E5ECF6\",\"gridcolor\":\"white\",\"linecolor\":\"white\",\"showbackground\":true,\"ticks\":\"\",\"zerolinecolor\":\"white\",\"gridwidth\":2},\"zaxis\":{\"backgroundcolor\":\"#E5ECF6\",\"gridcolor\":\"white\",\"linecolor\":\"white\",\"showbackground\":true,\"ticks\":\"\",\"zerolinecolor\":\"white\",\"gridwidth\":2}},\"shapedefaults\":{\"line\":{\"color\":\"#2a3f5f\"}},\"annotationdefaults\":{\"arrowcolor\":\"#2a3f5f\",\"arrowhead\":0,\"arrowwidth\":1},\"geo\":{\"bgcolor\":\"white\",\"landcolor\":\"#E5ECF6\",\"subunitcolor\":\"white\",\"showland\":true,\"showlakes\":true,\"lakecolor\":\"white\"},\"title\":{\"x\":0.05},\"mapbox\":{\"style\":\"light\"}}},\"scene\":{\"domain\":{\"x\":[0.0,1.0],\"y\":[0.0,1.0]},\"xaxis\":{\"title\":{\"text\":\"x\"}},\"yaxis\":{\"title\":{\"text\":\"y\"}},\"zaxis\":{\"title\":{\"text\":\"z\"}}},\"legend\":{\"tracegroupgap\":0},\"margin\":{\"t\":60}},                        {\"responsive\": true}                    ).then(function(){\n",
       "                            \n",
       "var gd = document.getElementById('b5488569-3488-464a-bc3f-57da5e89a849');\n",
       "var x = new MutationObserver(function (mutations, observer) {{\n",
       "        var display = window.getComputedStyle(gd).display;\n",
       "        if (!display || display === 'none') {{\n",
       "            console.log([gd, 'removed!']);\n",
       "            Plotly.purge(gd);\n",
       "            observer.disconnect();\n",
       "        }}\n",
       "}});\n",
       "\n",
       "// Listen for the removal of the full notebook cells\n",
       "var notebookContainer = gd.closest('#notebook-container');\n",
       "if (notebookContainer) {{\n",
       "    x.observe(notebookContainer, {childList: true});\n",
       "}}\n",
       "\n",
       "// Listen for the clearing of the current output cell\n",
       "var outputEl = gd.closest('.output');\n",
       "if (outputEl) {{\n",
       "    x.observe(outputEl, {childList: true});\n",
       "}}\n",
       "\n",
       "                        })                };                });            </script>        </div>"
      ]
     },
     "metadata": {},
     "output_type": "display_data"
    }
   ],
   "source": [
    "pca3d = PCA(n_components=3)\n",
    "temp = pca3d.fit_transform(final_train_x)\n",
    "fig = px.scatter_3d(temp, x = temp[:,0], y = temp[:,1], z = ytrain)\n",
    "fig.show()"
   ]
  },
  {
   "cell_type": "code",
   "execution_count": 72,
   "id": "21e65511-55f5-4386-8b6d-cac931766896",
   "metadata": {},
   "outputs": [
    {
     "data": {
      "text/plain": [
       "(98,)"
      ]
     },
     "execution_count": 72,
     "metadata": {},
     "output_type": "execute_result"
    }
   ],
   "source": [
    "pca3 = PCA(n_components = 0.90)\n",
    "xtrain_pca = pca3.fit_transform(final_train_x)\n",
    "xtest_pca = pca3.transform(final_test_x)\n",
    "pca3.explained_variance_ratio_.shape"
   ]
  },
  {
   "cell_type": "code",
   "execution_count": 99,
   "id": "85ecd5d0-f44a-472a-9d74-2070b7f025a2",
   "metadata": {},
   "outputs": [
    {
     "data": {
      "text/plain": [
       "0       550000.0\n",
       "1       600000.0\n",
       "2         5000.0\n",
       "3      1000000.0\n",
       "4       550000.0\n",
       "         ...    \n",
       "341     650000.0\n",
       "342     600000.0\n",
       "343     500000.0\n",
       "344      10000.0\n",
       "345     650000.0\n",
       "Name: avg_salary, Length: 173, dtype: float64"
      ]
     },
     "execution_count": 99,
     "metadata": {},
     "output_type": "execute_result"
    }
   ],
   "source": [
    "ytrain"
   ]
  },
  {
   "cell_type": "markdown",
   "id": "fb522b86-0a03-4f9c-a586-af2e481a6a9f",
   "metadata": {},
   "source": [
    "## Modeling"
   ]
  },
  {
   "cell_type": "code",
   "execution_count": 133,
   "id": "30aeed3f-8be6-4e52-8add-cee6bbdaf3a5",
   "metadata": {},
   "outputs": [],
   "source": [
    "def evaluate_r2(xtrain, ytrain, model):\n",
    "    from sklearn.model_selection import KFold\n",
    "    from sklearn.metrics import mean_absolute_error, mean_squared_error, r2_score\n",
    "    import numpy as np\n",
    "    \n",
    "    # Define KFold cross-validation\n",
    "    kf = KFold(n_splits=5, shuffle=True, random_state=42)\n",
    "    \n",
    "    # Store the scores\n",
    "    r2_scores = []\n",
    "    mae_scores = []\n",
    "    mse_scores = []\n",
    "    rmse_scores = []\n",
    "        \n",
    "    # Perform cross-validation\n",
    "    for train_index, val_index in kf.split(xtrain):\n",
    "        # note that agr xtrain is df then use iloc otherwise on arrays iloc won't work and vice versa\n",
    "        X_train, X_val = xtrain[train_index], xtrain[val_index]\n",
    "        y_train, y_val = ytrain.iloc[train_index], ytrain.iloc[val_index]\n",
    "        \n",
    "        # Create the model\n",
    "        #model = create_model()\n",
    "        \n",
    "        # Train the model\n",
    "        model.fit(X_train, y_train)\n",
    "        ypred = model.predict(X_val)\n",
    "        \n",
    "        # Evaluate the model on the validation set\n",
    "        # r2score = r2_score(y_val, ypred)\n",
    "        # cv_scores.append(score)\n",
    "\n",
    "        mae_scores.append(mean_absolute_error(y_val, ypred))\n",
    "        mse_scores.append(mean_squared_error(y_val, ypred))\n",
    "        rmse_scores.append(np.sqrt(mean_squared_error(y_val, ypred)))\n",
    "        r2_scores.append(r2_score(y_val, ypred))\n",
    "        \n",
    "    # Print the cross-validation scores\n",
    "    print(\"Cross-validation r2 scores:\", r2_scores)\n",
    "    print(\"Average r2 score:\", np.mean(r2_scores))\n",
    "    \n",
    "    print(\"Cross-validation MAE scores:\", mae_scores)\n",
    "    print(f\"Average MAE: {np.mean(mae_scores)}\")\n",
    "    \n",
    "    print(\"Cross-validation MSE scores:\", mse_scores)\n",
    "    print(f\"Average MSE: {np.mean(mse_scores)}\")\n",
    "    \n",
    "    print(\"Cross-validation RMSE scores:\", rmse_scores)\n",
    "    print(f\"Average RMSE: {np.mean(rmse_scores)}\")\n"
   ]
  },
  {
   "cell_type": "markdown",
   "id": "1b14e687-4ed5-43fc-a21b-3919e8596c39",
   "metadata": {},
   "source": [
    "### Multiple Linear Regression"
   ]
  },
  {
   "cell_type": "code",
   "execution_count": 136,
   "id": "96e84515-47dd-4181-901d-55c4ed7e8949",
   "metadata": {},
   "outputs": [
    {
     "name": "stdout",
     "output_type": "stream",
     "text": [
      "Cross-validation r2 scores: [-10.917098514907055, -6.781416420478301, -2.4618824491992686, -1.9861400932577293, -38.33795175951213]\n",
      "Average r2 score: -12.096897847470895\n",
      "Cross-validation MAE scores: [597226.6967207891, 553947.7610866785, 873722.4960953785, 470783.2497289709, 672774.1173692734]\n",
      "Average MAE: 633690.8642002182\n",
      "Cross-validation MSE scores: [567821532328.6328, 567559146858.6721, 1437560770533.0051, 393532652398.6255, 1303004996230.7744]\n",
      "Average MSE: 853895819669.942\n",
      "Cross-validation RMSE scores: [753539.336948399, 753365.2147920503, 1198983.223624503, 627321.8092802333, 1141492.4424764162]\n",
      "Average RMSE: 894940.4054243204\n"
     ]
    }
   ],
   "source": [
    "simplelr = LinearRegression()\n",
    "simplelr.fit(xtrain_pca,ytrain)\n",
    "evaluate_r2(xtrain_pca, ytrain, simplelr)"
   ]
  },
  {
   "cell_type": "code",
   "execution_count": 113,
   "id": "141b3d0a-ee8e-4114-afc7-26282565f7e3",
   "metadata": {},
   "outputs": [
    {
     "data": {
      "text/html": [
       "<div>\n",
       "<style scoped>\n",
       "    .dataframe tbody tr th:only-of-type {\n",
       "        vertical-align: middle;\n",
       "    }\n",
       "\n",
       "    .dataframe tbody tr th {\n",
       "        vertical-align: top;\n",
       "    }\n",
       "\n",
       "    .dataframe thead th {\n",
       "        text-align: right;\n",
       "    }\n",
       "</style>\n",
       "<table border=\"1\" class=\"dataframe\">\n",
       "  <thead>\n",
       "    <tr style=\"text-align: right;\">\n",
       "      <th></th>\n",
       "      <th>rating</th>\n",
       "      <th>age</th>\n",
       "      <th>company_name_a66</th>\n",
       "      <th>company_name_adci</th>\n",
       "      <th>company_name_adobe</th>\n",
       "      <th>company_name_airtel</th>\n",
       "      <th>company_name_alignerr</th>\n",
       "      <th>company_name_altair</th>\n",
       "      <th>company_name_american</th>\n",
       "      <th>company_name_amex</th>\n",
       "      <th>...</th>\n",
       "      <th>job_simp_machine</th>\n",
       "      <th>job_simp_manager</th>\n",
       "      <th>job_simp_nlp</th>\n",
       "      <th>job_simp_other</th>\n",
       "      <th>job_simp_python</th>\n",
       "      <th>job_simp_related</th>\n",
       "      <th>job_simp_scientist</th>\n",
       "      <th>job_simp_software</th>\n",
       "      <th>employer_estimate</th>\n",
       "      <th>seniority</th>\n",
       "    </tr>\n",
       "  </thead>\n",
       "  <tbody>\n",
       "    <tr>\n",
       "      <th>0</th>\n",
       "      <td>0.71875</td>\n",
       "      <td>0.558559</td>\n",
       "      <td>0</td>\n",
       "      <td>0</td>\n",
       "      <td>0</td>\n",
       "      <td>0</td>\n",
       "      <td>0</td>\n",
       "      <td>0</td>\n",
       "      <td>0</td>\n",
       "      <td>0</td>\n",
       "      <td>...</td>\n",
       "      <td>0</td>\n",
       "      <td>1</td>\n",
       "      <td>0</td>\n",
       "      <td>0</td>\n",
       "      <td>0</td>\n",
       "      <td>0</td>\n",
       "      <td>0</td>\n",
       "      <td>0</td>\n",
       "      <td>0</td>\n",
       "      <td>2.0</td>\n",
       "    </tr>\n",
       "    <tr>\n",
       "      <th>1</th>\n",
       "      <td>0.71875</td>\n",
       "      <td>0.489489</td>\n",
       "      <td>0</td>\n",
       "      <td>0</td>\n",
       "      <td>0</td>\n",
       "      <td>0</td>\n",
       "      <td>0</td>\n",
       "      <td>0</td>\n",
       "      <td>0</td>\n",
       "      <td>0</td>\n",
       "      <td>...</td>\n",
       "      <td>0</td>\n",
       "      <td>0</td>\n",
       "      <td>0</td>\n",
       "      <td>0</td>\n",
       "      <td>0</td>\n",
       "      <td>0</td>\n",
       "      <td>0</td>\n",
       "      <td>0</td>\n",
       "      <td>0</td>\n",
       "      <td>0.0</td>\n",
       "    </tr>\n",
       "    <tr>\n",
       "      <th>2</th>\n",
       "      <td>0.71875</td>\n",
       "      <td>0.180180</td>\n",
       "      <td>0</td>\n",
       "      <td>0</td>\n",
       "      <td>0</td>\n",
       "      <td>0</td>\n",
       "      <td>0</td>\n",
       "      <td>0</td>\n",
       "      <td>0</td>\n",
       "      <td>0</td>\n",
       "      <td>...</td>\n",
       "      <td>0</td>\n",
       "      <td>0</td>\n",
       "      <td>0</td>\n",
       "      <td>0</td>\n",
       "      <td>0</td>\n",
       "      <td>0</td>\n",
       "      <td>1</td>\n",
       "      <td>0</td>\n",
       "      <td>1</td>\n",
       "      <td>0.0</td>\n",
       "    </tr>\n",
       "    <tr>\n",
       "      <th>3</th>\n",
       "      <td>0.71875</td>\n",
       "      <td>0.180180</td>\n",
       "      <td>0</td>\n",
       "      <td>0</td>\n",
       "      <td>0</td>\n",
       "      <td>0</td>\n",
       "      <td>0</td>\n",
       "      <td>0</td>\n",
       "      <td>0</td>\n",
       "      <td>0</td>\n",
       "      <td>...</td>\n",
       "      <td>0</td>\n",
       "      <td>1</td>\n",
       "      <td>0</td>\n",
       "      <td>0</td>\n",
       "      <td>0</td>\n",
       "      <td>0</td>\n",
       "      <td>1</td>\n",
       "      <td>0</td>\n",
       "      <td>0</td>\n",
       "      <td>2.0</td>\n",
       "    </tr>\n",
       "    <tr>\n",
       "      <th>4</th>\n",
       "      <td>0.75000</td>\n",
       "      <td>0.072072</td>\n",
       "      <td>0</td>\n",
       "      <td>0</td>\n",
       "      <td>0</td>\n",
       "      <td>0</td>\n",
       "      <td>0</td>\n",
       "      <td>0</td>\n",
       "      <td>0</td>\n",
       "      <td>0</td>\n",
       "      <td>...</td>\n",
       "      <td>0</td>\n",
       "      <td>0</td>\n",
       "      <td>0</td>\n",
       "      <td>0</td>\n",
       "      <td>0</td>\n",
       "      <td>0</td>\n",
       "      <td>0</td>\n",
       "      <td>0</td>\n",
       "      <td>0</td>\n",
       "      <td>1.0</td>\n",
       "    </tr>\n",
       "    <tr>\n",
       "      <th>...</th>\n",
       "      <td>...</td>\n",
       "      <td>...</td>\n",
       "      <td>...</td>\n",
       "      <td>...</td>\n",
       "      <td>...</td>\n",
       "      <td>...</td>\n",
       "      <td>...</td>\n",
       "      <td>...</td>\n",
       "      <td>...</td>\n",
       "      <td>...</td>\n",
       "      <td>...</td>\n",
       "      <td>...</td>\n",
       "      <td>...</td>\n",
       "      <td>...</td>\n",
       "      <td>...</td>\n",
       "      <td>...</td>\n",
       "      <td>...</td>\n",
       "      <td>...</td>\n",
       "      <td>...</td>\n",
       "      <td>...</td>\n",
       "      <td>...</td>\n",
       "    </tr>\n",
       "    <tr>\n",
       "      <th>168</th>\n",
       "      <td>0.62500</td>\n",
       "      <td>0.210210</td>\n",
       "      <td>0</td>\n",
       "      <td>0</td>\n",
       "      <td>0</td>\n",
       "      <td>0</td>\n",
       "      <td>0</td>\n",
       "      <td>0</td>\n",
       "      <td>0</td>\n",
       "      <td>0</td>\n",
       "      <td>...</td>\n",
       "      <td>0</td>\n",
       "      <td>0</td>\n",
       "      <td>0</td>\n",
       "      <td>1</td>\n",
       "      <td>0</td>\n",
       "      <td>0</td>\n",
       "      <td>0</td>\n",
       "      <td>0</td>\n",
       "      <td>0</td>\n",
       "      <td>2.0</td>\n",
       "    </tr>\n",
       "    <tr>\n",
       "      <th>169</th>\n",
       "      <td>0.71875</td>\n",
       "      <td>0.180180</td>\n",
       "      <td>0</td>\n",
       "      <td>0</td>\n",
       "      <td>0</td>\n",
       "      <td>0</td>\n",
       "      <td>0</td>\n",
       "      <td>0</td>\n",
       "      <td>0</td>\n",
       "      <td>0</td>\n",
       "      <td>...</td>\n",
       "      <td>0</td>\n",
       "      <td>0</td>\n",
       "      <td>0</td>\n",
       "      <td>0</td>\n",
       "      <td>0</td>\n",
       "      <td>0</td>\n",
       "      <td>0</td>\n",
       "      <td>1</td>\n",
       "      <td>0</td>\n",
       "      <td>1.0</td>\n",
       "    </tr>\n",
       "    <tr>\n",
       "      <th>170</th>\n",
       "      <td>0.68750</td>\n",
       "      <td>0.027027</td>\n",
       "      <td>0</td>\n",
       "      <td>0</td>\n",
       "      <td>0</td>\n",
       "      <td>0</td>\n",
       "      <td>0</td>\n",
       "      <td>0</td>\n",
       "      <td>0</td>\n",
       "      <td>0</td>\n",
       "      <td>...</td>\n",
       "      <td>0</td>\n",
       "      <td>0</td>\n",
       "      <td>0</td>\n",
       "      <td>0</td>\n",
       "      <td>0</td>\n",
       "      <td>0</td>\n",
       "      <td>0</td>\n",
       "      <td>0</td>\n",
       "      <td>0</td>\n",
       "      <td>2.0</td>\n",
       "    </tr>\n",
       "    <tr>\n",
       "      <th>171</th>\n",
       "      <td>0.75000</td>\n",
       "      <td>0.072072</td>\n",
       "      <td>0</td>\n",
       "      <td>0</td>\n",
       "      <td>0</td>\n",
       "      <td>0</td>\n",
       "      <td>0</td>\n",
       "      <td>0</td>\n",
       "      <td>0</td>\n",
       "      <td>0</td>\n",
       "      <td>...</td>\n",
       "      <td>0</td>\n",
       "      <td>0</td>\n",
       "      <td>0</td>\n",
       "      <td>0</td>\n",
       "      <td>0</td>\n",
       "      <td>0</td>\n",
       "      <td>0</td>\n",
       "      <td>0</td>\n",
       "      <td>1</td>\n",
       "      <td>1.0</td>\n",
       "    </tr>\n",
       "    <tr>\n",
       "      <th>172</th>\n",
       "      <td>0.56250</td>\n",
       "      <td>0.000000</td>\n",
       "      <td>0</td>\n",
       "      <td>0</td>\n",
       "      <td>0</td>\n",
       "      <td>0</td>\n",
       "      <td>0</td>\n",
       "      <td>0</td>\n",
       "      <td>0</td>\n",
       "      <td>0</td>\n",
       "      <td>...</td>\n",
       "      <td>0</td>\n",
       "      <td>0</td>\n",
       "      <td>0</td>\n",
       "      <td>0</td>\n",
       "      <td>0</td>\n",
       "      <td>0</td>\n",
       "      <td>0</td>\n",
       "      <td>1</td>\n",
       "      <td>1</td>\n",
       "      <td>1.0</td>\n",
       "    </tr>\n",
       "  </tbody>\n",
       "</table>\n",
       "<p>173 rows × 1673 columns</p>\n",
       "</div>"
      ],
      "text/plain": [
       "      rating       age  company_name_a66  company_name_adci  \\\n",
       "0    0.71875  0.558559                 0                  0   \n",
       "1    0.71875  0.489489                 0                  0   \n",
       "2    0.71875  0.180180                 0                  0   \n",
       "3    0.71875  0.180180                 0                  0   \n",
       "4    0.75000  0.072072                 0                  0   \n",
       "..       ...       ...               ...                ...   \n",
       "168  0.62500  0.210210                 0                  0   \n",
       "169  0.71875  0.180180                 0                  0   \n",
       "170  0.68750  0.027027                 0                  0   \n",
       "171  0.75000  0.072072                 0                  0   \n",
       "172  0.56250  0.000000                 0                  0   \n",
       "\n",
       "     company_name_adobe  company_name_airtel  company_name_alignerr  \\\n",
       "0                     0                    0                      0   \n",
       "1                     0                    0                      0   \n",
       "2                     0                    0                      0   \n",
       "3                     0                    0                      0   \n",
       "4                     0                    0                      0   \n",
       "..                  ...                  ...                    ...   \n",
       "168                   0                    0                      0   \n",
       "169                   0                    0                      0   \n",
       "170                   0                    0                      0   \n",
       "171                   0                    0                      0   \n",
       "172                   0                    0                      0   \n",
       "\n",
       "     company_name_altair  company_name_american  company_name_amex  ...  \\\n",
       "0                      0                      0                  0  ...   \n",
       "1                      0                      0                  0  ...   \n",
       "2                      0                      0                  0  ...   \n",
       "3                      0                      0                  0  ...   \n",
       "4                      0                      0                  0  ...   \n",
       "..                   ...                    ...                ...  ...   \n",
       "168                    0                      0                  0  ...   \n",
       "169                    0                      0                  0  ...   \n",
       "170                    0                      0                  0  ...   \n",
       "171                    0                      0                  0  ...   \n",
       "172                    0                      0                  0  ...   \n",
       "\n",
       "     job_simp_machine  job_simp_manager  job_simp_nlp  job_simp_other  \\\n",
       "0                   0                 1             0               0   \n",
       "1                   0                 0             0               0   \n",
       "2                   0                 0             0               0   \n",
       "3                   0                 1             0               0   \n",
       "4                   0                 0             0               0   \n",
       "..                ...               ...           ...             ...   \n",
       "168                 0                 0             0               1   \n",
       "169                 0                 0             0               0   \n",
       "170                 0                 0             0               0   \n",
       "171                 0                 0             0               0   \n",
       "172                 0                 0             0               0   \n",
       "\n",
       "     job_simp_python  job_simp_related  job_simp_scientist  job_simp_software  \\\n",
       "0                  0                 0                   0                  0   \n",
       "1                  0                 0                   0                  0   \n",
       "2                  0                 0                   1                  0   \n",
       "3                  0                 0                   1                  0   \n",
       "4                  0                 0                   0                  0   \n",
       "..               ...               ...                 ...                ...   \n",
       "168                0                 0                   0                  0   \n",
       "169                0                 0                   0                  1   \n",
       "170                0                 0                   0                  0   \n",
       "171                0                 0                   0                  0   \n",
       "172                0                 0                   0                  1   \n",
       "\n",
       "     employer_estimate  seniority  \n",
       "0                    0        2.0  \n",
       "1                    0        0.0  \n",
       "2                    1        0.0  \n",
       "3                    0        2.0  \n",
       "4                    0        1.0  \n",
       "..                 ...        ...  \n",
       "168                  0        2.0  \n",
       "169                  0        1.0  \n",
       "170                  0        2.0  \n",
       "171                  1        1.0  \n",
       "172                  1        1.0  \n",
       "\n",
       "[173 rows x 1673 columns]"
      ]
     },
     "execution_count": 113,
     "metadata": {},
     "output_type": "execute_result"
    }
   ],
   "source": [
    "final_train_x"
   ]
  },
  {
   "cell_type": "code",
   "execution_count": 115,
   "id": "a49c854f-19c6-47ce-8eed-c02ca2d6df3d",
   "metadata": {},
   "outputs": [
    {
     "data": {
      "text/plain": [
       "Index(['company_name_company', 'job_description_detailed',\n",
       "       'job_description_thought', 'job_description_visionary', 'Type_business',\n",
       "       'Industry_advertising', 'Industry_public', 'Sector_accommodation',\n",
       "       'Sector_travel', 'skills_adwords'],\n",
       "      dtype='object')"
      ]
     },
     "execution_count": 115,
     "metadata": {},
     "output_type": "execute_result"
    }
   ],
   "source": [
    "# used dynamic feature elemination technique here\n",
    "# RFE - Recursive Feature Elimination (note that this cell takes some time to run)\n",
    "\n",
    "from sklearn.feature_selection import RFE\n",
    "lr = LinearRegression()\n",
    "rfe = RFE(lr, n_features_to_select = 10)\n",
    "xrfe = rfe.fit_transform(final_train_x, ytrain)\n",
    "selected_features = final_train_x.columns[rfe.support_]\n",
    "selected_features"
   ]
  },
  {
   "cell_type": "code",
   "execution_count": 152,
   "id": "8fb22e70-2547-4453-ad60-cdfb978021a8",
   "metadata": {},
   "outputs": [
    {
     "data": {
      "text/plain": [
       "((173, 1673), (173, 10), (173,))"
      ]
     },
     "execution_count": 152,
     "metadata": {},
     "output_type": "execute_result"
    }
   ],
   "source": [
    "final_train_x.shape, x_new.shape, ytrain.shape"
   ]
  },
  {
   "cell_type": "code",
   "execution_count": 160,
   "id": "29819a49-be72-4234-8b92-bfde3b6a672a",
   "metadata": {},
   "outputs": [
    {
     "data": {
      "text/plain": [
       "0       550000.0\n",
       "1       600000.0\n",
       "2         5000.0\n",
       "3      1000000.0\n",
       "4       550000.0\n",
       "         ...    \n",
       "341     650000.0\n",
       "342     600000.0\n",
       "343     500000.0\n",
       "344      10000.0\n",
       "345     650000.0\n",
       "Name: avg_salary, Length: 173, dtype: float64"
      ]
     },
     "execution_count": 160,
     "metadata": {},
     "output_type": "execute_result"
    }
   ],
   "source": [
    "ytrain"
   ]
  },
  {
   "cell_type": "code",
   "execution_count": 166,
   "id": "b01b20fd-f810-43e0-b86a-8672d4b8ecfe",
   "metadata": {},
   "outputs": [
    {
     "data": {
      "text/plain": [
       "array([ 550000.,  600000.,    5000., 1000000.,  550000., 1400000.,\n",
       "        950000.,   17500.,   13000.,  650000.,  550000.,  750000.,\n",
       "         10000.,  700000., 1000000.,  600000.,  600000.,  700000.,\n",
       "        750000.,  500000.,  492500.,  700000.,  650000., 3250000.,\n",
       "        850000.,  500000.,  350000.,   16500.,   14000.,  700000.,\n",
       "        700000.,  550000.,  850000., 3050000., 1100000.,   20000.,\n",
       "        700000.,  450000.,   55000., 1000000.,  700000.,  950000.,\n",
       "        230000.,  950000.,  750000.,  550000.,  750000.,  950000.,\n",
       "        450000., 1000000.,  750000.,  650000.,  800000.,  800000.,\n",
       "        650000.,  400000.,  750000.,  700000.,  600000.,  900000.,\n",
       "        650000.,  492500.,  950000.,  500000.,   20000.,  700000.,\n",
       "         16000.,  800000.,  800000.,  400000.,   20000.,  800000.,\n",
       "        750000.,  148000.,  400000.,  650000.,    4500.,  750000.,\n",
       "        550000.,  550000., 1000000.,  750000.,  750000.,  650000.,\n",
       "        600000.,  750000.,  550000.,  700000., 1000000.,  450000.,\n",
       "        450000.,  750000.,  550000.,  650000.,  650000.,  650000.,\n",
       "        450000.,  600000.,  500000.,  500000.,  650000.,  750000.,\n",
       "        492500.,  700000.,  700000.,  650000.,   50000.,  650000.,\n",
       "        700000., 1250000., 1300000.,  350000.,  450000.,  600000.,\n",
       "        300000., 1000000.,  750000.,  750000.,   75000., 1000000.,\n",
       "        600000.,  400000.,  950000.,   27500.,  400000.,  550000.,\n",
       "        700000.,  550000.,  550000.,  650000.,  750000.,  850000.,\n",
       "        700000.,  450000.,  600000.,  550000.,  400000.,  750000.,\n",
       "        900000.,  550000.,  800000.,  850000.,  450000.,  850000.,\n",
       "        550000.,  500000.,  650000.,  750000.,  350000.,  750000.,\n",
       "        492500.,  650000.,  700000.,  600000.,   90000.,  950000.,\n",
       "        800000.,  550000.,  350000.,  650000.,  450000.,  400000.,\n",
       "        550000.,  550000.,  650000.,  500000.,  550000.,  800000.,\n",
       "        650000.,  600000.,  500000.,   10000.,  650000.])"
      ]
     },
     "execution_count": 166,
     "metadata": {},
     "output_type": "execute_result"
    }
   ],
   "source": [
    "np.asarray(ytrain)"
   ]
  },
  {
   "cell_type": "code",
   "execution_count": 158,
   "id": "a001de83-03a4-4a9e-9fe6-3036386ea9a4",
   "metadata": {},
   "outputs": [
    {
     "data": {
      "text/html": [
       "<div>\n",
       "<style scoped>\n",
       "    .dataframe tbody tr th:only-of-type {\n",
       "        vertical-align: middle;\n",
       "    }\n",
       "\n",
       "    .dataframe tbody tr th {\n",
       "        vertical-align: top;\n",
       "    }\n",
       "\n",
       "    .dataframe thead th {\n",
       "        text-align: right;\n",
       "    }\n",
       "</style>\n",
       "<table border=\"1\" class=\"dataframe\">\n",
       "  <thead>\n",
       "    <tr style=\"text-align: right;\">\n",
       "      <th></th>\n",
       "      <th>const</th>\n",
       "      <th>company_name_company</th>\n",
       "      <th>job_description_detailed</th>\n",
       "      <th>job_description_thought</th>\n",
       "      <th>job_description_visionary</th>\n",
       "      <th>Type_business</th>\n",
       "      <th>Industry_advertising</th>\n",
       "      <th>Industry_public</th>\n",
       "      <th>Sector_accommodation</th>\n",
       "      <th>Sector_travel</th>\n",
       "      <th>skills_adwords</th>\n",
       "    </tr>\n",
       "  </thead>\n",
       "  <tbody>\n",
       "    <tr>\n",
       "      <th>0</th>\n",
       "      <td>1.0</td>\n",
       "      <td>0</td>\n",
       "      <td>0</td>\n",
       "      <td>0</td>\n",
       "      <td>0</td>\n",
       "      <td>0</td>\n",
       "      <td>0</td>\n",
       "      <td>0</td>\n",
       "      <td>0</td>\n",
       "      <td>0</td>\n",
       "      <td>0</td>\n",
       "    </tr>\n",
       "    <tr>\n",
       "      <th>1</th>\n",
       "      <td>1.0</td>\n",
       "      <td>0</td>\n",
       "      <td>0</td>\n",
       "      <td>0</td>\n",
       "      <td>0</td>\n",
       "      <td>0</td>\n",
       "      <td>0</td>\n",
       "      <td>0</td>\n",
       "      <td>0</td>\n",
       "      <td>0</td>\n",
       "      <td>0</td>\n",
       "    </tr>\n",
       "    <tr>\n",
       "      <th>2</th>\n",
       "      <td>1.0</td>\n",
       "      <td>0</td>\n",
       "      <td>0</td>\n",
       "      <td>0</td>\n",
       "      <td>0</td>\n",
       "      <td>0</td>\n",
       "      <td>0</td>\n",
       "      <td>0</td>\n",
       "      <td>0</td>\n",
       "      <td>0</td>\n",
       "      <td>0</td>\n",
       "    </tr>\n",
       "    <tr>\n",
       "      <th>3</th>\n",
       "      <td>1.0</td>\n",
       "      <td>0</td>\n",
       "      <td>0</td>\n",
       "      <td>0</td>\n",
       "      <td>0</td>\n",
       "      <td>0</td>\n",
       "      <td>0</td>\n",
       "      <td>0</td>\n",
       "      <td>0</td>\n",
       "      <td>0</td>\n",
       "      <td>0</td>\n",
       "    </tr>\n",
       "    <tr>\n",
       "      <th>4</th>\n",
       "      <td>1.0</td>\n",
       "      <td>0</td>\n",
       "      <td>0</td>\n",
       "      <td>0</td>\n",
       "      <td>0</td>\n",
       "      <td>0</td>\n",
       "      <td>0</td>\n",
       "      <td>0</td>\n",
       "      <td>0</td>\n",
       "      <td>0</td>\n",
       "      <td>0</td>\n",
       "    </tr>\n",
       "    <tr>\n",
       "      <th>...</th>\n",
       "      <td>...</td>\n",
       "      <td>...</td>\n",
       "      <td>...</td>\n",
       "      <td>...</td>\n",
       "      <td>...</td>\n",
       "      <td>...</td>\n",
       "      <td>...</td>\n",
       "      <td>...</td>\n",
       "      <td>...</td>\n",
       "      <td>...</td>\n",
       "      <td>...</td>\n",
       "    </tr>\n",
       "    <tr>\n",
       "      <th>168</th>\n",
       "      <td>1.0</td>\n",
       "      <td>0</td>\n",
       "      <td>0</td>\n",
       "      <td>0</td>\n",
       "      <td>0</td>\n",
       "      <td>0</td>\n",
       "      <td>0</td>\n",
       "      <td>0</td>\n",
       "      <td>0</td>\n",
       "      <td>0</td>\n",
       "      <td>0</td>\n",
       "    </tr>\n",
       "    <tr>\n",
       "      <th>169</th>\n",
       "      <td>1.0</td>\n",
       "      <td>0</td>\n",
       "      <td>0</td>\n",
       "      <td>0</td>\n",
       "      <td>0</td>\n",
       "      <td>0</td>\n",
       "      <td>0</td>\n",
       "      <td>0</td>\n",
       "      <td>0</td>\n",
       "      <td>0</td>\n",
       "      <td>0</td>\n",
       "    </tr>\n",
       "    <tr>\n",
       "      <th>170</th>\n",
       "      <td>1.0</td>\n",
       "      <td>0</td>\n",
       "      <td>0</td>\n",
       "      <td>0</td>\n",
       "      <td>0</td>\n",
       "      <td>0</td>\n",
       "      <td>0</td>\n",
       "      <td>0</td>\n",
       "      <td>0</td>\n",
       "      <td>0</td>\n",
       "      <td>0</td>\n",
       "    </tr>\n",
       "    <tr>\n",
       "      <th>171</th>\n",
       "      <td>1.0</td>\n",
       "      <td>0</td>\n",
       "      <td>0</td>\n",
       "      <td>0</td>\n",
       "      <td>0</td>\n",
       "      <td>0</td>\n",
       "      <td>0</td>\n",
       "      <td>0</td>\n",
       "      <td>0</td>\n",
       "      <td>0</td>\n",
       "      <td>0</td>\n",
       "    </tr>\n",
       "    <tr>\n",
       "      <th>172</th>\n",
       "      <td>1.0</td>\n",
       "      <td>0</td>\n",
       "      <td>0</td>\n",
       "      <td>0</td>\n",
       "      <td>0</td>\n",
       "      <td>0</td>\n",
       "      <td>0</td>\n",
       "      <td>0</td>\n",
       "      <td>0</td>\n",
       "      <td>0</td>\n",
       "      <td>0</td>\n",
       "    </tr>\n",
       "  </tbody>\n",
       "</table>\n",
       "<p>173 rows × 11 columns</p>\n",
       "</div>"
      ],
      "text/plain": [
       "     const  company_name_company  job_description_detailed  \\\n",
       "0      1.0                     0                         0   \n",
       "1      1.0                     0                         0   \n",
       "2      1.0                     0                         0   \n",
       "3      1.0                     0                         0   \n",
       "4      1.0                     0                         0   \n",
       "..     ...                   ...                       ...   \n",
       "168    1.0                     0                         0   \n",
       "169    1.0                     0                         0   \n",
       "170    1.0                     0                         0   \n",
       "171    1.0                     0                         0   \n",
       "172    1.0                     0                         0   \n",
       "\n",
       "     job_description_thought  job_description_visionary  Type_business  \\\n",
       "0                          0                          0              0   \n",
       "1                          0                          0              0   \n",
       "2                          0                          0              0   \n",
       "3                          0                          0              0   \n",
       "4                          0                          0              0   \n",
       "..                       ...                        ...            ...   \n",
       "168                        0                          0              0   \n",
       "169                        0                          0              0   \n",
       "170                        0                          0              0   \n",
       "171                        0                          0              0   \n",
       "172                        0                          0              0   \n",
       "\n",
       "     Industry_advertising  Industry_public  Sector_accommodation  \\\n",
       "0                       0                0                     0   \n",
       "1                       0                0                     0   \n",
       "2                       0                0                     0   \n",
       "3                       0                0                     0   \n",
       "4                       0                0                     0   \n",
       "..                    ...              ...                   ...   \n",
       "168                     0                0                     0   \n",
       "169                     0                0                     0   \n",
       "170                     0                0                     0   \n",
       "171                     0                0                     0   \n",
       "172                     0                0                     0   \n",
       "\n",
       "     Sector_travel  skills_adwords  \n",
       "0                0               0  \n",
       "1                0               0  \n",
       "2                0               0  \n",
       "3                0               0  \n",
       "4                0               0  \n",
       "..             ...             ...  \n",
       "168              0               0  \n",
       "169              0               0  \n",
       "170              0               0  \n",
       "171              0               0  \n",
       "172              0               0  \n",
       "\n",
       "[173 rows x 11 columns]"
      ]
     },
     "execution_count": 158,
     "metadata": {},
     "output_type": "execute_result"
    }
   ],
   "source": [
    "x_with_intercept"
   ]
  },
  {
   "cell_type": "code",
   "execution_count": 168,
   "id": "25717887-b034-4382-beca-88c76e12dea7",
   "metadata": {},
   "outputs": [
    {
     "data": {
      "text/html": [
       "<table class=\"simpletable\">\n",
       "<caption>OLS Regression Results</caption>\n",
       "<tr>\n",
       "  <th>Dep. Variable:</th>            <td>y</td>        <th>  R-squared:         </th> <td>   0.283</td>\n",
       "</tr>\n",
       "<tr>\n",
       "  <th>Model:</th>                   <td>OLS</td>       <th>  Adj. R-squared:    </th> <td>   0.253</td>\n",
       "</tr>\n",
       "<tr>\n",
       "  <th>Method:</th>             <td>Least Squares</td>  <th>  F-statistic:       </th> <td>   9.323</td>\n",
       "</tr>\n",
       "<tr>\n",
       "  <th>Date:</th>             <td>Thu, 06 Feb 2025</td> <th>  Prob (F-statistic):</th> <td>1.04e-09</td>\n",
       "</tr>\n",
       "<tr>\n",
       "  <th>Time:</th>                 <td>19:30:55</td>     <th>  Log-Likelihood:    </th> <td> -2440.0</td>\n",
       "</tr>\n",
       "<tr>\n",
       "  <th>No. Observations:</th>      <td>   173</td>      <th>  AIC:               </th> <td>   4896.</td>\n",
       "</tr>\n",
       "<tr>\n",
       "  <th>Df Residuals:</th>          <td>   165</td>      <th>  BIC:               </th> <td>   4921.</td>\n",
       "</tr>\n",
       "<tr>\n",
       "  <th>Df Model:</th>              <td>     7</td>      <th>                     </th>     <td> </td>   \n",
       "</tr>\n",
       "<tr>\n",
       "  <th>Covariance Type:</th>      <td>nonrobust</td>    <th>                     </th>     <td> </td>   \n",
       "</tr>\n",
       "</table>\n",
       "<table class=\"simpletable\">\n",
       "<tr>\n",
       "              <td></td>                 <th>coef</th>     <th>std err</th>      <th>t</th>      <th>P>|t|</th>  <th>[0.025</th>    <th>0.975]</th>  \n",
       "</tr>\n",
       "<tr>\n",
       "  <th>const</th>                     <td> 6.179e+05</td> <td> 2.57e+04</td> <td>   24.081</td> <td> 0.000</td> <td> 5.67e+05</td> <td> 6.69e+05</td>\n",
       "</tr>\n",
       "<tr>\n",
       "  <th>company_name_company</th>      <td>    -3e+05</td> <td> 4.68e+05</td> <td>   -0.642</td> <td> 0.522</td> <td>-1.22e+06</td> <td> 6.23e+05</td>\n",
       "</tr>\n",
       "<tr>\n",
       "  <th>job_description_detailed</th>  <td> 4.821e+05</td> <td> 5.73e+05</td> <td>    0.841</td> <td> 0.401</td> <td> -6.5e+05</td> <td> 1.61e+06</td>\n",
       "</tr>\n",
       "<tr>\n",
       "  <th>job_description_thought</th>   <td> 3.321e+05</td> <td> 5.73e+05</td> <td>    0.580</td> <td> 0.563</td> <td>   -8e+05</td> <td> 1.46e+06</td>\n",
       "</tr>\n",
       "<tr>\n",
       "  <th>job_description_visionary</th> <td> 2.432e+06</td> <td> 3.32e+05</td> <td>    7.335</td> <td> 0.000</td> <td> 1.78e+06</td> <td> 3.09e+06</td>\n",
       "</tr>\n",
       "<tr>\n",
       "  <th>Type_business</th>             <td> 6.321e+05</td> <td> 3.32e+05</td> <td>    1.907</td> <td> 0.058</td> <td>-2.25e+04</td> <td> 1.29e+06</td>\n",
       "</tr>\n",
       "<tr>\n",
       "  <th>Industry_advertising</th>      <td>-1.993e+05</td> <td> 1.11e+05</td> <td>   -1.803</td> <td> 0.073</td> <td>-4.18e+05</td> <td> 1.89e+04</td>\n",
       "</tr>\n",
       "<tr>\n",
       "  <th>Industry_public</th>           <td>-1.993e+05</td> <td> 1.11e+05</td> <td>   -1.803</td> <td> 0.073</td> <td>-4.18e+05</td> <td> 1.89e+04</td>\n",
       "</tr>\n",
       "<tr>\n",
       "  <th>Sector_accommodation</th>      <td>-2.952e+05</td> <td> 1.66e+05</td> <td>   -1.780</td> <td> 0.077</td> <td>-6.23e+05</td> <td> 3.22e+04</td>\n",
       "</tr>\n",
       "<tr>\n",
       "  <th>Sector_travel</th>             <td>-2.952e+05</td> <td> 1.66e+05</td> <td>   -1.780</td> <td> 0.077</td> <td>-6.23e+05</td> <td> 3.22e+04</td>\n",
       "</tr>\n",
       "<tr>\n",
       "  <th>skills_adwords</th>            <td>-1.993e+05</td> <td> 1.11e+05</td> <td>   -1.803</td> <td> 0.073</td> <td>-4.18e+05</td> <td> 1.89e+04</td>\n",
       "</tr>\n",
       "</table>\n",
       "<table class=\"simpletable\">\n",
       "<tr>\n",
       "  <th>Omnibus:</th>       <td>149.588</td> <th>  Durbin-Watson:     </th> <td>   1.990</td>\n",
       "</tr>\n",
       "<tr>\n",
       "  <th>Prob(Omnibus):</th> <td> 0.000</td>  <th>  Jarque-Bera (JB):  </th> <td>4412.134</td>\n",
       "</tr>\n",
       "<tr>\n",
       "  <th>Skew:</th>          <td> 2.835</td>  <th>  Prob(JB):          </th> <td>    0.00</td>\n",
       "</tr>\n",
       "<tr>\n",
       "  <th>Kurtosis:</th>      <td>27.082</td>  <th>  Cond. No.          </th> <td>6.39e+31</td>\n",
       "</tr>\n",
       "</table><br/><br/>Notes:<br/>[1] Standard Errors assume that the covariance matrix of the errors is correctly specified.<br/>[2] The smallest eigenvalue is 4.24e-62. This might indicate that there are<br/>strong multicollinearity problems or that the design matrix is singular."
      ],
      "text/latex": [
       "\\begin{center}\n",
       "\\begin{tabular}{lclc}\n",
       "\\toprule\n",
       "\\textbf{Dep. Variable:}              &        y         & \\textbf{  R-squared:         } &     0.283   \\\\\n",
       "\\textbf{Model:}                      &       OLS        & \\textbf{  Adj. R-squared:    } &     0.253   \\\\\n",
       "\\textbf{Method:}                     &  Least Squares   & \\textbf{  F-statistic:       } &     9.323   \\\\\n",
       "\\textbf{Date:}                       & Thu, 06 Feb 2025 & \\textbf{  Prob (F-statistic):} &  1.04e-09   \\\\\n",
       "\\textbf{Time:}                       &     19:30:55     & \\textbf{  Log-Likelihood:    } &   -2440.0   \\\\\n",
       "\\textbf{No. Observations:}           &         173      & \\textbf{  AIC:               } &     4896.   \\\\\n",
       "\\textbf{Df Residuals:}               &         165      & \\textbf{  BIC:               } &     4921.   \\\\\n",
       "\\textbf{Df Model:}                   &           7      & \\textbf{                     } &             \\\\\n",
       "\\textbf{Covariance Type:}            &    nonrobust     & \\textbf{                     } &             \\\\\n",
       "\\bottomrule\n",
       "\\end{tabular}\n",
       "\\begin{tabular}{lcccccc}\n",
       "                                     & \\textbf{coef} & \\textbf{std err} & \\textbf{t} & \\textbf{P$> |$t$|$} & \\textbf{[0.025} & \\textbf{0.975]}  \\\\\n",
       "\\midrule\n",
       "\\textbf{const}                       &    6.179e+05  &     2.57e+04     &    24.081  &         0.000        &     5.67e+05    &     6.69e+05     \\\\\n",
       "\\textbf{company\\_name\\_company}      &       -3e+05  &     4.68e+05     &    -0.642  &         0.522        &    -1.22e+06    &     6.23e+05     \\\\\n",
       "\\textbf{job\\_description\\_detailed}  &    4.821e+05  &     5.73e+05     &     0.841  &         0.401        &     -6.5e+05    &     1.61e+06     \\\\\n",
       "\\textbf{job\\_description\\_thought}   &    3.321e+05  &     5.73e+05     &     0.580  &         0.563        &       -8e+05    &     1.46e+06     \\\\\n",
       "\\textbf{job\\_description\\_visionary} &    2.432e+06  &     3.32e+05     &     7.335  &         0.000        &     1.78e+06    &     3.09e+06     \\\\\n",
       "\\textbf{Type\\_business}              &    6.321e+05  &     3.32e+05     &     1.907  &         0.058        &    -2.25e+04    &     1.29e+06     \\\\\n",
       "\\textbf{Industry\\_advertising}       &   -1.993e+05  &     1.11e+05     &    -1.803  &         0.073        &    -4.18e+05    &     1.89e+04     \\\\\n",
       "\\textbf{Industry\\_public}            &   -1.993e+05  &     1.11e+05     &    -1.803  &         0.073        &    -4.18e+05    &     1.89e+04     \\\\\n",
       "\\textbf{Sector\\_accommodation}       &   -2.952e+05  &     1.66e+05     &    -1.780  &         0.077        &    -6.23e+05    &     3.22e+04     \\\\\n",
       "\\textbf{Sector\\_travel}              &   -2.952e+05  &     1.66e+05     &    -1.780  &         0.077        &    -6.23e+05    &     3.22e+04     \\\\\n",
       "\\textbf{skills\\_adwords}             &   -1.993e+05  &     1.11e+05     &    -1.803  &         0.073        &    -4.18e+05    &     1.89e+04     \\\\\n",
       "\\bottomrule\n",
       "\\end{tabular}\n",
       "\\begin{tabular}{lclc}\n",
       "\\textbf{Omnibus:}       & 149.588 & \\textbf{  Durbin-Watson:     } &    1.990  \\\\\n",
       "\\textbf{Prob(Omnibus):} &   0.000 & \\textbf{  Jarque-Bera (JB):  } & 4412.134  \\\\\n",
       "\\textbf{Skew:}          &   2.835 & \\textbf{  Prob(JB):          } &     0.00  \\\\\n",
       "\\textbf{Kurtosis:}      &  27.082 & \\textbf{  Cond. No.          } & 6.39e+31  \\\\\n",
       "\\bottomrule\n",
       "\\end{tabular}\n",
       "%\\caption{OLS Regression Results}\n",
       "\\end{center}\n",
       "\n",
       "Notes: \\newline\n",
       " [1] Standard Errors assume that the covariance matrix of the errors is correctly specified. \\newline\n",
       " [2] The smallest eigenvalue is 4.24e-62. This might indicate that there are \\newline\n",
       " strong multicollinearity problems or that the design matrix is singular."
      ],
      "text/plain": [
       "<class 'statsmodels.iolib.summary.Summary'>\n",
       "\"\"\"\n",
       "                            OLS Regression Results                            \n",
       "==============================================================================\n",
       "Dep. Variable:                      y   R-squared:                       0.283\n",
       "Model:                            OLS   Adj. R-squared:                  0.253\n",
       "Method:                 Least Squares   F-statistic:                     9.323\n",
       "Date:                Thu, 06 Feb 2025   Prob (F-statistic):           1.04e-09\n",
       "Time:                        19:30:55   Log-Likelihood:                -2440.0\n",
       "No. Observations:                 173   AIC:                             4896.\n",
       "Df Residuals:                     165   BIC:                             4921.\n",
       "Df Model:                           7                                         \n",
       "Covariance Type:            nonrobust                                         \n",
       "=============================================================================================\n",
       "                                coef    std err          t      P>|t|      [0.025      0.975]\n",
       "---------------------------------------------------------------------------------------------\n",
       "const                      6.179e+05   2.57e+04     24.081      0.000    5.67e+05    6.69e+05\n",
       "company_name_company          -3e+05   4.68e+05     -0.642      0.522   -1.22e+06    6.23e+05\n",
       "job_description_detailed   4.821e+05   5.73e+05      0.841      0.401    -6.5e+05    1.61e+06\n",
       "job_description_thought    3.321e+05   5.73e+05      0.580      0.563      -8e+05    1.46e+06\n",
       "job_description_visionary  2.432e+06   3.32e+05      7.335      0.000    1.78e+06    3.09e+06\n",
       "Type_business              6.321e+05   3.32e+05      1.907      0.058   -2.25e+04    1.29e+06\n",
       "Industry_advertising      -1.993e+05   1.11e+05     -1.803      0.073   -4.18e+05    1.89e+04\n",
       "Industry_public           -1.993e+05   1.11e+05     -1.803      0.073   -4.18e+05    1.89e+04\n",
       "Sector_accommodation      -2.952e+05   1.66e+05     -1.780      0.077   -6.23e+05    3.22e+04\n",
       "Sector_travel             -2.952e+05   1.66e+05     -1.780      0.077   -6.23e+05    3.22e+04\n",
       "skills_adwords            -1.993e+05   1.11e+05     -1.803      0.073   -4.18e+05    1.89e+04\n",
       "==============================================================================\n",
       "Omnibus:                      149.588   Durbin-Watson:                   1.990\n",
       "Prob(Omnibus):                  0.000   Jarque-Bera (JB):             4412.134\n",
       "Skew:                           2.835   Prob(JB):                         0.00\n",
       "Kurtosis:                      27.082   Cond. No.                     6.39e+31\n",
       "==============================================================================\n",
       "\n",
       "Notes:\n",
       "[1] Standard Errors assume that the covariance matrix of the errors is correctly specified.\n",
       "[2] The smallest eigenvalue is 4.24e-62. This might indicate that there are\n",
       "strong multicollinearity problems or that the design matrix is singular.\n",
       "\"\"\""
      ]
     },
     "execution_count": 168,
     "metadata": {},
     "output_type": "execute_result"
    }
   ],
   "source": [
    "x_new = final_train_x[['company_name_company', 'job_description_detailed',\n",
    "       'job_description_thought', 'job_description_visionary', 'Type_business',\n",
    "       'Industry_advertising', 'Industry_public', 'Sector_accommodation',\n",
    "       'Sector_travel', 'skills_adwords']]\n",
    "\n",
    "x_with_intercept = sm.add_constant(x_new)\n",
    "ols_model_before_pca = sm.OLS(np.asarray(ytrain), x_with_intercept).fit()\n",
    "ols_model_before_pca.summary()\n",
    "# x_new.iloc[[  0,   1,   2,   3,   4,   5,   6  ]]"
   ]
  },
  {
   "cell_type": "code",
   "execution_count": 139,
   "id": "87ce15e8-60ba-4137-a701-68292d76e14d",
   "metadata": {},
   "outputs": [],
   "source": [
    "# this below fit on the model is giving even worse results than lr on pca k baad vala data\n",
    "# see below cell for output \n",
    "\n",
    "# x_new = final_train_x[['company_name_company', 'job_description_detailed',\n",
    "#        'job_description_thought', 'job_description_visionary', 'Type_business',\n",
    "#        'Industry_advertising', 'Industry_public', 'Sector_accommodation',\n",
    "#        'Sector_travel', 'skills_adwords']]\n",
    "# lr.fit(x_new, ytrain)\n",
    "# evaluate_r2(x_new, ytrain, lr)"
   ]
  },
  {
   "cell_type": "markdown",
   "id": "92fbe872-25ca-490b-8674-34d087cdc79f",
   "metadata": {},
   "source": [
    "Cross-validation r2 scores: [-0.02130620524251947, -0.17648535613727567, -3.0450879687097345e+25, -0.0040572373805487505, -0.17677975815852554]\n",
    "Average r2 score: -6.090175937419469e+24\n",
    "Cross-validation MAE scores: [162273.60959651036, 213989.39393939392, 6.035599991429903e+17, 294294.00790166814, 149256.08137992033]\n",
    "Average MAE: 1.2071199982876203e+17\n",
    "Cross-validation MSE scores: [48662822893.687515, 85810216153.41724, 1.2644851669217313e+37, 132321088578.04372, 38978895335.41941]\n",
    "Average MSE: 2.5289703338434626e+36\n",
    "Cross-validation RMSE scores: [220596.5160506564, 292933.80848481326, 3.5559600207563233e+18, 363759.65771102725, 197430.73553887047]\n",
    "Average RMSE: 7.111920041514796e+17"
   ]
  },
  {
   "cell_type": "code",
   "execution_count": 97,
   "id": "7710006c-8614-4f88-bbab-bfdbccd8954e",
   "metadata": {},
   "outputs": [
    {
     "data": {
      "text/plain": [
       "(173, 98)"
      ]
     },
     "execution_count": 97,
     "metadata": {},
     "output_type": "execute_result"
    }
   ],
   "source": [
    "xtrain_pca.shape"
   ]
  },
  {
   "cell_type": "code",
   "execution_count": 101,
   "id": "bf0078d3-f6a9-475d-8977-cb2058fd86dd",
   "metadata": {},
   "outputs": [
    {
     "data": {
      "text/plain": [
       "array([[ 1.        ,  0.54643598,  0.54851564, ..., -0.07896461,\n",
       "        -0.09126119,  0.39074848],\n",
       "       [ 1.        ,  0.25973255,  1.69666214, ...,  0.31362515,\n",
       "         0.25117214,  0.36610498],\n",
       "       [ 1.        ,  0.62921962,  1.80601191, ...,  0.43109234,\n",
       "        -0.32594419,  0.33325388],\n",
       "       ...,\n",
       "       [ 1.        , -0.05966936, -2.45171136, ...,  0.03149374,\n",
       "        -0.01568036, -0.18221363],\n",
       "       [ 1.        , -1.68793257, -2.83863285, ...,  0.00592379,\n",
       "         0.02301289,  0.05151003],\n",
       "       [ 1.        ,  0.43673933,  0.56248735, ...,  0.31985214,\n",
       "         0.00377589, -0.11947283]])"
      ]
     },
     "execution_count": 101,
     "metadata": {},
     "output_type": "execute_result"
    }
   ],
   "source": [
    "import statsmodels.api as sm\n",
    "sm.add_constant(xtrain_pca)"
   ]
  },
  {
   "cell_type": "code",
   "execution_count": 103,
   "id": "b8657963-78fc-40cb-8d17-2a69fc1baf7f",
   "metadata": {},
   "outputs": [
    {
     "name": "stdout",
     "output_type": "stream",
     "text": [
      "                            OLS Regression Results                            \n",
      "==============================================================================\n",
      "Dep. Variable:             avg_salary   R-squared:                       0.581\n",
      "Model:                            OLS   Adj. R-squared:                  0.025\n",
      "Method:                 Least Squares   F-statistic:                     1.046\n",
      "Date:                Thu, 06 Feb 2025   Prob (F-statistic):              0.423\n",
      "Time:                        18:10:45   Log-Likelihood:                -2393.6\n",
      "No. Observations:                 173   AIC:                             4985.\n",
      "Df Residuals:                      74   BIC:                             5297.\n",
      "Df Model:                          98                                         \n",
      "Covariance Type:            nonrobust                                         \n",
      "==============================================================================\n",
      "                 coef    std err          t      P>|t|      [0.025      0.975]\n",
      "------------------------------------------------------------------------------\n",
      "const       6.319e+05   2.87e+04     22.010      0.000    5.75e+05    6.89e+05\n",
      "x1         -8830.4176   1.64e+04     -0.539      0.591   -4.15e+04    2.38e+04\n",
      "x2          8796.7551   2.16e+04      0.406      0.686   -3.43e+04    5.19e+04\n",
      "x3         -3.995e+04   2.27e+04     -1.758      0.083   -8.52e+04    5325.455\n",
      "x4          1.333e+04   2.46e+04      0.542      0.590   -3.57e+04    6.24e+04\n",
      "x5           2.08e+04   2.57e+04      0.810      0.420   -3.03e+04     7.2e+04\n",
      "x6          4.658e+04   2.88e+04      1.616      0.110   -1.09e+04    1.04e+05\n",
      "x7         -6104.8911   2.98e+04     -0.205      0.838   -6.55e+04    5.33e+04\n",
      "x8         -3.654e+04   3.08e+04     -1.186      0.239   -9.79e+04    2.48e+04\n",
      "x9           889.4180   3.15e+04      0.028      0.978   -6.18e+04    6.36e+04\n",
      "x10          589.5084   3.23e+04      0.018      0.986   -6.39e+04     6.5e+04\n",
      "x11        -1.313e+04    3.5e+04     -0.375      0.708   -8.28e+04    5.65e+04\n",
      "x12         6.684e+04   3.52e+04      1.901      0.061   -3212.372    1.37e+05\n",
      "x13        -4.105e+04   3.62e+04     -1.133      0.261   -1.13e+05    3.11e+04\n",
      "x14        -3.206e+04   3.68e+04     -0.871      0.387   -1.05e+05    4.13e+04\n",
      "x15         4.604e+04   3.69e+04      1.248      0.216   -2.75e+04     1.2e+05\n",
      "x16         6643.1420   3.77e+04      0.176      0.861   -6.84e+04    8.17e+04\n",
      "x17         7.822e+04   3.93e+04      1.992      0.050     -23.308    1.56e+05\n",
      "x18          171.6969   4.15e+04      0.004      0.997   -8.24e+04    8.28e+04\n",
      "x19         4.223e+04   4.24e+04      0.997      0.322   -4.22e+04    1.27e+05\n",
      "x20         6.277e+04   4.31e+04      1.457      0.149    -2.3e+04    1.49e+05\n",
      "x21         2.407e+04    4.4e+04      0.547      0.586   -6.35e+04    1.12e+05\n",
      "x22         1.148e+04   4.42e+04      0.260      0.796   -7.66e+04    9.95e+04\n",
      "x23         2.984e+04   4.53e+04      0.659      0.512   -6.04e+04     1.2e+05\n",
      "x24         3.556e+04   4.59e+04      0.774      0.441    -5.6e+04    1.27e+05\n",
      "x25         -823.9491   4.67e+04     -0.018      0.986   -9.38e+04    9.22e+04\n",
      "x26         -9.31e+04    4.7e+04     -1.981      0.051   -1.87e+05     550.509\n",
      "x27         3.373e+04   4.77e+04      0.707      0.482   -6.13e+04    1.29e+05\n",
      "x28         7837.7840   4.87e+04      0.161      0.873   -8.92e+04    1.05e+05\n",
      "x29        -1.089e+04   4.93e+04     -0.221      0.826   -1.09e+05    8.74e+04\n",
      "x30         2.657e+04   4.97e+04      0.534      0.595   -7.25e+04    1.26e+05\n",
      "x31          -97.3173   5.03e+04     -0.002      0.998      -1e+05       1e+05\n",
      "x32         6.482e+04   5.11e+04      1.268      0.209    -3.7e+04    1.67e+05\n",
      "x33         7.077e+04   5.22e+04      1.357      0.179   -3.32e+04    1.75e+05\n",
      "x34         4.438e+04    5.3e+04      0.837      0.405   -6.13e+04     1.5e+05\n",
      "x35        -8170.2594   5.35e+04     -0.153      0.879   -1.15e+05    9.84e+04\n",
      "x36         7.092e+04   5.46e+04      1.299      0.198   -3.78e+04     1.8e+05\n",
      "x37          4.46e+04   5.48e+04      0.813      0.419   -6.47e+04    1.54e+05\n",
      "x38        -6.581e+04   5.55e+04     -1.186      0.240   -1.76e+05    4.48e+04\n",
      "x39        -9.333e+04   5.59e+04     -1.670      0.099   -2.05e+05    1.81e+04\n",
      "x40         5.851e+04   5.62e+04      1.041      0.301   -5.35e+04     1.7e+05\n",
      "x41         2.677e+04   5.63e+04      0.475      0.636   -8.54e+04    1.39e+05\n",
      "x42          1.27e+04   5.81e+04      0.219      0.828   -1.03e+05    1.29e+05\n",
      "x43          -5.9e+04   5.83e+04     -1.011      0.315   -1.75e+05    5.73e+04\n",
      "x44        -3665.7373   5.86e+04     -0.063      0.950    -1.2e+05    1.13e+05\n",
      "x45        -3.254e+04   5.94e+04     -0.547      0.586   -1.51e+05    8.59e+04\n",
      "x46        -8.362e+04   6.02e+04     -1.390      0.169   -2.03e+05    3.62e+04\n",
      "x47         5.156e+04   6.09e+04      0.846      0.400   -6.98e+04    1.73e+05\n",
      "x48        -2.452e+04   6.13e+04     -0.400      0.690   -1.47e+05    9.77e+04\n",
      "x49        -3.201e+04   6.17e+04     -0.519      0.606   -1.55e+05     9.1e+04\n",
      "x50         2.841e+04   6.27e+04      0.453      0.652   -9.66e+04    1.53e+05\n",
      "x51        -1366.8493   6.36e+04     -0.021      0.983   -1.28e+05    1.25e+05\n",
      "x52         4.623e+04   6.42e+04      0.721      0.473   -8.16e+04    1.74e+05\n",
      "x53        -3824.3566   6.46e+04     -0.059      0.953   -1.33e+05    1.25e+05\n",
      "x54         3.992e+04   6.49e+04      0.615      0.541   -8.95e+04    1.69e+05\n",
      "x55        -8.265e+04   6.51e+04     -1.269      0.208   -2.12e+05    4.71e+04\n",
      "x56        -1.125e+05   6.57e+04     -1.712      0.091   -2.43e+05    1.84e+04\n",
      "x57        -1.374e+05   6.63e+04     -2.071      0.042    -2.7e+05   -5184.128\n",
      "x58        -8.079e+04   6.66e+04     -1.213      0.229   -2.13e+05    5.19e+04\n",
      "x59         6.523e+04   6.72e+04      0.970      0.335   -6.87e+04    1.99e+05\n",
      "x60         2.975e+04    6.8e+04      0.438      0.663   -1.06e+05    1.65e+05\n",
      "x61        -6958.5012   6.86e+04     -0.101      0.920   -1.44e+05     1.3e+05\n",
      "x62         8767.1323    6.9e+04      0.127      0.899   -1.29e+05    1.46e+05\n",
      "x63         9.595e+04   6.96e+04      1.378      0.172   -4.27e+04    2.35e+05\n",
      "x64        -1.157e+05   6.99e+04     -1.656      0.102   -2.55e+05    2.35e+04\n",
      "x65         4.328e+04   7.06e+04      0.613      0.542   -9.75e+04    1.84e+05\n",
      "x66        -5.688e+04    7.1e+04     -0.801      0.426   -1.98e+05    8.46e+04\n",
      "x67        -2.596e+04   7.15e+04     -0.363      0.717   -1.68e+05    1.16e+05\n",
      "x68        -2.001e+05   7.21e+04     -2.777      0.007   -3.44e+05   -5.65e+04\n",
      "x69        -6.355e+04   7.27e+04     -0.875      0.385   -2.08e+05    8.12e+04\n",
      "x70         7.398e+04   7.33e+04      1.009      0.316   -7.21e+04     2.2e+05\n",
      "x71          7.95e+04   7.36e+04      1.080      0.284   -6.72e+04    2.26e+05\n",
      "x72         3.455e+04   7.43e+04      0.465      0.644   -1.14e+05    1.83e+05\n",
      "x73        -1.356e+05   7.49e+04     -1.810      0.074   -2.85e+05    1.37e+04\n",
      "x74        -3.505e+04    7.5e+04     -0.467      0.642   -1.84e+05    1.14e+05\n",
      "x75         7.488e+04   7.57e+04      0.989      0.326    -7.6e+04    2.26e+05\n",
      "x76        -1.433e+05   7.66e+04     -1.872      0.065   -2.96e+05    9192.695\n",
      "x77         -8.89e+04   7.66e+04     -1.160      0.250   -2.42e+05    6.38e+04\n",
      "x78        -1.131e+05   7.75e+04     -1.460      0.148   -2.67e+05    4.12e+04\n",
      "x79         6.809e+04    7.8e+04      0.873      0.385   -8.73e+04    2.23e+05\n",
      "x80        -1.261e+05   7.82e+04     -1.613      0.111   -2.82e+05    2.96e+04\n",
      "x81         3.554e+04   7.87e+04      0.451      0.653   -1.21e+05    1.92e+05\n",
      "x82         4.932e+04   7.92e+04      0.623      0.535   -1.08e+05    2.07e+05\n",
      "x83         4.927e+04   7.95e+04      0.619      0.538   -1.09e+05    2.08e+05\n",
      "x84         8.989e+04   8.03e+04      1.119      0.267   -7.02e+04     2.5e+05\n",
      "x85         1.365e+05   8.09e+04      1.688      0.096   -2.46e+04    2.98e+05\n",
      "x86         1.171e+05   8.19e+04      1.430      0.157   -4.61e+04     2.8e+05\n",
      "x87        -4.865e+04   8.23e+04     -0.591      0.556   -2.13e+05    1.15e+05\n",
      "x88          1.35e+05   8.28e+04      1.630      0.107      -3e+04       3e+05\n",
      "x89        -2.675e+04   8.36e+04     -0.320      0.750   -1.93e+05     1.4e+05\n",
      "x90         4.672e+04   8.39e+04      0.557      0.579   -1.21e+05    2.14e+05\n",
      "x91        -2.846e+04   8.44e+04     -0.337      0.737   -1.97e+05     1.4e+05\n",
      "x92        -7.108e+04   8.54e+04     -0.832      0.408   -2.41e+05    9.91e+04\n",
      "x93         6.865e+04   8.61e+04      0.797      0.428   -1.03e+05     2.4e+05\n",
      "x94        -3.019e+04   8.65e+04     -0.349      0.728   -2.02e+05    1.42e+05\n",
      "x95        -4.816e+04   8.67e+04     -0.555      0.580   -2.21e+05    1.25e+05\n",
      "x96         1511.8725   8.74e+04      0.017      0.986   -1.73e+05    1.76e+05\n",
      "x97        -3.903e+04   8.84e+04     -0.442      0.660   -2.15e+05    1.37e+05\n",
      "x98        -3.066e+04   8.92e+04     -0.344      0.732   -2.08e+05    1.47e+05\n",
      "==============================================================================\n",
      "Omnibus:                       39.690   Durbin-Watson:                   1.755\n",
      "Prob(Omnibus):                  0.000   Jarque-Bera (JB):              551.239\n",
      "Skew:                           0.088   Prob(JB):                    1.99e-120\n",
      "Kurtosis:                      11.743   Cond. No.                         5.44\n",
      "==============================================================================\n",
      "\n",
      "Notes:\n",
      "[1] Standard Errors assume that the covariance matrix of the errors is correctly specified.\n"
     ]
    }
   ],
   "source": [
    "import statsmodels.api as sm\n",
    "xtrain_with_constant = sm.add_constant(final_train_x)\n",
    "model = sm.OLS(ytrain, xtrain_with_constant).fit()\n",
    "print(model.summary())"
   ]
  },
  {
   "cell_type": "markdown",
   "id": "739e31a5-846d-4ab6-ac7e-30cfddbf8969",
   "metadata": {},
   "source": [
    "### Lasso Regression"
   ]
  },
  {
   "cell_type": "code",
   "execution_count": 340,
   "id": "98d4e3e6-240c-473c-8223-9a735535852b",
   "metadata": {},
   "outputs": [
    {
     "name": "stdout",
     "output_type": "stream",
     "text": [
      "Cross-validation r2 scores: [-0.05054629944295064, -0.18757859896966966, -0.03649275005701447, -0.032842416084639225, -0.014480518191916758]\n",
      "Average r2 score: -0.06438811654923815\n"
     ]
    }
   ],
   "source": [
    "lasso = Lasso(alpha = 1000000)\n",
    "lasso.fit(xtrain_pca,ytrain)\n",
    "evaluate_r2(xtrain_pca, ytrain, lasso)"
   ]
  },
  {
   "cell_type": "code",
   "execution_count": 341,
   "id": "6465b816-d461-43ed-9ba8-ca77f9d6cc28",
   "metadata": {},
   "outputs": [
    {
     "ename": "KeyboardInterrupt",
     "evalue": "",
     "output_type": "error",
     "traceback": [
      "\u001b[1;31m---------------------------------------------------------------------------\u001b[0m",
      "\u001b[1;31mKeyboardInterrupt\u001b[0m                         Traceback (most recent call last)",
      "Cell \u001b[1;32mIn[341], line 4\u001b[0m\n\u001b[0;32m      2\u001b[0m rf \u001b[38;5;241m=\u001b[39m RandomForestRegressor(n_estimators\u001b[38;5;241m=\u001b[39m\u001b[38;5;241m500\u001b[39m)\n\u001b[0;32m      3\u001b[0m rf\u001b[38;5;241m.\u001b[39mfit(xtrain_pca, ytrain)\n\u001b[1;32m----> 4\u001b[0m evaluate_r2(xtrain_pca, ytrain, rf)\n",
      "Cell \u001b[1;32mIn[336], line 20\u001b[0m, in \u001b[0;36mevaluate_r2\u001b[1;34m(xtrain, ytrain, model)\u001b[0m\n\u001b[0;32m     14\u001b[0m y_train, y_val \u001b[38;5;241m=\u001b[39m ytrain\u001b[38;5;241m.\u001b[39miloc[train_index], ytrain\u001b[38;5;241m.\u001b[39miloc[val_index]\n\u001b[0;32m     16\u001b[0m \u001b[38;5;66;03m# Create the model\u001b[39;00m\n\u001b[0;32m     17\u001b[0m \u001b[38;5;66;03m#model = create_model()\u001b[39;00m\n\u001b[0;32m     18\u001b[0m \n\u001b[0;32m     19\u001b[0m \u001b[38;5;66;03m# Train the model\u001b[39;00m\n\u001b[1;32m---> 20\u001b[0m model\u001b[38;5;241m.\u001b[39mfit(X_train, y_train)\n\u001b[0;32m     22\u001b[0m \u001b[38;5;66;03m# Evaluate the model on the validation set\u001b[39;00m\n\u001b[0;32m     23\u001b[0m score \u001b[38;5;241m=\u001b[39m r2_score(y_val, model\u001b[38;5;241m.\u001b[39mpredict(X_val))\n",
      "File \u001b[1;32mD:\\anaconda3\\Lib\\site-packages\\sklearn\\base.py:1473\u001b[0m, in \u001b[0;36m_fit_context.<locals>.decorator.<locals>.wrapper\u001b[1;34m(estimator, *args, **kwargs)\u001b[0m\n\u001b[0;32m   1466\u001b[0m     estimator\u001b[38;5;241m.\u001b[39m_validate_params()\n\u001b[0;32m   1468\u001b[0m \u001b[38;5;28;01mwith\u001b[39;00m config_context(\n\u001b[0;32m   1469\u001b[0m     skip_parameter_validation\u001b[38;5;241m=\u001b[39m(\n\u001b[0;32m   1470\u001b[0m         prefer_skip_nested_validation \u001b[38;5;129;01mor\u001b[39;00m global_skip_validation\n\u001b[0;32m   1471\u001b[0m     )\n\u001b[0;32m   1472\u001b[0m ):\n\u001b[1;32m-> 1473\u001b[0m     \u001b[38;5;28;01mreturn\u001b[39;00m fit_method(estimator, \u001b[38;5;241m*\u001b[39margs, \u001b[38;5;241m*\u001b[39m\u001b[38;5;241m*\u001b[39mkwargs)\n",
      "File \u001b[1;32mD:\\anaconda3\\Lib\\site-packages\\sklearn\\ensemble\\_forest.py:489\u001b[0m, in \u001b[0;36mBaseForest.fit\u001b[1;34m(self, X, y, sample_weight)\u001b[0m\n\u001b[0;32m    478\u001b[0m trees \u001b[38;5;241m=\u001b[39m [\n\u001b[0;32m    479\u001b[0m     \u001b[38;5;28mself\u001b[39m\u001b[38;5;241m.\u001b[39m_make_estimator(append\u001b[38;5;241m=\u001b[39m\u001b[38;5;28;01mFalse\u001b[39;00m, random_state\u001b[38;5;241m=\u001b[39mrandom_state)\n\u001b[0;32m    480\u001b[0m     \u001b[38;5;28;01mfor\u001b[39;00m i \u001b[38;5;129;01min\u001b[39;00m \u001b[38;5;28mrange\u001b[39m(n_more_estimators)\n\u001b[0;32m    481\u001b[0m ]\n\u001b[0;32m    483\u001b[0m \u001b[38;5;66;03m# Parallel loop: we prefer the threading backend as the Cython code\u001b[39;00m\n\u001b[0;32m    484\u001b[0m \u001b[38;5;66;03m# for fitting the trees is internally releasing the Python GIL\u001b[39;00m\n\u001b[0;32m    485\u001b[0m \u001b[38;5;66;03m# making threading more efficient than multiprocessing in\u001b[39;00m\n\u001b[0;32m    486\u001b[0m \u001b[38;5;66;03m# that case. However, for joblib 0.12+ we respect any\u001b[39;00m\n\u001b[0;32m    487\u001b[0m \u001b[38;5;66;03m# parallel_backend contexts set at a higher level,\u001b[39;00m\n\u001b[0;32m    488\u001b[0m \u001b[38;5;66;03m# since correctness does not rely on using threads.\u001b[39;00m\n\u001b[1;32m--> 489\u001b[0m trees \u001b[38;5;241m=\u001b[39m Parallel(\n\u001b[0;32m    490\u001b[0m     n_jobs\u001b[38;5;241m=\u001b[39m\u001b[38;5;28mself\u001b[39m\u001b[38;5;241m.\u001b[39mn_jobs,\n\u001b[0;32m    491\u001b[0m     verbose\u001b[38;5;241m=\u001b[39m\u001b[38;5;28mself\u001b[39m\u001b[38;5;241m.\u001b[39mverbose,\n\u001b[0;32m    492\u001b[0m     prefer\u001b[38;5;241m=\u001b[39m\u001b[38;5;124m\"\u001b[39m\u001b[38;5;124mthreads\u001b[39m\u001b[38;5;124m\"\u001b[39m,\n\u001b[0;32m    493\u001b[0m )(\n\u001b[0;32m    494\u001b[0m     delayed(_parallel_build_trees)(\n\u001b[0;32m    495\u001b[0m         t,\n\u001b[0;32m    496\u001b[0m         \u001b[38;5;28mself\u001b[39m\u001b[38;5;241m.\u001b[39mbootstrap,\n\u001b[0;32m    497\u001b[0m         X,\n\u001b[0;32m    498\u001b[0m         y,\n\u001b[0;32m    499\u001b[0m         sample_weight,\n\u001b[0;32m    500\u001b[0m         i,\n\u001b[0;32m    501\u001b[0m         \u001b[38;5;28mlen\u001b[39m(trees),\n\u001b[0;32m    502\u001b[0m         verbose\u001b[38;5;241m=\u001b[39m\u001b[38;5;28mself\u001b[39m\u001b[38;5;241m.\u001b[39mverbose,\n\u001b[0;32m    503\u001b[0m         class_weight\u001b[38;5;241m=\u001b[39m\u001b[38;5;28mself\u001b[39m\u001b[38;5;241m.\u001b[39mclass_weight,\n\u001b[0;32m    504\u001b[0m         n_samples_bootstrap\u001b[38;5;241m=\u001b[39mn_samples_bootstrap,\n\u001b[0;32m    505\u001b[0m         missing_values_in_feature_mask\u001b[38;5;241m=\u001b[39mmissing_values_in_feature_mask,\n\u001b[0;32m    506\u001b[0m     )\n\u001b[0;32m    507\u001b[0m     \u001b[38;5;28;01mfor\u001b[39;00m i, t \u001b[38;5;129;01min\u001b[39;00m \u001b[38;5;28menumerate\u001b[39m(trees)\n\u001b[0;32m    508\u001b[0m )\n\u001b[0;32m    510\u001b[0m \u001b[38;5;66;03m# Collect newly grown trees\u001b[39;00m\n\u001b[0;32m    511\u001b[0m \u001b[38;5;28mself\u001b[39m\u001b[38;5;241m.\u001b[39mestimators_\u001b[38;5;241m.\u001b[39mextend(trees)\n",
      "File \u001b[1;32mD:\\anaconda3\\Lib\\site-packages\\sklearn\\utils\\parallel.py:74\u001b[0m, in \u001b[0;36mParallel.__call__\u001b[1;34m(self, iterable)\u001b[0m\n\u001b[0;32m     69\u001b[0m config \u001b[38;5;241m=\u001b[39m get_config()\n\u001b[0;32m     70\u001b[0m iterable_with_config \u001b[38;5;241m=\u001b[39m (\n\u001b[0;32m     71\u001b[0m     (_with_config(delayed_func, config), args, kwargs)\n\u001b[0;32m     72\u001b[0m     \u001b[38;5;28;01mfor\u001b[39;00m delayed_func, args, kwargs \u001b[38;5;129;01min\u001b[39;00m iterable\n\u001b[0;32m     73\u001b[0m )\n\u001b[1;32m---> 74\u001b[0m \u001b[38;5;28;01mreturn\u001b[39;00m \u001b[38;5;28msuper\u001b[39m()\u001b[38;5;241m.\u001b[39m\u001b[38;5;21m__call__\u001b[39m(iterable_with_config)\n",
      "File \u001b[1;32mD:\\anaconda3\\Lib\\site-packages\\joblib\\parallel.py:1918\u001b[0m, in \u001b[0;36mParallel.__call__\u001b[1;34m(self, iterable)\u001b[0m\n\u001b[0;32m   1916\u001b[0m     output \u001b[38;5;241m=\u001b[39m \u001b[38;5;28mself\u001b[39m\u001b[38;5;241m.\u001b[39m_get_sequential_output(iterable)\n\u001b[0;32m   1917\u001b[0m     \u001b[38;5;28mnext\u001b[39m(output)\n\u001b[1;32m-> 1918\u001b[0m     \u001b[38;5;28;01mreturn\u001b[39;00m output \u001b[38;5;28;01mif\u001b[39;00m \u001b[38;5;28mself\u001b[39m\u001b[38;5;241m.\u001b[39mreturn_generator \u001b[38;5;28;01melse\u001b[39;00m \u001b[38;5;28mlist\u001b[39m(output)\n\u001b[0;32m   1920\u001b[0m \u001b[38;5;66;03m# Let's create an ID that uniquely identifies the current call. If the\u001b[39;00m\n\u001b[0;32m   1921\u001b[0m \u001b[38;5;66;03m# call is interrupted early and that the same instance is immediately\u001b[39;00m\n\u001b[0;32m   1922\u001b[0m \u001b[38;5;66;03m# re-used, this id will be used to prevent workers that were\u001b[39;00m\n\u001b[0;32m   1923\u001b[0m \u001b[38;5;66;03m# concurrently finalizing a task from the previous call to run the\u001b[39;00m\n\u001b[0;32m   1924\u001b[0m \u001b[38;5;66;03m# callback.\u001b[39;00m\n\u001b[0;32m   1925\u001b[0m \u001b[38;5;28;01mwith\u001b[39;00m \u001b[38;5;28mself\u001b[39m\u001b[38;5;241m.\u001b[39m_lock:\n",
      "File \u001b[1;32mD:\\anaconda3\\Lib\\site-packages\\joblib\\parallel.py:1847\u001b[0m, in \u001b[0;36mParallel._get_sequential_output\u001b[1;34m(self, iterable)\u001b[0m\n\u001b[0;32m   1845\u001b[0m \u001b[38;5;28mself\u001b[39m\u001b[38;5;241m.\u001b[39mn_dispatched_batches \u001b[38;5;241m+\u001b[39m\u001b[38;5;241m=\u001b[39m \u001b[38;5;241m1\u001b[39m\n\u001b[0;32m   1846\u001b[0m \u001b[38;5;28mself\u001b[39m\u001b[38;5;241m.\u001b[39mn_dispatched_tasks \u001b[38;5;241m+\u001b[39m\u001b[38;5;241m=\u001b[39m \u001b[38;5;241m1\u001b[39m\n\u001b[1;32m-> 1847\u001b[0m res \u001b[38;5;241m=\u001b[39m func(\u001b[38;5;241m*\u001b[39margs, \u001b[38;5;241m*\u001b[39m\u001b[38;5;241m*\u001b[39mkwargs)\n\u001b[0;32m   1848\u001b[0m \u001b[38;5;28mself\u001b[39m\u001b[38;5;241m.\u001b[39mn_completed_tasks \u001b[38;5;241m+\u001b[39m\u001b[38;5;241m=\u001b[39m \u001b[38;5;241m1\u001b[39m\n\u001b[0;32m   1849\u001b[0m \u001b[38;5;28mself\u001b[39m\u001b[38;5;241m.\u001b[39mprint_progress()\n",
      "File \u001b[1;32mD:\\anaconda3\\Lib\\site-packages\\sklearn\\utils\\parallel.py:136\u001b[0m, in \u001b[0;36m_FuncWrapper.__call__\u001b[1;34m(self, *args, **kwargs)\u001b[0m\n\u001b[0;32m    134\u001b[0m     config \u001b[38;5;241m=\u001b[39m {}\n\u001b[0;32m    135\u001b[0m \u001b[38;5;28;01mwith\u001b[39;00m config_context(\u001b[38;5;241m*\u001b[39m\u001b[38;5;241m*\u001b[39mconfig):\n\u001b[1;32m--> 136\u001b[0m     \u001b[38;5;28;01mreturn\u001b[39;00m \u001b[38;5;28mself\u001b[39m\u001b[38;5;241m.\u001b[39mfunction(\u001b[38;5;241m*\u001b[39margs, \u001b[38;5;241m*\u001b[39m\u001b[38;5;241m*\u001b[39mkwargs)\n",
      "File \u001b[1;32mD:\\anaconda3\\Lib\\site-packages\\sklearn\\ensemble\\_forest.py:192\u001b[0m, in \u001b[0;36m_parallel_build_trees\u001b[1;34m(tree, bootstrap, X, y, sample_weight, tree_idx, n_trees, verbose, class_weight, n_samples_bootstrap, missing_values_in_feature_mask)\u001b[0m\n\u001b[0;32m    189\u001b[0m     \u001b[38;5;28;01melif\u001b[39;00m class_weight \u001b[38;5;241m==\u001b[39m \u001b[38;5;124m\"\u001b[39m\u001b[38;5;124mbalanced_subsample\u001b[39m\u001b[38;5;124m\"\u001b[39m:\n\u001b[0;32m    190\u001b[0m         curr_sample_weight \u001b[38;5;241m*\u001b[39m\u001b[38;5;241m=\u001b[39m compute_sample_weight(\u001b[38;5;124m\"\u001b[39m\u001b[38;5;124mbalanced\u001b[39m\u001b[38;5;124m\"\u001b[39m, y, indices\u001b[38;5;241m=\u001b[39mindices)\n\u001b[1;32m--> 192\u001b[0m     tree\u001b[38;5;241m.\u001b[39m_fit(\n\u001b[0;32m    193\u001b[0m         X,\n\u001b[0;32m    194\u001b[0m         y,\n\u001b[0;32m    195\u001b[0m         sample_weight\u001b[38;5;241m=\u001b[39mcurr_sample_weight,\n\u001b[0;32m    196\u001b[0m         check_input\u001b[38;5;241m=\u001b[39m\u001b[38;5;28;01mFalse\u001b[39;00m,\n\u001b[0;32m    197\u001b[0m         missing_values_in_feature_mask\u001b[38;5;241m=\u001b[39mmissing_values_in_feature_mask,\n\u001b[0;32m    198\u001b[0m     )\n\u001b[0;32m    199\u001b[0m \u001b[38;5;28;01melse\u001b[39;00m:\n\u001b[0;32m    200\u001b[0m     tree\u001b[38;5;241m.\u001b[39m_fit(\n\u001b[0;32m    201\u001b[0m         X,\n\u001b[0;32m    202\u001b[0m         y,\n\u001b[1;32m   (...)\u001b[0m\n\u001b[0;32m    205\u001b[0m         missing_values_in_feature_mask\u001b[38;5;241m=\u001b[39mmissing_values_in_feature_mask,\n\u001b[0;32m    206\u001b[0m     )\n",
      "File \u001b[1;32mD:\\anaconda3\\Lib\\site-packages\\sklearn\\tree\\_classes.py:472\u001b[0m, in \u001b[0;36mBaseDecisionTree._fit\u001b[1;34m(self, X, y, sample_weight, check_input, missing_values_in_feature_mask)\u001b[0m\n\u001b[0;32m    461\u001b[0m \u001b[38;5;28;01melse\u001b[39;00m:\n\u001b[0;32m    462\u001b[0m     builder \u001b[38;5;241m=\u001b[39m BestFirstTreeBuilder(\n\u001b[0;32m    463\u001b[0m         splitter,\n\u001b[0;32m    464\u001b[0m         min_samples_split,\n\u001b[1;32m   (...)\u001b[0m\n\u001b[0;32m    469\u001b[0m         \u001b[38;5;28mself\u001b[39m\u001b[38;5;241m.\u001b[39mmin_impurity_decrease,\n\u001b[0;32m    470\u001b[0m     )\n\u001b[1;32m--> 472\u001b[0m builder\u001b[38;5;241m.\u001b[39mbuild(\u001b[38;5;28mself\u001b[39m\u001b[38;5;241m.\u001b[39mtree_, X, y, sample_weight, missing_values_in_feature_mask)\n\u001b[0;32m    474\u001b[0m \u001b[38;5;28;01mif\u001b[39;00m \u001b[38;5;28mself\u001b[39m\u001b[38;5;241m.\u001b[39mn_outputs_ \u001b[38;5;241m==\u001b[39m \u001b[38;5;241m1\u001b[39m \u001b[38;5;129;01mand\u001b[39;00m is_classifier(\u001b[38;5;28mself\u001b[39m):\n\u001b[0;32m    475\u001b[0m     \u001b[38;5;28mself\u001b[39m\u001b[38;5;241m.\u001b[39mn_classes_ \u001b[38;5;241m=\u001b[39m \u001b[38;5;28mself\u001b[39m\u001b[38;5;241m.\u001b[39mn_classes_[\u001b[38;5;241m0\u001b[39m]\n",
      "\u001b[1;31mKeyboardInterrupt\u001b[0m: "
     ]
    }
   ],
   "source": [
    "rf = RandomForestRegressor(n_estimators=500)\n",
    "rf.fit(xtrain_pca, ytrain)\n",
    "evaluate_r2(xtrain_pca, ytrain, rf)"
   ]
  },
  {
   "cell_type": "markdown",
   "id": "3813acbd-0d66-43fe-bb80-5fffeaa1a9b3",
   "metadata": {},
   "source": [
    "# try to get rid of overfitting - restart from here"
   ]
  },
  {
   "cell_type": "code",
   "execution_count": null,
   "id": "ca2fad8e-f7dd-442d-8fc3-0c27b07c1a46",
   "metadata": {},
   "outputs": [],
   "source": [
    "r2_score(ytrain,rf.predict(xtrain_pca)) # accuracy on training data - tells overfitting "
   ]
  },
  {
   "cell_type": "code",
   "execution_count": null,
   "id": "bab054ce-1b8c-4f51-a4c4-f08ce1c9521a",
   "metadata": {},
   "outputs": [],
   "source": [
    "ytrain[0]"
   ]
  },
  {
   "cell_type": "code",
   "execution_count": null,
   "id": "db6eebf8-d655-4cb8-a955-f91a3fac6325",
   "metadata": {},
   "outputs": [],
   "source": [
    "rf.predict(xtrain_pca[0].reshape(1,-1))"
   ]
  },
  {
   "cell_type": "code",
   "execution_count": null,
   "id": "7b90e6d6-10e9-4b2e-a345-8e593f91a647",
   "metadata": {},
   "outputs": [],
   "source": [
    "# from sklearn.ensemble import RandomForestRegressor\n",
    "# from sklearn.model_selection import GridSearchCV\n",
    "# from sklearn.metrics import mean_squared_error\n",
    "\n",
    "# # Define the RandomForestRegressor model\n",
    "# rf = RandomForestRegressor(random_state=42)\n",
    "\n",
    "# # Define the hyperparameters grid you want to search\n",
    "# param_grid = {\n",
    "#     'n_estimators': [100, 200, 300],  # Number of trees in the forest\n",
    "#     'max_depth': [10, 20, 30, None],  # Maximum depth of the tree\n",
    "#     'max_features': [10, 20, 30, 50, 80, 90, 98],  # Number of features to consider when splitting a node\n",
    "# }\n",
    "\n",
    "# # Set up GridSearchCV with 5-fold cross-validation\n",
    "# grid_search = GridSearchCV(estimator=rf, param_grid=param_grid, cv=5, scoring='neg_mean_squared_error', verbose = 1)\n",
    "\n",
    "# # Fit GridSearchCV\n",
    "# grid_search.fit(xtrain_pca, ytrain) \n",
    "\n",
    "# # Get the best hyperparameters\n",
    "# best_params = grid_search.best_params_\n",
    "# print(f\"Best Hyperparameters: {best_params}\")\n",
    "\n",
    "# # Get the best model\n",
    "# best_rf = grid_search.best_estimator_\n",
    "\n",
    "# # Evaluate the model\n",
    "# # y_pred = best_rf.predict(xtest)  # Replace xtest with your test data\n",
    "# # mse = mean_squared_error(ytest, y_pred)  \n",
    "# # print(f\"Mean Squared Error on Test Data: {mse}\")\n"
   ]
  },
  {
   "cell_type": "code",
   "execution_count": null,
   "id": "5afcd858-58af-4c0c-a0bd-ee26c83f5fea",
   "metadata": {},
   "outputs": [],
   "source": [
    "evaluate_r2(xtrain_pca, ytrain, best_rf)"
   ]
  },
  {
   "cell_type": "code",
   "execution_count": null,
   "id": "89c4d87a-cffe-49d1-956d-52d10e627149",
   "metadata": {},
   "outputs": [],
   "source": [
    "r2_score(ytrain,best_rf.predict(xtrain_pca)) # accuracy on training data - tells overfitting "
   ]
  },
  {
   "cell_type": "code",
   "execution_count": null,
   "id": "9a626c0e-c23a-4673-b353-994af3e640dc",
   "metadata": {},
   "outputs": [],
   "source": [
    "df"
   ]
  },
  {
   "cell_type": "markdown",
   "id": "d3556b47-dd3f-4f17-9e22-4683db944333",
   "metadata": {},
   "source": [
    "### Inference uptil now - \n",
    "Even the great performing models are terrible when we are taking all the initiall columns of the dataset..\n",
    "lets reconsider how many columns do we actually need in the prediction"
   ]
  },
  {
   "cell_type": "code",
   "execution_count": null,
   "id": "822806d9-5c99-43df-bb02-5165345cdc90",
   "metadata": {},
   "outputs": [],
   "source": [
    "df2 = pd.read_csv(\"final_data.csv\")\n",
    "df2.info()"
   ]
  },
  {
   "cell_type": "markdown",
   "id": "e409906b-f47c-403a-a491-71b78bfe75ba",
   "metadata": {},
   "source": [
    "#### picking only some of the columns from the dataframe that might impact the salary column prediction"
   ]
  },
  {
   "cell_type": "code",
   "execution_count": 54,
   "id": "6f32cff3-3d1c-4986-bb85-cb736349b0f3",
   "metadata": {},
   "outputs": [],
   "source": [
    "import re\n",
    "locations = xtrain[[col for col in xtrain.columns if re.match(r'^location',col)]].reset_index(drop='first')\n",
    "company_name = xtrain[[col for col in xtrain.columns if re.match(r'^company_name',col)]].reset_index(drop='first')\n",
    "job_simp = xtrain[[col for col in xtrain.columns if re.match(r'^job_simp',col)]].reset_index(drop='first')\n",
    "skills = xtrain[[col for col in xtrain.columns if re.match(r'^skills',col)]].reset_index(drop='first')"
   ]
  },
  {
   "cell_type": "code",
   "execution_count": 56,
   "id": "8c75fff0-32f4-42d3-8d57-73515aa6516b",
   "metadata": {},
   "outputs": [
    {
     "data": {
      "text/html": [
       "<div>\n",
       "<style scoped>\n",
       "    .dataframe tbody tr th:only-of-type {\n",
       "        vertical-align: middle;\n",
       "    }\n",
       "\n",
       "    .dataframe tbody tr th {\n",
       "        vertical-align: top;\n",
       "    }\n",
       "\n",
       "    .dataframe thead th {\n",
       "        text-align: right;\n",
       "    }\n",
       "</style>\n",
       "<table border=\"1\" class=\"dataframe\">\n",
       "  <thead>\n",
       "    <tr style=\"text-align: right;\">\n",
       "      <th></th>\n",
       "      <th>location_ahmedabad</th>\n",
       "      <th>location_amritsar</th>\n",
       "      <th>location_bengaluru</th>\n",
       "      <th>location_bhubaneshwar</th>\n",
       "      <th>location_calcutta</th>\n",
       "      <th>location_chandigarh</th>\n",
       "      <th>location_chennai</th>\n",
       "      <th>location_cochin</th>\n",
       "      <th>location_coimbatore</th>\n",
       "      <th>location_delhi</th>\n",
       "      <th>...</th>\n",
       "      <th>location_nadu</th>\n",
       "      <th>location_noida</th>\n",
       "      <th>location_pune</th>\n",
       "      <th>location_remote</th>\n",
       "      <th>location_rājkot</th>\n",
       "      <th>location_salem</th>\n",
       "      <th>location_tamil</th>\n",
       "      <th>location_thiruvananthapuram</th>\n",
       "      <th>location_vadodara</th>\n",
       "      <th>location_visakhapatnam</th>\n",
       "    </tr>\n",
       "  </thead>\n",
       "  <tbody>\n",
       "    <tr>\n",
       "      <th>0</th>\n",
       "      <td>0</td>\n",
       "      <td>0</td>\n",
       "      <td>0</td>\n",
       "      <td>0</td>\n",
       "      <td>0</td>\n",
       "      <td>0</td>\n",
       "      <td>0</td>\n",
       "      <td>0</td>\n",
       "      <td>0</td>\n",
       "      <td>0</td>\n",
       "      <td>...</td>\n",
       "      <td>0</td>\n",
       "      <td>0</td>\n",
       "      <td>0</td>\n",
       "      <td>0</td>\n",
       "      <td>0</td>\n",
       "      <td>0</td>\n",
       "      <td>0</td>\n",
       "      <td>0</td>\n",
       "      <td>0</td>\n",
       "      <td>0</td>\n",
       "    </tr>\n",
       "    <tr>\n",
       "      <th>1</th>\n",
       "      <td>0</td>\n",
       "      <td>0</td>\n",
       "      <td>0</td>\n",
       "      <td>0</td>\n",
       "      <td>0</td>\n",
       "      <td>0</td>\n",
       "      <td>0</td>\n",
       "      <td>0</td>\n",
       "      <td>0</td>\n",
       "      <td>0</td>\n",
       "      <td>...</td>\n",
       "      <td>0</td>\n",
       "      <td>0</td>\n",
       "      <td>0</td>\n",
       "      <td>0</td>\n",
       "      <td>0</td>\n",
       "      <td>0</td>\n",
       "      <td>0</td>\n",
       "      <td>0</td>\n",
       "      <td>0</td>\n",
       "      <td>0</td>\n",
       "    </tr>\n",
       "    <tr>\n",
       "      <th>2</th>\n",
       "      <td>0</td>\n",
       "      <td>0</td>\n",
       "      <td>0</td>\n",
       "      <td>0</td>\n",
       "      <td>0</td>\n",
       "      <td>0</td>\n",
       "      <td>0</td>\n",
       "      <td>0</td>\n",
       "      <td>0</td>\n",
       "      <td>0</td>\n",
       "      <td>...</td>\n",
       "      <td>0</td>\n",
       "      <td>0</td>\n",
       "      <td>0</td>\n",
       "      <td>1</td>\n",
       "      <td>0</td>\n",
       "      <td>0</td>\n",
       "      <td>0</td>\n",
       "      <td>0</td>\n",
       "      <td>0</td>\n",
       "      <td>0</td>\n",
       "    </tr>\n",
       "    <tr>\n",
       "      <th>3</th>\n",
       "      <td>0</td>\n",
       "      <td>0</td>\n",
       "      <td>1</td>\n",
       "      <td>0</td>\n",
       "      <td>0</td>\n",
       "      <td>0</td>\n",
       "      <td>0</td>\n",
       "      <td>0</td>\n",
       "      <td>0</td>\n",
       "      <td>0</td>\n",
       "      <td>...</td>\n",
       "      <td>0</td>\n",
       "      <td>0</td>\n",
       "      <td>0</td>\n",
       "      <td>0</td>\n",
       "      <td>0</td>\n",
       "      <td>0</td>\n",
       "      <td>0</td>\n",
       "      <td>0</td>\n",
       "      <td>0</td>\n",
       "      <td>0</td>\n",
       "    </tr>\n",
       "    <tr>\n",
       "      <th>4</th>\n",
       "      <td>0</td>\n",
       "      <td>0</td>\n",
       "      <td>0</td>\n",
       "      <td>0</td>\n",
       "      <td>0</td>\n",
       "      <td>0</td>\n",
       "      <td>1</td>\n",
       "      <td>0</td>\n",
       "      <td>0</td>\n",
       "      <td>0</td>\n",
       "      <td>...</td>\n",
       "      <td>0</td>\n",
       "      <td>0</td>\n",
       "      <td>0</td>\n",
       "      <td>0</td>\n",
       "      <td>0</td>\n",
       "      <td>0</td>\n",
       "      <td>0</td>\n",
       "      <td>0</td>\n",
       "      <td>0</td>\n",
       "      <td>0</td>\n",
       "    </tr>\n",
       "  </tbody>\n",
       "</table>\n",
       "<p>5 rows × 27 columns</p>\n",
       "</div>"
      ],
      "text/plain": [
       "   location_ahmedabad  location_amritsar  location_bengaluru  \\\n",
       "0                   0                  0                   0   \n",
       "1                   0                  0                   0   \n",
       "2                   0                  0                   0   \n",
       "3                   0                  0                   1   \n",
       "4                   0                  0                   0   \n",
       "\n",
       "   location_bhubaneshwar  location_calcutta  location_chandigarh  \\\n",
       "0                      0                  0                    0   \n",
       "1                      0                  0                    0   \n",
       "2                      0                  0                    0   \n",
       "3                      0                  0                    0   \n",
       "4                      0                  0                    0   \n",
       "\n",
       "   location_chennai  location_cochin  location_coimbatore  location_delhi  \\\n",
       "0                 0                0                    0               0   \n",
       "1                 0                0                    0               0   \n",
       "2                 0                0                    0               0   \n",
       "3                 0                0                    0               0   \n",
       "4                 1                0                    0               0   \n",
       "\n",
       "   ...  location_nadu  location_noida  location_pune  location_remote  \\\n",
       "0  ...              0               0              0                0   \n",
       "1  ...              0               0              0                0   \n",
       "2  ...              0               0              0                1   \n",
       "3  ...              0               0              0                0   \n",
       "4  ...              0               0              0                0   \n",
       "\n",
       "   location_rājkot  location_salem  location_tamil  \\\n",
       "0                0               0               0   \n",
       "1                0               0               0   \n",
       "2                0               0               0   \n",
       "3                0               0               0   \n",
       "4                0               0               0   \n",
       "\n",
       "   location_thiruvananthapuram  location_vadodara  location_visakhapatnam  \n",
       "0                            0                  0                       0  \n",
       "1                            0                  0                       0  \n",
       "2                            0                  0                       0  \n",
       "3                            0                  0                       0  \n",
       "4                            0                  0                       0  \n",
       "\n",
       "[5 rows x 27 columns]"
      ]
     },
     "execution_count": 56,
     "metadata": {},
     "output_type": "execute_result"
    }
   ],
   "source": [
    "locations.head()"
   ]
  },
  {
   "cell_type": "code",
   "execution_count": 60,
   "id": "3267a20d-fe52-43b0-82b6-78b0b7d8ef96",
   "metadata": {},
   "outputs": [
    {
     "data": {
      "text/plain": [
       "RangeIndex(start=0, stop=173, step=1)"
      ]
     },
     "execution_count": 60,
     "metadata": {},
     "output_type": "execute_result"
    }
   ],
   "source": [
    "scaled_train_X.index"
   ]
  },
  {
   "cell_type": "markdown",
   "id": "35437d1a-6b93-4b41-b849-2dd819a74e1a",
   "metadata": {},
   "source": [
    "#### Note that we'll encode job_simp titles as one hot encoded labels to ensure each title stays together - if accuracy doesn't improve "
   ]
  },
  {
   "cell_type": "code",
   "execution_count": 65,
   "id": "a145afb0-19e6-4c76-a86a-bf3d2d0c9e7e",
   "metadata": {},
   "outputs": [],
   "source": [
    "rest_cols = xtrain[['employer_estimate', 'seniority']].reset_index(drop='first')"
   ]
  },
  {
   "cell_type": "code",
   "execution_count": 67,
   "id": "9145afe1-4136-4d23-a2dd-20acaa531418",
   "metadata": {},
   "outputs": [
    {
     "data": {
      "text/html": [
       "<div>\n",
       "<style scoped>\n",
       "    .dataframe tbody tr th:only-of-type {\n",
       "        vertical-align: middle;\n",
       "    }\n",
       "\n",
       "    .dataframe tbody tr th {\n",
       "        vertical-align: top;\n",
       "    }\n",
       "\n",
       "    .dataframe thead th {\n",
       "        text-align: right;\n",
       "    }\n",
       "</style>\n",
       "<table border=\"1\" class=\"dataframe\">\n",
       "  <thead>\n",
       "    <tr style=\"text-align: right;\">\n",
       "      <th></th>\n",
       "      <th>rating</th>\n",
       "      <th>age</th>\n",
       "    </tr>\n",
       "  </thead>\n",
       "  <tbody>\n",
       "    <tr>\n",
       "      <th>0</th>\n",
       "      <td>0.71875</td>\n",
       "      <td>0.558559</td>\n",
       "    </tr>\n",
       "    <tr>\n",
       "      <th>1</th>\n",
       "      <td>0.71875</td>\n",
       "      <td>0.489489</td>\n",
       "    </tr>\n",
       "    <tr>\n",
       "      <th>2</th>\n",
       "      <td>0.71875</td>\n",
       "      <td>0.180180</td>\n",
       "    </tr>\n",
       "    <tr>\n",
       "      <th>3</th>\n",
       "      <td>0.71875</td>\n",
       "      <td>0.180180</td>\n",
       "    </tr>\n",
       "    <tr>\n",
       "      <th>4</th>\n",
       "      <td>0.75000</td>\n",
       "      <td>0.072072</td>\n",
       "    </tr>\n",
       "    <tr>\n",
       "      <th>...</th>\n",
       "      <td>...</td>\n",
       "      <td>...</td>\n",
       "    </tr>\n",
       "    <tr>\n",
       "      <th>168</th>\n",
       "      <td>0.62500</td>\n",
       "      <td>0.210210</td>\n",
       "    </tr>\n",
       "    <tr>\n",
       "      <th>169</th>\n",
       "      <td>0.71875</td>\n",
       "      <td>0.180180</td>\n",
       "    </tr>\n",
       "    <tr>\n",
       "      <th>170</th>\n",
       "      <td>0.68750</td>\n",
       "      <td>0.027027</td>\n",
       "    </tr>\n",
       "    <tr>\n",
       "      <th>171</th>\n",
       "      <td>0.75000</td>\n",
       "      <td>0.072072</td>\n",
       "    </tr>\n",
       "    <tr>\n",
       "      <th>172</th>\n",
       "      <td>0.56250</td>\n",
       "      <td>0.000000</td>\n",
       "    </tr>\n",
       "  </tbody>\n",
       "</table>\n",
       "<p>173 rows × 2 columns</p>\n",
       "</div>"
      ],
      "text/plain": [
       "      rating       age\n",
       "0    0.71875  0.558559\n",
       "1    0.71875  0.489489\n",
       "2    0.71875  0.180180\n",
       "3    0.71875  0.180180\n",
       "4    0.75000  0.072072\n",
       "..       ...       ...\n",
       "168  0.62500  0.210210\n",
       "169  0.71875  0.180180\n",
       "170  0.68750  0.027027\n",
       "171  0.75000  0.072072\n",
       "172  0.56250  0.000000\n",
       "\n",
       "[173 rows x 2 columns]"
      ]
     },
     "execution_count": 67,
     "metadata": {},
     "output_type": "execute_result"
    }
   ],
   "source": [
    "scaled_train_X"
   ]
  },
  {
   "cell_type": "code",
   "execution_count": 420,
   "id": "a8d66cd6-74d5-409e-9833-a73f7c43249f",
   "metadata": {},
   "outputs": [
    {
     "data": {
      "text/html": [
       "<div>\n",
       "<style scoped>\n",
       "    .dataframe tbody tr th:only-of-type {\n",
       "        vertical-align: middle;\n",
       "    }\n",
       "\n",
       "    .dataframe tbody tr th {\n",
       "        vertical-align: top;\n",
       "    }\n",
       "\n",
       "    .dataframe thead th {\n",
       "        text-align: right;\n",
       "    }\n",
       "</style>\n",
       "<table border=\"1\" class=\"dataframe\">\n",
       "  <thead>\n",
       "    <tr style=\"text-align: right;\">\n",
       "      <th></th>\n",
       "      <th>employer_estimate</th>\n",
       "      <th>seniority</th>\n",
       "    </tr>\n",
       "  </thead>\n",
       "  <tbody>\n",
       "    <tr>\n",
       "      <th>employer_estimate</th>\n",
       "      <td>1.000000</td>\n",
       "      <td>0.074831</td>\n",
       "    </tr>\n",
       "    <tr>\n",
       "      <th>seniority</th>\n",
       "      <td>0.074831</td>\n",
       "      <td>1.000000</td>\n",
       "    </tr>\n",
       "  </tbody>\n",
       "</table>\n",
       "</div>"
      ],
      "text/plain": [
       "                   employer_estimate  seniority\n",
       "employer_estimate           1.000000   0.074831\n",
       "seniority                   0.074831   1.000000"
      ]
     },
     "execution_count": 420,
     "metadata": {},
     "output_type": "execute_result"
    }
   ],
   "source": [
    "rest_cols.corr()"
   ]
  },
  {
   "cell_type": "code",
   "execution_count": 376,
   "id": "9e075107-98c7-4766-9816-d76179bf394d",
   "metadata": {},
   "outputs": [
    {
     "data": {
      "text/plain": [
       "<Axes: >"
      ]
     },
     "execution_count": 376,
     "metadata": {},
     "output_type": "execute_result"
    },
    {
     "data": {
      "image/png": "[encoded data removed]",
      "text/plain": [
       "<Figure size 640x480 with 2 Axes>"
      ]
     },
     "metadata": {},
     "output_type": "display_data"
    }
   ],
   "source": [
    "sns.heatmap(rest_cols.corr())"
   ]
  },
  {
   "cell_type": "markdown",
   "id": "a679d606-3be9-4ec5-b1b7-d24ad3fb3d64",
   "metadata": {},
   "source": [
    "Merging all the extracted columns to form the data\n",
    "\n",
    "- If your goal is joining based on key columns: merge. (like sql joins that join on a common attribute)\n",
    "- If you’re just combining dataframes without key-based alignment: concat."
   ]
  },
  {
   "cell_type": "code",
   "execution_count": 69,
   "id": "acde077e-233a-4561-8f79-7b204a84ee83",
   "metadata": {},
   "outputs": [],
   "source": [
    "latest_df = pd.concat([scaled_train_X, rest_cols, locations, company_name, job_simp, skills], axis = 1)"
   ]
  },
  {
   "cell_type": "code",
   "execution_count": 71,
   "id": "ba53e5ad-0e81-463f-89ee-e03f0e0cbdd5",
   "metadata": {},
   "outputs": [
    {
     "data": {
      "text/plain": [
       "(173, 445)"
      ]
     },
     "execution_count": 71,
     "metadata": {},
     "output_type": "execute_result"
    }
   ],
   "source": [
    "latest_df.shape"
   ]
  },
  {
   "cell_type": "markdown",
   "id": "55ee0570-c463-4edf-ae2d-0f6a70218bd8",
   "metadata": {},
   "source": [
    "Making Predictions on the latest df"
   ]
  },
  {
   "cell_type": "code",
   "execution_count": 77,
   "id": "319032de-a8ad-4a7b-8596-1283c7bff71f",
   "metadata": {},
   "outputs": [
    {
     "data": {
      "text/plain": [
       "(91,)"
      ]
     },
     "execution_count": 77,
     "metadata": {},
     "output_type": "execute_result"
    }
   ],
   "source": [
    "# pca on this new data\n",
    "\n",
    "pca = PCA(n_components=0.95)\n",
    "x = pca.fit_transform(latest_df)\n",
    "pca.explained_variance_ratio_.shape"
   ]
  },
  {
   "cell_type": "code",
   "execution_count": 79,
   "id": "cdb9ba7a-064d-4739-b9fb-67dfff8d04a2",
   "metadata": {},
   "outputs": [
    {
     "data": {
      "text/plain": [
       "[<matplotlib.lines.Line2D at 0x2a0204abc20>]"
      ]
     },
     "execution_count": 79,
     "metadata": {},
     "output_type": "execute_result"
    },
    {
     "data": {
      "image/png": "[encoded data removed]",
      "text/plain": [
       "<Figure size 640x480 with 1 Axes>"
      ]
     },
     "metadata": {},
     "output_type": "display_data"
    }
   ],
   "source": [
    "plt.plot(np.cumsum(pca.explained_variance_ratio_))"
   ]
  },
  {
   "cell_type": "markdown",
   "id": "918b4dc7-c866-4d80-9e69-5c6376640306",
   "metadata": {},
   "source": [
    "## try asking for feature importance topic = start from here "
   ]
  },
  {
   "cell_type": "code",
   "execution_count": 85,
   "id": "b0bf7e67-1da1-43af-bcac-c89c70ea15be",
   "metadata": {},
   "outputs": [
    {
     "name": "stdout",
     "output_type": "stream",
     "text": [
      "Fitting 5 folds for each of 84 candidates, totalling 420 fits\n",
      "{'max_depth': 10, 'max_features': 10, 'n_estimators': 100}\n",
      "-0.18483621562422564\n"
     ]
    }
   ],
   "source": [
    "from sklearn.model_selection import GridSearchCV\n",
    "\n",
    "rf2 = RandomForestRegressor()\n",
    "\n",
    "param_grid = {\n",
    "    'n_estimators': [100, 200, 300],  # Number of trees in the forest\n",
    "    'max_depth': [10, 20, 30, None],  # Maximum depth of the tree\n",
    "    'max_features': [10, 20, 30, 50, 80, 90, 91],  # Number of features to consider when splitting a node\n",
    "}\n",
    "\n",
    "grid = GridSearchCV(estimator = rf2, scoring = 'r2', cv = 5, verbose = 1, param_grid = param_grid)\n",
    "grid.fit(x, ytrain)\n",
    "print(grid.best_params_)\n",
    "print(grid.best_score_)"
   ]
  },
  {
   "cell_type": "code",
   "execution_count": 87,
   "id": "43230c8e-caf8-498e-b9e9-e46183707939",
   "metadata": {},
   "outputs": [],
   "source": [
    "required_rf = grid.best_estimator_"
   ]
  },
  {
   "cell_type": "code",
   "execution_count": 101,
   "id": "a6c4f896-78af-403e-a5b4-ca38b9208bf9",
   "metadata": {},
   "outputs": [],
   "source": [
    "feature_imp = np.sort(required_rf.feature_importances_)"
   ]
  },
  {
   "cell_type": "code",
   "execution_count": 103,
   "id": "2c013dab-ce1e-421d-bd37-e3fe3c8c5604",
   "metadata": {},
   "outputs": [],
   "source": [
    "sorted_ind = np.argsort(feature_imp)"
   ]
  },
  {
   "cell_type": "code",
   "execution_count": 135,
   "id": "cc6ee49f-b0f3-435b-9f07-72e5ebf87579",
   "metadata": {},
   "outputs": [
    {
     "data": {
      "text/plain": [
       "(91,)"
      ]
     },
     "execution_count": 135,
     "metadata": {},
     "output_type": "execute_result"
    }
   ],
   "source": [
    "feature_imp[::-1].shape"
   ]
  },
  {
   "cell_type": "code",
   "execution_count": 125,
   "id": "9963199e-2a58-4260-a683-75fea61469b0",
   "metadata": {},
   "outputs": [
    {
     "data": {
      "text/plain": [
       "array([0.05924947, 0.0499558 , 0.03700567, 0.03155854, 0.02637153,\n",
       "       0.0233261 , 0.02193218, 0.02172748, 0.02161167, 0.0174955 ])"
      ]
     },
     "execution_count": 125,
     "metadata": {},
     "output_type": "execute_result"
    }
   ],
   "source": [
    "feature_imp[::-1][:10]"
   ]
  },
  {
   "cell_type": "code",
   "execution_count": 131,
   "id": "b28d4eda-38a6-4b7d-891a-ca9658688b98",
   "metadata": {},
   "outputs": [
    {
     "data": {
      "text/plain": [
       "(173, 91)"
      ]
     },
     "execution_count": 131,
     "metadata": {},
     "output_type": "execute_result"
    }
   ],
   "source": [
    "x.shape"
   ]
  },
  {
   "cell_type": "code",
   "execution_count": 143,
   "id": "39694339-ca31-4ed7-9903-9d3e5266331c",
   "metadata": {},
   "outputs": [
    {
     "data": {
      "text/plain": [
       "(173, 10)"
      ]
     },
     "execution_count": 143,
     "metadata": {},
     "output_type": "execute_result"
    }
   ],
   "source": [
    "x[:,sorted_ind[::-1][:10]].shape"
   ]
  },
  {
   "cell_type": "code",
   "execution_count": 149,
   "id": "722c251f-6bf5-4be7-8f7f-99a8a072dc8d",
   "metadata": {},
   "outputs": [
    {
     "data": {
      "text/plain": [
       "0.8275526498892072"
      ]
     },
     "execution_count": 149,
     "metadata": {},
     "output_type": "execute_result"
    }
   ],
   "source": [
    "required_rf.fit(x, ytrain)\n",
    "r2_score(ytrain, required_rf.predict(x))"
   ]
  },
  {
   "cell_type": "code",
   "execution_count": 155,
   "id": "1a524aa8-44df-40da-ad19-4bc52f5b890b",
   "metadata": {},
   "outputs": [
    {
     "data": {
      "text/plain": [
       "102135.53553290122"
      ]
     },
     "execution_count": 155,
     "metadata": {},
     "output_type": "execute_result"
    }
   ],
   "source": [
    "mean_absolute_error(ytrain, required_rf.predict(x))"
   ]
  },
  {
   "cell_type": "code",
   "execution_count": 183,
   "id": "31fc69bb-53d0-4688-b769-0d59b06e9e23",
   "metadata": {},
   "outputs": [
    {
     "name": "stdout",
     "output_type": "stream",
     "text": [
      "Cross-validation r2 scores: [-0.1414473834388914, -0.46152388177102566, -0.05046789414328634, 0.03026360011367124, -0.28835697733311294]\n",
      "Average r2 score: -0.18230650731452902\n"
     ]
    }
   ],
   "source": [
    "evaluate_r2(x, ytrain, required_rf)"
   ]
  },
  {
   "cell_type": "code",
   "execution_count": 181,
   "id": "de7cb924-a1f4-4025-bca5-220fe254428c",
   "metadata": {},
   "outputs": [],
   "source": [
    "# fitting again after selecting top 10 features according to the feature importances calculated above\n",
    "# but the results are not at all improving!"
   ]
  },
  {
   "cell_type": "code",
   "execution_count": 171,
   "id": "395d0edd-26c7-498f-850d-cf29dbb39076",
   "metadata": {},
   "outputs": [
    {
     "data": {
      "text/plain": [
       "0.8148733264740714"
      ]
     },
     "execution_count": 171,
     "metadata": {},
     "output_type": "execute_result"
    }
   ],
   "source": [
    "xtrimmed = x[:,sorted_ind[::-1][:10]]\n",
    "required_rf.fit(xtrimmed,ytrain)\n",
    "r2_score(ytrain, required_rf.predict(xtrimmed))"
   ]
  },
  {
   "cell_type": "code",
   "execution_count": 173,
   "id": "4d681587-4826-4059-9211-35c42709973d",
   "metadata": {},
   "outputs": [
    {
     "data": {
      "text/plain": [
       "106474.45101304064"
      ]
     },
     "execution_count": 173,
     "metadata": {},
     "output_type": "execute_result"
    }
   ],
   "source": [
    "mean_absolute_error(ytrain, required_rf.predict(xtrimmed))"
   ]
  },
  {
   "cell_type": "code",
   "execution_count": 179,
   "id": "a09e5dc9-ebd1-4a03-b5bf-98da6d4672a7",
   "metadata": {},
   "outputs": [
    {
     "name": "stdout",
     "output_type": "stream",
     "text": [
      "Cross-validation r2 scores: [-2.0879379961528874, -0.5254473033846059, 0.0007040496388572848, -0.1075888548061803, -0.762176802494408]\n",
      "Average r2 score: -0.696489381439845\n"
     ]
    }
   ],
   "source": [
    "evaluate_r2(xtrimmed, ytrain, required_rf)"
   ]
  },
  {
   "cell_type": "markdown",
   "id": "7a118ea7-ac04-4aa9-9847-8a9c7e3a66ec",
   "metadata": {},
   "source": [
    "### ANN "
   ]
  },
  {
   "cell_type": "code",
   "execution_count": 29,
   "id": "6de4ce2c-fefa-43da-b8cc-1ac5e2ae76de",
   "metadata": {},
   "outputs": [],
   "source": [
    "#pip install --upgrade pip\n"
   ]
  },
  {
   "cell_type": "code",
   "execution_count": 30,
   "id": "1497a00b-f9f8-41d2-952a-24be7bbb3746",
   "metadata": {},
   "outputs": [],
   "source": [
    "#!pip install tensorflow"
   ]
  },
  {
   "cell_type": "code",
   "execution_count": 235,
   "id": "1ad4d6b7-86b7-4901-9043-df2f0392e6ca",
   "metadata": {},
   "outputs": [],
   "source": [
    "from tensorflow import keras\n",
    "from keras import Sequential\n",
    "from keras.layers import Dense"
   ]
  },
  {
   "cell_type": "code",
   "execution_count": 239,
   "id": "1a5ec2a2-d904-4a62-b439-7d3e480eb48f",
   "metadata": {},
   "outputs": [
    {
     "data": {
      "text/plain": [
       "(173, 1673)"
      ]
     },
     "execution_count": 239,
     "metadata": {},
     "output_type": "execute_result"
    }
   ],
   "source": [
    "xtrain.shape"
   ]
  },
  {
   "cell_type": "code",
   "execution_count": 269,
   "id": "36470f0a-16ce-4deb-b17c-43721366eb17",
   "metadata": {},
   "outputs": [
    {
     "name": "stderr",
     "output_type": "stream",
     "text": [
      "D:\\anaconda3\\Lib\\site-packages\\keras\\src\\layers\\core\\dense.py:87: UserWarning: Do not pass an `input_shape`/`input_dim` argument to a layer. When using Sequential models, prefer using an `Input(shape)` object as the first layer in the model instead.\n",
      "  super().__init__(activity_regularizer=activity_regularizer, **kwargs)\n"
     ]
    },
    {
     "data": {
      "text/html": [
       "<pre style=\"white-space:pre;overflow-x:auto;line-height:normal;font-family:Menlo,'DejaVu Sans Mono',consolas,'Courier New',monospace\"><span style=\"font-weight: bold\">Model: \"sequential_1\"</span>\n",
       "</pre>\n"
      ],
      "text/plain": [
       "\u001b[1mModel: \"sequential_1\"\u001b[0m\n"
      ]
     },
     "metadata": {},
     "output_type": "display_data"
    },
    {
     "data": {
      "text/html": [
       "<pre style=\"white-space:pre;overflow-x:auto;line-height:normal;font-family:Menlo,'DejaVu Sans Mono',consolas,'Courier New',monospace\">┏━━━━━━━━━━━━━━━━━━━━━━━━━━━━━━━━━━━━━━┳━━━━━━━━━━━━━━━━━━━━━━━━━━━━━┳━━━━━━━━━━━━━━━━━┓\n",
       "┃<span style=\"font-weight: bold\"> Layer (type)                         </span>┃<span style=\"font-weight: bold\"> Output Shape                </span>┃<span style=\"font-weight: bold\">         Param # </span>┃\n",
       "┡━━━━━━━━━━━━━━━━━━━━━━━━━━━━━━━━━━━━━━╇━━━━━━━━━━━━━━━━━━━━━━━━━━━━━╇━━━━━━━━━━━━━━━━━┩\n",
       "│ dense_4 (<span style=\"color: #0087ff; text-decoration-color: #0087ff\">Dense</span>)                      │ (<span style=\"color: #00d7ff; text-decoration-color: #00d7ff\">None</span>, <span style=\"color: #00af00; text-decoration-color: #00af00\">256</span>)                 │          <span style=\"color: #00af00; text-decoration-color: #00af00\">37,120</span> │\n",
       "├──────────────────────────────────────┼─────────────────────────────┼─────────────────┤\n",
       "│ dense_5 (<span style=\"color: #0087ff; text-decoration-color: #0087ff\">Dense</span>)                      │ (<span style=\"color: #00d7ff; text-decoration-color: #00d7ff\">None</span>, <span style=\"color: #00af00; text-decoration-color: #00af00\">256</span>)                 │          <span style=\"color: #00af00; text-decoration-color: #00af00\">65,792</span> │\n",
       "├──────────────────────────────────────┼─────────────────────────────┼─────────────────┤\n",
       "│ dense_6 (<span style=\"color: #0087ff; text-decoration-color: #0087ff\">Dense</span>)                      │ (<span style=\"color: #00d7ff; text-decoration-color: #00d7ff\">None</span>, <span style=\"color: #00af00; text-decoration-color: #00af00\">128</span>)                 │          <span style=\"color: #00af00; text-decoration-color: #00af00\">32,896</span> │\n",
       "├──────────────────────────────────────┼─────────────────────────────┼─────────────────┤\n",
       "│ dense_7 (<span style=\"color: #0087ff; text-decoration-color: #0087ff\">Dense</span>)                      │ (<span style=\"color: #00d7ff; text-decoration-color: #00d7ff\">None</span>, <span style=\"color: #00af00; text-decoration-color: #00af00\">1</span>)                   │             <span style=\"color: #00af00; text-decoration-color: #00af00\">129</span> │\n",
       "└──────────────────────────────────────┴─────────────────────────────┴─────────────────┘\n",
       "</pre>\n"
      ],
      "text/plain": [
       "┏━━━━━━━━━━━━━━━━━━━━━━━━━━━━━━━━━━━━━━┳━━━━━━━━━━━━━━━━━━━━━━━━━━━━━┳━━━━━━━━━━━━━━━━━┓\n",
       "┃\u001b[1m \u001b[0m\u001b[1mLayer (type)                        \u001b[0m\u001b[1m \u001b[0m┃\u001b[1m \u001b[0m\u001b[1mOutput Shape               \u001b[0m\u001b[1m \u001b[0m┃\u001b[1m \u001b[0m\u001b[1m        Param #\u001b[0m\u001b[1m \u001b[0m┃\n",
       "┡━━━━━━━━━━━━━━━━━━━━━━━━━━━━━━━━━━━━━━╇━━━━━━━━━━━━━━━━━━━━━━━━━━━━━╇━━━━━━━━━━━━━━━━━┩\n",
       "│ dense_4 (\u001b[38;5;33mDense\u001b[0m)                      │ (\u001b[38;5;45mNone\u001b[0m, \u001b[38;5;34m256\u001b[0m)                 │          \u001b[38;5;34m37,120\u001b[0m │\n",
       "├──────────────────────────────────────┼─────────────────────────────┼─────────────────┤\n",
       "│ dense_5 (\u001b[38;5;33mDense\u001b[0m)                      │ (\u001b[38;5;45mNone\u001b[0m, \u001b[38;5;34m256\u001b[0m)                 │          \u001b[38;5;34m65,792\u001b[0m │\n",
       "├──────────────────────────────────────┼─────────────────────────────┼─────────────────┤\n",
       "│ dense_6 (\u001b[38;5;33mDense\u001b[0m)                      │ (\u001b[38;5;45mNone\u001b[0m, \u001b[38;5;34m128\u001b[0m)                 │          \u001b[38;5;34m32,896\u001b[0m │\n",
       "├──────────────────────────────────────┼─────────────────────────────┼─────────────────┤\n",
       "│ dense_7 (\u001b[38;5;33mDense\u001b[0m)                      │ (\u001b[38;5;45mNone\u001b[0m, \u001b[38;5;34m1\u001b[0m)                   │             \u001b[38;5;34m129\u001b[0m │\n",
       "└──────────────────────────────────────┴─────────────────────────────┴─────────────────┘\n"
      ]
     },
     "metadata": {},
     "output_type": "display_data"
    },
    {
     "data": {
      "text/html": [
       "<pre style=\"white-space:pre;overflow-x:auto;line-height:normal;font-family:Menlo,'DejaVu Sans Mono',consolas,'Courier New',monospace\"><span style=\"font-weight: bold\"> Total params: </span><span style=\"color: #00af00; text-decoration-color: #00af00\">135,937</span> (531.00 KB)\n",
       "</pre>\n"
      ],
      "text/plain": [
       "\u001b[1m Total params: \u001b[0m\u001b[38;5;34m135,937\u001b[0m (531.00 KB)\n"
      ]
     },
     "metadata": {},
     "output_type": "display_data"
    },
    {
     "data": {
      "text/html": [
       "<pre style=\"white-space:pre;overflow-x:auto;line-height:normal;font-family:Menlo,'DejaVu Sans Mono',consolas,'Courier New',monospace\"><span style=\"font-weight: bold\"> Trainable params: </span><span style=\"color: #00af00; text-decoration-color: #00af00\">135,937</span> (531.00 KB)\n",
       "</pre>\n"
      ],
      "text/plain": [
       "\u001b[1m Trainable params: \u001b[0m\u001b[38;5;34m135,937\u001b[0m (531.00 KB)\n"
      ]
     },
     "metadata": {},
     "output_type": "display_data"
    },
    {
     "data": {
      "text/html": [
       "<pre style=\"white-space:pre;overflow-x:auto;line-height:normal;font-family:Menlo,'DejaVu Sans Mono',consolas,'Courier New',monospace\"><span style=\"font-weight: bold\"> Non-trainable params: </span><span style=\"color: #00af00; text-decoration-color: #00af00\">0</span> (0.00 B)\n",
       "</pre>\n"
      ],
      "text/plain": [
       "\u001b[1m Non-trainable params: \u001b[0m\u001b[38;5;34m0\u001b[0m (0.00 B)\n"
      ]
     },
     "metadata": {},
     "output_type": "display_data"
    }
   ],
   "source": [
    "# applying ANN as our first model because of the huge dimensionality of the data\n",
    "model = Sequential()\n",
    "model.add(Dense(256, activation = 'relu', input_dim = xtrain_pca.shape[1]))\n",
    "model.add(Dense(256, activation = 'relu'))\n",
    "model.add(Dense(128, activation = 'relu'))\n",
    "model.add(Dense(1, activation = 'linear'))\n",
    "model.summary()"
   ]
  },
  {
   "cell_type": "code",
   "execution_count": 287,
   "id": "674021fc-7e6f-4985-a2ba-5a7ca7438b48",
   "metadata": {
    "scrolled": true
   },
   "outputs": [
    {
     "name": "stdout",
     "output_type": "stream",
     "text": [
      "Epoch 1/500\n",
      "\u001b[1m5/5\u001b[0m \u001b[32m━━━━━━━━━━━━━━━━━━━━\u001b[0m\u001b[37m\u001b[0m \u001b[1m2s\u001b[0m 73ms/step - loss: 1603266816.0000 - val_loss: 344041816064.0000\n",
      "Epoch 2/500\n",
      "\u001b[1m5/5\u001b[0m \u001b[32m━━━━━━━━━━━━━━━━━━━━\u001b[0m\u001b[37m\u001b[0m \u001b[1m0s\u001b[0m 20ms/step - loss: 1467999104.0000 - val_loss: 343880826880.0000\n",
      "Epoch 3/500\n",
      "\u001b[1m5/5\u001b[0m \u001b[32m━━━━━━━━━━━━━━━━━━━━\u001b[0m\u001b[37m\u001b[0m \u001b[1m0s\u001b[0m 15ms/step - loss: 1142026368.0000 - val_loss: 343760437248.0000\n",
      "Epoch 4/500\n",
      "\u001b[1m5/5\u001b[0m \u001b[32m━━━━━━━━━━━━━━━━━━━━\u001b[0m\u001b[37m\u001b[0m \u001b[1m0s\u001b[0m 14ms/step - loss: 1428104960.0000 - val_loss: 343817748480.0000\n",
      "Epoch 5/500\n",
      "\u001b[1m5/5\u001b[0m \u001b[32m━━━━━━━━━━━━━━━━━━━━\u001b[0m\u001b[37m\u001b[0m \u001b[1m0s\u001b[0m 16ms/step - loss: 1291005696.0000 - val_loss: 343922835456.0000\n",
      "Epoch 6/500\n",
      "\u001b[1m5/5\u001b[0m \u001b[32m━━━━━━━━━━━━━━━━━━━━\u001b[0m\u001b[37m\u001b[0m \u001b[1m0s\u001b[0m 17ms/step - loss: 1784785152.0000 - val_loss: 343592042496.0000\n",
      "Epoch 7/500\n",
      "\u001b[1m5/5\u001b[0m \u001b[32m━━━━━━━━━━━━━━━━━━━━\u001b[0m\u001b[37m\u001b[0m \u001b[1m0s\u001b[0m 14ms/step - loss: 1100660352.0000 - val_loss: 344002527232.0000\n",
      "Epoch 8/500\n",
      "\u001b[1m5/5\u001b[0m \u001b[32m━━━━━━━━━━━━━━━━━━━━\u001b[0m\u001b[37m\u001b[0m \u001b[1m0s\u001b[0m 15ms/step - loss: 1215326208.0000 - val_loss: 343779049472.0000\n",
      "Epoch 9/500\n",
      "\u001b[1m5/5\u001b[0m \u001b[32m━━━━━━━━━━━━━━━━━━━━\u001b[0m\u001b[37m\u001b[0m \u001b[1m0s\u001b[0m 20ms/step - loss: 1410283520.0000 - val_loss: 344731418624.0000\n",
      "Epoch 10/500\n",
      "\u001b[1m5/5\u001b[0m \u001b[32m━━━━━━━━━━━━━━━━━━━━\u001b[0m\u001b[37m\u001b[0m \u001b[1m0s\u001b[0m 20ms/step - loss: 1208665216.0000 - val_loss: 345022267392.0000\n",
      "Epoch 11/500\n",
      "\u001b[1m5/5\u001b[0m \u001b[32m━━━━━━━━━━━━━━━━━━━━\u001b[0m\u001b[37m\u001b[0m \u001b[1m0s\u001b[0m 16ms/step - loss: 1033987776.0000 - val_loss: 344327847936.0000\n",
      "Epoch 12/500\n",
      "\u001b[1m5/5\u001b[0m \u001b[32m━━━━━━━━━━━━━━━━━━━━\u001b[0m\u001b[37m\u001b[0m \u001b[1m0s\u001b[0m 14ms/step - loss: 1333274368.0000 - val_loss: 343747854336.0000\n",
      "Epoch 13/500\n",
      "\u001b[1m5/5\u001b[0m \u001b[32m━━━━━━━━━━━━━━━━━━━━\u001b[0m\u001b[37m\u001b[0m \u001b[1m0s\u001b[0m 18ms/step - loss: 1341447552.0000 - val_loss: 341953249280.0000\n",
      "Epoch 14/500\n",
      "\u001b[1m5/5\u001b[0m \u001b[32m━━━━━━━━━━━━━━━━━━━━\u001b[0m\u001b[37m\u001b[0m \u001b[1m0s\u001b[0m 22ms/step - loss: 1012646400.0000 - val_loss: 342111846400.0000\n",
      "Epoch 15/500\n",
      "\u001b[1m5/5\u001b[0m \u001b[32m━━━━━━━━━━━━━━━━━━━━\u001b[0m\u001b[37m\u001b[0m \u001b[1m0s\u001b[0m 19ms/step - loss: 1299074048.0000 - val_loss: 344245469184.0000\n",
      "Epoch 16/500\n",
      "\u001b[1m5/5\u001b[0m \u001b[32m━━━━━━━━━━━━━━━━━━━━\u001b[0m\u001b[37m\u001b[0m \u001b[1m0s\u001b[0m 14ms/step - loss: 1489098496.0000 - val_loss: 342753804288.0000\n",
      "Epoch 17/500\n",
      "\u001b[1m5/5\u001b[0m \u001b[32m━━━━━━━━━━━━━━━━━━━━\u001b[0m\u001b[37m\u001b[0m \u001b[1m0s\u001b[0m 29ms/step - loss: 875511872.0000 - val_loss: 342441394176.0000\n",
      "Epoch 18/500\n",
      "\u001b[1m5/5\u001b[0m \u001b[32m━━━━━━━━━━━━━━━━━━━━\u001b[0m\u001b[37m\u001b[0m \u001b[1m0s\u001b[0m 14ms/step - loss: 1251256064.0000 - val_loss: 344260280320.0000\n",
      "Epoch 19/500\n",
      "\u001b[1m5/5\u001b[0m \u001b[32m━━━━━━━━━━━━━━━━━━━━\u001b[0m\u001b[37m\u001b[0m \u001b[1m0s\u001b[0m 20ms/step - loss: 1275019264.0000 - val_loss: 344971116544.0000\n",
      "Epoch 20/500\n",
      "\u001b[1m5/5\u001b[0m \u001b[32m━━━━━━━━━━━━━━━━━━━━\u001b[0m\u001b[37m\u001b[0m \u001b[1m0s\u001b[0m 20ms/step - loss: 1396464512.0000 - val_loss: 343971364864.0000\n",
      "Epoch 21/500\n",
      "\u001b[1m5/5\u001b[0m \u001b[32m━━━━━━━━━━━━━━━━━━━━\u001b[0m\u001b[37m\u001b[0m \u001b[1m0s\u001b[0m 20ms/step - loss: 1061552384.0000 - val_loss: 343546888192.0000\n",
      "Epoch 22/500\n",
      "\u001b[1m5/5\u001b[0m \u001b[32m━━━━━━━━━━━━━━━━━━━━\u001b[0m\u001b[37m\u001b[0m \u001b[1m0s\u001b[0m 16ms/step - loss: 1379241088.0000 - val_loss: 344033296384.0000\n",
      "Epoch 23/500\n",
      "\u001b[1m5/5\u001b[0m \u001b[32m━━━━━━━━━━━━━━━━━━━━\u001b[0m\u001b[37m\u001b[0m \u001b[1m0s\u001b[0m 15ms/step - loss: 1047440960.0000 - val_loss: 345737691136.0000\n",
      "Epoch 24/500\n",
      "\u001b[1m5/5\u001b[0m \u001b[32m━━━━━━━━━━━━━━━━━━━━\u001b[0m\u001b[37m\u001b[0m \u001b[1m0s\u001b[0m 18ms/step - loss: 1004711680.0000 - val_loss: 347236859904.0000\n",
      "Epoch 25/500\n",
      "\u001b[1m5/5\u001b[0m \u001b[32m━━━━━━━━━━━━━━━━━━━━\u001b[0m\u001b[37m\u001b[0m \u001b[1m0s\u001b[0m 18ms/step - loss: 1026327232.0000 - val_loss: 344244748288.0000\n",
      "Epoch 26/500\n",
      "\u001b[1m5/5\u001b[0m \u001b[32m━━━━━━━━━━━━━━━━━━━━\u001b[0m\u001b[37m\u001b[0m \u001b[1m0s\u001b[0m 17ms/step - loss: 1717957120.0000 - val_loss: 343300243456.0000\n",
      "Epoch 27/500\n",
      "\u001b[1m5/5\u001b[0m \u001b[32m━━━━━━━━━━━━━━━━━━━━\u001b[0m\u001b[37m\u001b[0m \u001b[1m0s\u001b[0m 16ms/step - loss: 1462695296.0000 - val_loss: 344117903360.0000\n",
      "Epoch 28/500\n",
      "\u001b[1m5/5\u001b[0m \u001b[32m━━━━━━━━━━━━━━━━━━━━\u001b[0m\u001b[37m\u001b[0m \u001b[1m0s\u001b[0m 16ms/step - loss: 1236490240.0000 - val_loss: 344011505664.0000\n",
      "Epoch 29/500\n",
      "\u001b[1m5/5\u001b[0m \u001b[32m━━━━━━━━━━━━━━━━━━━━\u001b[0m\u001b[37m\u001b[0m \u001b[1m0s\u001b[0m 20ms/step - loss: 941831488.0000 - val_loss: 344768806912.0000\n",
      "Epoch 30/500\n",
      "\u001b[1m5/5\u001b[0m \u001b[32m━━━━━━━━━━━━━━━━━━━━\u001b[0m\u001b[37m\u001b[0m \u001b[1m0s\u001b[0m 21ms/step - loss: 833178112.0000 - val_loss: 345151012864.0000\n",
      "Epoch 31/500\n",
      "\u001b[1m5/5\u001b[0m \u001b[32m━━━━━━━━━━━━━━━━━━━━\u001b[0m\u001b[37m\u001b[0m \u001b[1m0s\u001b[0m 17ms/step - loss: 1333443968.0000 - val_loss: 344023924736.0000\n",
      "Epoch 32/500\n",
      "\u001b[1m5/5\u001b[0m \u001b[32m━━━━━━━━━━━━━━━━━━━━\u001b[0m\u001b[37m\u001b[0m \u001b[1m0s\u001b[0m 16ms/step - loss: 1447741824.0000 - val_loss: 343185489920.0000\n",
      "Epoch 33/500\n",
      "\u001b[1m5/5\u001b[0m \u001b[32m━━━━━━━━━━━━━━━━━━━━\u001b[0m\u001b[37m\u001b[0m \u001b[1m0s\u001b[0m 17ms/step - loss: 1148096256.0000 - val_loss: 343790157824.0000\n",
      "Epoch 34/500\n",
      "\u001b[1m5/5\u001b[0m \u001b[32m━━━━━━━━━━━━━━━━━━━━\u001b[0m\u001b[37m\u001b[0m \u001b[1m0s\u001b[0m 19ms/step - loss: 797185856.0000 - val_loss: 344448663552.0000\n",
      "Epoch 35/500\n",
      "\u001b[1m5/5\u001b[0m \u001b[32m━━━━━━━━━━━━━━━━━━━━\u001b[0m\u001b[37m\u001b[0m \u001b[1m0s\u001b[0m 19ms/step - loss: 754147776.0000 - val_loss: 344982552576.0000\n",
      "Epoch 36/500\n",
      "\u001b[1m5/5\u001b[0m \u001b[32m━━━━━━━━━━━━━━━━━━━━\u001b[0m\u001b[37m\u001b[0m \u001b[1m0s\u001b[0m 17ms/step - loss: 1020805120.0000 - val_loss: 345123487744.0000\n",
      "Epoch 37/500\n",
      "\u001b[1m5/5\u001b[0m \u001b[32m━━━━━━━━━━━━━━━━━━━━\u001b[0m\u001b[37m\u001b[0m \u001b[1m0s\u001b[0m 14ms/step - loss: 935719552.0000 - val_loss: 342584721408.0000\n",
      "Epoch 38/500\n",
      "\u001b[1m5/5\u001b[0m \u001b[32m━━━━━━━━━━━━━━━━━━━━\u001b[0m\u001b[37m\u001b[0m \u001b[1m0s\u001b[0m 21ms/step - loss: 1115258880.0000 - val_loss: 341205876736.0000\n",
      "Epoch 39/500\n",
      "\u001b[1m5/5\u001b[0m \u001b[32m━━━━━━━━━━━━━━━━━━━━\u001b[0m\u001b[37m\u001b[0m \u001b[1m0s\u001b[0m 16ms/step - loss: 1353022720.0000 - val_loss: 343051599872.0000\n",
      "Epoch 40/500\n",
      "\u001b[1m5/5\u001b[0m \u001b[32m━━━━━━━━━━━━━━━━━━━━\u001b[0m\u001b[37m\u001b[0m \u001b[1m0s\u001b[0m 19ms/step - loss: 1093554816.0000 - val_loss: 344033722368.0000\n",
      "Epoch 41/500\n",
      "\u001b[1m5/5\u001b[0m \u001b[32m━━━━━━━━━━━━━━━━━━━━\u001b[0m\u001b[37m\u001b[0m \u001b[1m0s\u001b[0m 17ms/step - loss: 1049754112.0000 - val_loss: 343300603904.0000\n",
      "Epoch 42/500\n",
      "\u001b[1m5/5\u001b[0m \u001b[32m━━━━━━━━━━━━━━━━━━━━\u001b[0m\u001b[37m\u001b[0m \u001b[1m0s\u001b[0m 17ms/step - loss: 1540629504.0000 - val_loss: 343817945088.0000\n",
      "Epoch 43/500\n",
      "\u001b[1m5/5\u001b[0m \u001b[32m━━━━━━━━━━━━━━━━━━━━\u001b[0m\u001b[37m\u001b[0m \u001b[1m0s\u001b[0m 22ms/step - loss: 952685120.0000 - val_loss: 344785747968.0000\n",
      "Epoch 44/500\n",
      "\u001b[1m5/5\u001b[0m \u001b[32m━━━━━━━━━━━━━━━━━━━━\u001b[0m\u001b[37m\u001b[0m \u001b[1m0s\u001b[0m 20ms/step - loss: 1098176896.0000 - val_loss: 344946343936.0000\n",
      "Epoch 45/500\n",
      "\u001b[1m5/5\u001b[0m \u001b[32m━━━━━━━━━━━━━━━━━━━━\u001b[0m\u001b[37m\u001b[0m \u001b[1m0s\u001b[0m 23ms/step - loss: 1337779968.0000 - val_loss: 343896195072.0000\n",
      "Epoch 46/500\n",
      "\u001b[1m5/5\u001b[0m \u001b[32m━━━━━━━━━━━━━━━━━━━━\u001b[0m\u001b[37m\u001b[0m \u001b[1m0s\u001b[0m 23ms/step - loss: 1319626880.0000 - val_loss: 343927062528.0000\n",
      "Epoch 47/500\n",
      "\u001b[1m5/5\u001b[0m \u001b[32m━━━━━━━━━━━━━━━━━━━━\u001b[0m\u001b[37m\u001b[0m \u001b[1m0s\u001b[0m 16ms/step - loss: 1622501248.0000 - val_loss: 344742625280.0000\n",
      "Epoch 48/500\n",
      "\u001b[1m5/5\u001b[0m \u001b[32m━━━━━━━━━━━━━━━━━━━━\u001b[0m\u001b[37m\u001b[0m \u001b[1m0s\u001b[0m 16ms/step - loss: 1194064128.0000 - val_loss: 344265457664.0000\n",
      "Epoch 49/500\n",
      "\u001b[1m5/5\u001b[0m \u001b[32m━━━━━━━━━━━━━━━━━━━━\u001b[0m\u001b[37m\u001b[0m \u001b[1m0s\u001b[0m 16ms/step - loss: 859123776.0000 - val_loss: 343497474048.0000\n",
      "Epoch 50/500\n",
      "\u001b[1m5/5\u001b[0m \u001b[32m━━━━━━━━━━━━━━━━━━━━\u001b[0m\u001b[37m\u001b[0m \u001b[1m0s\u001b[0m 15ms/step - loss: 1189596032.0000 - val_loss: 343473455104.0000\n",
      "Epoch 51/500\n",
      "\u001b[1m5/5\u001b[0m \u001b[32m━━━━━━━━━━━━━━━━━━━━\u001b[0m\u001b[37m\u001b[0m \u001b[1m0s\u001b[0m 15ms/step - loss: 844786688.0000 - val_loss: 344837914624.0000\n",
      "Epoch 52/500\n",
      "\u001b[1m5/5\u001b[0m \u001b[32m━━━━━━━━━━━━━━━━━━━━\u001b[0m\u001b[37m\u001b[0m \u001b[1m0s\u001b[0m 16ms/step - loss: 924439936.0000 - val_loss: 345149997056.0000\n",
      "Epoch 53/500\n",
      "\u001b[1m5/5\u001b[0m \u001b[32m━━━━━━━━━━━━━━━━━━━━\u001b[0m\u001b[37m\u001b[0m \u001b[1m0s\u001b[0m 16ms/step - loss: 903331456.0000 - val_loss: 342194257920.0000\n",
      "Epoch 54/500\n",
      "\u001b[1m5/5\u001b[0m \u001b[32m━━━━━━━━━━━━━━━━━━━━\u001b[0m\u001b[37m\u001b[0m \u001b[1m0s\u001b[0m 22ms/step - loss: 1116060928.0000 - val_loss: 341711978496.0000\n",
      "Epoch 55/500\n",
      "\u001b[1m5/5\u001b[0m \u001b[32m━━━━━━━━━━━━━━━━━━━━\u001b[0m\u001b[37m\u001b[0m \u001b[1m0s\u001b[0m 23ms/step - loss: 640703552.0000 - val_loss: 344011603968.0000\n",
      "Epoch 56/500\n",
      "\u001b[1m5/5\u001b[0m \u001b[32m━━━━━━━━━━━━━━━━━━━━\u001b[0m\u001b[37m\u001b[0m \u001b[1m0s\u001b[0m 26ms/step - loss: 1380145280.0000 - val_loss: 346835484672.0000\n",
      "Epoch 57/500\n",
      "\u001b[1m5/5\u001b[0m \u001b[32m━━━━━━━━━━━━━━━━━━━━\u001b[0m\u001b[37m\u001b[0m \u001b[1m0s\u001b[0m 22ms/step - loss: 812331840.0000 - val_loss: 345122045952.0000\n",
      "Epoch 58/500\n",
      "\u001b[1m5/5\u001b[0m \u001b[32m━━━━━━━━━━━━━━━━━━━━\u001b[0m\u001b[37m\u001b[0m \u001b[1m0s\u001b[0m 21ms/step - loss: 1214664064.0000 - val_loss: 342848995328.0000\n",
      "Epoch 59/500\n",
      "\u001b[1m5/5\u001b[0m \u001b[32m━━━━━━━━━━━━━━━━━━━━\u001b[0m\u001b[37m\u001b[0m \u001b[1m0s\u001b[0m 21ms/step - loss: 1106861568.0000 - val_loss: 343739793408.0000\n",
      "Epoch 60/500\n",
      "\u001b[1m5/5\u001b[0m \u001b[32m━━━━━━━━━━━━━━━━━━━━\u001b[0m\u001b[37m\u001b[0m \u001b[1m0s\u001b[0m 19ms/step - loss: 1418575104.0000 - val_loss: 345255149568.0000\n",
      "Epoch 61/500\n",
      "\u001b[1m5/5\u001b[0m \u001b[32m━━━━━━━━━━━━━━━━━━━━\u001b[0m\u001b[37m\u001b[0m \u001b[1m0s\u001b[0m 21ms/step - loss: 1096589312.0000 - val_loss: 345392611328.0000\n",
      "Epoch 62/500\n",
      "\u001b[1m5/5\u001b[0m \u001b[32m━━━━━━━━━━━━━━━━━━━━\u001b[0m\u001b[37m\u001b[0m \u001b[1m0s\u001b[0m 24ms/step - loss: 820486848.0000 - val_loss: 343748935680.0000\n",
      "Epoch 63/500\n",
      "\u001b[1m5/5\u001b[0m \u001b[32m━━━━━━━━━━━━━━━━━━━━\u001b[0m\u001b[37m\u001b[0m \u001b[1m0s\u001b[0m 23ms/step - loss: 746430336.0000 - val_loss: 343824039936.0000\n",
      "Epoch 64/500\n",
      "\u001b[1m5/5\u001b[0m \u001b[32m━━━━━━━━━━━━━━━━━━━━\u001b[0m\u001b[37m\u001b[0m \u001b[1m0s\u001b[0m 22ms/step - loss: 1235353984.0000 - val_loss: 345442713600.0000\n",
      "Epoch 65/500\n",
      "\u001b[1m5/5\u001b[0m \u001b[32m━━━━━━━━━━━━━━━━━━━━\u001b[0m\u001b[37m\u001b[0m \u001b[1m0s\u001b[0m 22ms/step - loss: 808350272.0000 - val_loss: 344453185536.0000\n",
      "Epoch 66/500\n",
      "\u001b[1m5/5\u001b[0m \u001b[32m━━━━━━━━━━━━━━━━━━━━\u001b[0m\u001b[37m\u001b[0m \u001b[1m0s\u001b[0m 20ms/step - loss: 1156862592.0000 - val_loss: 344237703168.0000\n",
      "Epoch 67/500\n",
      "\u001b[1m5/5\u001b[0m \u001b[32m━━━━━━━━━━━━━━━━━━━━\u001b[0m\u001b[37m\u001b[0m \u001b[1m0s\u001b[0m 17ms/step - loss: 903230720.0000 - val_loss: 342754918400.0000\n",
      "Epoch 68/500\n",
      "\u001b[1m5/5\u001b[0m \u001b[32m━━━━━━━━━━━━━━━━━━━━\u001b[0m\u001b[37m\u001b[0m \u001b[1m0s\u001b[0m 14ms/step - loss: 1393411328.0000 - val_loss: 343414177792.0000\n",
      "Epoch 69/500\n",
      "\u001b[1m5/5\u001b[0m \u001b[32m━━━━━━━━━━━━━━━━━━━━\u001b[0m\u001b[37m\u001b[0m \u001b[1m0s\u001b[0m 15ms/step - loss: 1214544896.0000 - val_loss: 343330881536.0000\n",
      "Epoch 70/500\n",
      "\u001b[1m5/5\u001b[0m \u001b[32m━━━━━━━━━━━━━━━━━━━━\u001b[0m\u001b[37m\u001b[0m \u001b[1m0s\u001b[0m 17ms/step - loss: 1292954112.0000 - val_loss: 345054183424.0000\n",
      "Epoch 71/500\n",
      "\u001b[1m5/5\u001b[0m \u001b[32m━━━━━━━━━━━━━━━━━━━━\u001b[0m\u001b[37m\u001b[0m \u001b[1m0s\u001b[0m 23ms/step - loss: 1119950464.0000 - val_loss: 345203212288.0000\n",
      "Epoch 72/500\n",
      "\u001b[1m5/5\u001b[0m \u001b[32m━━━━━━━━━━━━━━━━━━━━\u001b[0m\u001b[37m\u001b[0m \u001b[1m0s\u001b[0m 19ms/step - loss: 845321344.0000 - val_loss: 344575934464.0000\n",
      "Epoch 73/500\n",
      "\u001b[1m5/5\u001b[0m \u001b[32m━━━━━━━━━━━━━━━━━━━━\u001b[0m\u001b[37m\u001b[0m \u001b[1m0s\u001b[0m 16ms/step - loss: 1088139520.0000 - val_loss: 344652218368.0000\n",
      "Epoch 74/500\n",
      "\u001b[1m5/5\u001b[0m \u001b[32m━━━━━━━━━━━━━━━━━━━━\u001b[0m\u001b[37m\u001b[0m \u001b[1m0s\u001b[0m 22ms/step - loss: 652309696.0000 - val_loss: 344702910464.0000\n",
      "Epoch 75/500\n",
      "\u001b[1m5/5\u001b[0m \u001b[32m━━━━━━━━━━━━━━━━━━━━\u001b[0m\u001b[37m\u001b[0m \u001b[1m0s\u001b[0m 18ms/step - loss: 855785152.0000 - val_loss: 344561451008.0000\n",
      "Epoch 76/500\n",
      "\u001b[1m5/5\u001b[0m \u001b[32m━━━━━━━━━━━━━━━━━━━━\u001b[0m\u001b[37m\u001b[0m \u001b[1m0s\u001b[0m 20ms/step - loss: 1277378432.0000 - val_loss: 343852449792.0000\n",
      "Epoch 77/500\n",
      "\u001b[1m5/5\u001b[0m \u001b[32m━━━━━━━━━━━━━━━━━━━━\u001b[0m\u001b[37m\u001b[0m \u001b[1m0s\u001b[0m 21ms/step - loss: 1204269312.0000 - val_loss: 343576576000.0000\n",
      "Epoch 78/500\n",
      "\u001b[1m5/5\u001b[0m \u001b[32m━━━━━━━━━━━━━━━━━━━━\u001b[0m\u001b[37m\u001b[0m \u001b[1m0s\u001b[0m 22ms/step - loss: 949361728.0000 - val_loss: 344437456896.0000\n",
      "Epoch 79/500\n",
      "\u001b[1m5/5\u001b[0m \u001b[32m━━━━━━━━━━━━━━━━━━━━\u001b[0m\u001b[37m\u001b[0m \u001b[1m0s\u001b[0m 15ms/step - loss: 865406400.0000 - val_loss: 343889281024.0000\n",
      "Epoch 80/500\n",
      "\u001b[1m5/5\u001b[0m \u001b[32m━━━━━━━━━━━━━━━━━━━━\u001b[0m\u001b[37m\u001b[0m \u001b[1m0s\u001b[0m 16ms/step - loss: 1085390464.0000 - val_loss: 344405311488.0000\n",
      "Epoch 81/500\n",
      "\u001b[1m5/5\u001b[0m \u001b[32m━━━━━━━━━━━━━━━━━━━━\u001b[0m\u001b[37m\u001b[0m \u001b[1m0s\u001b[0m 14ms/step - loss: 1426942080.0000 - val_loss: 344376770560.0000\n",
      "Epoch 82/500\n",
      "\u001b[1m5/5\u001b[0m \u001b[32m━━━━━━━━━━━━━━━━━━━━\u001b[0m\u001b[37m\u001b[0m \u001b[1m0s\u001b[0m 17ms/step - loss: 842558336.0000 - val_loss: 343368794112.0000\n",
      "Epoch 83/500\n",
      "\u001b[1m5/5\u001b[0m \u001b[32m━━━━━━━━━━━━━━━━━━━━\u001b[0m\u001b[37m\u001b[0m \u001b[1m0s\u001b[0m 13ms/step - loss: 1328809728.0000 - val_loss: 344330928128.0000\n",
      "Epoch 84/500\n",
      "\u001b[1m5/5\u001b[0m \u001b[32m━━━━━━━━━━━━━━━━━━━━\u001b[0m\u001b[37m\u001b[0m \u001b[1m0s\u001b[0m 16ms/step - loss: 938908160.0000 - val_loss: 344158896128.0000\n",
      "Epoch 85/500\n",
      "\u001b[1m5/5\u001b[0m \u001b[32m━━━━━━━━━━━━━━━━━━━━\u001b[0m\u001b[37m\u001b[0m \u001b[1m0s\u001b[0m 14ms/step - loss: 964330688.0000 - val_loss: 344318279680.0000\n",
      "Epoch 86/500\n",
      "\u001b[1m5/5\u001b[0m \u001b[32m━━━━━━━━━━━━━━━━━━━━\u001b[0m\u001b[37m\u001b[0m \u001b[1m0s\u001b[0m 15ms/step - loss: 1148526976.0000 - val_loss: 344504041472.0000\n",
      "Epoch 87/500\n",
      "\u001b[1m5/5\u001b[0m \u001b[32m━━━━━━━━━━━━━━━━━━━━\u001b[0m\u001b[37m\u001b[0m \u001b[1m0s\u001b[0m 15ms/step - loss: 989447296.0000 - val_loss: 343647191040.0000\n",
      "Epoch 88/500\n",
      "\u001b[1m5/5\u001b[0m \u001b[32m━━━━━━━━━━━━━━━━━━━━\u001b[0m\u001b[37m\u001b[0m \u001b[1m0s\u001b[0m 15ms/step - loss: 933533824.0000 - val_loss: 343989223424.0000\n",
      "Epoch 89/500\n",
      "\u001b[1m5/5\u001b[0m \u001b[32m━━━━━━━━━━━━━━━━━━━━\u001b[0m\u001b[37m\u001b[0m \u001b[1m0s\u001b[0m 17ms/step - loss: 659454720.0000 - val_loss: 344748720128.0000\n",
      "Epoch 90/500\n",
      "\u001b[1m5/5\u001b[0m \u001b[32m━━━━━━━━━━━━━━━━━━━━\u001b[0m\u001b[37m\u001b[0m \u001b[1m0s\u001b[0m 12ms/step - loss: 965517696.0000 - val_loss: 343870832640.0000\n",
      "Epoch 91/500\n",
      "\u001b[1m5/5\u001b[0m \u001b[32m━━━━━━━━━━━━━━━━━━━━\u001b[0m\u001b[37m\u001b[0m \u001b[1m0s\u001b[0m 16ms/step - loss: 645320192.0000 - val_loss: 343512809472.0000\n",
      "Epoch 92/500\n",
      "\u001b[1m5/5\u001b[0m \u001b[32m━━━━━━━━━━━━━━━━━━━━\u001b[0m\u001b[37m\u001b[0m \u001b[1m0s\u001b[0m 19ms/step - loss: 1275043072.0000 - val_loss: 345148358656.0000\n",
      "Epoch 93/500\n",
      "\u001b[1m5/5\u001b[0m \u001b[32m━━━━━━━━━━━━━━━━━━━━\u001b[0m\u001b[37m\u001b[0m \u001b[1m0s\u001b[0m 20ms/step - loss: 1161774720.0000 - val_loss: 343747264512.0000\n",
      "Epoch 94/500\n",
      "\u001b[1m5/5\u001b[0m \u001b[32m━━━━━━━━━━━━━━━━━━━━\u001b[0m\u001b[37m\u001b[0m \u001b[1m0s\u001b[0m 15ms/step - loss: 1123613696.0000 - val_loss: 342439788544.0000\n",
      "Epoch 95/500\n",
      "\u001b[1m5/5\u001b[0m \u001b[32m━━━━━━━━━━━━━━━━━━━━\u001b[0m\u001b[37m\u001b[0m \u001b[1m0s\u001b[0m 14ms/step - loss: 1057830400.0000 - val_loss: 343471685632.0000\n",
      "Epoch 96/500\n",
      "\u001b[1m5/5\u001b[0m \u001b[32m━━━━━━━━━━━━━━━━━━━━\u001b[0m\u001b[37m\u001b[0m \u001b[1m0s\u001b[0m 18ms/step - loss: 851172800.0000 - val_loss: 343361421312.0000\n",
      "Epoch 97/500\n",
      "\u001b[1m5/5\u001b[0m \u001b[32m━━━━━━━━━━━━━━━━━━━━\u001b[0m\u001b[37m\u001b[0m \u001b[1m0s\u001b[0m 19ms/step - loss: 741096128.0000 - val_loss: 344409374720.0000\n",
      "Epoch 98/500\n",
      "\u001b[1m5/5\u001b[0m \u001b[32m━━━━━━━━━━━━━━━━━━━━\u001b[0m\u001b[37m\u001b[0m \u001b[1m0s\u001b[0m 15ms/step - loss: 1373128064.0000 - val_loss: 345000935424.0000\n",
      "Epoch 99/500\n",
      "\u001b[1m5/5\u001b[0m \u001b[32m━━━━━━━━━━━━━━━━━━━━\u001b[0m\u001b[37m\u001b[0m \u001b[1m0s\u001b[0m 13ms/step - loss: 1014810688.0000 - val_loss: 343900422144.0000\n",
      "Epoch 100/500\n",
      "\u001b[1m5/5\u001b[0m \u001b[32m━━━━━━━━━━━━━━━━━━━━\u001b[0m\u001b[37m\u001b[0m \u001b[1m0s\u001b[0m 14ms/step - loss: 799519936.0000 - val_loss: 344015831040.0000\n",
      "Epoch 101/500\n",
      "\u001b[1m5/5\u001b[0m \u001b[32m━━━━━━━━━━━━━━━━━━━━\u001b[0m\u001b[37m\u001b[0m \u001b[1m0s\u001b[0m 18ms/step - loss: 612209088.0000 - val_loss: 344392761344.0000\n",
      "Epoch 102/500\n",
      "\u001b[1m5/5\u001b[0m \u001b[32m━━━━━━━━━━━━━━━━━━━━\u001b[0m\u001b[37m\u001b[0m \u001b[1m0s\u001b[0m 17ms/step - loss: 762752384.0000 - val_loss: 346335379456.0000\n",
      "Epoch 103/500\n",
      "\u001b[1m5/5\u001b[0m \u001b[32m━━━━━━━━━━━━━━━━━━━━\u001b[0m\u001b[37m\u001b[0m \u001b[1m0s\u001b[0m 15ms/step - loss: 977560640.0000 - val_loss: 343608393728.0000\n",
      "Epoch 104/500\n",
      "\u001b[1m5/5\u001b[0m \u001b[32m━━━━━━━━━━━━━━━━━━━━\u001b[0m\u001b[37m\u001b[0m \u001b[1m0s\u001b[0m 14ms/step - loss: 1172441984.0000 - val_loss: 342055026688.0000\n",
      "Epoch 105/500\n",
      "\u001b[1m5/5\u001b[0m \u001b[32m━━━━━━━━━━━━━━━━━━━━\u001b[0m\u001b[37m\u001b[0m \u001b[1m0s\u001b[0m 15ms/step - loss: 1073078208.0000 - val_loss: 342814195712.0000\n",
      "Epoch 106/500\n",
      "\u001b[1m5/5\u001b[0m \u001b[32m━━━━━━━━━━━━━━━━━━━━\u001b[0m\u001b[37m\u001b[0m \u001b[1m0s\u001b[0m 15ms/step - loss: 1271959168.0000 - val_loss: 344063836160.0000\n",
      "Epoch 107/500\n",
      "\u001b[1m5/5\u001b[0m \u001b[32m━━━━━━━━━━━━━━━━━━━━\u001b[0m\u001b[37m\u001b[0m \u001b[1m0s\u001b[0m 14ms/step - loss: 933963264.0000 - val_loss: 343984439296.0000\n",
      "Epoch 108/500\n",
      "\u001b[1m5/5\u001b[0m \u001b[32m━━━━━━━━━━━━━━━━━━━━\u001b[0m\u001b[37m\u001b[0m \u001b[1m0s\u001b[0m 14ms/step - loss: 1278687488.0000 - val_loss: 343358046208.0000\n",
      "Epoch 109/500\n",
      "\u001b[1m5/5\u001b[0m \u001b[32m━━━━━━━━━━━━━━━━━━━━\u001b[0m\u001b[37m\u001b[0m \u001b[1m0s\u001b[0m 23ms/step - loss: 1171807744.0000 - val_loss: 343099768832.0000\n",
      "Epoch 110/500\n",
      "\u001b[1m5/5\u001b[0m \u001b[32m━━━━━━━━━━━━━━━━━━━━\u001b[0m\u001b[37m\u001b[0m \u001b[1m0s\u001b[0m 14ms/step - loss: 1191165952.0000 - val_loss: 343164616704.0000\n",
      "Epoch 111/500\n",
      "\u001b[1m5/5\u001b[0m \u001b[32m━━━━━━━━━━━━━━━━━━━━\u001b[0m\u001b[37m\u001b[0m \u001b[1m0s\u001b[0m 13ms/step - loss: 790678208.0000 - val_loss: 344278630400.0000\n",
      "Epoch 112/500\n",
      "\u001b[1m5/5\u001b[0m \u001b[32m━━━━━━━━━━━━━━━━━━━━\u001b[0m\u001b[37m\u001b[0m \u001b[1m0s\u001b[0m 18ms/step - loss: 1070010240.0000 - val_loss: 344965120000.0000\n",
      "Epoch 113/500\n",
      "\u001b[1m5/5\u001b[0m \u001b[32m━━━━━━━━━━━━━━━━━━━━\u001b[0m\u001b[37m\u001b[0m \u001b[1m0s\u001b[0m 18ms/step - loss: 938853632.0000 - val_loss: 343330553856.0000\n",
      "Epoch 114/500\n",
      "\u001b[1m5/5\u001b[0m \u001b[32m━━━━━━━━━━━━━━━━━━━━\u001b[0m\u001b[37m\u001b[0m \u001b[1m0s\u001b[0m 14ms/step - loss: 830588800.0000 - val_loss: 342296231936.0000\n",
      "Epoch 115/500\n",
      "\u001b[1m5/5\u001b[0m \u001b[32m━━━━━━━━━━━━━━━━━━━━\u001b[0m\u001b[37m\u001b[0m \u001b[1m0s\u001b[0m 12ms/step - loss: 859591488.0000 - val_loss: 342368190464.0000\n",
      "Epoch 116/500\n",
      "\u001b[1m5/5\u001b[0m \u001b[32m━━━━━━━━━━━━━━━━━━━━\u001b[0m\u001b[37m\u001b[0m \u001b[1m0s\u001b[0m 17ms/step - loss: 1027059520.0000 - val_loss: 344108531712.0000\n",
      "Epoch 117/500\n",
      "\u001b[1m5/5\u001b[0m \u001b[32m━━━━━━━━━━━━━━━━━━━━\u001b[0m\u001b[37m\u001b[0m \u001b[1m0s\u001b[0m 14ms/step - loss: 753154432.0000 - val_loss: 343518871552.0000\n",
      "Epoch 118/500\n",
      "\u001b[1m5/5\u001b[0m \u001b[32m━━━━━━━━━━━━━━━━━━━━\u001b[0m\u001b[37m\u001b[0m \u001b[1m0s\u001b[0m 13ms/step - loss: 683537344.0000 - val_loss: 343302897664.0000\n",
      "Epoch 119/500\n",
      "\u001b[1m5/5\u001b[0m \u001b[32m━━━━━━━━━━━━━━━━━━━━\u001b[0m\u001b[37m\u001b[0m \u001b[1m0s\u001b[0m 13ms/step - loss: 709025024.0000 - val_loss: 344817795072.0000\n",
      "Epoch 120/500\n",
      "\u001b[1m5/5\u001b[0m \u001b[32m━━━━━━━━━━━━━━━━━━━━\u001b[0m\u001b[37m\u001b[0m \u001b[1m0s\u001b[0m 12ms/step - loss: 1064481280.0000 - val_loss: 344679415808.0000\n",
      "Epoch 121/500\n",
      "\u001b[1m5/5\u001b[0m \u001b[32m━━━━━━━━━━━━━━━━━━━━\u001b[0m\u001b[37m\u001b[0m \u001b[1m0s\u001b[0m 15ms/step - loss: 870825344.0000 - val_loss: 343161044992.0000\n",
      "Epoch 122/500\n",
      "\u001b[1m5/5\u001b[0m \u001b[32m━━━━━━━━━━━━━━━━━━━━\u001b[0m\u001b[37m\u001b[0m \u001b[1m0s\u001b[0m 15ms/step - loss: 846723840.0000 - val_loss: 343760797696.0000\n",
      "Epoch 123/500\n",
      "\u001b[1m5/5\u001b[0m \u001b[32m━━━━━━━━━━━━━━━━━━━━\u001b[0m\u001b[37m\u001b[0m \u001b[1m0s\u001b[0m 20ms/step - loss: 1083534848.0000 - val_loss: 344061739008.0000\n",
      "Epoch 124/500\n",
      "\u001b[1m5/5\u001b[0m \u001b[32m━━━━━━━━━━━━━━━━━━━━\u001b[0m\u001b[37m\u001b[0m \u001b[1m0s\u001b[0m 12ms/step - loss: 934476032.0000 - val_loss: 344321064960.0000\n",
      "Epoch 125/500\n",
      "\u001b[1m5/5\u001b[0m \u001b[32m━━━━━━━━━━━━━━━━━━━━\u001b[0m\u001b[37m\u001b[0m \u001b[1m0s\u001b[0m 15ms/step - loss: 910927232.0000 - val_loss: 343708499968.0000\n",
      "Epoch 126/500\n",
      "\u001b[1m5/5\u001b[0m \u001b[32m━━━━━━━━━━━━━━━━━━━━\u001b[0m\u001b[37m\u001b[0m \u001b[1m0s\u001b[0m 16ms/step - loss: 659107328.0000 - val_loss: 343830429696.0000\n",
      "Epoch 127/500\n",
      "\u001b[1m5/5\u001b[0m \u001b[32m━━━━━━━━━━━━━━━━━━━━\u001b[0m\u001b[37m\u001b[0m \u001b[1m0s\u001b[0m 15ms/step - loss: 632145600.0000 - val_loss: 344438636544.0000\n",
      "Epoch 128/500\n",
      "\u001b[1m5/5\u001b[0m \u001b[32m━━━━━━━━━━━━━━━━━━━━\u001b[0m\u001b[37m\u001b[0m \u001b[1m0s\u001b[0m 17ms/step - loss: 834095488.0000 - val_loss: 343777574912.0000\n",
      "Epoch 129/500\n",
      "\u001b[1m5/5\u001b[0m \u001b[32m━━━━━━━━━━━━━━━━━━━━\u001b[0m\u001b[37m\u001b[0m \u001b[1m0s\u001b[0m 19ms/step - loss: 708058432.0000 - val_loss: 342882058240.0000\n",
      "Epoch 130/500\n",
      "\u001b[1m5/5\u001b[0m \u001b[32m━━━━━━━━━━━━━━━━━━━━\u001b[0m\u001b[37m\u001b[0m \u001b[1m0s\u001b[0m 16ms/step - loss: 663196288.0000 - val_loss: 343401955328.0000\n",
      "Epoch 131/500\n",
      "\u001b[1m5/5\u001b[0m \u001b[32m━━━━━━━━━━━━━━━━━━━━\u001b[0m\u001b[37m\u001b[0m \u001b[1m0s\u001b[0m 19ms/step - loss: 944907264.0000 - val_loss: 345132236800.0000\n",
      "Epoch 132/500\n",
      "\u001b[1m5/5\u001b[0m \u001b[32m━━━━━━━━━━━━━━━━━━━━\u001b[0m\u001b[37m\u001b[0m \u001b[1m0s\u001b[0m 17ms/step - loss: 1418685696.0000 - val_loss: 343616520192.0000\n",
      "Epoch 133/500\n",
      "\u001b[1m5/5\u001b[0m \u001b[32m━━━━━━━━━━━━━━━━━━━━\u001b[0m\u001b[37m\u001b[0m \u001b[1m0s\u001b[0m 14ms/step - loss: 1021981824.0000 - val_loss: 342641475584.0000\n",
      "Epoch 134/500\n",
      "\u001b[1m5/5\u001b[0m \u001b[32m━━━━━━━━━━━━━━━━━━━━\u001b[0m\u001b[37m\u001b[0m \u001b[1m0s\u001b[0m 17ms/step - loss: 910463552.0000 - val_loss: 343376297984.0000\n",
      "Epoch 135/500\n",
      "\u001b[1m5/5\u001b[0m \u001b[32m━━━━━━━━━━━━━━━━━━━━\u001b[0m\u001b[37m\u001b[0m \u001b[1m0s\u001b[0m 19ms/step - loss: 1209619584.0000 - val_loss: 343885774848.0000\n",
      "Epoch 136/500\n",
      "\u001b[1m5/5\u001b[0m \u001b[32m━━━━━━━━━━━━━━━━━━━━\u001b[0m\u001b[37m\u001b[0m \u001b[1m0s\u001b[0m 20ms/step - loss: 859297344.0000 - val_loss: 343207051264.0000\n",
      "Epoch 137/500\n",
      "\u001b[1m5/5\u001b[0m \u001b[32m━━━━━━━━━━━━━━━━━━━━\u001b[0m\u001b[37m\u001b[0m \u001b[1m0s\u001b[0m 21ms/step - loss: 1115895680.0000 - val_loss: 342174236672.0000\n",
      "Epoch 138/500\n",
      "\u001b[1m5/5\u001b[0m \u001b[32m━━━━━━━━━━━━━━━━━━━━\u001b[0m\u001b[37m\u001b[0m \u001b[1m0s\u001b[0m 20ms/step - loss: 704489216.0000 - val_loss: 343057760256.0000\n",
      "Epoch 139/500\n",
      "\u001b[1m5/5\u001b[0m \u001b[32m━━━━━━━━━━━━━━━━━━━━\u001b[0m\u001b[37m\u001b[0m \u001b[1m0s\u001b[0m 18ms/step - loss: 694025664.0000 - val_loss: 344163090432.0000\n",
      "Epoch 140/500\n",
      "\u001b[1m5/5\u001b[0m \u001b[32m━━━━━━━━━━━━━━━━━━━━\u001b[0m\u001b[37m\u001b[0m \u001b[1m0s\u001b[0m 22ms/step - loss: 759097088.0000 - val_loss: 344060526592.0000\n",
      "Epoch 141/500\n",
      "\u001b[1m5/5\u001b[0m \u001b[32m━━━━━━━━━━━━━━━━━━━━\u001b[0m\u001b[37m\u001b[0m \u001b[1m0s\u001b[0m 17ms/step - loss: 1124872832.0000 - val_loss: 341989720064.0000\n",
      "Epoch 142/500\n",
      "\u001b[1m5/5\u001b[0m \u001b[32m━━━━━━━━━━━━━━━━━━━━\u001b[0m\u001b[37m\u001b[0m \u001b[1m0s\u001b[0m 17ms/step - loss: 887071488.0000 - val_loss: 342156279808.0000\n",
      "Epoch 143/500\n",
      "\u001b[1m5/5\u001b[0m \u001b[32m━━━━━━━━━━━━━━━━━━━━\u001b[0m\u001b[37m\u001b[0m \u001b[1m0s\u001b[0m 14ms/step - loss: 686268736.0000 - val_loss: 343736647680.0000\n",
      "Epoch 144/500\n",
      "\u001b[1m5/5\u001b[0m \u001b[32m━━━━━━━━━━━━━━━━━━━━\u001b[0m\u001b[37m\u001b[0m \u001b[1m0s\u001b[0m 14ms/step - loss: 755738880.0000 - val_loss: 344019632128.0000\n",
      "Epoch 145/500\n",
      "\u001b[1m5/5\u001b[0m \u001b[32m━━━━━━━━━━━━━━━━━━━━\u001b[0m\u001b[37m\u001b[0m \u001b[1m0s\u001b[0m 18ms/step - loss: 1151873792.0000 - val_loss: 344885821440.0000\n",
      "Epoch 146/500\n",
      "\u001b[1m5/5\u001b[0m \u001b[32m━━━━━━━━━━━━━━━━━━━━\u001b[0m\u001b[37m\u001b[0m \u001b[1m0s\u001b[0m 14ms/step - loss: 1138370560.0000 - val_loss: 344425365504.0000\n",
      "Epoch 147/500\n",
      "\u001b[1m5/5\u001b[0m \u001b[32m━━━━━━━━━━━━━━━━━━━━\u001b[0m\u001b[37m\u001b[0m \u001b[1m0s\u001b[0m 17ms/step - loss: 811784640.0000 - val_loss: 343270948864.0000\n",
      "Epoch 148/500\n",
      "\u001b[1m5/5\u001b[0m \u001b[32m━━━━━━━━━━━━━━━━━━━━\u001b[0m\u001b[37m\u001b[0m \u001b[1m0s\u001b[0m 14ms/step - loss: 1070820096.0000 - val_loss: 342999793664.0000\n",
      "Epoch 149/500\n",
      "\u001b[1m5/5\u001b[0m \u001b[32m━━━━━━━━━━━━━━━━━━━━\u001b[0m\u001b[37m\u001b[0m \u001b[1m0s\u001b[0m 15ms/step - loss: 872511936.0000 - val_loss: 342874980352.0000\n",
      "Epoch 150/500\n",
      "\u001b[1m5/5\u001b[0m \u001b[32m━━━━━━━━━━━━━━━━━━━━\u001b[0m\u001b[37m\u001b[0m \u001b[1m0s\u001b[0m 13ms/step - loss: 986787456.0000 - val_loss: 343157309440.0000\n",
      "Epoch 151/500\n",
      "\u001b[1m5/5\u001b[0m \u001b[32m━━━━━━━━━━━━━━━━━━━━\u001b[0m\u001b[37m\u001b[0m \u001b[1m0s\u001b[0m 16ms/step - loss: 760052928.0000 - val_loss: 344094900224.0000\n",
      "Epoch 152/500\n",
      "\u001b[1m5/5\u001b[0m \u001b[32m━━━━━━━━━━━━━━━━━━━━\u001b[0m\u001b[37m\u001b[0m \u001b[1m0s\u001b[0m 16ms/step - loss: 769847808.0000 - val_loss: 344510693376.0000\n",
      "Epoch 153/500\n",
      "\u001b[1m5/5\u001b[0m \u001b[32m━━━━━━━━━━━━━━━━━━━━\u001b[0m\u001b[37m\u001b[0m \u001b[1m0s\u001b[0m 15ms/step - loss: 824495808.0000 - val_loss: 343054778368.0000\n",
      "Epoch 154/500\n",
      "\u001b[1m5/5\u001b[0m \u001b[32m━━━━━━━━━━━━━━━━━━━━\u001b[0m\u001b[37m\u001b[0m \u001b[1m0s\u001b[0m 13ms/step - loss: 791815872.0000 - val_loss: 342734929920.0000\n",
      "Epoch 155/500\n",
      "\u001b[1m5/5\u001b[0m \u001b[32m━━━━━━━━━━━━━━━━━━━━\u001b[0m\u001b[37m\u001b[0m \u001b[1m0s\u001b[0m 14ms/step - loss: 688471936.0000 - val_loss: 343613374464.0000\n",
      "Epoch 156/500\n",
      "\u001b[1m5/5\u001b[0m \u001b[32m━━━━━━━━━━━━━━━━━━━━\u001b[0m\u001b[37m\u001b[0m \u001b[1m0s\u001b[0m 14ms/step - loss: 1051185536.0000 - val_loss: 343093706752.0000\n",
      "Epoch 157/500\n",
      "\u001b[1m5/5\u001b[0m \u001b[32m━━━━━━━━━━━━━━━━━━━━\u001b[0m\u001b[37m\u001b[0m \u001b[1m0s\u001b[0m 12ms/step - loss: 986884608.0000 - val_loss: 343029547008.0000\n",
      "Epoch 158/500\n",
      "\u001b[1m5/5\u001b[0m \u001b[32m━━━━━━━━━━━━━━━━━━━━\u001b[0m\u001b[37m\u001b[0m \u001b[1m0s\u001b[0m 14ms/step - loss: 584592896.0000 - val_loss: 343270817792.0000\n",
      "Epoch 159/500\n",
      "\u001b[1m5/5\u001b[0m \u001b[32m━━━━━━━━━━━━━━━━━━━━\u001b[0m\u001b[37m\u001b[0m \u001b[1m0s\u001b[0m 16ms/step - loss: 1427674624.0000 - val_loss: 343305551872.0000\n",
      "Epoch 160/500\n",
      "\u001b[1m5/5\u001b[0m \u001b[32m━━━━━━━━━━━━━━━━━━━━\u001b[0m\u001b[37m\u001b[0m \u001b[1m0s\u001b[0m 14ms/step - loss: 818599040.0000 - val_loss: 343392681984.0000\n",
      "Epoch 161/500\n",
      "\u001b[1m5/5\u001b[0m \u001b[32m━━━━━━━━━━━━━━━━━━━━\u001b[0m\u001b[37m\u001b[0m \u001b[1m0s\u001b[0m 18ms/step - loss: 1054484352.0000 - val_loss: 342875701248.0000\n",
      "Epoch 162/500\n",
      "\u001b[1m5/5\u001b[0m \u001b[32m━━━━━━━━━━━━━━━━━━━━\u001b[0m\u001b[37m\u001b[0m \u001b[1m0s\u001b[0m 13ms/step - loss: 1216826880.0000 - val_loss: 342014951424.0000\n",
      "Epoch 163/500\n",
      "\u001b[1m5/5\u001b[0m \u001b[32m━━━━━━━━━━━━━━━━━━━━\u001b[0m\u001b[37m\u001b[0m \u001b[1m0s\u001b[0m 15ms/step - loss: 906764416.0000 - val_loss: 345637486592.0000\n",
      "Epoch 164/500\n",
      "\u001b[1m5/5\u001b[0m \u001b[32m━━━━━━━━━━━━━━━━━━━━\u001b[0m\u001b[37m\u001b[0m \u001b[1m0s\u001b[0m 27ms/step - loss: 938313856.0000 - val_loss: 346505347072.0000\n",
      "Epoch 165/500\n",
      "\u001b[1m5/5\u001b[0m \u001b[32m━━━━━━━━━━━━━━━━━━━━\u001b[0m\u001b[37m\u001b[0m \u001b[1m0s\u001b[0m 17ms/step - loss: 804078592.0000 - val_loss: 344106631168.0000\n",
      "Epoch 166/500\n",
      "\u001b[1m5/5\u001b[0m \u001b[32m━━━━━━━━━━━━━━━━━━━━\u001b[0m\u001b[37m\u001b[0m \u001b[1m0s\u001b[0m 15ms/step - loss: 845097216.0000 - val_loss: 343720493056.0000\n",
      "Epoch 167/500\n",
      "\u001b[1m5/5\u001b[0m \u001b[32m━━━━━━━━━━━━━━━━━━━━\u001b[0m\u001b[37m\u001b[0m \u001b[1m0s\u001b[0m 19ms/step - loss: 987313152.0000 - val_loss: 344186552320.0000\n",
      "Epoch 168/500\n",
      "\u001b[1m5/5\u001b[0m \u001b[32m━━━━━━━━━━━━━━━━━━━━\u001b[0m\u001b[37m\u001b[0m \u001b[1m0s\u001b[0m 15ms/step - loss: 1035032384.0000 - val_loss: 344183767040.0000\n",
      "Epoch 169/500\n",
      "\u001b[1m5/5\u001b[0m \u001b[32m━━━━━━━━━━━━━━━━━━━━\u001b[0m\u001b[37m\u001b[0m \u001b[1m0s\u001b[0m 16ms/step - loss: 845621184.0000 - val_loss: 342875209728.0000\n",
      "Epoch 170/500\n",
      "\u001b[1m5/5\u001b[0m \u001b[32m━━━━━━━━━━━━━━━━━━━━\u001b[0m\u001b[37m\u001b[0m \u001b[1m0s\u001b[0m 19ms/step - loss: 1250147328.0000 - val_loss: 342071574528.0000\n",
      "Epoch 171/500\n",
      "\u001b[1m5/5\u001b[0m \u001b[32m━━━━━━━━━━━━━━━━━━━━\u001b[0m\u001b[37m\u001b[0m \u001b[1m0s\u001b[0m 17ms/step - loss: 691221440.0000 - val_loss: 342610837504.0000\n",
      "Epoch 172/500\n",
      "\u001b[1m5/5\u001b[0m \u001b[32m━━━━━━━━━━━━━━━━━━━━\u001b[0m\u001b[37m\u001b[0m \u001b[1m0s\u001b[0m 14ms/step - loss: 678584448.0000 - val_loss: 343275110400.0000\n",
      "Epoch 173/500\n",
      "\u001b[1m5/5\u001b[0m \u001b[32m━━━━━━━━━━━━━━━━━━━━\u001b[0m\u001b[37m\u001b[0m \u001b[1m0s\u001b[0m 15ms/step - loss: 863928128.0000 - val_loss: 344170823680.0000\n",
      "Epoch 174/500\n",
      "\u001b[1m5/5\u001b[0m \u001b[32m━━━━━━━━━━━━━━━━━━━━\u001b[0m\u001b[37m\u001b[0m \u001b[1m0s\u001b[0m 17ms/step - loss: 1241889408.0000 - val_loss: 342863216640.0000\n",
      "Epoch 175/500\n",
      "\u001b[1m5/5\u001b[0m \u001b[32m━━━━━━━━━━━━━━━━━━━━\u001b[0m\u001b[37m\u001b[0m \u001b[1m0s\u001b[0m 16ms/step - loss: 556481024.0000 - val_loss: 342186459136.0000\n",
      "Epoch 176/500\n",
      "\u001b[1m5/5\u001b[0m \u001b[32m━━━━━━━━━━━━━━━━━━━━\u001b[0m\u001b[37m\u001b[0m \u001b[1m0s\u001b[0m 16ms/step - loss: 618801728.0000 - val_loss: 343018176512.0000\n",
      "Epoch 177/500\n",
      "\u001b[1m5/5\u001b[0m \u001b[32m━━━━━━━━━━━━━━━━━━━━\u001b[0m\u001b[37m\u001b[0m \u001b[1m0s\u001b[0m 18ms/step - loss: 916994560.0000 - val_loss: 346012647424.0000\n",
      "Epoch 178/500\n",
      "\u001b[1m5/5\u001b[0m \u001b[32m━━━━━━━━━━━━━━━━━━━━\u001b[0m\u001b[37m\u001b[0m \u001b[1m0s\u001b[0m 17ms/step - loss: 910736896.0000 - val_loss: 345132662784.0000\n",
      "Epoch 179/500\n",
      "\u001b[1m5/5\u001b[0m \u001b[32m━━━━━━━━━━━━━━━━━━━━\u001b[0m\u001b[37m\u001b[0m \u001b[1m0s\u001b[0m 14ms/step - loss: 836834816.0000 - val_loss: 342411476992.0000\n",
      "Epoch 180/500\n",
      "\u001b[1m5/5\u001b[0m \u001b[32m━━━━━━━━━━━━━━━━━━━━\u001b[0m\u001b[37m\u001b[0m \u001b[1m0s\u001b[0m 13ms/step - loss: 599644736.0000 - val_loss: 343415488512.0000\n",
      "Epoch 181/500\n",
      "\u001b[1m5/5\u001b[0m \u001b[32m━━━━━━━━━━━━━━━━━━━━\u001b[0m\u001b[37m\u001b[0m \u001b[1m0s\u001b[0m 14ms/step - loss: 1043198272.0000 - val_loss: 345421545472.0000\n",
      "Epoch 182/500\n",
      "\u001b[1m5/5\u001b[0m \u001b[32m━━━━━━━━━━━━━━━━━━━━\u001b[0m\u001b[37m\u001b[0m \u001b[1m0s\u001b[0m 19ms/step - loss: 1310740096.0000 - val_loss: 344094507008.0000\n",
      "Epoch 183/500\n",
      "\u001b[1m5/5\u001b[0m \u001b[32m━━━━━━━━━━━━━━━━━━━━\u001b[0m\u001b[37m\u001b[0m \u001b[1m0s\u001b[0m 20ms/step - loss: 825890240.0000 - val_loss: 341552267264.0000\n",
      "Epoch 184/500\n",
      "\u001b[1m5/5\u001b[0m \u001b[32m━━━━━━━━━━━━━━━━━━━━\u001b[0m\u001b[37m\u001b[0m \u001b[1m0s\u001b[0m 20ms/step - loss: 1004142784.0000 - val_loss: 341759721472.0000\n",
      "Epoch 185/500\n",
      "\u001b[1m5/5\u001b[0m \u001b[32m━━━━━━━━━━━━━━━━━━━━\u001b[0m\u001b[37m\u001b[0m \u001b[1m0s\u001b[0m 19ms/step - loss: 1023682752.0000 - val_loss: 342394601472.0000\n",
      "Epoch 186/500\n",
      "\u001b[1m5/5\u001b[0m \u001b[32m━━━━━━━━━━━━━━━━━━━━\u001b[0m\u001b[37m\u001b[0m \u001b[1m0s\u001b[0m 19ms/step - loss: 723261312.0000 - val_loss: 343053434880.0000\n",
      "Epoch 187/500\n",
      "\u001b[1m5/5\u001b[0m \u001b[32m━━━━━━━━━━━━━━━━━━━━\u001b[0m\u001b[37m\u001b[0m \u001b[1m0s\u001b[0m 15ms/step - loss: 724032640.0000 - val_loss: 342379560960.0000\n",
      "Epoch 188/500\n",
      "\u001b[1m5/5\u001b[0m \u001b[32m━━━━━━━━━━━━━━━━━━━━\u001b[0m\u001b[37m\u001b[0m \u001b[1m0s\u001b[0m 14ms/step - loss: 543707520.0000 - val_loss: 342778937344.0000\n",
      "Epoch 189/500\n",
      "\u001b[1m5/5\u001b[0m \u001b[32m━━━━━━━━━━━━━━━━━━━━\u001b[0m\u001b[37m\u001b[0m \u001b[1m0s\u001b[0m 24ms/step - loss: 949767808.0000 - val_loss: 343531978752.0000\n",
      "Epoch 190/500\n",
      "\u001b[1m5/5\u001b[0m \u001b[32m━━━━━━━━━━━━━━━━━━━━\u001b[0m\u001b[37m\u001b[0m \u001b[1m0s\u001b[0m 17ms/step - loss: 1139961344.0000 - val_loss: 343807361024.0000\n",
      "Epoch 191/500\n",
      "\u001b[1m5/5\u001b[0m \u001b[32m━━━━━━━━━━━━━━━━━━━━\u001b[0m\u001b[37m\u001b[0m \u001b[1m0s\u001b[0m 19ms/step - loss: 1068957504.0000 - val_loss: 343345004544.0000\n",
      "Epoch 192/500\n",
      "\u001b[1m5/5\u001b[0m \u001b[32m━━━━━━━━━━━━━━━━━━━━\u001b[0m\u001b[37m\u001b[0m \u001b[1m0s\u001b[0m 17ms/step - loss: 716987648.0000 - val_loss: 342538387456.0000\n",
      "Epoch 193/500\n",
      "\u001b[1m5/5\u001b[0m \u001b[32m━━━━━━━━━━━━━━━━━━━━\u001b[0m\u001b[37m\u001b[0m \u001b[1m0s\u001b[0m 17ms/step - loss: 875382528.0000 - val_loss: 343076667392.0000\n",
      "Epoch 194/500\n",
      "\u001b[1m5/5\u001b[0m \u001b[32m━━━━━━━━━━━━━━━━━━━━\u001b[0m\u001b[37m\u001b[0m \u001b[1m0s\u001b[0m 17ms/step - loss: 798198784.0000 - val_loss: 343390322688.0000\n",
      "Epoch 195/500\n",
      "\u001b[1m5/5\u001b[0m \u001b[32m━━━━━━━━━━━━━━━━━━━━\u001b[0m\u001b[37m\u001b[0m \u001b[1m0s\u001b[0m 19ms/step - loss: 848756224.0000 - val_loss: 343313383424.0000\n",
      "Epoch 196/500\n",
      "\u001b[1m5/5\u001b[0m \u001b[32m━━━━━━━━━━━━━━━━━━━━\u001b[0m\u001b[37m\u001b[0m \u001b[1m0s\u001b[0m 21ms/step - loss: 723220224.0000 - val_loss: 342610673664.0000\n",
      "Epoch 197/500\n",
      "\u001b[1m5/5\u001b[0m \u001b[32m━━━━━━━━━━━━━━━━━━━━\u001b[0m\u001b[37m\u001b[0m \u001b[1m0s\u001b[0m 24ms/step - loss: 959571264.0000 - val_loss: 342140321792.0000\n",
      "Epoch 198/500\n",
      "\u001b[1m5/5\u001b[0m \u001b[32m━━━━━━━━━━━━━━━━━━━━\u001b[0m\u001b[37m\u001b[0m \u001b[1m0s\u001b[0m 18ms/step - loss: 1010744896.0000 - val_loss: 343558029312.0000\n",
      "Epoch 199/500\n",
      "\u001b[1m5/5\u001b[0m \u001b[32m━━━━━━━━━━━━━━━━━━━━\u001b[0m\u001b[37m\u001b[0m \u001b[1m0s\u001b[0m 20ms/step - loss: 675530240.0000 - val_loss: 343291428864.0000\n",
      "Epoch 200/500\n",
      "\u001b[1m5/5\u001b[0m \u001b[32m━━━━━━━━━━━━━━━━━━━━\u001b[0m\u001b[37m\u001b[0m \u001b[1m0s\u001b[0m 18ms/step - loss: 591088704.0000 - val_loss: 342341713920.0000\n",
      "Epoch 201/500\n",
      "\u001b[1m5/5\u001b[0m \u001b[32m━━━━━━━━━━━━━━━━━━━━\u001b[0m\u001b[37m\u001b[0m \u001b[1m0s\u001b[0m 17ms/step - loss: 724236288.0000 - val_loss: 343298834432.0000\n",
      "Epoch 202/500\n",
      "\u001b[1m5/5\u001b[0m \u001b[32m━━━━━━━━━━━━━━━━━━━━\u001b[0m\u001b[37m\u001b[0m \u001b[1m0s\u001b[0m 19ms/step - loss: 635891840.0000 - val_loss: 342119186432.0000\n",
      "Epoch 203/500\n",
      "\u001b[1m5/5\u001b[0m \u001b[32m━━━━━━━━━━━━━━━━━━━━\u001b[0m\u001b[37m\u001b[0m \u001b[1m0s\u001b[0m 20ms/step - loss: 843362112.0000 - val_loss: 342368288768.0000\n",
      "Epoch 204/500\n",
      "\u001b[1m5/5\u001b[0m \u001b[32m━━━━━━━━━━━━━━━━━━━━\u001b[0m\u001b[37m\u001b[0m \u001b[1m0s\u001b[0m 15ms/step - loss: 925703680.0000 - val_loss: 342501195776.0000\n",
      "Epoch 205/500\n",
      "\u001b[1m5/5\u001b[0m \u001b[32m━━━━━━━━━━━━━━━━━━━━\u001b[0m\u001b[37m\u001b[0m \u001b[1m0s\u001b[0m 18ms/step - loss: 585181376.0000 - val_loss: 341818540032.0000\n",
      "Epoch 206/500\n",
      "\u001b[1m5/5\u001b[0m \u001b[32m━━━━━━━━━━━━━━━━━━━━\u001b[0m\u001b[37m\u001b[0m \u001b[1m0s\u001b[0m 20ms/step - loss: 685706880.0000 - val_loss: 341876146176.0000\n",
      "Epoch 207/500\n",
      "\u001b[1m5/5\u001b[0m \u001b[32m━━━━━━━━━━━━━━━━━━━━\u001b[0m\u001b[37m\u001b[0m \u001b[1m0s\u001b[0m 16ms/step - loss: 970283904.0000 - val_loss: 342699966464.0000\n",
      "Epoch 208/500\n",
      "\u001b[1m5/5\u001b[0m \u001b[32m━━━━━━━━━━━━━━━━━━━━\u001b[0m\u001b[37m\u001b[0m \u001b[1m0s\u001b[0m 15ms/step - loss: 749590336.0000 - val_loss: 342979182592.0000\n",
      "Epoch 209/500\n",
      "\u001b[1m5/5\u001b[0m \u001b[32m━━━━━━━━━━━━━━━━━━━━\u001b[0m\u001b[37m\u001b[0m \u001b[1m0s\u001b[0m 19ms/step - loss: 1313089792.0000 - val_loss: 342692036608.0000\n",
      "Epoch 210/500\n",
      "\u001b[1m5/5\u001b[0m \u001b[32m━━━━━━━━━━━━━━━━━━━━\u001b[0m\u001b[37m\u001b[0m \u001b[1m0s\u001b[0m 19ms/step - loss: 512814752.0000 - val_loss: 342786277376.0000\n",
      "Epoch 211/500\n",
      "\u001b[1m5/5\u001b[0m \u001b[32m━━━━━━━━━━━━━━━━━━━━\u001b[0m\u001b[37m\u001b[0m \u001b[1m0s\u001b[0m 18ms/step - loss: 683692800.0000 - val_loss: 343007494144.0000\n",
      "Epoch 212/500\n",
      "\u001b[1m5/5\u001b[0m \u001b[32m━━━━━━━━━━━━━━━━━━━━\u001b[0m\u001b[37m\u001b[0m \u001b[1m0s\u001b[0m 19ms/step - loss: 1108778112.0000 - val_loss: 344023891968.0000\n",
      "Epoch 213/500\n",
      "\u001b[1m5/5\u001b[0m \u001b[32m━━━━━━━━━━━━━━━━━━━━\u001b[0m\u001b[37m\u001b[0m \u001b[1m0s\u001b[0m 20ms/step - loss: 631209536.0000 - val_loss: 343617699840.0000\n",
      "Epoch 214/500\n",
      "\u001b[1m5/5\u001b[0m \u001b[32m━━━━━━━━━━━━━━━━━━━━\u001b[0m\u001b[37m\u001b[0m \u001b[1m0s\u001b[0m 19ms/step - loss: 721789568.0000 - val_loss: 341721088000.0000\n",
      "Epoch 215/500\n",
      "\u001b[1m5/5\u001b[0m \u001b[32m━━━━━━━━━━━━━━━━━━━━\u001b[0m\u001b[37m\u001b[0m \u001b[1m0s\u001b[0m 18ms/step - loss: 854768512.0000 - val_loss: 342318612480.0000\n",
      "Epoch 216/500\n",
      "\u001b[1m5/5\u001b[0m \u001b[32m━━━━━━━━━━━━━━━━━━━━\u001b[0m\u001b[37m\u001b[0m \u001b[1m0s\u001b[0m 19ms/step - loss: 1264345600.0000 - val_loss: 343352213504.0000\n",
      "Epoch 217/500\n",
      "\u001b[1m5/5\u001b[0m \u001b[32m━━━━━━━━━━━━━━━━━━━━\u001b[0m\u001b[37m\u001b[0m \u001b[1m0s\u001b[0m 19ms/step - loss: 876200576.0000 - val_loss: 343369318400.0000\n",
      "Epoch 218/500\n",
      "\u001b[1m5/5\u001b[0m \u001b[32m━━━━━━━━━━━━━━━━━━━━\u001b[0m\u001b[37m\u001b[0m \u001b[1m0s\u001b[0m 19ms/step - loss: 619951232.0000 - val_loss: 342012952576.0000\n",
      "Epoch 219/500\n",
      "\u001b[1m5/5\u001b[0m \u001b[32m━━━━━━━━━━━━━━━━━━━━\u001b[0m\u001b[37m\u001b[0m \u001b[1m0s\u001b[0m 18ms/step - loss: 1235824768.0000 - val_loss: 343282384896.0000\n",
      "Epoch 220/500\n",
      "\u001b[1m5/5\u001b[0m \u001b[32m━━━━━━━━━━━━━━━━━━━━\u001b[0m\u001b[37m\u001b[0m \u001b[1m0s\u001b[0m 17ms/step - loss: 739785216.0000 - val_loss: 343923326976.0000\n",
      "Epoch 221/500\n",
      "\u001b[1m5/5\u001b[0m \u001b[32m━━━━━━━━━━━━━━━━━━━━\u001b[0m\u001b[37m\u001b[0m \u001b[1m0s\u001b[0m 20ms/step - loss: 1126942720.0000 - val_loss: 344324538368.0000\n",
      "Epoch 222/500\n",
      "\u001b[1m5/5\u001b[0m \u001b[32m━━━━━━━━━━━━━━━━━━━━\u001b[0m\u001b[37m\u001b[0m \u001b[1m0s\u001b[0m 18ms/step - loss: 677891392.0000 - val_loss: 343520477184.0000\n",
      "Epoch 223/500\n",
      "\u001b[1m5/5\u001b[0m \u001b[32m━━━━━━━━━━━━━━━━━━━━\u001b[0m\u001b[37m\u001b[0m \u001b[1m0s\u001b[0m 19ms/step - loss: 1372632064.0000 - val_loss: 342570893312.0000\n",
      "Epoch 224/500\n",
      "\u001b[1m5/5\u001b[0m \u001b[32m━━━━━━━━━━━━━━━━━━━━\u001b[0m\u001b[37m\u001b[0m \u001b[1m0s\u001b[0m 20ms/step - loss: 1135037312.0000 - val_loss: 343718232064.0000\n",
      "Epoch 225/500\n",
      "\u001b[1m5/5\u001b[0m \u001b[32m━━━━━━━━━━━━━━━━━━━━\u001b[0m\u001b[37m\u001b[0m \u001b[1m0s\u001b[0m 19ms/step - loss: 615188992.0000 - val_loss: 344201920512.0000\n",
      "Epoch 226/500\n",
      "\u001b[1m5/5\u001b[0m \u001b[32m━━━━━━━━━━━━━━━━━━━━\u001b[0m\u001b[37m\u001b[0m \u001b[1m0s\u001b[0m 21ms/step - loss: 558031296.0000 - val_loss: 343443505152.0000\n",
      "Epoch 227/500\n",
      "\u001b[1m5/5\u001b[0m \u001b[32m━━━━━━━━━━━━━━━━━━━━\u001b[0m\u001b[37m\u001b[0m \u001b[1m0s\u001b[0m 18ms/step - loss: 830249984.0000 - val_loss: 341322825728.0000\n",
      "Epoch 228/500\n",
      "\u001b[1m5/5\u001b[0m \u001b[32m━━━━━━━━━━━━━━━━━━━━\u001b[0m\u001b[37m\u001b[0m \u001b[1m0s\u001b[0m 20ms/step - loss: 1103406592.0000 - val_loss: 341991194624.0000\n",
      "Epoch 229/500\n",
      "\u001b[1m5/5\u001b[0m \u001b[32m━━━━━━━━━━━━━━━━━━━━\u001b[0m\u001b[37m\u001b[0m \u001b[1m0s\u001b[0m 20ms/step - loss: 853089792.0000 - val_loss: 342630432768.0000\n",
      "Epoch 230/500\n",
      "\u001b[1m5/5\u001b[0m \u001b[32m━━━━━━━━━━━━━━━━━━━━\u001b[0m\u001b[37m\u001b[0m \u001b[1m0s\u001b[0m 17ms/step - loss: 826243712.0000 - val_loss: 342583246848.0000\n",
      "Epoch 231/500\n",
      "\u001b[1m5/5\u001b[0m \u001b[32m━━━━━━━━━━━━━━━━━━━━\u001b[0m\u001b[37m\u001b[0m \u001b[1m0s\u001b[0m 17ms/step - loss: 901067584.0000 - val_loss: 341981102080.0000\n",
      "Epoch 232/500\n",
      "\u001b[1m5/5\u001b[0m \u001b[32m━━━━━━━━━━━━━━━━━━━━\u001b[0m\u001b[37m\u001b[0m \u001b[1m0s\u001b[0m 19ms/step - loss: 677948800.0000 - val_loss: 341905375232.0000\n",
      "Epoch 233/500\n",
      "\u001b[1m5/5\u001b[0m \u001b[32m━━━━━━━━━━━━━━━━━━━━\u001b[0m\u001b[37m\u001b[0m \u001b[1m0s\u001b[0m 18ms/step - loss: 894628160.0000 - val_loss: 342973415424.0000\n",
      "Epoch 234/500\n",
      "\u001b[1m5/5\u001b[0m \u001b[32m━━━━━━━━━━━━━━━━━━━━\u001b[0m\u001b[37m\u001b[0m \u001b[1m0s\u001b[0m 19ms/step - loss: 676682304.0000 - val_loss: 344098111488.0000\n",
      "Epoch 235/500\n",
      "\u001b[1m5/5\u001b[0m \u001b[32m━━━━━━━━━━━━━━━━━━━━\u001b[0m\u001b[37m\u001b[0m \u001b[1m0s\u001b[0m 18ms/step - loss: 904767744.0000 - val_loss: 343285039104.0000\n",
      "Epoch 236/500\n",
      "\u001b[1m5/5\u001b[0m \u001b[32m━━━━━━━━━━━━━━━━━━━━\u001b[0m\u001b[37m\u001b[0m \u001b[1m0s\u001b[0m 17ms/step - loss: 829315136.0000 - val_loss: 342202449920.0000\n",
      "Epoch 237/500\n",
      "\u001b[1m5/5\u001b[0m \u001b[32m━━━━━━━━━━━━━━━━━━━━\u001b[0m\u001b[37m\u001b[0m \u001b[1m0s\u001b[0m 19ms/step - loss: 552279040.0000 - val_loss: 342711304192.0000\n",
      "Epoch 238/500\n",
      "\u001b[1m5/5\u001b[0m \u001b[32m━━━━━━━━━━━━━━━━━━━━\u001b[0m\u001b[37m\u001b[0m \u001b[1m0s\u001b[0m 17ms/step - loss: 1154810112.0000 - val_loss: 343001694208.0000\n",
      "Epoch 239/500\n",
      "\u001b[1m5/5\u001b[0m \u001b[32m━━━━━━━━━━━━━━━━━━━━\u001b[0m\u001b[37m\u001b[0m \u001b[1m0s\u001b[0m 18ms/step - loss: 806829056.0000 - val_loss: 343081254912.0000\n",
      "Epoch 240/500\n",
      "\u001b[1m5/5\u001b[0m \u001b[32m━━━━━━━━━━━━━━━━━━━━\u001b[0m\u001b[37m\u001b[0m \u001b[1m0s\u001b[0m 18ms/step - loss: 1026719488.0000 - val_loss: 343143284736.0000\n",
      "Epoch 241/500\n",
      "\u001b[1m5/5\u001b[0m \u001b[32m━━━━━━━━━━━━━━━━━━━━\u001b[0m\u001b[37m\u001b[0m \u001b[1m0s\u001b[0m 21ms/step - loss: 582518592.0000 - val_loss: 342488776704.0000\n",
      "Epoch 242/500\n",
      "\u001b[1m5/5\u001b[0m \u001b[32m━━━━━━━━━━━━━━━━━━━━\u001b[0m\u001b[37m\u001b[0m \u001b[1m0s\u001b[0m 32ms/step - loss: 1020141760.0000 - val_loss: 342468395008.0000\n",
      "Epoch 243/500\n",
      "\u001b[1m5/5\u001b[0m \u001b[32m━━━━━━━━━━━━━━━━━━━━\u001b[0m\u001b[37m\u001b[0m \u001b[1m0s\u001b[0m 19ms/step - loss: 946844928.0000 - val_loss: 342189932544.0000\n",
      "Epoch 244/500\n",
      "\u001b[1m5/5\u001b[0m \u001b[32m━━━━━━━━━━━━━━━━━━━━\u001b[0m\u001b[37m\u001b[0m \u001b[1m0s\u001b[0m 17ms/step - loss: 1100665216.0000 - val_loss: 342524264448.0000\n",
      "Epoch 245/500\n",
      "\u001b[1m5/5\u001b[0m \u001b[32m━━━━━━━━━━━━━━━━━━━━\u001b[0m\u001b[37m\u001b[0m \u001b[1m0s\u001b[0m 24ms/step - loss: 952654336.0000 - val_loss: 342784180224.0000\n",
      "Epoch 246/500\n",
      "\u001b[1m5/5\u001b[0m \u001b[32m━━━━━━━━━━━━━━━━━━━━\u001b[0m\u001b[37m\u001b[0m \u001b[1m0s\u001b[0m 17ms/step - loss: 768652736.0000 - val_loss: 341555380224.0000\n",
      "Epoch 247/500\n",
      "\u001b[1m5/5\u001b[0m \u001b[32m━━━━━━━━━━━━━━━━━━━━\u001b[0m\u001b[37m\u001b[0m \u001b[1m0s\u001b[0m 19ms/step - loss: 1215023232.0000 - val_loss: 342040084480.0000\n",
      "Epoch 248/500\n",
      "\u001b[1m5/5\u001b[0m \u001b[32m━━━━━━━━━━━━━━━━━━━━\u001b[0m\u001b[37m\u001b[0m \u001b[1m0s\u001b[0m 16ms/step - loss: 682426880.0000 - val_loss: 342688006144.0000\n",
      "Epoch 249/500\n",
      "\u001b[1m5/5\u001b[0m \u001b[32m━━━━━━━━━━━━━━━━━━━━\u001b[0m\u001b[37m\u001b[0m \u001b[1m0s\u001b[0m 18ms/step - loss: 491847296.0000 - val_loss: 342828941312.0000\n",
      "Epoch 250/500\n",
      "\u001b[1m5/5\u001b[0m \u001b[32m━━━━━━━━━━━━━━━━━━━━\u001b[0m\u001b[37m\u001b[0m \u001b[1m0s\u001b[0m 16ms/step - loss: 1292754944.0000 - val_loss: 344380014592.0000\n",
      "Epoch 251/500\n",
      "\u001b[1m5/5\u001b[0m \u001b[32m━━━━━━━━━━━━━━━━━━━━\u001b[0m\u001b[37m\u001b[0m \u001b[1m0s\u001b[0m 16ms/step - loss: 1221453824.0000 - val_loss: 343614390272.0000\n",
      "Epoch 252/500\n",
      "\u001b[1m5/5\u001b[0m \u001b[32m━━━━━━━━━━━━━━━━━━━━\u001b[0m\u001b[37m\u001b[0m \u001b[1m0s\u001b[0m 22ms/step - loss: 736554560.0000 - val_loss: 342723756032.0000\n",
      "Epoch 253/500\n",
      "\u001b[1m5/5\u001b[0m \u001b[32m━━━━━━━━━━━━━━━━━━━━\u001b[0m\u001b[37m\u001b[0m \u001b[1m0s\u001b[0m 19ms/step - loss: 940572608.0000 - val_loss: 344352849920.0000\n",
      "Epoch 254/500\n",
      "\u001b[1m5/5\u001b[0m \u001b[32m━━━━━━━━━━━━━━━━━━━━\u001b[0m\u001b[37m\u001b[0m \u001b[1m0s\u001b[0m 23ms/step - loss: 806055616.0000 - val_loss: 342779822080.0000\n",
      "Epoch 255/500\n",
      "\u001b[1m5/5\u001b[0m \u001b[32m━━━━━━━━━━━━━━━━━━━━\u001b[0m\u001b[37m\u001b[0m \u001b[1m0s\u001b[0m 17ms/step - loss: 727362176.0000 - val_loss: 340901167104.0000\n",
      "Epoch 256/500\n",
      "\u001b[1m5/5\u001b[0m \u001b[32m━━━━━━━━━━━━━━━━━━━━\u001b[0m\u001b[37m\u001b[0m \u001b[1m0s\u001b[0m 14ms/step - loss: 780539328.0000 - val_loss: 340633944064.0000\n",
      "Epoch 257/500\n",
      "\u001b[1m5/5\u001b[0m \u001b[32m━━━━━━━━━━━━━━━━━━━━\u001b[0m\u001b[37m\u001b[0m \u001b[1m0s\u001b[0m 14ms/step - loss: 813686528.0000 - val_loss: 341292711936.0000\n",
      "Epoch 258/500\n",
      "\u001b[1m5/5\u001b[0m \u001b[32m━━━━━━━━━━━━━━━━━━━━\u001b[0m\u001b[37m\u001b[0m \u001b[1m0s\u001b[0m 14ms/step - loss: 845093440.0000 - val_loss: 342306258944.0000\n",
      "Epoch 259/500\n",
      "\u001b[1m5/5\u001b[0m \u001b[32m━━━━━━━━━━━━━━━━━━━━\u001b[0m\u001b[37m\u001b[0m \u001b[1m0s\u001b[0m 14ms/step - loss: 1036391040.0000 - val_loss: 343174938624.0000\n",
      "Epoch 260/500\n",
      "\u001b[1m5/5\u001b[0m \u001b[32m━━━━━━━━━━━━━━━━━━━━\u001b[0m\u001b[37m\u001b[0m \u001b[1m0s\u001b[0m 14ms/step - loss: 862734976.0000 - val_loss: 343013752832.0000\n",
      "Epoch 261/500\n",
      "\u001b[1m5/5\u001b[0m \u001b[32m━━━━━━━━━━━━━━━━━━━━\u001b[0m\u001b[37m\u001b[0m \u001b[1m0s\u001b[0m 14ms/step - loss: 541747200.0000 - val_loss: 342417768448.0000\n",
      "Epoch 262/500\n",
      "\u001b[1m5/5\u001b[0m \u001b[32m━━━━━━━━━━━━━━━━━━━━\u001b[0m\u001b[37m\u001b[0m \u001b[1m0s\u001b[0m 13ms/step - loss: 713591168.0000 - val_loss: 342632824832.0000\n",
      "Epoch 263/500\n",
      "\u001b[1m5/5\u001b[0m \u001b[32m━━━━━━━━━━━━━━━━━━━━\u001b[0m\u001b[37m\u001b[0m \u001b[1m0s\u001b[0m 12ms/step - loss: 1190950144.0000 - val_loss: 344022876160.0000\n",
      "Epoch 264/500\n",
      "\u001b[1m5/5\u001b[0m \u001b[32m━━━━━━━━━━━━━━━━━━━━\u001b[0m\u001b[37m\u001b[0m \u001b[1m0s\u001b[0m 14ms/step - loss: 1326877824.0000 - val_loss: 343770365952.0000\n",
      "Epoch 265/500\n",
      "\u001b[1m5/5\u001b[0m \u001b[32m━━━━━━━━━━━━━━━━━━━━\u001b[0m\u001b[37m\u001b[0m \u001b[1m0s\u001b[0m 14ms/step - loss: 748521856.0000 - val_loss: 341474181120.0000\n",
      "Epoch 266/500\n",
      "\u001b[1m5/5\u001b[0m \u001b[32m━━━━━━━━━━━━━━━━━━━━\u001b[0m\u001b[37m\u001b[0m \u001b[1m0s\u001b[0m 16ms/step - loss: 896502976.0000 - val_loss: 341042987008.0000\n",
      "Epoch 267/500\n",
      "\u001b[1m5/5\u001b[0m \u001b[32m━━━━━━━━━━━━━━━━━━━━\u001b[0m\u001b[37m\u001b[0m \u001b[1m0s\u001b[0m 15ms/step - loss: 562447680.0000 - val_loss: 342407970816.0000\n",
      "Epoch 268/500\n",
      "\u001b[1m5/5\u001b[0m \u001b[32m━━━━━━━━━━━━━━━━━━━━\u001b[0m\u001b[37m\u001b[0m \u001b[1m0s\u001b[0m 13ms/step - loss: 755421632.0000 - val_loss: 343150460928.0000\n",
      "Epoch 269/500\n",
      "\u001b[1m5/5\u001b[0m \u001b[32m━━━━━━━━━━━━━━━━━━━━\u001b[0m\u001b[37m\u001b[0m \u001b[1m0s\u001b[0m 12ms/step - loss: 1066604608.0000 - val_loss: 343045734400.0000\n",
      "Epoch 270/500\n",
      "\u001b[1m5/5\u001b[0m \u001b[32m━━━━━━━━━━━━━━━━━━━━\u001b[0m\u001b[37m\u001b[0m \u001b[1m0s\u001b[0m 14ms/step - loss: 564636224.0000 - val_loss: 342859677696.0000\n",
      "Epoch 271/500\n",
      "\u001b[1m5/5\u001b[0m \u001b[32m━━━━━━━━━━━━━━━━━━━━\u001b[0m\u001b[37m\u001b[0m \u001b[1m0s\u001b[0m 14ms/step - loss: 760843072.0000 - val_loss: 342211002368.0000\n",
      "Epoch 272/500\n",
      "\u001b[1m5/5\u001b[0m \u001b[32m━━━━━━━━━━━━━━━━━━━━\u001b[0m\u001b[37m\u001b[0m \u001b[1m0s\u001b[0m 14ms/step - loss: 598198848.0000 - val_loss: 342433464320.0000\n",
      "Epoch 273/500\n",
      "\u001b[1m5/5\u001b[0m \u001b[32m━━━━━━━━━━━━━━━━━━━━\u001b[0m\u001b[37m\u001b[0m \u001b[1m0s\u001b[0m 13ms/step - loss: 1197400320.0000 - val_loss: 343424204800.0000\n",
      "Epoch 274/500\n",
      "\u001b[1m5/5\u001b[0m \u001b[32m━━━━━━━━━━━━━━━━━━━━\u001b[0m\u001b[37m\u001b[0m \u001b[1m0s\u001b[0m 14ms/step - loss: 812073344.0000 - val_loss: 342349774848.0000\n",
      "Epoch 275/500\n",
      "\u001b[1m5/5\u001b[0m \u001b[32m━━━━━━━━━━━━━━━━━━━━\u001b[0m\u001b[37m\u001b[0m \u001b[1m0s\u001b[0m 17ms/step - loss: 1008841664.0000 - val_loss: 342696755200.0000\n",
      "Epoch 276/500\n",
      "\u001b[1m5/5\u001b[0m \u001b[32m━━━━━━━━━━━━━━━━━━━━\u001b[0m\u001b[37m\u001b[0m \u001b[1m0s\u001b[0m 19ms/step - loss: 671142720.0000 - val_loss: 343164157952.0000\n",
      "Epoch 277/500\n",
      "\u001b[1m5/5\u001b[0m \u001b[32m━━━━━━━━━━━━━━━━━━━━\u001b[0m\u001b[37m\u001b[0m \u001b[1m0s\u001b[0m 19ms/step - loss: 762140864.0000 - val_loss: 344558239744.0000\n",
      "Epoch 278/500\n",
      "\u001b[1m5/5\u001b[0m \u001b[32m━━━━━━━━━━━━━━━━━━━━\u001b[0m\u001b[37m\u001b[0m \u001b[1m0s\u001b[0m 19ms/step - loss: 883325504.0000 - val_loss: 342735421440.0000\n",
      "Epoch 279/500\n",
      "\u001b[1m5/5\u001b[0m \u001b[32m━━━━━━━━━━━━━━━━━━━━\u001b[0m\u001b[37m\u001b[0m \u001b[1m0s\u001b[0m 25ms/step - loss: 721316800.0000 - val_loss: 340586430464.0000\n",
      "Epoch 280/500\n",
      "\u001b[1m5/5\u001b[0m \u001b[32m━━━━━━━━━━━━━━━━━━━━\u001b[0m\u001b[37m\u001b[0m \u001b[1m0s\u001b[0m 25ms/step - loss: 607869056.0000 - val_loss: 342226731008.0000\n",
      "Epoch 281/500\n",
      "\u001b[1m5/5\u001b[0m \u001b[32m━━━━━━━━━━━━━━━━━━━━\u001b[0m\u001b[37m\u001b[0m \u001b[1m0s\u001b[0m 25ms/step - loss: 655730176.0000 - val_loss: 342654746624.0000\n",
      "Epoch 282/500\n",
      "\u001b[1m5/5\u001b[0m \u001b[32m━━━━━━━━━━━━━━━━━━━━\u001b[0m\u001b[37m\u001b[0m \u001b[1m0s\u001b[0m 22ms/step - loss: 1231430656.0000 - val_loss: 341802319872.0000\n",
      "Epoch 283/500\n",
      "\u001b[1m5/5\u001b[0m \u001b[32m━━━━━━━━━━━━━━━━━━━━\u001b[0m\u001b[37m\u001b[0m \u001b[1m0s\u001b[0m 20ms/step - loss: 623843648.0000 - val_loss: 341611872256.0000\n",
      "Epoch 284/500\n",
      "\u001b[1m5/5\u001b[0m \u001b[32m━━━━━━━━━━━━━━━━━━━━\u001b[0m\u001b[37m\u001b[0m \u001b[1m0s\u001b[0m 21ms/step - loss: 709702144.0000 - val_loss: 342365470720.0000\n",
      "Epoch 285/500\n",
      "\u001b[1m5/5\u001b[0m \u001b[32m━━━━━━━━━━━━━━━━━━━━\u001b[0m\u001b[37m\u001b[0m \u001b[1m0s\u001b[0m 21ms/step - loss: 792489216.0000 - val_loss: 343020830720.0000\n",
      "Epoch 286/500\n",
      "\u001b[1m5/5\u001b[0m \u001b[32m━━━━━━━━━━━━━━━━━━━━\u001b[0m\u001b[37m\u001b[0m \u001b[1m0s\u001b[0m 18ms/step - loss: 864034624.0000 - val_loss: 342439165952.0000\n",
      "Epoch 287/500\n",
      "\u001b[1m5/5\u001b[0m \u001b[32m━━━━━━━━━━━━━━━━━━━━\u001b[0m\u001b[37m\u001b[0m \u001b[1m0s\u001b[0m 18ms/step - loss: 1066512704.0000 - val_loss: 342274998272.0000\n",
      "Epoch 288/500\n",
      "\u001b[1m5/5\u001b[0m \u001b[32m━━━━━━━━━━━━━━━━━━━━\u001b[0m\u001b[37m\u001b[0m \u001b[1m0s\u001b[0m 21ms/step - loss: 1084215424.0000 - val_loss: 342563028992.0000\n",
      "Epoch 289/500\n",
      "\u001b[1m5/5\u001b[0m \u001b[32m━━━━━━━━━━━━━━━━━━━━\u001b[0m\u001b[37m\u001b[0m \u001b[1m0s\u001b[0m 21ms/step - loss: 852510336.0000 - val_loss: 342664019968.0000\n",
      "Epoch 290/500\n",
      "\u001b[1m5/5\u001b[0m \u001b[32m━━━━━━━━━━━━━━━━━━━━\u001b[0m\u001b[37m\u001b[0m \u001b[1m0s\u001b[0m 21ms/step - loss: 737044288.0000 - val_loss: 343194566656.0000\n",
      "Epoch 291/500\n",
      "\u001b[1m5/5\u001b[0m \u001b[32m━━━━━━━━━━━━━━━━━━━━\u001b[0m\u001b[37m\u001b[0m \u001b[1m0s\u001b[0m 20ms/step - loss: 586102080.0000 - val_loss: 342448144384.0000\n",
      "Epoch 292/500\n",
      "\u001b[1m5/5\u001b[0m \u001b[32m━━━━━━━━━━━━━━━━━━━━\u001b[0m\u001b[37m\u001b[0m \u001b[1m0s\u001b[0m 19ms/step - loss: 701642112.0000 - val_loss: 343313088512.0000\n",
      "Epoch 293/500\n",
      "\u001b[1m5/5\u001b[0m \u001b[32m━━━━━━━━━━━━━━━━━━━━\u001b[0m\u001b[37m\u001b[0m \u001b[1m0s\u001b[0m 20ms/step - loss: 923596864.0000 - val_loss: 342265495552.0000\n",
      "Epoch 294/500\n",
      "\u001b[1m5/5\u001b[0m \u001b[32m━━━━━━━━━━━━━━━━━━━━\u001b[0m\u001b[37m\u001b[0m \u001b[1m0s\u001b[0m 20ms/step - loss: 679255616.0000 - val_loss: 341573468160.0000\n",
      "Epoch 295/500\n",
      "\u001b[1m5/5\u001b[0m \u001b[32m━━━━━━━━━━━━━━━━━━━━\u001b[0m\u001b[37m\u001b[0m \u001b[1m0s\u001b[0m 16ms/step - loss: 959572032.0000 - val_loss: 342189506560.0000\n",
      "Epoch 296/500\n",
      "\u001b[1m5/5\u001b[0m \u001b[32m━━━━━━━━━━━━━━━━━━━━\u001b[0m\u001b[37m\u001b[0m \u001b[1m0s\u001b[0m 18ms/step - loss: 851590464.0000 - val_loss: 342440804352.0000\n",
      "Epoch 297/500\n",
      "\u001b[1m5/5\u001b[0m \u001b[32m━━━━━━━━━━━━━━━━━━━━\u001b[0m\u001b[37m\u001b[0m \u001b[1m0s\u001b[0m 18ms/step - loss: 815609408.0000 - val_loss: 342635184128.0000\n",
      "Epoch 298/500\n",
      "\u001b[1m5/5\u001b[0m \u001b[32m━━━━━━━━━━━━━━━━━━━━\u001b[0m\u001b[37m\u001b[0m \u001b[1m0s\u001b[0m 16ms/step - loss: 610948800.0000 - val_loss: 343224975360.0000\n",
      "Epoch 299/500\n",
      "\u001b[1m5/5\u001b[0m \u001b[32m━━━━━━━━━━━━━━━━━━━━\u001b[0m\u001b[37m\u001b[0m \u001b[1m0s\u001b[0m 20ms/step - loss: 830152064.0000 - val_loss: 340953432064.0000\n",
      "Epoch 300/500\n",
      "\u001b[1m5/5\u001b[0m \u001b[32m━━━━━━━━━━━━━━━━━━━━\u001b[0m\u001b[37m\u001b[0m \u001b[1m0s\u001b[0m 17ms/step - loss: 676425024.0000 - val_loss: 341356085248.0000\n",
      "Epoch 301/500\n",
      "\u001b[1m5/5\u001b[0m \u001b[32m━━━━━━━━━━━━━━━━━━━━\u001b[0m\u001b[37m\u001b[0m \u001b[1m0s\u001b[0m 17ms/step - loss: 891129920.0000 - val_loss: 342297411584.0000\n",
      "Epoch 302/500\n",
      "\u001b[1m5/5\u001b[0m \u001b[32m━━━━━━━━━━━━━━━━━━━━\u001b[0m\u001b[37m\u001b[0m \u001b[1m0s\u001b[0m 19ms/step - loss: 1363709568.0000 - val_loss: 342520561664.0000\n",
      "Epoch 303/500\n",
      "\u001b[1m5/5\u001b[0m \u001b[32m━━━━━━━━━━━━━━━━━━━━\u001b[0m\u001b[37m\u001b[0m \u001b[1m0s\u001b[0m 17ms/step - loss: 682220736.0000 - val_loss: 341994274816.0000\n",
      "Epoch 304/500\n",
      "\u001b[1m5/5\u001b[0m \u001b[32m━━━━━━━━━━━━━━━━━━━━\u001b[0m\u001b[37m\u001b[0m \u001b[1m0s\u001b[0m 20ms/step - loss: 824028736.0000 - val_loss: 342603169792.0000\n",
      "Epoch 305/500\n",
      "\u001b[1m5/5\u001b[0m \u001b[32m━━━━━━━━━━━━━━━━━━━━\u001b[0m\u001b[37m\u001b[0m \u001b[1m0s\u001b[0m 17ms/step - loss: 1056438336.0000 - val_loss: 342398533632.0000\n",
      "Epoch 306/500\n",
      "\u001b[1m5/5\u001b[0m \u001b[32m━━━━━━━━━━━━━━━━━━━━\u001b[0m\u001b[37m\u001b[0m \u001b[1m0s\u001b[0m 18ms/step - loss: 828563392.0000 - val_loss: 341927526400.0000\n",
      "Epoch 307/500\n",
      "\u001b[1m5/5\u001b[0m \u001b[32m━━━━━━━━━━━━━━━━━━━━\u001b[0m\u001b[37m\u001b[0m \u001b[1m0s\u001b[0m 19ms/step - loss: 947077568.0000 - val_loss: 342131539968.0000\n",
      "Epoch 308/500\n",
      "\u001b[1m5/5\u001b[0m \u001b[32m━━━━━━━━━━━━━━━━━━━━\u001b[0m\u001b[37m\u001b[0m \u001b[1m0s\u001b[0m 16ms/step - loss: 889407168.0000 - val_loss: 343549509632.0000\n",
      "Epoch 309/500\n",
      "\u001b[1m5/5\u001b[0m \u001b[32m━━━━━━━━━━━━━━━━━━━━\u001b[0m\u001b[37m\u001b[0m \u001b[1m0s\u001b[0m 17ms/step - loss: 730423104.0000 - val_loss: 343540989952.0000\n",
      "Epoch 310/500\n",
      "\u001b[1m5/5\u001b[0m \u001b[32m━━━━━━━━━━━━━━━━━━━━\u001b[0m\u001b[37m\u001b[0m \u001b[1m0s\u001b[0m 18ms/step - loss: 646182016.0000 - val_loss: 341628813312.0000\n",
      "Epoch 311/500\n",
      "\u001b[1m5/5\u001b[0m \u001b[32m━━━━━━━━━━━━━━━━━━━━\u001b[0m\u001b[37m\u001b[0m \u001b[1m0s\u001b[0m 19ms/step - loss: 625744832.0000 - val_loss: 341634547712.0000\n",
      "Epoch 312/500\n",
      "\u001b[1m5/5\u001b[0m \u001b[32m━━━━━━━━━━━━━━━━━━━━\u001b[0m\u001b[37m\u001b[0m \u001b[1m0s\u001b[0m 16ms/step - loss: 693117568.0000 - val_loss: 344031002624.0000\n",
      "Epoch 313/500\n",
      "\u001b[1m5/5\u001b[0m \u001b[32m━━━━━━━━━━━━━━━━━━━━\u001b[0m\u001b[37m\u001b[0m \u001b[1m0s\u001b[0m 17ms/step - loss: 662915328.0000 - val_loss: 342891134976.0000\n",
      "Epoch 314/500\n",
      "\u001b[1m5/5\u001b[0m \u001b[32m━━━━━━━━━━━━━━━━━━━━\u001b[0m\u001b[37m\u001b[0m \u001b[1m0s\u001b[0m 19ms/step - loss: 928641984.0000 - val_loss: 341465595904.0000\n",
      "Epoch 315/500\n",
      "\u001b[1m5/5\u001b[0m \u001b[32m━━━━━━━━━━━━━━━━━━━━\u001b[0m\u001b[37m\u001b[0m \u001b[1m0s\u001b[0m 19ms/step - loss: 890695744.0000 - val_loss: 342744137728.0000\n",
      "Epoch 316/500\n",
      "\u001b[1m5/5\u001b[0m \u001b[32m━━━━━━━━━━━━━━━━━━━━\u001b[0m\u001b[37m\u001b[0m \u001b[1m0s\u001b[0m 20ms/step - loss: 680849536.0000 - val_loss: 343266328576.0000\n",
      "Epoch 317/500\n",
      "\u001b[1m5/5\u001b[0m \u001b[32m━━━━━━━━━━━━━━━━━━━━\u001b[0m\u001b[37m\u001b[0m \u001b[1m0s\u001b[0m 16ms/step - loss: 690930112.0000 - val_loss: 342533636096.0000\n",
      "Epoch 318/500\n",
      "\u001b[1m5/5\u001b[0m \u001b[32m━━━━━━━━━━━━━━━━━━━━\u001b[0m\u001b[37m\u001b[0m \u001b[1m0s\u001b[0m 18ms/step - loss: 913546688.0000 - val_loss: 343190994944.0000\n",
      "Epoch 319/500\n",
      "\u001b[1m5/5\u001b[0m \u001b[32m━━━━━━━━━━━━━━━━━━━━\u001b[0m\u001b[37m\u001b[0m \u001b[1m0s\u001b[0m 19ms/step - loss: 975927872.0000 - val_loss: 342534455296.0000\n",
      "Epoch 320/500\n",
      "\u001b[1m5/5\u001b[0m \u001b[32m━━━━━━━━━━━━━━━━━━━━\u001b[0m\u001b[37m\u001b[0m \u001b[1m0s\u001b[0m 18ms/step - loss: 485148896.0000 - val_loss: 341762670592.0000\n",
      "Epoch 321/500\n",
      "\u001b[1m5/5\u001b[0m \u001b[32m━━━━━━━━━━━━━━━━━━━━\u001b[0m\u001b[37m\u001b[0m \u001b[1m0s\u001b[0m 22ms/step - loss: 790260160.0000 - val_loss: 343699456000.0000\n",
      "Epoch 322/500\n",
      "\u001b[1m5/5\u001b[0m \u001b[32m━━━━━━━━━━━━━━━━━━━━\u001b[0m\u001b[37m\u001b[0m \u001b[1m0s\u001b[0m 19ms/step - loss: 873445504.0000 - val_loss: 344439226368.0000\n",
      "Epoch 323/500\n",
      "\u001b[1m5/5\u001b[0m \u001b[32m━━━━━━━━━━━━━━━━━━━━\u001b[0m\u001b[37m\u001b[0m \u001b[1m0s\u001b[0m 19ms/step - loss: 591147648.0000 - val_loss: 342941597696.0000\n",
      "Epoch 324/500\n",
      "\u001b[1m5/5\u001b[0m \u001b[32m━━━━━━━━━━━━━━━━━━━━\u001b[0m\u001b[37m\u001b[0m \u001b[1m0s\u001b[0m 17ms/step - loss: 824663680.0000 - val_loss: 342357901312.0000\n",
      "Epoch 325/500\n",
      "\u001b[1m5/5\u001b[0m \u001b[32m━━━━━━━━━━━━━━━━━━━━\u001b[0m\u001b[37m\u001b[0m \u001b[1m0s\u001b[0m 16ms/step - loss: 918974720.0000 - val_loss: 343936663552.0000\n",
      "Epoch 326/500\n",
      "\u001b[1m5/5\u001b[0m \u001b[32m━━━━━━━━━━━━━━━━━━━━\u001b[0m\u001b[37m\u001b[0m \u001b[1m0s\u001b[0m 18ms/step - loss: 674747392.0000 - val_loss: 342655696896.0000\n",
      "Epoch 327/500\n",
      "\u001b[1m5/5\u001b[0m \u001b[32m━━━━━━━━━━━━━━━━━━━━\u001b[0m\u001b[37m\u001b[0m \u001b[1m0s\u001b[0m 18ms/step - loss: 721141696.0000 - val_loss: 341644017664.0000\n",
      "Epoch 328/500\n",
      "\u001b[1m5/5\u001b[0m \u001b[32m━━━━━━━━━━━━━━━━━━━━\u001b[0m\u001b[37m\u001b[0m \u001b[1m0s\u001b[0m 17ms/step - loss: 825875712.0000 - val_loss: 342263660544.0000\n",
      "Epoch 329/500\n",
      "\u001b[1m5/5\u001b[0m \u001b[32m━━━━━━━━━━━━━━━━━━━━\u001b[0m\u001b[37m\u001b[0m \u001b[1m0s\u001b[0m 18ms/step - loss: 674739584.0000 - val_loss: 342962176000.0000\n",
      "Epoch 330/500\n",
      "\u001b[1m5/5\u001b[0m \u001b[32m━━━━━━━━━━━━━━━━━━━━\u001b[0m\u001b[37m\u001b[0m \u001b[1m0s\u001b[0m 21ms/step - loss: 538766080.0000 - val_loss: 341757853696.0000\n",
      "Epoch 331/500\n",
      "\u001b[1m5/5\u001b[0m \u001b[32m━━━━━━━━━━━━━━━━━━━━\u001b[0m\u001b[37m\u001b[0m \u001b[1m0s\u001b[0m 19ms/step - loss: 1018545536.0000 - val_loss: 338999771136.0000\n",
      "Epoch 332/500\n",
      "\u001b[1m5/5\u001b[0m \u001b[32m━━━━━━━━━━━━━━━━━━━━\u001b[0m\u001b[37m\u001b[0m \u001b[1m0s\u001b[0m 21ms/step - loss: 781243328.0000 - val_loss: 341802254336.0000\n",
      "Epoch 333/500\n",
      "\u001b[1m5/5\u001b[0m \u001b[32m━━━━━━━━━━━━━━━━━━━━\u001b[0m\u001b[37m\u001b[0m \u001b[1m0s\u001b[0m 17ms/step - loss: 641180608.0000 - val_loss: 343802609664.0000\n",
      "Epoch 334/500\n",
      "\u001b[1m5/5\u001b[0m \u001b[32m━━━━━━━━━━━━━━━━━━━━\u001b[0m\u001b[37m\u001b[0m \u001b[1m0s\u001b[0m 17ms/step - loss: 799521984.0000 - val_loss: 343073980416.0000\n",
      "Epoch 335/500\n",
      "\u001b[1m5/5\u001b[0m \u001b[32m━━━━━━━━━━━━━━━━━━━━\u001b[0m\u001b[37m\u001b[0m \u001b[1m0s\u001b[0m 18ms/step - loss: 796610112.0000 - val_loss: 341230747648.0000\n",
      "Epoch 336/500\n",
      "\u001b[1m5/5\u001b[0m \u001b[32m━━━━━━━━━━━━━━━━━━━━\u001b[0m\u001b[37m\u001b[0m \u001b[1m0s\u001b[0m 17ms/step - loss: 683358720.0000 - val_loss: 341430566912.0000\n",
      "Epoch 337/500\n",
      "\u001b[1m5/5\u001b[0m \u001b[32m━━━━━━━━━━━━━━━━━━━━\u001b[0m\u001b[37m\u001b[0m \u001b[1m0s\u001b[0m 19ms/step - loss: 734846592.0000 - val_loss: 343868604416.0000\n",
      "Epoch 338/500\n",
      "\u001b[1m5/5\u001b[0m \u001b[32m━━━━━━━━━━━━━━━━━━━━\u001b[0m\u001b[37m\u001b[0m \u001b[1m0s\u001b[0m 21ms/step - loss: 766104704.0000 - val_loss: 345107103744.0000\n",
      "Epoch 339/500\n",
      "\u001b[1m5/5\u001b[0m \u001b[32m━━━━━━━━━━━━━━━━━━━━\u001b[0m\u001b[37m\u001b[0m \u001b[1m0s\u001b[0m 20ms/step - loss: 617581056.0000 - val_loss: 342097592320.0000\n",
      "Epoch 340/500\n",
      "\u001b[1m5/5\u001b[0m \u001b[32m━━━━━━━━━━━━━━━━━━━━\u001b[0m\u001b[37m\u001b[0m \u001b[1m0s\u001b[0m 20ms/step - loss: 880190464.0000 - val_loss: 340889927680.0000\n",
      "Epoch 341/500\n",
      "\u001b[1m5/5\u001b[0m \u001b[32m━━━━━━━━━━━━━━━━━━━━\u001b[0m\u001b[37m\u001b[0m \u001b[1m0s\u001b[0m 19ms/step - loss: 710836992.0000 - val_loss: 342515482624.0000\n",
      "Epoch 342/500\n",
      "\u001b[1m5/5\u001b[0m \u001b[32m━━━━━━━━━━━━━━━━━━━━\u001b[0m\u001b[37m\u001b[0m \u001b[1m0s\u001b[0m 19ms/step - loss: 718418048.0000 - val_loss: 343617011712.0000\n",
      "Epoch 343/500\n",
      "\u001b[1m5/5\u001b[0m \u001b[32m━━━━━━━━━━━━━━━━━━━━\u001b[0m\u001b[37m\u001b[0m \u001b[1m0s\u001b[0m 21ms/step - loss: 631501120.0000 - val_loss: 342236364800.0000\n",
      "Epoch 344/500\n",
      "\u001b[1m5/5\u001b[0m \u001b[32m━━━━━━━━━━━━━━━━━━━━\u001b[0m\u001b[37m\u001b[0m \u001b[1m0s\u001b[0m 19ms/step - loss: 710832320.0000 - val_loss: 342515810304.0000\n",
      "Epoch 345/500\n",
      "\u001b[1m5/5\u001b[0m \u001b[32m━━━━━━━━━━━━━━━━━━━━\u001b[0m\u001b[37m\u001b[0m \u001b[1m0s\u001b[0m 18ms/step - loss: 1183003008.0000 - val_loss: 342199795712.0000\n",
      "Epoch 346/500\n",
      "\u001b[1m5/5\u001b[0m \u001b[32m━━━━━━━━━━━━━━━━━━━━\u001b[0m\u001b[37m\u001b[0m \u001b[1m0s\u001b[0m 18ms/step - loss: 504290752.0000 - val_loss: 340620673024.0000\n",
      "Epoch 347/500\n",
      "\u001b[1m5/5\u001b[0m \u001b[32m━━━━━━━━━━━━━━━━━━━━\u001b[0m\u001b[37m\u001b[0m \u001b[1m0s\u001b[0m 19ms/step - loss: 890752384.0000 - val_loss: 342493691904.0000\n",
      "Epoch 348/500\n",
      "\u001b[1m5/5\u001b[0m \u001b[32m━━━━━━━━━━━━━━━━━━━━\u001b[0m\u001b[37m\u001b[0m \u001b[1m0s\u001b[0m 20ms/step - loss: 537791040.0000 - val_loss: 344305270784.0000\n",
      "Epoch 349/500\n",
      "\u001b[1m5/5\u001b[0m \u001b[32m━━━━━━━━━━━━━━━━━━━━\u001b[0m\u001b[37m\u001b[0m \u001b[1m0s\u001b[0m 19ms/step - loss: 677962560.0000 - val_loss: 343753261056.0000\n",
      "Epoch 350/500\n",
      "\u001b[1m5/5\u001b[0m \u001b[32m━━━━━━━━━━━━━━━━━━━━\u001b[0m\u001b[37m\u001b[0m \u001b[1m0s\u001b[0m 18ms/step - loss: 972704896.0000 - val_loss: 342238298112.0000\n",
      "Epoch 351/500\n",
      "\u001b[1m5/5\u001b[0m \u001b[32m━━━━━━━━━━━━━━━━━━━━\u001b[0m\u001b[37m\u001b[0m \u001b[1m0s\u001b[0m 19ms/step - loss: 614741440.0000 - val_loss: 341747793920.0000\n",
      "Epoch 352/500\n",
      "\u001b[1m5/5\u001b[0m \u001b[32m━━━━━━━━━━━━━━━━━━━━\u001b[0m\u001b[37m\u001b[0m \u001b[1m0s\u001b[0m 22ms/step - loss: 1072405696.0000 - val_loss: 342892871680.0000\n",
      "Epoch 353/500\n",
      "\u001b[1m5/5\u001b[0m \u001b[32m━━━━━━━━━━━━━━━━━━━━\u001b[0m\u001b[37m\u001b[0m \u001b[1m0s\u001b[0m 19ms/step - loss: 1088682880.0000 - val_loss: 342288203776.0000\n",
      "Epoch 354/500\n",
      "\u001b[1m5/5\u001b[0m \u001b[32m━━━━━━━━━━━━━━━━━━━━\u001b[0m\u001b[37m\u001b[0m \u001b[1m0s\u001b[0m 20ms/step - loss: 860308608.0000 - val_loss: 341515042816.0000\n",
      "Epoch 355/500\n",
      "\u001b[1m5/5\u001b[0m \u001b[32m━━━━━━━━━━━━━━━━━━━━\u001b[0m\u001b[37m\u001b[0m \u001b[1m0s\u001b[0m 19ms/step - loss: 703344704.0000 - val_loss: 342374088704.0000\n",
      "Epoch 356/500\n",
      "\u001b[1m5/5\u001b[0m \u001b[32m━━━━━━━━━━━━━━━━━━━━\u001b[0m\u001b[37m\u001b[0m \u001b[1m0s\u001b[0m 19ms/step - loss: 1065562880.0000 - val_loss: 342054240256.0000\n",
      "Epoch 357/500\n",
      "\u001b[1m5/5\u001b[0m \u001b[32m━━━━━━━━━━━━━━━━━━━━\u001b[0m\u001b[37m\u001b[0m \u001b[1m0s\u001b[0m 19ms/step - loss: 720873920.0000 - val_loss: 341103378432.0000\n",
      "Epoch 358/500\n",
      "\u001b[1m5/5\u001b[0m \u001b[32m━━━━━━━━━━━━━━━━━━━━\u001b[0m\u001b[37m\u001b[0m \u001b[1m0s\u001b[0m 19ms/step - loss: 1207158400.0000 - val_loss: 342272770048.0000\n",
      "Epoch 359/500\n",
      "\u001b[1m5/5\u001b[0m \u001b[32m━━━━━━━━━━━━━━━━━━━━\u001b[0m\u001b[37m\u001b[0m \u001b[1m0s\u001b[0m 19ms/step - loss: 787311488.0000 - val_loss: 343108157440.0000\n",
      "Epoch 360/500\n",
      "\u001b[1m5/5\u001b[0m \u001b[32m━━━━━━━━━━━━━━━━━━━━\u001b[0m\u001b[37m\u001b[0m \u001b[1m0s\u001b[0m 19ms/step - loss: 680788480.0000 - val_loss: 343077486592.0000\n",
      "Epoch 361/500\n",
      "\u001b[1m5/5\u001b[0m \u001b[32m━━━━━━━━━━━━━━━━━━━━\u001b[0m\u001b[37m\u001b[0m \u001b[1m0s\u001b[0m 19ms/step - loss: 729793408.0000 - val_loss: 342598844416.0000\n",
      "Epoch 362/500\n",
      "\u001b[1m5/5\u001b[0m \u001b[32m━━━━━━━━━━━━━━━━━━━━\u001b[0m\u001b[37m\u001b[0m \u001b[1m0s\u001b[0m 20ms/step - loss: 786395008.0000 - val_loss: 342392864768.0000\n",
      "Epoch 363/500\n",
      "\u001b[1m5/5\u001b[0m \u001b[32m━━━━━━━━━━━━━━━━━━━━\u001b[0m\u001b[37m\u001b[0m \u001b[1m0s\u001b[0m 19ms/step - loss: 902137216.0000 - val_loss: 342696755200.0000\n",
      "Epoch 364/500\n",
      "\u001b[1m5/5\u001b[0m \u001b[32m━━━━━━━━━━━━━━━━━━━━\u001b[0m\u001b[37m\u001b[0m \u001b[1m0s\u001b[0m 19ms/step - loss: 1169914624.0000 - val_loss: 342443687936.0000\n",
      "Epoch 365/500\n",
      "\u001b[1m5/5\u001b[0m \u001b[32m━━━━━━━━━━━━━━━━━━━━\u001b[0m\u001b[37m\u001b[0m \u001b[1m0s\u001b[0m 19ms/step - loss: 1183416576.0000 - val_loss: 341876834304.0000\n",
      "Epoch 366/500\n",
      "\u001b[1m5/5\u001b[0m \u001b[32m━━━━━━━━━━━━━━━━━━━━\u001b[0m\u001b[37m\u001b[0m \u001b[1m0s\u001b[0m 19ms/step - loss: 660543936.0000 - val_loss: 341844361216.0000\n",
      "Epoch 367/500\n",
      "\u001b[1m5/5\u001b[0m \u001b[32m━━━━━━━━━━━━━━━━━━━━\u001b[0m\u001b[37m\u001b[0m \u001b[1m0s\u001b[0m 19ms/step - loss: 625536512.0000 - val_loss: 342367895552.0000\n",
      "Epoch 368/500\n",
      "\u001b[1m5/5\u001b[0m \u001b[32m━━━━━━━━━━━━━━━━━━━━\u001b[0m\u001b[37m\u001b[0m \u001b[1m0s\u001b[0m 18ms/step - loss: 848004928.0000 - val_loss: 343311613952.0000\n",
      "Epoch 369/500\n",
      "\u001b[1m5/5\u001b[0m \u001b[32m━━━━━━━━━━━━━━━━━━━━\u001b[0m\u001b[37m\u001b[0m \u001b[1m0s\u001b[0m 19ms/step - loss: 795385920.0000 - val_loss: 342382247936.0000\n",
      "Epoch 370/500\n",
      "\u001b[1m5/5\u001b[0m \u001b[32m━━━━━━━━━━━━━━━━━━━━\u001b[0m\u001b[37m\u001b[0m \u001b[1m0s\u001b[0m 23ms/step - loss: 828692224.0000 - val_loss: 341084930048.0000\n",
      "Epoch 371/500\n",
      "\u001b[1m5/5\u001b[0m \u001b[32m━━━━━━━━━━━━━━━━━━━━\u001b[0m\u001b[37m\u001b[0m \u001b[1m0s\u001b[0m 19ms/step - loss: 713372416.0000 - val_loss: 344217354240.0000\n",
      "Epoch 372/500\n",
      "\u001b[1m5/5\u001b[0m \u001b[32m━━━━━━━━━━━━━━━━━━━━\u001b[0m\u001b[37m\u001b[0m \u001b[1m0s\u001b[0m 17ms/step - loss: 894490112.0000 - val_loss: 345238405120.0000\n",
      "Epoch 373/500\n",
      "\u001b[1m5/5\u001b[0m \u001b[32m━━━━━━━━━━━━━━━━━━━━\u001b[0m\u001b[37m\u001b[0m \u001b[1m0s\u001b[0m 19ms/step - loss: 692976000.0000 - val_loss: 343191748608.0000\n",
      "Epoch 374/500\n",
      "\u001b[1m5/5\u001b[0m \u001b[32m━━━━━━━━━━━━━━━━━━━━\u001b[0m\u001b[37m\u001b[0m \u001b[1m0s\u001b[0m 20ms/step - loss: 922107264.0000 - val_loss: 340461518848.0000\n",
      "Epoch 375/500\n",
      "\u001b[1m5/5\u001b[0m \u001b[32m━━━━━━━━━━━━━━━━━━━━\u001b[0m\u001b[37m\u001b[0m \u001b[1m0s\u001b[0m 21ms/step - loss: 644437952.0000 - val_loss: 340929871872.0000\n",
      "Epoch 376/500\n",
      "\u001b[1m5/5\u001b[0m \u001b[32m━━━━━━━━━━━━━━━━━━━━\u001b[0m\u001b[37m\u001b[0m \u001b[1m0s\u001b[0m 19ms/step - loss: 799546240.0000 - val_loss: 343012048896.0000\n",
      "Epoch 377/500\n",
      "\u001b[1m5/5\u001b[0m \u001b[32m━━━━━━━━━━━━━━━━━━━━\u001b[0m\u001b[37m\u001b[0m \u001b[1m0s\u001b[0m 16ms/step - loss: 776763840.0000 - val_loss: 340505198592.0000\n",
      "Epoch 378/500\n",
      "\u001b[1m5/5\u001b[0m \u001b[32m━━━━━━━━━━━━━━━━━━━━\u001b[0m\u001b[37m\u001b[0m \u001b[1m0s\u001b[0m 19ms/step - loss: 649758912.0000 - val_loss: 339162464256.0000\n",
      "Epoch 379/500\n",
      "\u001b[1m5/5\u001b[0m \u001b[32m━━━━━━━━━━━━━━━━━━━━\u001b[0m\u001b[37m\u001b[0m \u001b[1m0s\u001b[0m 19ms/step - loss: 1068800000.0000 - val_loss: 340890386432.0000\n",
      "Epoch 380/500\n",
      "\u001b[1m5/5\u001b[0m \u001b[32m━━━━━━━━━━━━━━━━━━━━\u001b[0m\u001b[37m\u001b[0m \u001b[1m0s\u001b[0m 20ms/step - loss: 1027274496.0000 - val_loss: 342363766784.0000\n",
      "Epoch 381/500\n",
      "\u001b[1m5/5\u001b[0m \u001b[32m━━━━━━━━━━━━━━━━━━━━\u001b[0m\u001b[37m\u001b[0m \u001b[1m0s\u001b[0m 19ms/step - loss: 650313024.0000 - val_loss: 340613005312.0000\n",
      "Epoch 382/500\n",
      "\u001b[1m5/5\u001b[0m \u001b[32m━━━━━━━━━━━━━━━━━━━━\u001b[0m\u001b[37m\u001b[0m \u001b[1m0s\u001b[0m 19ms/step - loss: 1102488064.0000 - val_loss: 341945352192.0000\n",
      "Epoch 383/500\n",
      "\u001b[1m5/5\u001b[0m \u001b[32m━━━━━━━━━━━━━━━━━━━━\u001b[0m\u001b[37m\u001b[0m \u001b[1m0s\u001b[0m 19ms/step - loss: 808001152.0000 - val_loss: 343228219392.0000\n",
      "Epoch 384/500\n",
      "\u001b[1m5/5\u001b[0m \u001b[32m━━━━━━━━━━━━━━━━━━━━\u001b[0m\u001b[37m\u001b[0m \u001b[1m0s\u001b[0m 19ms/step - loss: 810216192.0000 - val_loss: 342665035776.0000\n",
      "Epoch 385/500\n",
      "\u001b[1m5/5\u001b[0m \u001b[32m━━━━━━━━━━━━━━━━━━━━\u001b[0m\u001b[37m\u001b[0m \u001b[1m0s\u001b[0m 19ms/step - loss: 802415808.0000 - val_loss: 342405873664.0000\n",
      "Epoch 386/500\n",
      "\u001b[1m5/5\u001b[0m \u001b[32m━━━━━━━━━━━━━━━━━━━━\u001b[0m\u001b[37m\u001b[0m \u001b[1m0s\u001b[0m 19ms/step - loss: 644384576.0000 - val_loss: 342498181120.0000\n",
      "Epoch 387/500\n",
      "\u001b[1m5/5\u001b[0m \u001b[32m━━━━━━━━━━━━━━━━━━━━\u001b[0m\u001b[37m\u001b[0m \u001b[1m0s\u001b[0m 19ms/step - loss: 892992192.0000 - val_loss: 343491477504.0000\n",
      "Epoch 388/500\n",
      "\u001b[1m5/5\u001b[0m \u001b[32m━━━━━━━━━━━━━━━━━━━━\u001b[0m\u001b[37m\u001b[0m \u001b[1m0s\u001b[0m 19ms/step - loss: 1180568320.0000 - val_loss: 343124115456.0000\n",
      "Epoch 389/500\n",
      "\u001b[1m5/5\u001b[0m \u001b[32m━━━━━━━━━━━━━━━━━━━━\u001b[0m\u001b[37m\u001b[0m \u001b[1m0s\u001b[0m 19ms/step - loss: 817486336.0000 - val_loss: 339710476288.0000\n",
      "Epoch 390/500\n",
      "\u001b[1m5/5\u001b[0m \u001b[32m━━━━━━━━━━━━━━━━━━━━\u001b[0m\u001b[37m\u001b[0m \u001b[1m0s\u001b[0m 19ms/step - loss: 675736000.0000 - val_loss: 340325629952.0000\n",
      "Epoch 391/500\n",
      "\u001b[1m5/5\u001b[0m \u001b[32m━━━━━━━━━━━━━━━━━━━━\u001b[0m\u001b[37m\u001b[0m \u001b[1m0s\u001b[0m 19ms/step - loss: 587096704.0000 - val_loss: 342698622976.0000\n",
      "Epoch 392/500\n",
      "\u001b[1m5/5\u001b[0m \u001b[32m━━━━━━━━━━━━━━━━━━━━\u001b[0m\u001b[37m\u001b[0m \u001b[1m0s\u001b[0m 18ms/step - loss: 1200908672.0000 - val_loss: 343983390720.0000\n",
      "Epoch 393/500\n",
      "\u001b[1m5/5\u001b[0m \u001b[32m━━━━━━━━━━━━━━━━━━━━\u001b[0m\u001b[37m\u001b[0m \u001b[1m0s\u001b[0m 19ms/step - loss: 810986624.0000 - val_loss: 342057680896.0000\n",
      "Epoch 394/500\n",
      "\u001b[1m5/5\u001b[0m \u001b[32m━━━━━━━━━━━━━━━━━━━━\u001b[0m\u001b[37m\u001b[0m \u001b[1m0s\u001b[0m 18ms/step - loss: 592422336.0000 - val_loss: 342014918656.0000\n",
      "Epoch 395/500\n",
      "\u001b[1m5/5\u001b[0m \u001b[32m━━━━━━━━━━━━━━━━━━━━\u001b[0m\u001b[37m\u001b[0m \u001b[1m0s\u001b[0m 25ms/step - loss: 775091904.0000 - val_loss: 342492741632.0000\n",
      "Epoch 396/500\n",
      "\u001b[1m5/5\u001b[0m \u001b[32m━━━━━━━━━━━━━━━━━━━━\u001b[0m\u001b[37m\u001b[0m \u001b[1m0s\u001b[0m 17ms/step - loss: 879779072.0000 - val_loss: 341659648000.0000\n",
      "Epoch 397/500\n",
      "\u001b[1m5/5\u001b[0m \u001b[32m━━━━━━━━━━━━━━━━━━━━\u001b[0m\u001b[37m\u001b[0m \u001b[1m0s\u001b[0m 14ms/step - loss: 939100160.0000 - val_loss: 342832447488.0000\n",
      "Epoch 398/500\n",
      "\u001b[1m5/5\u001b[0m \u001b[32m━━━━━━━━━━━━━━━━━━━━\u001b[0m\u001b[37m\u001b[0m \u001b[1m0s\u001b[0m 14ms/step - loss: 658821440.0000 - val_loss: 343071424512.0000\n",
      "Epoch 399/500\n",
      "\u001b[1m5/5\u001b[0m \u001b[32m━━━━━━━━━━━━━━━━━━━━\u001b[0m\u001b[37m\u001b[0m \u001b[1m0s\u001b[0m 14ms/step - loss: 764245632.0000 - val_loss: 341423849472.0000\n",
      "Epoch 400/500\n",
      "\u001b[1m5/5\u001b[0m \u001b[32m━━━━━━━━━━━━━━━━━━━━\u001b[0m\u001b[37m\u001b[0m \u001b[1m0s\u001b[0m 12ms/step - loss: 928744960.0000 - val_loss: 341865955328.0000\n",
      "Epoch 401/500\n",
      "\u001b[1m5/5\u001b[0m \u001b[32m━━━━━━━━━━━━━━━━━━━━\u001b[0m\u001b[37m\u001b[0m \u001b[1m0s\u001b[0m 14ms/step - loss: 550885504.0000 - val_loss: 341983297536.0000\n",
      "Epoch 402/500\n",
      "\u001b[1m5/5\u001b[0m \u001b[32m━━━━━━━━━━━━━━━━━━━━\u001b[0m\u001b[37m\u001b[0m \u001b[1m0s\u001b[0m 14ms/step - loss: 758109696.0000 - val_loss: 342640918528.0000\n",
      "Epoch 403/500\n",
      "\u001b[1m5/5\u001b[0m \u001b[32m━━━━━━━━━━━━━━━━━━━━\u001b[0m\u001b[37m\u001b[0m \u001b[1m0s\u001b[0m 15ms/step - loss: 710362688.0000 - val_loss: 341231304704.0000\n",
      "Epoch 404/500\n",
      "\u001b[1m5/5\u001b[0m \u001b[32m━━━━━━━━━━━━━━━━━━━━\u001b[0m\u001b[37m\u001b[0m \u001b[1m0s\u001b[0m 13ms/step - loss: 535351296.0000 - val_loss: 342190424064.0000\n",
      "Epoch 405/500\n",
      "\u001b[1m5/5\u001b[0m \u001b[32m━━━━━━━━━━━━━━━━━━━━\u001b[0m\u001b[37m\u001b[0m \u001b[1m0s\u001b[0m 15ms/step - loss: 495570592.0000 - val_loss: 343006150656.0000\n",
      "Epoch 406/500\n",
      "\u001b[1m5/5\u001b[0m \u001b[32m━━━━━━━━━━━━━━━━━━━━\u001b[0m\u001b[37m\u001b[0m \u001b[1m0s\u001b[0m 14ms/step - loss: 844047232.0000 - val_loss: 340844150784.0000\n",
      "Epoch 407/500\n",
      "\u001b[1m5/5\u001b[0m \u001b[32m━━━━━━━━━━━━━━━━━━━━\u001b[0m\u001b[37m\u001b[0m \u001b[1m0s\u001b[0m 14ms/step - loss: 735453312.0000 - val_loss: 342580133888.0000\n",
      "Epoch 408/500\n",
      "\u001b[1m5/5\u001b[0m \u001b[32m━━━━━━━━━━━━━━━━━━━━\u001b[0m\u001b[37m\u001b[0m \u001b[1m0s\u001b[0m 14ms/step - loss: 778851840.0000 - val_loss: 342900342784.0000\n",
      "Epoch 409/500\n",
      "\u001b[1m5/5\u001b[0m \u001b[32m━━━━━━━━━━━━━━━━━━━━\u001b[0m\u001b[37m\u001b[0m \u001b[1m0s\u001b[0m 14ms/step - loss: 992549376.0000 - val_loss: 341023817728.0000\n",
      "Epoch 410/500\n",
      "\u001b[1m5/5\u001b[0m \u001b[32m━━━━━━━━━━━━━━━━━━━━\u001b[0m\u001b[37m\u001b[0m \u001b[1m0s\u001b[0m 12ms/step - loss: 893774976.0000 - val_loss: 340230569984.0000\n",
      "Epoch 411/500\n",
      "\u001b[1m5/5\u001b[0m \u001b[32m━━━━━━━━━━━━━━━━━━━━\u001b[0m\u001b[37m\u001b[0m \u001b[1m0s\u001b[0m 14ms/step - loss: 752201088.0000 - val_loss: 342349643776.0000\n",
      "Epoch 412/500\n",
      "\u001b[1m5/5\u001b[0m \u001b[32m━━━━━━━━━━━━━━━━━━━━\u001b[0m\u001b[37m\u001b[0m \u001b[1m0s\u001b[0m 15ms/step - loss: 820647744.0000 - val_loss: 343312105472.0000\n",
      "Epoch 413/500\n",
      "\u001b[1m5/5\u001b[0m \u001b[32m━━━━━━━━━━━━━━━━━━━━\u001b[0m\u001b[37m\u001b[0m \u001b[1m0s\u001b[0m 19ms/step - loss: 755114752.0000 - val_loss: 342258515968.0000\n",
      "Epoch 414/500\n",
      "\u001b[1m5/5\u001b[0m \u001b[32m━━━━━━━━━━━━━━━━━━━━\u001b[0m\u001b[37m\u001b[0m \u001b[1m0s\u001b[0m 18ms/step - loss: 1131722112.0000 - val_loss: 342435627008.0000\n",
      "Epoch 415/500\n",
      "\u001b[1m5/5\u001b[0m \u001b[32m━━━━━━━━━━━━━━━━━━━━\u001b[0m\u001b[37m\u001b[0m \u001b[1m0s\u001b[0m 19ms/step - loss: 1187669760.0000 - val_loss: 342702161920.0000\n",
      "Epoch 416/500\n",
      "\u001b[1m5/5\u001b[0m \u001b[32m━━━━━━━━━━━━━━━━━━━━\u001b[0m\u001b[37m\u001b[0m \u001b[1m0s\u001b[0m 18ms/step - loss: 654516032.0000 - val_loss: 342000205824.0000\n",
      "Epoch 417/500\n",
      "\u001b[1m5/5\u001b[0m \u001b[32m━━━━━━━━━━━━━━━━━━━━\u001b[0m\u001b[37m\u001b[0m \u001b[1m0s\u001b[0m 17ms/step - loss: 738238912.0000 - val_loss: 341290614784.0000\n",
      "Epoch 418/500\n",
      "\u001b[1m5/5\u001b[0m \u001b[32m━━━━━━━━━━━━━━━━━━━━\u001b[0m\u001b[37m\u001b[0m \u001b[1m0s\u001b[0m 19ms/step - loss: 543093184.0000 - val_loss: 343394615296.0000\n",
      "Epoch 419/500\n",
      "\u001b[1m5/5\u001b[0m \u001b[32m━━━━━━━━━━━━━━━━━━━━\u001b[0m\u001b[37m\u001b[0m \u001b[1m0s\u001b[0m 18ms/step - loss: 1182498944.0000 - val_loss: 344436015104.0000\n",
      "Epoch 420/500\n",
      "\u001b[1m5/5\u001b[0m \u001b[32m━━━━━━━━━━━━━━━━━━━━\u001b[0m\u001b[37m\u001b[0m \u001b[1m0s\u001b[0m 19ms/step - loss: 821035008.0000 - val_loss: 341955018752.0000\n",
      "Epoch 421/500\n",
      "\u001b[1m5/5\u001b[0m \u001b[32m━━━━━━━━━━━━━━━━━━━━\u001b[0m\u001b[37m\u001b[0m \u001b[1m0s\u001b[0m 18ms/step - loss: 898416640.0000 - val_loss: 341709324288.0000\n",
      "Epoch 422/500\n",
      "\u001b[1m5/5\u001b[0m \u001b[32m━━━━━━━━━━━━━━━━━━━━\u001b[0m\u001b[37m\u001b[0m \u001b[1m0s\u001b[0m 17ms/step - loss: 510409920.0000 - val_loss: 342166962176.0000\n",
      "Epoch 423/500\n",
      "\u001b[1m5/5\u001b[0m \u001b[32m━━━━━━━━━━━━━━━━━━━━\u001b[0m\u001b[37m\u001b[0m \u001b[1m0s\u001b[0m 17ms/step - loss: 642380096.0000 - val_loss: 342434676736.0000\n",
      "Epoch 424/500\n",
      "\u001b[1m5/5\u001b[0m \u001b[32m━━━━━━━━━━━━━━━━━━━━\u001b[0m\u001b[37m\u001b[0m \u001b[1m0s\u001b[0m 19ms/step - loss: 805025856.0000 - val_loss: 343188209664.0000\n",
      "Epoch 425/500\n",
      "\u001b[1m5/5\u001b[0m \u001b[32m━━━━━━━━━━━━━━━━━━━━\u001b[0m\u001b[37m\u001b[0m \u001b[1m0s\u001b[0m 18ms/step - loss: 769360512.0000 - val_loss: 342598418432.0000\n",
      "Epoch 426/500\n",
      "\u001b[1m5/5\u001b[0m \u001b[32m━━━━━━━━━━━━━━━━━━━━\u001b[0m\u001b[37m\u001b[0m \u001b[1m0s\u001b[0m 19ms/step - loss: 1268516480.0000 - val_loss: 342627352576.0000\n",
      "Epoch 427/500\n",
      "\u001b[1m5/5\u001b[0m \u001b[32m━━━━━━━━━━━━━━━━━━━━\u001b[0m\u001b[37m\u001b[0m \u001b[1m0s\u001b[0m 17ms/step - loss: 936217472.0000 - val_loss: 342038544384.0000\n",
      "Epoch 428/500\n",
      "\u001b[1m5/5\u001b[0m \u001b[32m━━━━━━━━━━━━━━━━━━━━\u001b[0m\u001b[37m\u001b[0m \u001b[1m0s\u001b[0m 17ms/step - loss: 515356640.0000 - val_loss: 342915284992.0000\n",
      "Epoch 429/500\n",
      "\u001b[1m5/5\u001b[0m \u001b[32m━━━━━━━━━━━━━━━━━━━━\u001b[0m\u001b[37m\u001b[0m \u001b[1m0s\u001b[0m 18ms/step - loss: 742914624.0000 - val_loss: 342902636544.0000\n",
      "Epoch 430/500\n",
      "\u001b[1m5/5\u001b[0m \u001b[32m━━━━━━━━━━━━━━━━━━━━\u001b[0m\u001b[37m\u001b[0m \u001b[1m0s\u001b[0m 17ms/step - loss: 644748928.0000 - val_loss: 342400598016.0000\n",
      "Epoch 431/500\n",
      "\u001b[1m5/5\u001b[0m \u001b[32m━━━━━━━━━━━━━━━━━━━━\u001b[0m\u001b[37m\u001b[0m \u001b[1m0s\u001b[0m 19ms/step - loss: 739256128.0000 - val_loss: 341521301504.0000\n",
      "Epoch 432/500\n",
      "\u001b[1m5/5\u001b[0m \u001b[32m━━━━━━━━━━━━━━━━━━━━\u001b[0m\u001b[37m\u001b[0m \u001b[1m0s\u001b[0m 16ms/step - loss: 993903104.0000 - val_loss: 343059202048.0000\n",
      "Epoch 433/500\n",
      "\u001b[1m5/5\u001b[0m \u001b[32m━━━━━━━━━━━━━━━━━━━━\u001b[0m\u001b[37m\u001b[0m \u001b[1m0s\u001b[0m 19ms/step - loss: 625016448.0000 - val_loss: 343313022976.0000\n",
      "Epoch 434/500\n",
      "\u001b[1m5/5\u001b[0m \u001b[32m━━━━━━━━━━━━━━━━━━━━\u001b[0m\u001b[37m\u001b[0m \u001b[1m0s\u001b[0m 17ms/step - loss: 633576704.0000 - val_loss: 343714299904.0000\n",
      "Epoch 435/500\n",
      "\u001b[1m5/5\u001b[0m \u001b[32m━━━━━━━━━━━━━━━━━━━━\u001b[0m\u001b[37m\u001b[0m \u001b[1m0s\u001b[0m 22ms/step - loss: 754763584.0000 - val_loss: 344048238592.0000\n",
      "Epoch 436/500\n",
      "\u001b[1m5/5\u001b[0m \u001b[32m━━━━━━━━━━━━━━━━━━━━\u001b[0m\u001b[37m\u001b[0m \u001b[1m0s\u001b[0m 19ms/step - loss: 569690176.0000 - val_loss: 342735159296.0000\n",
      "Epoch 437/500\n",
      "\u001b[1m5/5\u001b[0m \u001b[32m━━━━━━━━━━━━━━━━━━━━\u001b[0m\u001b[37m\u001b[0m \u001b[1m0s\u001b[0m 19ms/step - loss: 503327328.0000 - val_loss: 341744386048.0000\n",
      "Epoch 438/500\n",
      "\u001b[1m5/5\u001b[0m \u001b[32m━━━━━━━━━━━━━━━━━━━━\u001b[0m\u001b[37m\u001b[0m \u001b[1m0s\u001b[0m 18ms/step - loss: 668694272.0000 - val_loss: 342818881536.0000\n",
      "Epoch 439/500\n",
      "\u001b[1m5/5\u001b[0m \u001b[32m━━━━━━━━━━━━━━━━━━━━\u001b[0m\u001b[37m\u001b[0m \u001b[1m0s\u001b[0m 19ms/step - loss: 483285984.0000 - val_loss: 341881520128.0000\n",
      "Epoch 440/500\n",
      "\u001b[1m5/5\u001b[0m \u001b[32m━━━━━━━━━━━━━━━━━━━━\u001b[0m\u001b[37m\u001b[0m \u001b[1m0s\u001b[0m 20ms/step - loss: 553494336.0000 - val_loss: 341572190208.0000\n",
      "Epoch 441/500\n",
      "\u001b[1m5/5\u001b[0m \u001b[32m━━━━━━━━━━━━━━━━━━━━\u001b[0m\u001b[37m\u001b[0m \u001b[1m0s\u001b[0m 18ms/step - loss: 1057549504.0000 - val_loss: 342016196608.0000\n",
      "Epoch 442/500\n",
      "\u001b[1m5/5\u001b[0m \u001b[32m━━━━━━━━━━━━━━━━━━━━\u001b[0m\u001b[37m\u001b[0m \u001b[1m0s\u001b[0m 19ms/step - loss: 1104383232.0000 - val_loss: 341051473920.0000\n",
      "Epoch 443/500\n",
      "\u001b[1m5/5\u001b[0m \u001b[32m━━━━━━━━━━━━━━━━━━━━\u001b[0m\u001b[37m\u001b[0m \u001b[1m0s\u001b[0m 18ms/step - loss: 783491840.0000 - val_loss: 340718977024.0000\n",
      "Epoch 444/500\n",
      "\u001b[1m5/5\u001b[0m \u001b[32m━━━━━━━━━━━━━━━━━━━━\u001b[0m\u001b[37m\u001b[0m \u001b[1m0s\u001b[0m 19ms/step - loss: 719935936.0000 - val_loss: 340446969856.0000\n",
      "Epoch 445/500\n",
      "\u001b[1m5/5\u001b[0m \u001b[32m━━━━━━━━━━━━━━━━━━━━\u001b[0m\u001b[37m\u001b[0m \u001b[1m0s\u001b[0m 18ms/step - loss: 759644480.0000 - val_loss: 341646704640.0000\n",
      "Epoch 446/500\n",
      "\u001b[1m5/5\u001b[0m \u001b[32m━━━━━━━━━━━━━━━━━━━━\u001b[0m\u001b[37m\u001b[0m \u001b[1m0s\u001b[0m 19ms/step - loss: 714988992.0000 - val_loss: 342520725504.0000\n",
      "Epoch 447/500\n",
      "\u001b[1m5/5\u001b[0m \u001b[32m━━━━━━━━━━━━━━━━━━━━\u001b[0m\u001b[37m\u001b[0m \u001b[1m0s\u001b[0m 18ms/step - loss: 630007040.0000 - val_loss: 342477307904.0000\n",
      "Epoch 448/500\n",
      "\u001b[1m5/5\u001b[0m \u001b[32m━━━━━━━━━━━━━━━━━━━━\u001b[0m\u001b[37m\u001b[0m \u001b[1m0s\u001b[0m 19ms/step - loss: 1002301440.0000 - val_loss: 343531618304.0000\n",
      "Epoch 449/500\n",
      "\u001b[1m5/5\u001b[0m \u001b[32m━━━━━━━━━━━━━━━━━━━━\u001b[0m\u001b[37m\u001b[0m \u001b[1m0s\u001b[0m 17ms/step - loss: 537321280.0000 - val_loss: 342696853504.0000\n",
      "Epoch 450/500\n",
      "\u001b[1m5/5\u001b[0m \u001b[32m━━━━━━━━━━━━━━━━━━━━\u001b[0m\u001b[37m\u001b[0m \u001b[1m0s\u001b[0m 19ms/step - loss: 960703488.0000 - val_loss: 341744713728.0000\n",
      "Epoch 451/500\n",
      "\u001b[1m5/5\u001b[0m \u001b[32m━━━━━━━━━━━━━━━━━━━━\u001b[0m\u001b[37m\u001b[0m \u001b[1m0s\u001b[0m 19ms/step - loss: 698985792.0000 - val_loss: 343643095040.0000\n",
      "Epoch 452/500\n",
      "\u001b[1m5/5\u001b[0m \u001b[32m━━━━━━━━━━━━━━━━━━━━\u001b[0m\u001b[37m\u001b[0m \u001b[1m0s\u001b[0m 19ms/step - loss: 780437120.0000 - val_loss: 343208493056.0000\n",
      "Epoch 453/500\n",
      "\u001b[1m5/5\u001b[0m \u001b[32m━━━━━━━━━━━━━━━━━━━━\u001b[0m\u001b[37m\u001b[0m \u001b[1m0s\u001b[0m 18ms/step - loss: 1008536064.0000 - val_loss: 341212659712.0000\n",
      "Epoch 454/500\n",
      "\u001b[1m5/5\u001b[0m \u001b[32m━━━━━━━━━━━━━━━━━━━━\u001b[0m\u001b[37m\u001b[0m \u001b[1m0s\u001b[0m 18ms/step - loss: 737111168.0000 - val_loss: 342010101760.0000\n",
      "Epoch 455/500\n",
      "\u001b[1m5/5\u001b[0m \u001b[32m━━━━━━━━━━━━━━━━━━━━\u001b[0m\u001b[37m\u001b[0m \u001b[1m0s\u001b[0m 18ms/step - loss: 775846528.0000 - val_loss: 343115857920.0000\n",
      "Epoch 456/500\n",
      "\u001b[1m5/5\u001b[0m \u001b[32m━━━━━━━━━━━━━━━━━━━━\u001b[0m\u001b[37m\u001b[0m \u001b[1m0s\u001b[0m 17ms/step - loss: 814691072.0000 - val_loss: 342301179904.0000\n",
      "Epoch 457/500\n",
      "\u001b[1m5/5\u001b[0m \u001b[32m━━━━━━━━━━━━━━━━━━━━\u001b[0m\u001b[37m\u001b[0m \u001b[1m0s\u001b[0m 17ms/step - loss: 537321472.0000 - val_loss: 341153939456.0000\n",
      "Epoch 458/500\n",
      "\u001b[1m5/5\u001b[0m \u001b[32m━━━━━━━━━━━━━━━━━━━━\u001b[0m\u001b[37m\u001b[0m \u001b[1m0s\u001b[0m 19ms/step - loss: 694111744.0000 - val_loss: 341294383104.0000\n",
      "Epoch 459/500\n",
      "\u001b[1m5/5\u001b[0m \u001b[32m━━━━━━━━━━━━━━━━━━━━\u001b[0m\u001b[37m\u001b[0m \u001b[1m0s\u001b[0m 17ms/step - loss: 597387072.0000 - val_loss: 341615771648.0000\n",
      "Epoch 460/500\n",
      "\u001b[1m5/5\u001b[0m \u001b[32m━━━━━━━━━━━━━━━━━━━━\u001b[0m\u001b[37m\u001b[0m \u001b[1m0s\u001b[0m 17ms/step - loss: 732124800.0000 - val_loss: 344414060544.0000\n",
      "Epoch 461/500\n",
      "\u001b[1m5/5\u001b[0m \u001b[32m━━━━━━━━━━━━━━━━━━━━\u001b[0m\u001b[37m\u001b[0m \u001b[1m0s\u001b[0m 19ms/step - loss: 792142912.0000 - val_loss: 344850038784.0000\n",
      "Epoch 462/500\n",
      "\u001b[1m5/5\u001b[0m \u001b[32m━━━━━━━━━━━━━━━━━━━━\u001b[0m\u001b[37m\u001b[0m \u001b[1m0s\u001b[0m 17ms/step - loss: 931204800.0000 - val_loss: 342973710336.0000\n",
      "Epoch 463/500\n",
      "\u001b[1m5/5\u001b[0m \u001b[32m━━━━━━━━━━━━━━━━━━━━\u001b[0m\u001b[37m\u001b[0m \u001b[1m0s\u001b[0m 18ms/step - loss: 1200368896.0000 - val_loss: 343121199104.0000\n",
      "Epoch 464/500\n",
      "\u001b[1m5/5\u001b[0m \u001b[32m━━━━━━━━━━━━━━━━━━━━\u001b[0m\u001b[37m\u001b[0m \u001b[1m0s\u001b[0m 19ms/step - loss: 902840960.0000 - val_loss: 342996451328.0000\n",
      "Epoch 465/500\n",
      "\u001b[1m5/5\u001b[0m \u001b[32m━━━━━━━━━━━━━━━━━━━━\u001b[0m\u001b[37m\u001b[0m \u001b[1m0s\u001b[0m 19ms/step - loss: 1260088576.0000 - val_loss: 343018700800.0000\n",
      "Epoch 466/500\n",
      "\u001b[1m5/5\u001b[0m \u001b[32m━━━━━━━━━━━━━━━━━━━━\u001b[0m\u001b[37m\u001b[0m \u001b[1m0s\u001b[0m 19ms/step - loss: 899820928.0000 - val_loss: 342449225728.0000\n",
      "Epoch 467/500\n",
      "\u001b[1m5/5\u001b[0m \u001b[32m━━━━━━━━━━━━━━━━━━━━\u001b[0m\u001b[37m\u001b[0m \u001b[1m0s\u001b[0m 19ms/step - loss: 753411776.0000 - val_loss: 342396174336.0000\n",
      "Epoch 468/500\n",
      "\u001b[1m5/5\u001b[0m \u001b[32m━━━━━━━━━━━━━━━━━━━━\u001b[0m\u001b[37m\u001b[0m \u001b[1m0s\u001b[0m 17ms/step - loss: 949429824.0000 - val_loss: 342236332032.0000\n",
      "Epoch 469/500\n",
      "\u001b[1m5/5\u001b[0m \u001b[32m━━━━━━━━━━━━━━━━━━━━\u001b[0m\u001b[37m\u001b[0m \u001b[1m0s\u001b[0m 18ms/step - loss: 629530752.0000 - val_loss: 342114861056.0000\n",
      "Epoch 470/500\n",
      "\u001b[1m5/5\u001b[0m \u001b[32m━━━━━━━━━━━━━━━━━━━━\u001b[0m\u001b[37m\u001b[0m \u001b[1m0s\u001b[0m 17ms/step - loss: 910193472.0000 - val_loss: 341925986304.0000\n",
      "Epoch 471/500\n",
      "\u001b[1m5/5\u001b[0m \u001b[32m━━━━━━━━━━━━━━━━━━━━\u001b[0m\u001b[37m\u001b[0m \u001b[1m0s\u001b[0m 18ms/step - loss: 1030051456.0000 - val_loss: 341752020992.0000\n",
      "Epoch 472/500\n",
      "\u001b[1m5/5\u001b[0m \u001b[32m━━━━━━━━━━━━━━━━━━━━\u001b[0m\u001b[37m\u001b[0m \u001b[1m0s\u001b[0m 18ms/step - loss: 624624064.0000 - val_loss: 341955182592.0000\n",
      "Epoch 473/500\n",
      "\u001b[1m5/5\u001b[0m \u001b[32m━━━━━━━━━━━━━━━━━━━━\u001b[0m\u001b[37m\u001b[0m \u001b[1m0s\u001b[0m 17ms/step - loss: 1205221504.0000 - val_loss: 342618112000.0000\n",
      "Epoch 474/500\n",
      "\u001b[1m5/5\u001b[0m \u001b[32m━━━━━━━━━━━━━━━━━━━━\u001b[0m\u001b[37m\u001b[0m \u001b[1m0s\u001b[0m 17ms/step - loss: 711246336.0000 - val_loss: 342943629312.0000\n",
      "Epoch 475/500\n",
      "\u001b[1m5/5\u001b[0m \u001b[32m━━━━━━━━━━━━━━━━━━━━\u001b[0m\u001b[37m\u001b[0m \u001b[1m0s\u001b[0m 28ms/step - loss: 674900544.0000 - val_loss: 343285071872.0000\n",
      "Epoch 476/500\n",
      "\u001b[1m5/5\u001b[0m \u001b[32m━━━━━━━━━━━━━━━━━━━━\u001b[0m\u001b[37m\u001b[0m \u001b[1m0s\u001b[0m 19ms/step - loss: 1038163776.0000 - val_loss: 342920003584.0000\n",
      "Epoch 477/500\n",
      "\u001b[1m5/5\u001b[0m \u001b[32m━━━━━━━━━━━━━━━━━━━━\u001b[0m\u001b[37m\u001b[0m \u001b[1m0s\u001b[0m 17ms/step - loss: 834132992.0000 - val_loss: 341285928960.0000\n",
      "Epoch 478/500\n",
      "\u001b[1m5/5\u001b[0m \u001b[32m━━━━━━━━━━━━━━━━━━━━\u001b[0m\u001b[37m\u001b[0m \u001b[1m0s\u001b[0m 16ms/step - loss: 801847424.0000 - val_loss: 342166274048.0000\n",
      "Epoch 479/500\n",
      "\u001b[1m5/5\u001b[0m \u001b[32m━━━━━━━━━━━━━━━━━━━━\u001b[0m\u001b[37m\u001b[0m \u001b[1m0s\u001b[0m 18ms/step - loss: 1154191104.0000 - val_loss: 342573318144.0000\n",
      "Epoch 480/500\n",
      "\u001b[1m5/5\u001b[0m \u001b[32m━━━━━━━━━━━━━━━━━━━━\u001b[0m\u001b[37m\u001b[0m \u001b[1m0s\u001b[0m 18ms/step - loss: 1197631488.0000 - val_loss: 341919301632.0000\n",
      "Epoch 481/500\n",
      "\u001b[1m5/5\u001b[0m \u001b[32m━━━━━━━━━━━━━━━━━━━━\u001b[0m\u001b[37m\u001b[0m \u001b[1m0s\u001b[0m 19ms/step - loss: 1149820032.0000 - val_loss: 342438543360.0000\n",
      "Epoch 482/500\n",
      "\u001b[1m5/5\u001b[0m \u001b[32m━━━━━━━━━━━━━━━━━━━━\u001b[0m\u001b[37m\u001b[0m \u001b[1m0s\u001b[0m 18ms/step - loss: 706351744.0000 - val_loss: 342750789632.0000\n",
      "Epoch 483/500\n",
      "\u001b[1m5/5\u001b[0m \u001b[32m━━━━━━━━━━━━━━━━━━━━\u001b[0m\u001b[37m\u001b[0m \u001b[1m0s\u001b[0m 18ms/step - loss: 610953728.0000 - val_loss: 342423568384.0000\n",
      "Epoch 484/500\n",
      "\u001b[1m5/5\u001b[0m \u001b[32m━━━━━━━━━━━━━━━━━━━━\u001b[0m\u001b[37m\u001b[0m \u001b[1m0s\u001b[0m 18ms/step - loss: 538368064.0000 - val_loss: 342860431360.0000\n",
      "Epoch 485/500\n",
      "\u001b[1m5/5\u001b[0m \u001b[32m━━━━━━━━━━━━━━━━━━━━\u001b[0m\u001b[37m\u001b[0m \u001b[1m0s\u001b[0m 19ms/step - loss: 745333504.0000 - val_loss: 342642786304.0000\n",
      "Epoch 486/500\n",
      "\u001b[1m5/5\u001b[0m \u001b[32m━━━━━━━━━━━━━━━━━━━━\u001b[0m\u001b[37m\u001b[0m \u001b[1m0s\u001b[0m 19ms/step - loss: 700575488.0000 - val_loss: 342709501952.0000\n",
      "Epoch 487/500\n",
      "\u001b[1m5/5\u001b[0m \u001b[32m━━━━━━━━━━━━━━━━━━━━\u001b[0m\u001b[37m\u001b[0m \u001b[1m0s\u001b[0m 19ms/step - loss: 528715264.0000 - val_loss: 341544337408.0000\n",
      "Epoch 488/500\n",
      "\u001b[1m5/5\u001b[0m \u001b[32m━━━━━━━━━━━━━━━━━━━━\u001b[0m\u001b[37m\u001b[0m \u001b[1m0s\u001b[0m 19ms/step - loss: 1050025600.0000 - val_loss: 342672310272.0000\n",
      "Epoch 489/500\n",
      "\u001b[1m5/5\u001b[0m \u001b[32m━━━━━━━━━━━━━━━━━━━━\u001b[0m\u001b[37m\u001b[0m \u001b[1m0s\u001b[0m 18ms/step - loss: 867700800.0000 - val_loss: 342616866816.0000\n",
      "Epoch 490/500\n",
      "\u001b[1m5/5\u001b[0m \u001b[32m━━━━━━━━━━━━━━━━━━━━\u001b[0m\u001b[37m\u001b[0m \u001b[1m0s\u001b[0m 17ms/step - loss: 1073214912.0000 - val_loss: 341635858432.0000\n",
      "Epoch 491/500\n",
      "\u001b[1m5/5\u001b[0m \u001b[32m━━━━━━━━━━━━━━━━━━━━\u001b[0m\u001b[37m\u001b[0m \u001b[1m0s\u001b[0m 19ms/step - loss: 790355584.0000 - val_loss: 341264367616.0000\n",
      "Epoch 492/500\n",
      "\u001b[1m5/5\u001b[0m \u001b[32m━━━━━━━━━━━━━━━━━━━━\u001b[0m\u001b[37m\u001b[0m \u001b[1m0s\u001b[0m 19ms/step - loss: 852149568.0000 - val_loss: 343042293760.0000\n",
      "Epoch 493/500\n",
      "\u001b[1m5/5\u001b[0m \u001b[32m━━━━━━━━━━━━━━━━━━━━\u001b[0m\u001b[37m\u001b[0m \u001b[1m0s\u001b[0m 19ms/step - loss: 625397632.0000 - val_loss: 344279842816.0000\n",
      "Epoch 494/500\n",
      "\u001b[1m5/5\u001b[0m \u001b[32m━━━━━━━━━━━━━━━━━━━━\u001b[0m\u001b[37m\u001b[0m \u001b[1m0s\u001b[0m 18ms/step - loss: 1057396992.0000 - val_loss: 341623504896.0000\n",
      "Epoch 495/500\n",
      "\u001b[1m5/5\u001b[0m \u001b[32m━━━━━━━━━━━━━━━━━━━━\u001b[0m\u001b[37m\u001b[0m \u001b[1m0s\u001b[0m 17ms/step - loss: 967041856.0000 - val_loss: 340435632128.0000\n",
      "Epoch 496/500\n",
      "\u001b[1m5/5\u001b[0m \u001b[32m━━━━━━━━━━━━━━━━━━━━\u001b[0m\u001b[37m\u001b[0m \u001b[1m0s\u001b[0m 17ms/step - loss: 715775808.0000 - val_loss: 342933340160.0000\n",
      "Epoch 497/500\n",
      "\u001b[1m5/5\u001b[0m \u001b[32m━━━━━━━━━━━━━━━━━━━━\u001b[0m\u001b[37m\u001b[0m \u001b[1m0s\u001b[0m 19ms/step - loss: 606370624.0000 - val_loss: 342364291072.0000\n",
      "Epoch 498/500\n",
      "\u001b[1m5/5\u001b[0m \u001b[32m━━━━━━━━━━━━━━━━━━━━\u001b[0m\u001b[37m\u001b[0m \u001b[1m0s\u001b[0m 19ms/step - loss: 931188096.0000 - val_loss: 340461584384.0000\n",
      "Epoch 499/500\n",
      "\u001b[1m5/5\u001b[0m \u001b[32m━━━━━━━━━━━━━━━━━━━━\u001b[0m\u001b[37m\u001b[0m \u001b[1m0s\u001b[0m 18ms/step - loss: 602427392.0000 - val_loss: 341899149312.0000\n",
      "Epoch 500/500\n",
      "\u001b[1m5/5\u001b[0m \u001b[32m━━━━━━━━━━━━━━━━━━━━\u001b[0m\u001b[37m\u001b[0m \u001b[1m0s\u001b[0m 18ms/step - loss: 1090604288.0000 - val_loss: 347263205376.0000\n"
     ]
    }
   ],
   "source": [
    "from tensorflow.keras.callbacks import EarlyStopping\n",
    "\n",
    "early_stopping = EarlyStopping(monitor='val_loss', patience=20)\n",
    "model.compile(optimizer = 'Adam', loss = 'mse')\n",
    "history1 = model.fit(xtrain_pca, ytrain, validation_split = 0.2, epochs = 500)"
   ]
  },
  {
   "cell_type": "code",
   "execution_count": 35,
   "id": "f1812158-a591-4c8a-a4a9-ba043031ce66",
   "metadata": {
    "scrolled": true
   },
   "outputs": [
    {
     "name": "stdout",
     "output_type": "stream",
     "text": [
      "Epoch 1/100\n",
      "\u001b[1m5/5\u001b[0m \u001b[32m━━━━━━━━━━━━━━━━━━━━\u001b[0m\u001b[37m\u001b[0m \u001b[1m0s\u001b[0m 68ms/step - loss: 1076081536.0000 - val_loss: 319503630336.0000\n",
      "Epoch 2/100\n",
      "\u001b[1m5/5\u001b[0m \u001b[32m━━━━━━━━━━━━━━━━━━━━\u001b[0m\u001b[37m\u001b[0m \u001b[1m0s\u001b[0m 36ms/step - loss: 1195996672.0000 - val_loss: 332726239232.0000\n",
      "Epoch 3/100\n",
      "\u001b[1m5/5\u001b[0m \u001b[32m━━━━━━━━━━━━━━━━━━━━\u001b[0m\u001b[37m\u001b[0m \u001b[1m0s\u001b[0m 36ms/step - loss: 1250637568.0000 - val_loss: 322860613632.0000\n",
      "Epoch 4/100\n",
      "\u001b[1m5/5\u001b[0m \u001b[32m━━━━━━━━━━━━━━━━━━━━\u001b[0m\u001b[37m\u001b[0m \u001b[1m0s\u001b[0m 37ms/step - loss: 1731520640.0000 - val_loss: 334778990592.0000\n",
      "Epoch 5/100\n",
      "\u001b[1m5/5\u001b[0m \u001b[32m━━━━━━━━━━━━━━━━━━━━\u001b[0m\u001b[37m\u001b[0m \u001b[1m0s\u001b[0m 35ms/step - loss: 1657755904.0000 - val_loss: 319897337856.0000\n",
      "Epoch 6/100\n",
      "\u001b[1m5/5\u001b[0m \u001b[32m━━━━━━━━━━━━━━━━━━━━\u001b[0m\u001b[37m\u001b[0m \u001b[1m0s\u001b[0m 38ms/step - loss: 2162014464.0000 - val_loss: 334744780800.0000\n",
      "Epoch 7/100\n",
      "\u001b[1m5/5\u001b[0m \u001b[32m━━━━━━━━━━━━━━━━━━━━\u001b[0m\u001b[37m\u001b[0m \u001b[1m0s\u001b[0m 36ms/step - loss: 1172142976.0000 - val_loss: 321493860352.0000\n",
      "Epoch 8/100\n",
      "\u001b[1m5/5\u001b[0m \u001b[32m━━━━━━━━━━━━━━━━━━━━\u001b[0m\u001b[37m\u001b[0m \u001b[1m0s\u001b[0m 37ms/step - loss: 1582939520.0000 - val_loss: 331432427520.0000\n",
      "Epoch 9/100\n",
      "\u001b[1m5/5\u001b[0m \u001b[32m━━━━━━━━━━━━━━━━━━━━\u001b[0m\u001b[37m\u001b[0m \u001b[1m0s\u001b[0m 38ms/step - loss: 1527923968.0000 - val_loss: 325056823296.0000\n",
      "Epoch 10/100\n",
      "\u001b[1m5/5\u001b[0m \u001b[32m━━━━━━━━━━━━━━━━━━━━\u001b[0m\u001b[37m\u001b[0m \u001b[1m0s\u001b[0m 36ms/step - loss: 1275659776.0000 - val_loss: 334632976384.0000\n",
      "Epoch 11/100\n",
      "\u001b[1m5/5\u001b[0m \u001b[32m━━━━━━━━━━━━━━━━━━━━\u001b[0m\u001b[37m\u001b[0m \u001b[1m0s\u001b[0m 37ms/step - loss: 1203119872.0000 - val_loss: 320147161088.0000\n",
      "Epoch 12/100\n",
      "\u001b[1m5/5\u001b[0m \u001b[32m━━━━━━━━━━━━━━━━━━━━\u001b[0m\u001b[37m\u001b[0m \u001b[1m0s\u001b[0m 37ms/step - loss: 1554532608.0000 - val_loss: 336049504256.0000\n",
      "Epoch 13/100\n",
      "\u001b[1m5/5\u001b[0m \u001b[32m━━━━━━━━━━━━━━━━━━━━\u001b[0m\u001b[37m\u001b[0m \u001b[1m0s\u001b[0m 36ms/step - loss: 2264314112.0000 - val_loss: 322284093440.0000\n",
      "Epoch 14/100\n",
      "\u001b[1m5/5\u001b[0m \u001b[32m━━━━━━━━━━━━━━━━━━━━\u001b[0m\u001b[37m\u001b[0m \u001b[1m0s\u001b[0m 49ms/step - loss: 1562983808.0000 - val_loss: 337105518592.0000\n",
      "Epoch 15/100\n",
      "\u001b[1m5/5\u001b[0m \u001b[32m━━━━━━━━━━━━━━━━━━━━\u001b[0m\u001b[37m\u001b[0m \u001b[1m0s\u001b[0m 36ms/step - loss: 1983234048.0000 - val_loss: 321028358144.0000\n",
      "Epoch 16/100\n",
      "\u001b[1m5/5\u001b[0m \u001b[32m━━━━━━━━━━━━━━━━━━━━\u001b[0m\u001b[37m\u001b[0m \u001b[1m0s\u001b[0m 37ms/step - loss: 1904878208.0000 - val_loss: 337292853248.0000\n",
      "Epoch 17/100\n",
      "\u001b[1m5/5\u001b[0m \u001b[32m━━━━━━━━━━━━━━━━━━━━\u001b[0m\u001b[37m\u001b[0m \u001b[1m0s\u001b[0m 38ms/step - loss: 2279785728.0000 - val_loss: 321178370048.0000\n",
      "Epoch 18/100\n",
      "\u001b[1m5/5\u001b[0m \u001b[32m━━━━━━━━━━━━━━━━━━━━\u001b[0m\u001b[37m\u001b[0m \u001b[1m0s\u001b[0m 37ms/step - loss: 1577279360.0000 - val_loss: 332023037952.0000\n",
      "Epoch 19/100\n",
      "\u001b[1m5/5\u001b[0m \u001b[32m━━━━━━━━━━━━━━━━━━━━\u001b[0m\u001b[37m\u001b[0m \u001b[1m0s\u001b[0m 36ms/step - loss: 1477740800.0000 - val_loss: 326477250560.0000\n",
      "Epoch 20/100\n",
      "\u001b[1m5/5\u001b[0m \u001b[32m━━━━━━━━━━━━━━━━━━━━\u001b[0m\u001b[37m\u001b[0m \u001b[1m0s\u001b[0m 36ms/step - loss: 1385308160.0000 - val_loss: 335389032448.0000\n",
      "Epoch 21/100\n",
      "\u001b[1m5/5\u001b[0m \u001b[32m━━━━━━━━━━━━━━━━━━━━\u001b[0m\u001b[37m\u001b[0m \u001b[1m0s\u001b[0m 36ms/step - loss: 1684387968.0000 - val_loss: 326471221248.0000\n",
      "Epoch 22/100\n",
      "\u001b[1m5/5\u001b[0m \u001b[32m━━━━━━━━━━━━━━━━━━━━\u001b[0m\u001b[37m\u001b[0m \u001b[1m0s\u001b[0m 35ms/step - loss: 1178064000.0000 - val_loss: 331860508672.0000\n",
      "Epoch 23/100\n",
      "\u001b[1m5/5\u001b[0m \u001b[32m━━━━━━━━━━━━━━━━━━━━\u001b[0m\u001b[37m\u001b[0m \u001b[1m0s\u001b[0m 37ms/step - loss: 1082238336.0000 - val_loss: 326828720128.0000\n",
      "Epoch 24/100\n",
      "\u001b[1m5/5\u001b[0m \u001b[32m━━━━━━━━━━━━━━━━━━━━\u001b[0m\u001b[37m\u001b[0m \u001b[1m0s\u001b[0m 37ms/step - loss: 1458162048.0000 - val_loss: 330667130880.0000\n",
      "Epoch 25/100\n",
      "\u001b[1m5/5\u001b[0m \u001b[32m━━━━━━━━━━━━━━━━━━━━\u001b[0m\u001b[37m\u001b[0m \u001b[1m0s\u001b[0m 36ms/step - loss: 1017500992.0000 - val_loss: 327075889152.0000\n",
      "Epoch 26/100\n",
      "\u001b[1m5/5\u001b[0m \u001b[32m━━━━━━━━━━━━━━━━━━━━\u001b[0m\u001b[37m\u001b[0m \u001b[1m0s\u001b[0m 37ms/step - loss: 1316017920.0000 - val_loss: 326984630272.0000\n",
      "Epoch 27/100\n",
      "\u001b[1m5/5\u001b[0m \u001b[32m━━━━━━━━━━━━━━━━━━━━\u001b[0m\u001b[37m\u001b[0m \u001b[1m0s\u001b[0m 36ms/step - loss: 1038243072.0000 - val_loss: 331451236352.0000\n",
      "Epoch 28/100\n",
      "\u001b[1m5/5\u001b[0m \u001b[32m━━━━━━━━━━━━━━━━━━━━\u001b[0m\u001b[37m\u001b[0m \u001b[1m0s\u001b[0m 35ms/step - loss: 1303683200.0000 - val_loss: 322527002624.0000\n",
      "Epoch 29/100\n",
      "\u001b[1m5/5\u001b[0m \u001b[32m━━━━━━━━━━━━━━━━━━━━\u001b[0m\u001b[37m\u001b[0m \u001b[1m0s\u001b[0m 37ms/step - loss: 1673033728.0000 - val_loss: 333759348736.0000\n",
      "Epoch 30/100\n",
      "\u001b[1m5/5\u001b[0m \u001b[32m━━━━━━━━━━━━━━━━━━━━\u001b[0m\u001b[37m\u001b[0m \u001b[1m0s\u001b[0m 36ms/step - loss: 2017085696.0000 - val_loss: 319847301120.0000\n",
      "Epoch 31/100\n",
      "\u001b[1m5/5\u001b[0m \u001b[32m━━━━━━━━━━━━━━━━━━━━\u001b[0m\u001b[37m\u001b[0m \u001b[1m0s\u001b[0m 36ms/step - loss: 1751203200.0000 - val_loss: 334915567616.0000\n",
      "Epoch 32/100\n",
      "\u001b[1m5/5\u001b[0m \u001b[32m━━━━━━━━━━━━━━━━━━━━\u001b[0m\u001b[37m\u001b[0m \u001b[1m0s\u001b[0m 50ms/step - loss: 1729402368.0000 - val_loss: 325613355008.0000\n",
      "Epoch 33/100\n",
      "\u001b[1m5/5\u001b[0m \u001b[32m━━━━━━━━━━━━━━━━━━━━\u001b[0m\u001b[37m\u001b[0m \u001b[1m0s\u001b[0m 36ms/step - loss: 1903785472.0000 - val_loss: 331269570560.0000\n",
      "Epoch 34/100\n",
      "\u001b[1m5/5\u001b[0m \u001b[32m━━━━━━━━━━━━━━━━━━━━\u001b[0m\u001b[37m\u001b[0m \u001b[1m0s\u001b[0m 36ms/step - loss: 894463360.0000 - val_loss: 325593366528.0000\n",
      "Epoch 35/100\n",
      "\u001b[1m5/5\u001b[0m \u001b[32m━━━━━━━━━━━━━━━━━━━━\u001b[0m\u001b[37m\u001b[0m \u001b[1m0s\u001b[0m 36ms/step - loss: 1079382400.0000 - val_loss: 334664957952.0000\n",
      "Epoch 36/100\n",
      "\u001b[1m5/5\u001b[0m \u001b[32m━━━━━━━━━━━━━━━━━━━━\u001b[0m\u001b[37m\u001b[0m \u001b[1m0s\u001b[0m 35ms/step - loss: 1111710208.0000 - val_loss: 331149377536.0000\n",
      "Epoch 37/100\n",
      "\u001b[1m5/5\u001b[0m \u001b[32m━━━━━━━━━━━━━━━━━━━━\u001b[0m\u001b[37m\u001b[0m \u001b[1m0s\u001b[0m 44ms/step - loss: 1001258560.0000 - val_loss: 327883653120.0000\n",
      "Epoch 38/100\n",
      "\u001b[1m5/5\u001b[0m \u001b[32m━━━━━━━━━━━━━━━━━━━━\u001b[0m\u001b[37m\u001b[0m \u001b[1m0s\u001b[0m 41ms/step - loss: 872945280.0000 - val_loss: 328036483072.0000\n",
      "Epoch 39/100\n",
      "\u001b[1m5/5\u001b[0m \u001b[32m━━━━━━━━━━━━━━━━━━━━\u001b[0m\u001b[37m\u001b[0m \u001b[1m0s\u001b[0m 38ms/step - loss: 1349980160.0000 - val_loss: 327615184896.0000\n",
      "Epoch 40/100\n",
      "\u001b[1m5/5\u001b[0m \u001b[32m━━━━━━━━━━━━━━━━━━━━\u001b[0m\u001b[37m\u001b[0m \u001b[1m0s\u001b[0m 42ms/step - loss: 1119541760.0000 - val_loss: 332924583936.0000\n",
      "Epoch 41/100\n",
      "\u001b[1m5/5\u001b[0m \u001b[32m━━━━━━━━━━━━━━━━━━━━\u001b[0m\u001b[37m\u001b[0m \u001b[1m0s\u001b[0m 34ms/step - loss: 725741760.0000 - val_loss: 332048662528.0000\n",
      "Epoch 42/100\n",
      "\u001b[1m5/5\u001b[0m \u001b[32m━━━━━━━━━━━━━━━━━━━━\u001b[0m\u001b[37m\u001b[0m \u001b[1m0s\u001b[0m 38ms/step - loss: 1009221568.0000 - val_loss: 333427212288.0000\n",
      "Epoch 43/100\n",
      "\u001b[1m5/5\u001b[0m \u001b[32m━━━━━━━━━━━━━━━━━━━━\u001b[0m\u001b[37m\u001b[0m \u001b[1m0s\u001b[0m 37ms/step - loss: 1142715776.0000 - val_loss: 328041922560.0000\n",
      "Epoch 44/100\n",
      "\u001b[1m5/5\u001b[0m \u001b[32m━━━━━━━━━━━━━━━━━━━━\u001b[0m\u001b[37m\u001b[0m \u001b[1m0s\u001b[0m 35ms/step - loss: 1354763776.0000 - val_loss: 328787820544.0000\n",
      "Epoch 45/100\n",
      "\u001b[1m5/5\u001b[0m \u001b[32m━━━━━━━━━━━━━━━━━━━━\u001b[0m\u001b[37m\u001b[0m \u001b[1m0s\u001b[0m 37ms/step - loss: 910446720.0000 - val_loss: 336539451392.0000\n",
      "Epoch 46/100\n",
      "\u001b[1m5/5\u001b[0m \u001b[32m━━━━━━━━━━━━━━━━━━━━\u001b[0m\u001b[37m\u001b[0m \u001b[1m0s\u001b[0m 59ms/step - loss: 1466910848.0000 - val_loss: 327504035840.0000\n",
      "Epoch 47/100\n",
      "\u001b[1m5/5\u001b[0m \u001b[32m━━━━━━━━━━━━━━━━━━━━\u001b[0m\u001b[37m\u001b[0m \u001b[1m0s\u001b[0m 36ms/step - loss: 1010995648.0000 - val_loss: 336489447424.0000\n",
      "Epoch 48/100\n",
      "\u001b[1m5/5\u001b[0m \u001b[32m━━━━━━━━━━━━━━━━━━━━\u001b[0m\u001b[37m\u001b[0m \u001b[1m0s\u001b[0m 42ms/step - loss: 1572877952.0000 - val_loss: 324575985664.0000\n",
      "Epoch 49/100\n",
      "\u001b[1m5/5\u001b[0m \u001b[32m━━━━━━━━━━━━━━━━━━━━\u001b[0m\u001b[37m\u001b[0m \u001b[1m0s\u001b[0m 42ms/step - loss: 1256579712.0000 - val_loss: 334398029824.0000\n",
      "Epoch 50/100\n",
      "\u001b[1m5/5\u001b[0m \u001b[32m━━━━━━━━━━━━━━━━━━━━\u001b[0m\u001b[37m\u001b[0m \u001b[1m0s\u001b[0m 42ms/step - loss: 1301559168.0000 - val_loss: 326515458048.0000\n",
      "Epoch 51/100\n",
      "\u001b[1m5/5\u001b[0m \u001b[32m━━━━━━━━━━━━━━━━━━━━\u001b[0m\u001b[37m\u001b[0m \u001b[1m0s\u001b[0m 48ms/step - loss: 1528134912.0000 - val_loss: 331317444608.0000\n",
      "Epoch 52/100\n",
      "\u001b[1m5/5\u001b[0m \u001b[32m━━━━━━━━━━━━━━━━━━━━\u001b[0m\u001b[37m\u001b[0m \u001b[1m0s\u001b[0m 40ms/step - loss: 1232729472.0000 - val_loss: 328787427328.0000\n",
      "Epoch 53/100\n",
      "\u001b[1m5/5\u001b[0m \u001b[32m━━━━━━━━━━━━━━━━━━━━\u001b[0m\u001b[37m\u001b[0m \u001b[1m0s\u001b[0m 40ms/step - loss: 1476676736.0000 - val_loss: 336833085440.0000\n",
      "Epoch 54/100\n",
      "\u001b[1m5/5\u001b[0m \u001b[32m━━━━━━━━━━━━━━━━━━━━\u001b[0m\u001b[37m\u001b[0m \u001b[1m0s\u001b[0m 45ms/step - loss: 1391615232.0000 - val_loss: 333263437824.0000\n",
      "Epoch 55/100\n",
      "\u001b[1m5/5\u001b[0m \u001b[32m━━━━━━━━━━━━━━━━━━━━\u001b[0m\u001b[37m\u001b[0m \u001b[1m0s\u001b[0m 38ms/step - loss: 1102659072.0000 - val_loss: 335413772288.0000\n",
      "Epoch 56/100\n",
      "\u001b[1m5/5\u001b[0m \u001b[32m━━━━━━━━━━━━━━━━━━━━\u001b[0m\u001b[37m\u001b[0m \u001b[1m0s\u001b[0m 36ms/step - loss: 1695650432.0000 - val_loss: 335252684800.0000\n",
      "Epoch 57/100\n",
      "\u001b[1m5/5\u001b[0m \u001b[32m━━━━━━━━━━━━━━━━━━━━\u001b[0m\u001b[37m\u001b[0m \u001b[1m0s\u001b[0m 40ms/step - loss: 1051896320.0000 - val_loss: 335498477568.0000\n",
      "Epoch 58/100\n",
      "\u001b[1m5/5\u001b[0m \u001b[32m━━━━━━━━━━━━━━━━━━━━\u001b[0m\u001b[37m\u001b[0m \u001b[1m0s\u001b[0m 40ms/step - loss: 870323008.0000 - val_loss: 338626609152.0000\n",
      "Epoch 59/100\n",
      "\u001b[1m5/5\u001b[0m \u001b[32m━━━━━━━━━━━━━━━━━━━━\u001b[0m\u001b[37m\u001b[0m \u001b[1m0s\u001b[0m 41ms/step - loss: 848350464.0000 - val_loss: 326947569664.0000\n",
      "Epoch 60/100\n",
      "\u001b[1m5/5\u001b[0m \u001b[32m━━━━━━━━━━━━━━━━━━━━\u001b[0m\u001b[37m\u001b[0m \u001b[1m0s\u001b[0m 42ms/step - loss: 1205810688.0000 - val_loss: 328219131904.0000\n",
      "Epoch 61/100\n",
      "\u001b[1m5/5\u001b[0m \u001b[32m━━━━━━━━━━━━━━━━━━━━\u001b[0m\u001b[37m\u001b[0m \u001b[1m0s\u001b[0m 43ms/step - loss: 716376000.0000 - val_loss: 328117682176.0000\n",
      "Epoch 62/100\n",
      "\u001b[1m5/5\u001b[0m \u001b[32m━━━━━━━━━━━━━━━━━━━━\u001b[0m\u001b[37m\u001b[0m \u001b[1m0s\u001b[0m 41ms/step - loss: 967772160.0000 - val_loss: 329867362304.0000\n",
      "Epoch 63/100\n",
      "\u001b[1m5/5\u001b[0m \u001b[32m━━━━━━━━━━━━━━━━━━━━\u001b[0m\u001b[37m\u001b[0m \u001b[1m0s\u001b[0m 37ms/step - loss: 1421660928.0000 - val_loss: 330800693248.0000\n",
      "Epoch 64/100\n",
      "\u001b[1m5/5\u001b[0m \u001b[32m━━━━━━━━━━━━━━━━━━━━\u001b[0m\u001b[37m\u001b[0m \u001b[1m0s\u001b[0m 36ms/step - loss: 903731200.0000 - val_loss: 334423490560.0000\n",
      "Epoch 65/100\n",
      "\u001b[1m5/5\u001b[0m \u001b[32m━━━━━━━━━━━━━━━━━━━━\u001b[0m\u001b[37m\u001b[0m \u001b[1m0s\u001b[0m 42ms/step - loss: 848103104.0000 - val_loss: 331048550400.0000\n",
      "Epoch 66/100\n",
      "\u001b[1m5/5\u001b[0m \u001b[32m━━━━━━━━━━━━━━━━━━━━\u001b[0m\u001b[37m\u001b[0m \u001b[1m0s\u001b[0m 44ms/step - loss: 942827136.0000 - val_loss: 328846671872.0000\n",
      "Epoch 67/100\n",
      "\u001b[1m5/5\u001b[0m \u001b[32m━━━━━━━━━━━━━━━━━━━━\u001b[0m\u001b[37m\u001b[0m \u001b[1m0s\u001b[0m 40ms/step - loss: 1184077312.0000 - val_loss: 336751656960.0000\n",
      "Epoch 68/100\n",
      "\u001b[1m5/5\u001b[0m \u001b[32m━━━━━━━━━━━━━━━━━━━━\u001b[0m\u001b[37m\u001b[0m \u001b[1m0s\u001b[0m 40ms/step - loss: 922129472.0000 - val_loss: 333012631552.0000\n",
      "Epoch 69/100\n",
      "\u001b[1m5/5\u001b[0m \u001b[32m━━━━━━━━━━━━━━━━━━━━\u001b[0m\u001b[37m\u001b[0m \u001b[1m0s\u001b[0m 37ms/step - loss: 935489216.0000 - val_loss: 335674277888.0000\n",
      "Epoch 70/100\n",
      "\u001b[1m5/5\u001b[0m \u001b[32m━━━━━━━━━━━━━━━━━━━━\u001b[0m\u001b[37m\u001b[0m \u001b[1m0s\u001b[0m 39ms/step - loss: 891281664.0000 - val_loss: 332053905408.0000\n",
      "Epoch 71/100\n",
      "\u001b[1m5/5\u001b[0m \u001b[32m━━━━━━━━━━━━━━━━━━━━\u001b[0m\u001b[37m\u001b[0m \u001b[1m0s\u001b[0m 37ms/step - loss: 906258944.0000 - val_loss: 334439645184.0000\n",
      "Epoch 72/100\n",
      "\u001b[1m5/5\u001b[0m \u001b[32m━━━━━━━━━━━━━━━━━━━━\u001b[0m\u001b[37m\u001b[0m \u001b[1m0s\u001b[0m 39ms/step - loss: 998450624.0000 - val_loss: 330636591104.0000\n",
      "Epoch 73/100\n",
      "\u001b[1m5/5\u001b[0m \u001b[32m━━━━━━━━━━━━━━━━━━━━\u001b[0m\u001b[37m\u001b[0m \u001b[1m0s\u001b[0m 41ms/step - loss: 1388231936.0000 - val_loss: 333950910464.0000\n",
      "Epoch 74/100\n",
      "\u001b[1m5/5\u001b[0m \u001b[32m━━━━━━━━━━━━━━━━━━━━\u001b[0m\u001b[37m\u001b[0m \u001b[1m0s\u001b[0m 33ms/step - loss: 1185921664.0000 - val_loss: 329669083136.0000\n",
      "Epoch 75/100\n",
      "\u001b[1m5/5\u001b[0m \u001b[32m━━━━━━━━━━━━━━━━━━━━\u001b[0m\u001b[37m\u001b[0m \u001b[1m0s\u001b[0m 31ms/step - loss: 986264896.0000 - val_loss: 334958133248.0000\n",
      "Epoch 76/100\n",
      "\u001b[1m5/5\u001b[0m \u001b[32m━━━━━━━━━━━━━━━━━━━━\u001b[0m\u001b[37m\u001b[0m \u001b[1m0s\u001b[0m 29ms/step - loss: 1284734720.0000 - val_loss: 330930061312.0000\n",
      "Epoch 77/100\n",
      "\u001b[1m5/5\u001b[0m \u001b[32m━━━━━━━━━━━━━━━━━━━━\u001b[0m\u001b[37m\u001b[0m \u001b[1m0s\u001b[0m 36ms/step - loss: 1051609920.0000 - val_loss: 335223980032.0000\n",
      "Epoch 78/100\n",
      "\u001b[1m5/5\u001b[0m \u001b[32m━━━━━━━━━━━━━━━━━━━━\u001b[0m\u001b[37m\u001b[0m \u001b[1m0s\u001b[0m 39ms/step - loss: 1186151296.0000 - val_loss: 334313783296.0000\n",
      "Epoch 79/100\n",
      "\u001b[1m5/5\u001b[0m \u001b[32m━━━━━━━━━━━━━━━━━━━━\u001b[0m\u001b[37m\u001b[0m \u001b[1m0s\u001b[0m 37ms/step - loss: 824397952.0000 - val_loss: 335569125376.0000\n",
      "Epoch 80/100\n",
      "\u001b[1m5/5\u001b[0m \u001b[32m━━━━━━━━━━━━━━━━━━━━\u001b[0m\u001b[37m\u001b[0m \u001b[1m0s\u001b[0m 37ms/step - loss: 899994752.0000 - val_loss: 332796035072.0000\n",
      "Epoch 81/100\n",
      "\u001b[1m5/5\u001b[0m \u001b[32m━━━━━━━━━━━━━━━━━━━━\u001b[0m\u001b[37m\u001b[0m \u001b[1m0s\u001b[0m 38ms/step - loss: 1109081984.0000 - val_loss: 332600639488.0000\n",
      "Epoch 82/100\n",
      "\u001b[1m5/5\u001b[0m \u001b[32m━━━━━━━━━━━━━━━━━━━━\u001b[0m\u001b[37m\u001b[0m \u001b[1m0s\u001b[0m 39ms/step - loss: 944216960.0000 - val_loss: 339041288192.0000\n",
      "Epoch 83/100\n",
      "\u001b[1m5/5\u001b[0m \u001b[32m━━━━━━━━━━━━━━━━━━━━\u001b[0m\u001b[37m\u001b[0m \u001b[1m0s\u001b[0m 37ms/step - loss: 1241002880.0000 - val_loss: 331650662400.0000\n",
      "Epoch 84/100\n",
      "\u001b[1m5/5\u001b[0m \u001b[32m━━━━━━━━━━━━━━━━━━━━\u001b[0m\u001b[37m\u001b[0m \u001b[1m0s\u001b[0m 39ms/step - loss: 1183653632.0000 - val_loss: 337174626304.0000\n",
      "Epoch 85/100\n",
      "\u001b[1m5/5\u001b[0m \u001b[32m━━━━━━━━━━━━━━━━━━━━\u001b[0m\u001b[37m\u001b[0m \u001b[1m0s\u001b[0m 38ms/step - loss: 1300798208.0000 - val_loss: 326929973248.0000\n",
      "Epoch 86/100\n",
      "\u001b[1m5/5\u001b[0m \u001b[32m━━━━━━━━━━━━━━━━━━━━\u001b[0m\u001b[37m\u001b[0m \u001b[1m0s\u001b[0m 42ms/step - loss: 1595873280.0000 - val_loss: 339015237632.0000\n",
      "Epoch 87/100\n",
      "\u001b[1m5/5\u001b[0m \u001b[32m━━━━━━━━━━━━━━━━━━━━\u001b[0m\u001b[37m\u001b[0m \u001b[1m0s\u001b[0m 38ms/step - loss: 920220672.0000 - val_loss: 334607417344.0000\n",
      "Epoch 88/100\n",
      "\u001b[1m5/5\u001b[0m \u001b[32m━━━━━━━━━━━━━━━━━━━━\u001b[0m\u001b[37m\u001b[0m \u001b[1m0s\u001b[0m 36ms/step - loss: 1444033920.0000 - val_loss: 342533144576.0000\n",
      "Epoch 89/100\n",
      "\u001b[1m5/5\u001b[0m \u001b[32m━━━━━━━━━━━━━━━━━━━━\u001b[0m\u001b[37m\u001b[0m \u001b[1m0s\u001b[0m 45ms/step - loss: 1093017856.0000 - val_loss: 334188707840.0000\n",
      "Epoch 90/100\n",
      "\u001b[1m5/5\u001b[0m \u001b[32m━━━━━━━━━━━━━━━━━━━━\u001b[0m\u001b[37m\u001b[0m \u001b[1m0s\u001b[0m 34ms/step - loss: 908832064.0000 - val_loss: 336229990400.0000\n",
      "Epoch 91/100\n",
      "\u001b[1m5/5\u001b[0m \u001b[32m━━━━━━━━━━━━━━━━━━━━\u001b[0m\u001b[37m\u001b[0m \u001b[1m0s\u001b[0m 36ms/step - loss: 774399232.0000 - val_loss: 330898079744.0000\n",
      "Epoch 92/100\n",
      "\u001b[1m5/5\u001b[0m \u001b[32m━━━━━━━━━━━━━━━━━━━━\u001b[0m\u001b[37m\u001b[0m \u001b[1m0s\u001b[0m 38ms/step - loss: 1155512064.0000 - val_loss: 336289366016.0000\n",
      "Epoch 93/100\n",
      "\u001b[1m5/5\u001b[0m \u001b[32m━━━━━━━━━━━━━━━━━━━━\u001b[0m\u001b[37m\u001b[0m \u001b[1m0s\u001b[0m 36ms/step - loss: 1137150592.0000 - val_loss: 334024409088.0000\n",
      "Epoch 94/100\n",
      "\u001b[1m5/5\u001b[0m \u001b[32m━━━━━━━━━━━━━━━━━━━━\u001b[0m\u001b[37m\u001b[0m \u001b[1m0s\u001b[0m 41ms/step - loss: 1292965888.0000 - val_loss: 335828779008.0000\n",
      "Epoch 95/100\n",
      "\u001b[1m5/5\u001b[0m \u001b[32m━━━━━━━━━━━━━━━━━━━━\u001b[0m\u001b[37m\u001b[0m \u001b[1m0s\u001b[0m 42ms/step - loss: 757697984.0000 - val_loss: 338922995712.0000\n",
      "Epoch 96/100\n",
      "\u001b[1m5/5\u001b[0m \u001b[32m━━━━━━━━━━━━━━━━━━━━\u001b[0m\u001b[37m\u001b[0m \u001b[1m0s\u001b[0m 37ms/step - loss: 817883648.0000 - val_loss: 330280730624.0000\n",
      "Epoch 97/100\n",
      "\u001b[1m5/5\u001b[0m \u001b[32m━━━━━━━━━━━━━━━━━━━━\u001b[0m\u001b[37m\u001b[0m \u001b[1m0s\u001b[0m 38ms/step - loss: 1082404736.0000 - val_loss: 338322718720.0000\n",
      "Epoch 98/100\n",
      "\u001b[1m5/5\u001b[0m \u001b[32m━━━━━━━━━━━━━━━━━━━━\u001b[0m\u001b[37m\u001b[0m \u001b[1m0s\u001b[0m 38ms/step - loss: 1500800256.0000 - val_loss: 330290102272.0000\n",
      "Epoch 99/100\n",
      "\u001b[1m5/5\u001b[0m \u001b[32m━━━━━━━━━━━━━━━━━━━━\u001b[0m\u001b[37m\u001b[0m \u001b[1m0s\u001b[0m 37ms/step - loss: 1047629568.0000 - val_loss: 345029181440.0000\n",
      "Epoch 100/100\n",
      "\u001b[1m5/5\u001b[0m \u001b[32m━━━━━━━━━━━━━━━━━━━━\u001b[0m\u001b[37m\u001b[0m \u001b[1m0s\u001b[0m 36ms/step - loss: 1842501760.0000 - val_loss: 334039547904.0000\n"
     ]
    }
   ],
   "source": [
    "history2 = model.fit(xtrain, ytrain, validation_split = 0.2, epochs = 100)"
   ]
  },
  {
   "cell_type": "code",
   "execution_count": 283,
   "id": "74437b9d-3045-47ce-a879-9a15bacdc693",
   "metadata": {},
   "outputs": [
    {
     "name": "stdout",
     "output_type": "stream",
     "text": [
      "WARNING:tensorflow:5 out of the last 13 calls to <function TensorFlowTrainer.make_predict_function.<locals>.one_step_on_data_distributed at 0x0000017572E47740> triggered tf.function retracing. Tracing is expensive and the excessive number of tracings could be due to (1) creating @tf.function repeatedly in a loop, (2) passing tensors with different shapes, (3) passing Python objects instead of tensors. For (1), please define your @tf.function outside of the loop. For (2), @tf.function has reduce_retracing=True option that can avoid unnecessary retracing. For (3), please refer to https://www.tensorflow.org/guide/function#controlling_retracing and https://www.tensorflow.org/api_docs/python/tf/function for  more details.\n",
      "\u001b[1m6/6\u001b[0m \u001b[32m━━━━━━━━━━━━━━━━━━━━\u001b[0m\u001b[37m\u001b[0m \u001b[1m0s\u001b[0m 20ms/step\n"
     ]
    },
    {
     "data": {
      "text/plain": [
       "0.5134449447909311"
      ]
     },
     "execution_count": 283,
     "metadata": {},
     "output_type": "execute_result"
    }
   ],
   "source": [
    "from sklearn.metrics import r2_score\n",
    "r2_score(ytrain, model.predict(xtrain_pca))"
   ]
  },
  {
   "cell_type": "code",
   "execution_count": 37,
   "id": "de46c71f-d3fe-4bfc-a05f-34372db54298",
   "metadata": {},
   "outputs": [
    {
     "name": "stdout",
     "output_type": "stream",
     "text": [
      "\u001b[1m6/6\u001b[0m \u001b[32m━━━━━━━━━━━━━━━━━━━━\u001b[0m\u001b[37m\u001b[0m \u001b[1m0s\u001b[0m 6ms/step \n"
     ]
    },
    {
     "data": {
      "text/plain": [
       "0.5284630874200522"
      ]
     },
     "execution_count": 37,
     "metadata": {},
     "output_type": "execute_result"
    }
   ],
   "source": [
    "r2_score(ytrain, model.predict(xtrain))"
   ]
  },
  {
   "cell_type": "code",
   "execution_count": 285,
   "id": "2363efad-0a53-4416-af10-815f47852e3f",
   "metadata": {},
   "outputs": [
    {
     "data": {
      "image/png": "[encoded data removed]",
      "text/plain": [
       "<Figure size 640x480 with 1 Axes>"
      ]
     },
     "metadata": {},
     "output_type": "display_data"
    }
   ],
   "source": [
    "plt.plot(history1.history['val_loss'], label = 'val_loss')\n",
    "plt.plot(history1.history['loss'], label = 'train_loss')\n",
    "plt.legend()\n",
    "plt.show()"
   ]
  },
  {
   "cell_type": "code",
   "execution_count": 40,
   "id": "29037db8-c97e-4f0f-baf0-53e676667ce1",
   "metadata": {},
   "outputs": [
    {
     "data": {
      "image/png": "[encoded data removed]",
      "text/plain": [
       "<Figure size 640x480 with 1 Axes>"
      ]
     },
     "metadata": {},
     "output_type": "display_data"
    }
   ],
   "source": [
    "plt.plot(history2.history['val_loss'], label = 'val_loss')\n",
    "plt.plot(history2.history['loss'], label = 'train_loss')\n",
    "plt.legend()\n",
    "plt.show()"
   ]
  },
  {
   "cell_type": "markdown",
   "id": "7f9dc707-9b4b-44d2-b2f6-3faa1a6bce1f",
   "metadata": {},
   "source": [
    "#### Cross validation and hyperparameter tuning"
   ]
  },
  {
   "cell_type": "code",
   "execution_count": 72,
   "id": "6944d9f4-f459-4b5f-92a5-d4f3d6a86208",
   "metadata": {},
   "outputs": [
    {
     "data": {
      "text/plain": [
       "'2.2.2'"
      ]
     },
     "execution_count": 72,
     "metadata": {},
     "output_type": "execute_result"
    }
   ],
   "source": [
    "pd.__version__"
   ]
  },
  {
   "cell_type": "code",
   "execution_count": 104,
   "id": "35767efa-0288-4ec2-9243-66944d9e6dcb",
   "metadata": {},
   "outputs": [
    {
     "data": {
      "text/plain": [
       "(35,)"
      ]
     },
     "execution_count": 104,
     "metadata": {},
     "output_type": "execute_result"
    }
   ],
   "source": [
    "from sklearn.model_selection import KFold\n",
    "kf = KFold(n_splits = 5, shuffle=True, random_state = 42)\n",
    "list(kf.split(xtrain))[0][1].shape"
   ]
  },
  {
   "cell_type": "code",
   "execution_count": 102,
   "id": "04a9e1c4-1ee8-4b49-81e5-c392b03adf48",
   "metadata": {},
   "outputs": [
    {
     "data": {
      "text/plain": [
       "(173, 1673)"
      ]
     },
     "execution_count": 102,
     "metadata": {},
     "output_type": "execute_result"
    }
   ],
   "source": [
    "xtrain.shape"
   ]
  },
  {
   "cell_type": "code",
   "execution_count": 106,
   "id": "edd7a525-e2ba-47bb-91de-d7ef3f3b61a2",
   "metadata": {},
   "outputs": [
    {
     "data": {
      "text/plain": [
       "[(array([  0,   1,   2,   3,   4,   5,   6,   7,   8,  10,  11,  13,  14,\n",
       "          17,  20,  21,  22,  23,  25,  26,  27,  28,  32,  33,  34,  35,\n",
       "          36,  37,  39,  40,  43,  44,  46,  47,  48,  49,  50,  51,  52,\n",
       "          53,  54,  57,  58,  59,  61,  62,  63,  64,  66,  67,  68,  69,\n",
       "          70,  71,  72,  73,  74,  75,  76,  77,  79,  80,  81,  83,  84,\n",
       "          85,  86,  87,  88,  89,  91,  92,  94,  95,  96,  97,  98,  99,\n",
       "         100, 101, 102, 103, 104, 105, 106, 107, 109, 110, 112, 116, 117,\n",
       "         118, 119, 120, 121, 122, 123, 125, 126, 127, 128, 129, 130, 131,\n",
       "         132, 133, 134, 135, 136, 138, 140, 142, 144, 145, 147, 148, 149,\n",
       "         150, 151, 152, 154, 155, 156, 157, 158, 159, 160, 161, 163, 164,\n",
       "         165, 166, 167, 168, 169, 170, 171, 172]),\n",
       "  array([  9,  12,  15,  16,  18,  19,  24,  29,  30,  31,  38,  41,  42,\n",
       "          45,  55,  56,  60,  65,  78,  82,  90,  93, 108, 111, 113, 114,\n",
       "         115, 124, 137, 139, 141, 143, 146, 153, 162])),\n",
       " (array([  0,   1,   3,   5,   7,   8,   9,  10,  12,  13,  14,  15,  16,\n",
       "          17,  18,  19,  20,  21,  23,  24,  25,  28,  29,  30,  31,  33,\n",
       "          34,  35,  37,  38,  39,  40,  41,  42,  43,  44,  45,  46,  47,\n",
       "          48,  49,  50,  52,  53,  54,  55,  56,  57,  58,  59,  60,  61,\n",
       "          62,  63,  64,  65,  70,  71,  72,  73,  74,  77,  78,  79,  80,\n",
       "          81,  82,  83,  84,  86,  87,  88,  89,  90,  91,  92,  93,  94,\n",
       "          96,  98,  99, 102, 103, 104, 105, 106, 107, 108, 109, 110, 111,\n",
       "         112, 113, 114, 115, 116, 117, 120, 121, 122, 123, 124, 127, 128,\n",
       "         129, 130, 131, 132, 134, 135, 137, 138, 139, 140, 141, 143, 144,\n",
       "         145, 146, 148, 149, 151, 152, 153, 155, 156, 158, 159, 160, 161,\n",
       "         162, 163, 165, 167, 168, 170, 171, 172]),\n",
       "  array([  2,   4,   6,  11,  22,  26,  27,  32,  36,  51,  66,  67,  68,\n",
       "          69,  75,  76,  85,  95,  97, 100, 101, 118, 119, 125, 126, 133,\n",
       "         136, 142, 147, 150, 154, 157, 164, 166, 169])),\n",
       " (array([  1,   2,   3,   4,   5,   6,   7,   8,   9,  11,  12,  13,  14,\n",
       "          15,  16,  17,  18,  19,  20,  21,  22,  24,  26,  27,  29,  30,\n",
       "          31,  32,  34,  35,  36,  37,  38,  41,  42,  43,  45,  46,  48,\n",
       "          49,  50,  51,  52,  53,  54,  55,  56,  57,  58,  59,  60,  63,\n",
       "          65,  66,  67,  68,  69,  70,  71,  72,  74,  75,  76,  77,  78,\n",
       "          80,  82,  83,  85,  87,  88,  89,  90,  91,  92,  93,  95,  97,\n",
       "          99, 100, 101, 102, 103, 105, 106, 107, 108, 109, 110, 111, 112,\n",
       "         113, 114, 115, 116, 118, 119, 121, 124, 125, 126, 127, 129, 130,\n",
       "         131, 132, 133, 134, 136, 137, 139, 141, 142, 143, 144, 146, 147,\n",
       "         148, 149, 150, 151, 153, 154, 155, 156, 157, 158, 159, 160, 162,\n",
       "         163, 164, 166, 167, 169, 170, 171, 172]),\n",
       "  array([  0,  10,  23,  25,  28,  33,  39,  40,  44,  47,  61,  62,  64,\n",
       "          73,  79,  81,  84,  86,  94,  96,  98, 104, 117, 120, 122, 123,\n",
       "         128, 135, 138, 140, 145, 152, 161, 165, 168])),\n",
       " (array([  0,   1,   2,   4,   6,   9,  10,  11,  12,  14,  15,  16,  18,\n",
       "          19,  20,  21,  22,  23,  24,  25,  26,  27,  28,  29,  30,  31,\n",
       "          32,  33,  36,  37,  38,  39,  40,  41,  42,  44,  45,  47,  48,\n",
       "          50,  51,  52,  54,  55,  56,  57,  58,  60,  61,  62,  63,  64,\n",
       "          65,  66,  67,  68,  69,  71,  73,  74,  75,  76,  78,  79,  81,\n",
       "          82,  84,  85,  86,  87,  88,  90,  92,  93,  94,  95,  96,  97,\n",
       "          98,  99, 100, 101, 102, 103, 104, 106, 107, 108, 111, 113, 114,\n",
       "         115, 116, 117, 118, 119, 120, 121, 122, 123, 124, 125, 126, 128,\n",
       "         129, 130, 133, 135, 136, 137, 138, 139, 140, 141, 142, 143, 144,\n",
       "         145, 146, 147, 149, 150, 151, 152, 153, 154, 157, 158, 161, 162,\n",
       "         163, 164, 165, 166, 167, 168, 169, 170, 172]),\n",
       "  array([  3,   5,   7,   8,  13,  17,  34,  35,  43,  46,  49,  53,  59,\n",
       "          70,  72,  77,  80,  83,  89,  91, 105, 109, 110, 112, 127, 131,\n",
       "         132, 134, 148, 155, 156, 159, 160, 171])),\n",
       " (array([  0,   2,   3,   4,   5,   6,   7,   8,   9,  10,  11,  12,  13,\n",
       "          15,  16,  17,  18,  19,  22,  23,  24,  25,  26,  27,  28,  29,\n",
       "          30,  31,  32,  33,  34,  35,  36,  38,  39,  40,  41,  42,  43,\n",
       "          44,  45,  46,  47,  49,  51,  53,  55,  56,  59,  60,  61,  62,\n",
       "          64,  65,  66,  67,  68,  69,  70,  72,  73,  75,  76,  77,  78,\n",
       "          79,  80,  81,  82,  83,  84,  85,  86,  89,  90,  91,  93,  94,\n",
       "          95,  96,  97,  98, 100, 101, 104, 105, 108, 109, 110, 111, 112,\n",
       "         113, 114, 115, 117, 118, 119, 120, 122, 123, 124, 125, 126, 127,\n",
       "         128, 131, 132, 133, 134, 135, 136, 137, 138, 139, 140, 141, 142,\n",
       "         143, 145, 146, 147, 148, 150, 152, 153, 154, 155, 156, 157, 159,\n",
       "         160, 161, 162, 164, 165, 166, 168, 169, 171]),\n",
       "  array([  1,  14,  20,  21,  37,  48,  50,  52,  54,  57,  58,  63,  71,\n",
       "          74,  87,  88,  92,  99, 102, 103, 106, 107, 116, 121, 129, 130,\n",
       "         144, 149, 151, 158, 163, 167, 170, 172]))]"
      ]
     },
     "execution_count": 106,
     "metadata": {},
     "output_type": "execute_result"
    }
   ],
   "source": [
    "list(kf.split(xtrain))"
   ]
  },
  {
   "cell_type": "code",
   "execution_count": 116,
   "id": "90cf6430-a449-4092-be63-41307f825d05",
   "metadata": {},
   "outputs": [
    {
     "data": {
      "text/html": [
       "<div>\n",
       "<style scoped>\n",
       "    .dataframe tbody tr th:only-of-type {\n",
       "        vertical-align: middle;\n",
       "    }\n",
       "\n",
       "    .dataframe tbody tr th {\n",
       "        vertical-align: top;\n",
       "    }\n",
       "\n",
       "    .dataframe thead th {\n",
       "        text-align: right;\n",
       "    }\n",
       "</style>\n",
       "<table border=\"1\" class=\"dataframe\">\n",
       "  <thead>\n",
       "    <tr style=\"text-align: right;\">\n",
       "      <th></th>\n",
       "      <th>company_name_a66</th>\n",
       "      <th>company_name_adci</th>\n",
       "      <th>company_name_adobe</th>\n",
       "      <th>company_name_airtel</th>\n",
       "      <th>company_name_alignerr</th>\n",
       "      <th>company_name_altair</th>\n",
       "      <th>company_name_american</th>\n",
       "      <th>company_name_amex</th>\n",
       "      <th>company_name_analytics</th>\n",
       "      <th>company_name_ananta</th>\n",
       "      <th>...</th>\n",
       "      <th>job_simp_nlp</th>\n",
       "      <th>job_simp_other</th>\n",
       "      <th>job_simp_python</th>\n",
       "      <th>job_simp_related</th>\n",
       "      <th>job_simp_scientist</th>\n",
       "      <th>job_simp_software</th>\n",
       "      <th>rating</th>\n",
       "      <th>employer_estimate</th>\n",
       "      <th>age</th>\n",
       "      <th>seniority</th>\n",
       "    </tr>\n",
       "  </thead>\n",
       "  <tbody>\n",
       "    <tr>\n",
       "      <th>0</th>\n",
       "      <td>0</td>\n",
       "      <td>0</td>\n",
       "      <td>0</td>\n",
       "      <td>0</td>\n",
       "      <td>0</td>\n",
       "      <td>0</td>\n",
       "      <td>0</td>\n",
       "      <td>0</td>\n",
       "      <td>0</td>\n",
       "      <td>0</td>\n",
       "      <td>...</td>\n",
       "      <td>0</td>\n",
       "      <td>0</td>\n",
       "      <td>0</td>\n",
       "      <td>0</td>\n",
       "      <td>0</td>\n",
       "      <td>0</td>\n",
       "      <td>4.1</td>\n",
       "      <td>0</td>\n",
       "      <td>187.0</td>\n",
       "      <td>2.0</td>\n",
       "    </tr>\n",
       "    <tr>\n",
       "      <th>1</th>\n",
       "      <td>0</td>\n",
       "      <td>0</td>\n",
       "      <td>0</td>\n",
       "      <td>0</td>\n",
       "      <td>0</td>\n",
       "      <td>0</td>\n",
       "      <td>0</td>\n",
       "      <td>0</td>\n",
       "      <td>0</td>\n",
       "      <td>0</td>\n",
       "      <td>...</td>\n",
       "      <td>0</td>\n",
       "      <td>0</td>\n",
       "      <td>0</td>\n",
       "      <td>0</td>\n",
       "      <td>0</td>\n",
       "      <td>0</td>\n",
       "      <td>4.1</td>\n",
       "      <td>0</td>\n",
       "      <td>164.0</td>\n",
       "      <td>0.0</td>\n",
       "    </tr>\n",
       "    <tr>\n",
       "      <th>2</th>\n",
       "      <td>0</td>\n",
       "      <td>0</td>\n",
       "      <td>0</td>\n",
       "      <td>0</td>\n",
       "      <td>0</td>\n",
       "      <td>0</td>\n",
       "      <td>0</td>\n",
       "      <td>0</td>\n",
       "      <td>0</td>\n",
       "      <td>0</td>\n",
       "      <td>...</td>\n",
       "      <td>0</td>\n",
       "      <td>0</td>\n",
       "      <td>0</td>\n",
       "      <td>0</td>\n",
       "      <td>1</td>\n",
       "      <td>0</td>\n",
       "      <td>4.1</td>\n",
       "      <td>1</td>\n",
       "      <td>61.0</td>\n",
       "      <td>0.0</td>\n",
       "    </tr>\n",
       "    <tr>\n",
       "      <th>3</th>\n",
       "      <td>0</td>\n",
       "      <td>0</td>\n",
       "      <td>0</td>\n",
       "      <td>0</td>\n",
       "      <td>0</td>\n",
       "      <td>0</td>\n",
       "      <td>0</td>\n",
       "      <td>0</td>\n",
       "      <td>0</td>\n",
       "      <td>0</td>\n",
       "      <td>...</td>\n",
       "      <td>0</td>\n",
       "      <td>0</td>\n",
       "      <td>0</td>\n",
       "      <td>0</td>\n",
       "      <td>1</td>\n",
       "      <td>0</td>\n",
       "      <td>4.1</td>\n",
       "      <td>0</td>\n",
       "      <td>61.0</td>\n",
       "      <td>2.0</td>\n",
       "    </tr>\n",
       "    <tr>\n",
       "      <th>4</th>\n",
       "      <td>0</td>\n",
       "      <td>0</td>\n",
       "      <td>0</td>\n",
       "      <td>0</td>\n",
       "      <td>0</td>\n",
       "      <td>0</td>\n",
       "      <td>0</td>\n",
       "      <td>0</td>\n",
       "      <td>0</td>\n",
       "      <td>0</td>\n",
       "      <td>...</td>\n",
       "      <td>0</td>\n",
       "      <td>0</td>\n",
       "      <td>0</td>\n",
       "      <td>0</td>\n",
       "      <td>0</td>\n",
       "      <td>0</td>\n",
       "      <td>4.2</td>\n",
       "      <td>0</td>\n",
       "      <td>25.0</td>\n",
       "      <td>1.0</td>\n",
       "    </tr>\n",
       "    <tr>\n",
       "      <th>...</th>\n",
       "      <td>...</td>\n",
       "      <td>...</td>\n",
       "      <td>...</td>\n",
       "      <td>...</td>\n",
       "      <td>...</td>\n",
       "      <td>...</td>\n",
       "      <td>...</td>\n",
       "      <td>...</td>\n",
       "      <td>...</td>\n",
       "      <td>...</td>\n",
       "      <td>...</td>\n",
       "      <td>...</td>\n",
       "      <td>...</td>\n",
       "      <td>...</td>\n",
       "      <td>...</td>\n",
       "      <td>...</td>\n",
       "      <td>...</td>\n",
       "      <td>...</td>\n",
       "      <td>...</td>\n",
       "      <td>...</td>\n",
       "      <td>...</td>\n",
       "    </tr>\n",
       "    <tr>\n",
       "      <th>341</th>\n",
       "      <td>0</td>\n",
       "      <td>0</td>\n",
       "      <td>0</td>\n",
       "      <td>0</td>\n",
       "      <td>0</td>\n",
       "      <td>0</td>\n",
       "      <td>0</td>\n",
       "      <td>0</td>\n",
       "      <td>0</td>\n",
       "      <td>0</td>\n",
       "      <td>...</td>\n",
       "      <td>0</td>\n",
       "      <td>1</td>\n",
       "      <td>0</td>\n",
       "      <td>0</td>\n",
       "      <td>0</td>\n",
       "      <td>0</td>\n",
       "      <td>3.8</td>\n",
       "      <td>0</td>\n",
       "      <td>71.0</td>\n",
       "      <td>2.0</td>\n",
       "    </tr>\n",
       "    <tr>\n",
       "      <th>342</th>\n",
       "      <td>0</td>\n",
       "      <td>0</td>\n",
       "      <td>0</td>\n",
       "      <td>0</td>\n",
       "      <td>0</td>\n",
       "      <td>0</td>\n",
       "      <td>0</td>\n",
       "      <td>0</td>\n",
       "      <td>0</td>\n",
       "      <td>0</td>\n",
       "      <td>...</td>\n",
       "      <td>0</td>\n",
       "      <td>0</td>\n",
       "      <td>0</td>\n",
       "      <td>0</td>\n",
       "      <td>0</td>\n",
       "      <td>1</td>\n",
       "      <td>4.1</td>\n",
       "      <td>0</td>\n",
       "      <td>61.0</td>\n",
       "      <td>1.0</td>\n",
       "    </tr>\n",
       "    <tr>\n",
       "      <th>343</th>\n",
       "      <td>0</td>\n",
       "      <td>0</td>\n",
       "      <td>0</td>\n",
       "      <td>0</td>\n",
       "      <td>0</td>\n",
       "      <td>0</td>\n",
       "      <td>0</td>\n",
       "      <td>0</td>\n",
       "      <td>0</td>\n",
       "      <td>0</td>\n",
       "      <td>...</td>\n",
       "      <td>0</td>\n",
       "      <td>0</td>\n",
       "      <td>0</td>\n",
       "      <td>0</td>\n",
       "      <td>0</td>\n",
       "      <td>0</td>\n",
       "      <td>4.0</td>\n",
       "      <td>0</td>\n",
       "      <td>10.0</td>\n",
       "      <td>2.0</td>\n",
       "    </tr>\n",
       "    <tr>\n",
       "      <th>344</th>\n",
       "      <td>0</td>\n",
       "      <td>0</td>\n",
       "      <td>0</td>\n",
       "      <td>0</td>\n",
       "      <td>0</td>\n",
       "      <td>0</td>\n",
       "      <td>0</td>\n",
       "      <td>0</td>\n",
       "      <td>0</td>\n",
       "      <td>0</td>\n",
       "      <td>...</td>\n",
       "      <td>0</td>\n",
       "      <td>0</td>\n",
       "      <td>0</td>\n",
       "      <td>0</td>\n",
       "      <td>0</td>\n",
       "      <td>0</td>\n",
       "      <td>4.2</td>\n",
       "      <td>1</td>\n",
       "      <td>25.0</td>\n",
       "      <td>1.0</td>\n",
       "    </tr>\n",
       "    <tr>\n",
       "      <th>345</th>\n",
       "      <td>0</td>\n",
       "      <td>0</td>\n",
       "      <td>0</td>\n",
       "      <td>0</td>\n",
       "      <td>0</td>\n",
       "      <td>0</td>\n",
       "      <td>0</td>\n",
       "      <td>0</td>\n",
       "      <td>0</td>\n",
       "      <td>0</td>\n",
       "      <td>...</td>\n",
       "      <td>0</td>\n",
       "      <td>0</td>\n",
       "      <td>0</td>\n",
       "      <td>0</td>\n",
       "      <td>0</td>\n",
       "      <td>1</td>\n",
       "      <td>3.6</td>\n",
       "      <td>1</td>\n",
       "      <td>1.0</td>\n",
       "      <td>1.0</td>\n",
       "    </tr>\n",
       "  </tbody>\n",
       "</table>\n",
       "<p>138 rows × 1673 columns</p>\n",
       "</div>"
      ],
      "text/plain": [
       "     company_name_a66  company_name_adci  company_name_adobe  \\\n",
       "0                   0                  0                   0   \n",
       "1                   0                  0                   0   \n",
       "2                   0                  0                   0   \n",
       "3                   0                  0                   0   \n",
       "4                   0                  0                   0   \n",
       "..                ...                ...                 ...   \n",
       "341                 0                  0                   0   \n",
       "342                 0                  0                   0   \n",
       "343                 0                  0                   0   \n",
       "344                 0                  0                   0   \n",
       "345                 0                  0                   0   \n",
       "\n",
       "     company_name_airtel  company_name_alignerr  company_name_altair  \\\n",
       "0                      0                      0                    0   \n",
       "1                      0                      0                    0   \n",
       "2                      0                      0                    0   \n",
       "3                      0                      0                    0   \n",
       "4                      0                      0                    0   \n",
       "..                   ...                    ...                  ...   \n",
       "341                    0                      0                    0   \n",
       "342                    0                      0                    0   \n",
       "343                    0                      0                    0   \n",
       "344                    0                      0                    0   \n",
       "345                    0                      0                    0   \n",
       "\n",
       "     company_name_american  company_name_amex  company_name_analytics  \\\n",
       "0                        0                  0                       0   \n",
       "1                        0                  0                       0   \n",
       "2                        0                  0                       0   \n",
       "3                        0                  0                       0   \n",
       "4                        0                  0                       0   \n",
       "..                     ...                ...                     ...   \n",
       "341                      0                  0                       0   \n",
       "342                      0                  0                       0   \n",
       "343                      0                  0                       0   \n",
       "344                      0                  0                       0   \n",
       "345                      0                  0                       0   \n",
       "\n",
       "     company_name_ananta  ...  job_simp_nlp  job_simp_other  job_simp_python  \\\n",
       "0                      0  ...             0               0                0   \n",
       "1                      0  ...             0               0                0   \n",
       "2                      0  ...             0               0                0   \n",
       "3                      0  ...             0               0                0   \n",
       "4                      0  ...             0               0                0   \n",
       "..                   ...  ...           ...             ...              ...   \n",
       "341                    0  ...             0               1                0   \n",
       "342                    0  ...             0               0                0   \n",
       "343                    0  ...             0               0                0   \n",
       "344                    0  ...             0               0                0   \n",
       "345                    0  ...             0               0                0   \n",
       "\n",
       "     job_simp_related  job_simp_scientist  job_simp_software  rating  \\\n",
       "0                   0                   0                  0     4.1   \n",
       "1                   0                   0                  0     4.1   \n",
       "2                   0                   1                  0     4.1   \n",
       "3                   0                   1                  0     4.1   \n",
       "4                   0                   0                  0     4.2   \n",
       "..                ...                 ...                ...     ...   \n",
       "341                 0                   0                  0     3.8   \n",
       "342                 0                   0                  1     4.1   \n",
       "343                 0                   0                  0     4.0   \n",
       "344                 0                   0                  0     4.2   \n",
       "345                 0                   0                  1     3.6   \n",
       "\n",
       "     employer_estimate    age  seniority  \n",
       "0                    0  187.0        2.0  \n",
       "1                    0  164.0        0.0  \n",
       "2                    1   61.0        0.0  \n",
       "3                    0   61.0        2.0  \n",
       "4                    0   25.0        1.0  \n",
       "..                 ...    ...        ...  \n",
       "341                  0   71.0        2.0  \n",
       "342                  0   61.0        1.0  \n",
       "343                  0   10.0        2.0  \n",
       "344                  1   25.0        1.0  \n",
       "345                  1    1.0        1.0  \n",
       "\n",
       "[138 rows x 1673 columns]"
      ]
     },
     "execution_count": 116,
     "metadata": {},
     "output_type": "execute_result"
    }
   ],
   "source": [
    "xtrain.iloc[train_index,:]"
   ]
  },
  {
   "cell_type": "code",
   "execution_count": 128,
   "id": "32fae433-554e-46fb-8146-05ad4129e3f1",
   "metadata": {},
   "outputs": [
    {
     "data": {
      "text/plain": [
       "0       550000.0\n",
       "2         5000.0\n",
       "3      1000000.0\n",
       "4       550000.0\n",
       "5      1400000.0\n",
       "         ...    \n",
       "338     500000.0\n",
       "339     550000.0\n",
       "341     650000.0\n",
       "342     600000.0\n",
       "344      10000.0\n",
       "Name: avg_salary, Length: 139, dtype: float64"
      ]
     },
     "execution_count": 128,
     "metadata": {},
     "output_type": "execute_result"
    }
   ],
   "source": [
    "ytrain.iloc[train_index]"
   ]
  },
  {
   "cell_type": "code",
   "execution_count": 132,
   "id": "54525526-a9af-4c13-b1d4-65633dd67ecd",
   "metadata": {},
   "outputs": [
    {
     "name": "stdout",
     "output_type": "stream",
     "text": [
      "\u001b[1m6/6\u001b[0m \u001b[32m━━━━━━━━━━━━━━━━━━━━\u001b[0m\u001b[37m\u001b[0m \u001b[1m0s\u001b[0m 8ms/step - loss: 27737513984.0000\n"
     ]
    },
    {
     "data": {
      "text/plain": [
       "23900164096.0"
      ]
     },
     "execution_count": 132,
     "metadata": {},
     "output_type": "execute_result"
    }
   ],
   "source": [
    "model.evaluate(xtrain,ytrain)"
   ]
  },
  {
   "cell_type": "markdown",
   "id": "7652d964-4adc-4351-b8ad-c51a7fe6191c",
   "metadata": {},
   "source": [
    "The model.evaluate function predicts the output for the given input and then computes the metrics function specified in the model.compile and based on y_true and y_pred and returns the computed metric value as the output.\n",
    "\n",
    "The model.predict just returns back the y_pred"
   ]
  },
  {
   "cell_type": "code",
   "execution_count": 135,
   "id": "800bffe6-473f-4cce-bc2c-9fe4d8adc16d",
   "metadata": {},
   "outputs": [
    {
     "name": "stdout",
     "output_type": "stream",
     "text": [
      "\u001b[1m2/2\u001b[0m \u001b[32m━━━━━━━━━━━━━━━━━━━━\u001b[0m\u001b[37m\u001b[0m \u001b[1m0s\u001b[0m 0s/step  \n",
      "\u001b[1m2/2\u001b[0m \u001b[32m━━━━━━━━━━━━━━━━━━━━\u001b[0m\u001b[37m\u001b[0m \u001b[1m0s\u001b[0m 18ms/step\n",
      "\u001b[1m2/2\u001b[0m \u001b[32m━━━━━━━━━━━━━━━━━━━━\u001b[0m\u001b[37m\u001b[0m \u001b[1m0s\u001b[0m 15ms/step\n",
      "\u001b[1m2/2\u001b[0m \u001b[32m━━━━━━━━━━━━━━━━━━━━\u001b[0m\u001b[37m\u001b[0m \u001b[1m0s\u001b[0m 9ms/step \n",
      "\u001b[1m2/2\u001b[0m \u001b[32m━━━━━━━━━━━━━━━━━━━━\u001b[0m\u001b[37m\u001b[0m \u001b[1m0s\u001b[0m 9ms/step \n",
      "Cross-validation r2 scores: [0.9884719885373812, -0.8639866107353724, 0.7789233311551345, 0.9641507503859562, 0.9583806549662084]\n",
      "Average r2 score: 0.5651880228618615\n"
     ]
    }
   ],
   "source": [
    "from sklearn.model_selection import KFold\n",
    "import numpy as np\n",
    "\n",
    "# Define KFold cross-validation\n",
    "kf = KFold(n_splits=5, shuffle=True, random_state=42)\n",
    "\n",
    "# Store the scores\n",
    "cv_scores = []\n",
    "\n",
    "# Perform cross-validation\n",
    "for train_index, val_index in kf.split(xtrain):\n",
    "    X_train, X_val = xtrain.iloc[train_index,:], xtrain.iloc[val_index,:]\n",
    "    y_train, y_val = ytrain.iloc[train_index], ytrain.iloc[val_index]\n",
    "    \n",
    "    # Create the model\n",
    "    #model = create_model()\n",
    "    \n",
    "    # Train the model\n",
    "    model.fit(X_train, y_train, epochs=10, batch_size=32, verbose=0)\n",
    "    \n",
    "    # Evaluate the model on the validation set\n",
    "    score = r2_score(y_val, model.predict(X_val))\n",
    "    cv_scores.append(score)\n",
    "\n",
    "# Print the cross-validation scores\n",
    "print(\"Cross-validation r2 scores:\", cv_scores)\n",
    "print(\"Average r2 score:\", np.mean(cv_scores))\n"
   ]
  },
  {
   "cell_type": "markdown",
   "id": "b62cffe1-95a6-457f-a20e-ccd0022005f4",
   "metadata": {},
   "source": [
    "# we have to try \n",
    "\n",
    "all below steps we'll do to improve the performance of our ANN but before that we'll try other simpler ML models!\n",
    "- early stopping\n",
    "- regularization l2 and l1\n",
    "- dropout"
   ]
  },
  {
   "cell_type": "markdown",
   "id": "8bf7e2a5-a92f-4964-a49b-500a493a7b30",
   "metadata": {},
   "source": [
    "## Evaluation"
   ]
  },
  {
   "cell_type": "code",
   "execution_count": null,
   "id": "62b2160a-726f-436f-834f-0673664e13b0",
   "metadata": {},
   "outputs": [],
   "source": []
  }
 ],
 "metadata": {
  "kernelspec": {
   "display_name": "Python 3 (ipykernel)",
   "language": "python",
   "name": "python3"
  },
  "language_info": {
   "codemirror_mode": {
    "name": "ipython",
    "version": 3
   },
   "file_extension": ".py",
   "mimetype": "text/x-python",
   "name": "python",
   "nbconvert_exporter": "python",
   "pygments_lexer": "ipython3",
   "version": "3.12.7"
  }
 },
 "nbformat": 4,
 "nbformat_minor": 5
}
