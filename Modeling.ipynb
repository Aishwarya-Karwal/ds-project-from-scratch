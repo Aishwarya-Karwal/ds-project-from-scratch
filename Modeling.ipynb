{
 "cells": [
  {
   "cell_type": "code",
   "execution_count": 1,
   "id": "66471965-0402-4f3a-b0e6-cd912cac18c9",
   "metadata": {},
   "outputs": [],
   "source": [
    "import pandas as pd\n",
    "import numpy as np\n",
    "\n",
    "# for visualization\n",
    "import matplotlib.pyplot as plt\n",
    "import seaborn as sns"
   ]
  },
  {
   "cell_type": "code",
   "execution_count": 2,
   "id": "b2fef508-8b8f-4302-bfae-b4814e91d649",
   "metadata": {},
   "outputs": [],
   "source": [
    "df = pd.read_csv(\"final_data.csv\")"
   ]
  },
  {
   "cell_type": "code",
   "execution_count": 3,
   "id": "abcb67d3-0d9e-4b63-a909-f8a9e168ce1b",
   "metadata": {},
   "outputs": [
    {
     "data": {
      "text/plain": [
       "(374, 19)"
      ]
     },
     "execution_count": 3,
     "metadata": {},
     "output_type": "execute_result"
    }
   ],
   "source": [
    "df.shape"
   ]
  },
  {
   "cell_type": "code",
   "execution_count": 4,
   "id": "2a11f426-bf50-4e32-9afa-e928f3018f62",
   "metadata": {},
   "outputs": [
    {
     "data": {
      "text/plain": [
       "company_name           0\n",
       "location               0\n",
       "job_title              0\n",
       "job_description        0\n",
       "rating                53\n",
       "employer_estimate      0\n",
       "min_salary             0\n",
       "max_salary             0\n",
       "avg_salary             0\n",
       "Size                  51\n",
       "Founded               51\n",
       "Type                  51\n",
       "Industry              51\n",
       "Sector                51\n",
       "Revenue               51\n",
       "skills                 1\n",
       "age                  106\n",
       "seniority              0\n",
       "job_simp               0\n",
       "dtype: int64"
      ]
     },
     "execution_count": 4,
     "metadata": {},
     "output_type": "execute_result"
    }
   ],
   "source": [
    "df.isnull().sum()"
   ]
  },
  {
   "cell_type": "code",
   "execution_count": 5,
   "id": "4f912006-2ddc-4cd7-8765-9d12e6c26cd7",
   "metadata": {},
   "outputs": [
    {
     "data": {
      "text/plain": [
       "np.int64(0)"
      ]
     },
     "execution_count": 5,
     "metadata": {},
     "output_type": "execute_result"
    }
   ],
   "source": [
    "df.duplicated().sum()"
   ]
  },
  {
   "cell_type": "code",
   "execution_count": 6,
   "id": "0b8c632d-26df-43a6-8c4a-b2720b42921a",
   "metadata": {},
   "outputs": [
    {
     "data": {
      "text/plain": [
       "Index(['company_name', 'location', 'job_title', 'job_description', 'rating',\n",
       "       'employer_estimate', 'min_salary', 'max_salary', 'avg_salary', 'Size',\n",
       "       'Founded', 'Type', 'Industry', 'Sector', 'Revenue', 'skills', 'age',\n",
       "       'seniority', 'job_simp'],\n",
       "      dtype='object')"
      ]
     },
     "execution_count": 6,
     "metadata": {},
     "output_type": "execute_result"
    }
   ],
   "source": [
    "df.columns"
   ]
  },
  {
   "cell_type": "code",
   "execution_count": 7,
   "id": "40c61748-6d89-4b79-9992-a8948308324b",
   "metadata": {},
   "outputs": [],
   "source": [
    "df.drop(columns = ['job_title', 'min_salary', 'max_salary'], inplace = True)"
   ]
  },
  {
   "cell_type": "code",
   "execution_count": 8,
   "id": "eb77e126-0e92-4912-bf75-c0a852d193fb",
   "metadata": {},
   "outputs": [
    {
     "name": "stdout",
     "output_type": "stream",
     "text": [
      "<class 'pandas.core.frame.DataFrame'>\n",
      "RangeIndex: 374 entries, 0 to 373\n",
      "Data columns (total 16 columns):\n",
      " #   Column             Non-Null Count  Dtype  \n",
      "---  ------             --------------  -----  \n",
      " 0   company_name       374 non-null    object \n",
      " 1   location           374 non-null    object \n",
      " 2   job_description    374 non-null    object \n",
      " 3   rating             321 non-null    float64\n",
      " 4   employer_estimate  374 non-null    int64  \n",
      " 5   avg_salary         374 non-null    float64\n",
      " 6   Size               323 non-null    object \n",
      " 7   Founded            323 non-null    object \n",
      " 8   Type               323 non-null    object \n",
      " 9   Industry           323 non-null    object \n",
      " 10  Sector             323 non-null    object \n",
      " 11  Revenue            323 non-null    object \n",
      " 12  skills             373 non-null    object \n",
      " 13  age                268 non-null    float64\n",
      " 14  seniority          374 non-null    float64\n",
      " 15  job_simp           374 non-null    object \n",
      "dtypes: float64(4), int64(1), object(11)\n",
      "memory usage: 46.9+ KB\n"
     ]
    }
   ],
   "source": [
    "df.info()"
   ]
  },
  {
   "cell_type": "markdown",
   "id": "0a2139f0-6196-4d02-ba3c-8d6d36a77645",
   "metadata": {},
   "source": [
    "## Train Test split"
   ]
  },
  {
   "cell_type": "code",
   "execution_count": 9,
   "id": "fad0155d-c4e6-4188-9669-78f3c4c7f5a5",
   "metadata": {},
   "outputs": [],
   "source": [
    "# Filter once for training data\n",
    "train_data = df[df['avg_salary'] != -1]\n",
    "\n",
    "# Now split into features (xtrain) and target (ytrain) this was required for the modelling phase purpose but since we are still in eda phase,\n",
    "# we can scale both features and target column together\n",
    "xtrain = train_data.drop('avg_salary', axis=1)\n",
    "ytrain = train_data['avg_salary']  # Selecting a single column doesn't need .loc\n",
    "\n",
    "# For test data\n",
    "xtest = df[df['avg_salary'] == -1].drop('avg_salary', axis=1)"
   ]
  },
  {
   "cell_type": "code",
   "execution_count": 10,
   "id": "55a72c2d-5a88-444e-8a15-9c9200ec51ed",
   "metadata": {},
   "outputs": [
    {
     "data": {
      "text/plain": [
       "((173, 15), (173,), (201, 15))"
      ]
     },
     "execution_count": 10,
     "metadata": {},
     "output_type": "execute_result"
    }
   ],
   "source": [
    "xtrain.shape, ytrain.shape, xtest.shape"
   ]
  },
  {
   "cell_type": "markdown",
   "id": "9fcd0951-f9a9-427d-b6f9-b295bd41106a",
   "metadata": {},
   "source": [
    "## Scaling"
   ]
  },
  {
   "cell_type": "code",
   "execution_count": 11,
   "id": "44be908e-9ed6-4621-8d87-83b91ea71611",
   "metadata": {},
   "outputs": [
    {
     "data": {
      "text/plain": [
       "Index(['company_name', 'location', 'job_description', 'rating',\n",
       "       'employer_estimate', 'avg_salary', 'Size', 'Founded', 'Type',\n",
       "       'Industry', 'Sector', 'Revenue', 'skills', 'age', 'seniority',\n",
       "       'job_simp'],\n",
       "      dtype='object')"
      ]
     },
     "execution_count": 11,
     "metadata": {},
     "output_type": "execute_result"
    }
   ],
   "source": [
    "df.columns"
   ]
  },
  {
   "cell_type": "code",
   "execution_count": 12,
   "id": "c09b27f3-6d47-4e9a-9467-e8eb5b51b73b",
   "metadata": {},
   "outputs": [],
   "source": [
    "cols_scale_train = xtrain.select_dtypes('number').drop(columns = ['employer_estimate', 'seniority'])\n",
    "cols_scale_test = xtest.select_dtypes('number').drop(columns = ['employer_estimate', 'seniority'])"
   ]
  },
  {
   "cell_type": "code",
   "execution_count": 13,
   "id": "5fe6399f-1b8b-4f75-b5a5-30347b495e86",
   "metadata": {},
   "outputs": [
    {
     "data": {
      "text/html": [
       "<div>\n",
       "<style scoped>\n",
       "    .dataframe tbody tr th:only-of-type {\n",
       "        vertical-align: middle;\n",
       "    }\n",
       "\n",
       "    .dataframe tbody tr th {\n",
       "        vertical-align: top;\n",
       "    }\n",
       "\n",
       "    .dataframe thead th {\n",
       "        text-align: right;\n",
       "    }\n",
       "</style>\n",
       "<table border=\"1\" class=\"dataframe\">\n",
       "  <thead>\n",
       "    <tr style=\"text-align: right;\">\n",
       "      <th></th>\n",
       "      <th>rating</th>\n",
       "      <th>age</th>\n",
       "    </tr>\n",
       "  </thead>\n",
       "  <tbody>\n",
       "    <tr>\n",
       "      <th>39</th>\n",
       "      <td>4.0</td>\n",
       "      <td>225.0</td>\n",
       "    </tr>\n",
       "    <tr>\n",
       "      <th>40</th>\n",
       "      <td>3.5</td>\n",
       "      <td>NaN</td>\n",
       "    </tr>\n",
       "    <tr>\n",
       "      <th>41</th>\n",
       "      <td>4.1</td>\n",
       "      <td>164.0</td>\n",
       "    </tr>\n",
       "    <tr>\n",
       "      <th>42</th>\n",
       "      <td>3.7</td>\n",
       "      <td>43.0</td>\n",
       "    </tr>\n",
       "    <tr>\n",
       "      <th>43</th>\n",
       "      <td>4.6</td>\n",
       "      <td>17.0</td>\n",
       "    </tr>\n",
       "    <tr>\n",
       "      <th>...</th>\n",
       "      <td>...</td>\n",
       "      <td>...</td>\n",
       "    </tr>\n",
       "    <tr>\n",
       "      <th>369</th>\n",
       "      <td>3.9</td>\n",
       "      <td>15.0</td>\n",
       "    </tr>\n",
       "    <tr>\n",
       "      <th>370</th>\n",
       "      <td>4.7</td>\n",
       "      <td>NaN</td>\n",
       "    </tr>\n",
       "    <tr>\n",
       "      <th>371</th>\n",
       "      <td>NaN</td>\n",
       "      <td>NaN</td>\n",
       "    </tr>\n",
       "    <tr>\n",
       "      <th>372</th>\n",
       "      <td>4.3</td>\n",
       "      <td>9.0</td>\n",
       "    </tr>\n",
       "    <tr>\n",
       "      <th>373</th>\n",
       "      <td>NaN</td>\n",
       "      <td>NaN</td>\n",
       "    </tr>\n",
       "  </tbody>\n",
       "</table>\n",
       "<p>201 rows × 2 columns</p>\n",
       "</div>"
      ],
      "text/plain": [
       "     rating    age\n",
       "39      4.0  225.0\n",
       "40      3.5    NaN\n",
       "41      4.1  164.0\n",
       "42      3.7   43.0\n",
       "43      4.6   17.0\n",
       "..      ...    ...\n",
       "369     3.9   15.0\n",
       "370     4.7    NaN\n",
       "371     NaN    NaN\n",
       "372     4.3    9.0\n",
       "373     NaN    NaN\n",
       "\n",
       "[201 rows x 2 columns]"
      ]
     },
     "execution_count": 13,
     "metadata": {},
     "output_type": "execute_result"
    }
   ],
   "source": [
    "cols_scale_test"
   ]
  },
  {
   "cell_type": "markdown",
   "id": "44a69cfb-14cb-4509-a5cb-d71a672ff3d1",
   "metadata": {},
   "source": [
    "Introducing a bit of bias , filling rating and age null values with means"
   ]
  },
  {
   "cell_type": "code",
   "execution_count": 14,
   "id": "fa604204-cd5a-4f51-b081-00a0065acf72",
   "metadata": {},
   "outputs": [
    {
     "data": {
      "text/plain": [
       "rating    24\n",
       "age       50\n",
       "dtype: int64"
      ]
     },
     "execution_count": 14,
     "metadata": {},
     "output_type": "execute_result"
    }
   ],
   "source": [
    "cols_scale_train.isna().sum()"
   ]
  },
  {
   "cell_type": "code",
   "execution_count": 15,
   "id": "3b42fabf-fc3c-42a2-baf2-7972c2b1a680",
   "metadata": {},
   "outputs": [],
   "source": [
    "means_train = cols_scale_train.mean()\n",
    "means_test = cols_scale_test.mean()"
   ]
  },
  {
   "cell_type": "code",
   "execution_count": 16,
   "id": "d3361bcd-cbe2-4c51-a901-c5b3dc1a6e5c",
   "metadata": {},
   "outputs": [],
   "source": [
    "cols_scale_train = cols_scale_train.fillna(means_train)\n",
    "cols_scale_test = cols_scale_test.fillna(means_test)"
   ]
  },
  {
   "cell_type": "code",
   "execution_count": 17,
   "id": "6c708bb4-22f3-456a-89e0-8b00d67b9730",
   "metadata": {},
   "outputs": [],
   "source": [
    "from sklearn.preprocessing import StandardScaler, MinMaxScaler\n",
    "scaler1 = MinMaxScaler()\n",
    "xtrain_trf = scaler1.fit_transform(cols_scale_train)\n",
    "xtest_trf = scaler1.transform(cols_scale_test)"
   ]
  },
  {
   "cell_type": "code",
   "execution_count": 18,
   "id": "1b529540-dabc-4f01-b457-d24fe9e8f75f",
   "metadata": {},
   "outputs": [
    {
     "data": {
      "text/plain": [
       "numpy.ndarray"
      ]
     },
     "execution_count": 18,
     "metadata": {},
     "output_type": "execute_result"
    }
   ],
   "source": [
    "type(xtest_trf)"
   ]
  },
  {
   "cell_type": "code",
   "execution_count": 19,
   "id": "03e6a405-fcc9-4981-bc0a-7e57cc8df333",
   "metadata": {},
   "outputs": [],
   "source": [
    "# this is done so that when we merge encoded and scaled columns into one they are merged properly\n",
    "# but maybe original xtrain wont be required anymore after merging we'll get a new df\n",
    "xtrain.reset_index(drop = 'first', inplace = True)\n",
    "xtest.reset_index(drop = 'first', inplace = True)"
   ]
  },
  {
   "cell_type": "markdown",
   "id": "09b8ebd3-20bc-45de-9e58-777c1f39fefa",
   "metadata": {},
   "source": [
    "## Encoding"
   ]
  },
  {
   "cell_type": "code",
   "execution_count": 20,
   "id": "d017e2d7-21bc-4671-9814-094cfc7a6278",
   "metadata": {},
   "outputs": [
    {
     "name": "stdout",
     "output_type": "stream",
     "text": [
      "company_name\n",
      "Boston Consulting Group                       38\n",
      "ANZ Banking Group                              5\n",
      "Adobe                                          5\n",
      "S&P Global                                     4\n",
      "BOEING                                         4\n",
      "                                              ..\n",
      "DTCC                                           1\n",
      "Mediphore Systems and Technologies Pvt Ltd     1\n",
      "TE Connectivity                                1\n",
      "Aristocrat                                     1\n",
      "Funfull Inc.                                   1\n",
      "Name: count, Length: 103, dtype: int64\n",
      "\n",
      "location\n",
      "Bengaluru             45\n",
      "Gurgaon               34\n",
      "Delhi                 19\n",
      "Pune                  13\n",
      "Noida                 12\n",
      "India                 11\n",
      "Remote                11\n",
      "Mumbai                 5\n",
      "Chennai                5\n",
      "Chandigarh             2\n",
      "Cochin                 2\n",
      "Hyderābād              2\n",
      "Salem                  2\n",
      "Vadodara               2\n",
      "Ghaziabad              1\n",
      "Haryāna                1\n",
      "Thiruvananthapuram     1\n",
      "Maharashtra            1\n",
      "Calcutta               1\n",
      "Amritsar               1\n",
      "Ahmedabad              1\n",
      "Visakhapatnam          1\n",
      "Name: count, dtype: int64\n",
      "\n",
      "job_description\n",
      "You will collaborate with case teams to gather requirements, specify, design, develop, deliver and support analytic solutions serving client needs.…\\r\\nSkills: Microsoft Powerpoint, Supply chain, Spark, Alteryx, Analysis skills              3\n",
      "Keep pace with industry trends to ensure our cloud data center designs and infrastructure layer architectures remain cutting-edge and client-focused.…\\r\\nSkills: Azure, Cloud architecture, PCI, Kubernetes, Big data                           3\n",
      "Our data analytics and artificial intelligence professionals mix deep domain expertise with advanced analytical methods and techniques to develop innovative……\\r\\nSkills: Microsoft Powerpoint, Statistics, Power BI, Microsoft Access, Azure    3\n",
      "You'll be responsible for the design, build and maintenance of tools that enable our Support Engineers and related teams to be more effective and efficient at……\\r\\nSkills: Software deployment, Microservices, SQL, Docker, Machine learning    3\n",
      "Agile Coaches and Scrum Leads, that will ensure that you adopt agile principles, mindset and ways of working into your daily routine and who will coach you……\\r\\nSkills: CI/CD, Cloud infrastructure, Azure, Node.js, React                      3\n",
      "                                                                                                                                                                                                                                                ..\n",
      "At ANZ, our Security Domain is tasked with making ANZ a safe and more secure place by ensuring our corporate and customer information is secured.…\\r\\nSkills: Kubernetes, Information security, AWS, Scalability, Agile                          1\n",
      "Education/experience typically acquired through advanced education (e.g. Bachelor) and typically 5 years' related work experience or an equivalent combination……\\r\\nSkills: CI/CD, ASP.NET, SAFe, Azure, Gradle                                  1\n",
      "To design and develop HTML5/Typescript based class 3 real money digital Games with Java backend for markets across the Globe and be responsible for ensuring……\\r\\nSkills: Data structures, iOS, Android, Java, Application development           1\n",
      "Design and implementation of data storage solutions using MongoDB. Minimum 3 years of experience as a MEAN Stack Developer or similar role.…\\r\\nSkills: AJAX, Node.js, CSS, Software troubleshooting, Software deployment                        1\n",
      "Develops a technical strategy for data integrations and implement a scalable design using industry best practices. Support project teams during testing.…\\r\\nSkills: Azure, MVC, Cloud architecture, SAP, Google Cloud Platform                  1\n",
      "Name: count, Length: 156, dtype: int64\n",
      "\n",
      "Size\n",
      "10000+ Employees           86\n",
      "1 to 50 Employees          15\n",
      "5001 to 10000 Employees    13\n",
      "51 to 200 Employees        12\n",
      "201 to 500 Employees        9\n",
      "Unknown                     7\n",
      "1001 to 5000 Employees      7\n",
      "501 to 1000 Employees       1\n",
      "Name: count, dtype: int64\n",
      "\n",
      "Founded\n",
      "1963    38\n",
      "--      27\n",
      "1982     6\n",
      "1835     5\n",
      "1860     4\n",
      "1850     4\n",
      "1916     4\n",
      "2016     3\n",
      "2002     3\n",
      "2017     3\n",
      "2023     3\n",
      "2007     3\n",
      "2015     3\n",
      "1999     3\n",
      "1837     2\n",
      "1994     2\n",
      "2014     2\n",
      "1995     2\n",
      "2009     2\n",
      "1880     2\n",
      "1973     2\n",
      "1989     2\n",
      "1727     1\n",
      "1926     1\n",
      "1841     1\n",
      "2022     1\n",
      "1988     1\n",
      "1799     1\n",
      "2020     1\n",
      "1981     1\n",
      "2008     1\n",
      "1938     1\n",
      "1925     1\n",
      "1987     1\n",
      "1969     1\n",
      "2019     1\n",
      "1849     1\n",
      "1985     1\n",
      "1977     1\n",
      "1915     1\n",
      "1947     1\n",
      "1690     1\n",
      "2011     1\n",
      "2013     1\n",
      "1870     1\n",
      "1997     1\n",
      "1953     1\n",
      "Name: count, dtype: int64\n",
      "\n",
      "Type\n",
      "Company - Private                 90\n",
      "Company - Public                  58\n",
      "Subsidiary or Business Segment     2\n",
      "Name: count, dtype: int64\n",
      "\n",
      "Industry\n",
      "Business consulting                        43\n",
      "--                                         21\n",
      "Information Technology Support Services    19\n",
      "Banking & Lending                           9\n",
      "Research and development                    7\n",
      "Financial Transaction Processing            6\n",
      "Computer Hardware Development               6\n",
      "Biotech & Pharmaceuticals                   6\n",
      "Enterprise Software & Network Solutions     5\n",
      "Software Development                        5\n",
      "Aerospace and defence                       4\n",
      "Consumer Product Manufacturing              3\n",
      "Investment & Asset Management               2\n",
      "Machinery Manufacturing                     2\n",
      "Internet & Web Services                     2\n",
      "HR Consulting                               2\n",
      "Electronics Manufacturing                   2\n",
      "Advertising & Public Relations              1\n",
      "Healthcare Services & Hospitals             1\n",
      "Publishing                                  1\n",
      "Travel Agencies                             1\n",
      "Telecommunications Services                 1\n",
      "Gambling & Betting                          1\n",
      "Name: count, dtype: int64\n",
      "\n",
      "Sector\n",
      "Management and consulting             50\n",
      "Information Technology                37\n",
      "--                                    21\n",
      "Finance                               17\n",
      "Manufacturing                          7\n",
      "Pharmaceutical and biotechnology       6\n",
      "Aerospace and defence                  4\n",
      "Media and communication                2\n",
      "Human resources and staffing           2\n",
      "Healthcare                             1\n",
      "Hotel and travel accommodation         1\n",
      "Telecommunications                     1\n",
      "Arts, entertainment and recreation     1\n",
      "Name: count, dtype: int64\n",
      "\n",
      "Revenue\n",
      "Unknown / Non-Applicable            54\n",
      "$5 to $10 billion (USD)             42\n",
      "$10+ billion (USD)                  32\n",
      "$2 to $5 billion (USD)              13\n",
      "$5 to $25 million (USD)              3\n",
      "$100 to $500 million (USD)           3\n",
      "Less than $1 million (USD)           1\n",
      "$500 million to $1 billion (USD)     1\n",
      "$1 to $5 million (USD)               1\n",
      "Name: count, dtype: int64\n",
      "\n",
      "skills\n",
      "Data science                                                           5\n",
      "Microsoft Powerpoint, Statistics, Power BI, Microsoft Access, Azure    4\n",
      "Microsoft Powerpoint, Supply chain, Spark, Alteryx, Analysis skills    3\n",
      "Azure, Cloud architecture, PCI, Kubernetes, Big data                   3\n",
      "Oracle, XML, Spark, NoSQL, MongoDB                                     3\n",
      "                                                                      ..\n",
      "Kubernetes, Information security, AWS, Scalability, Agile              1\n",
      "CI/CD, ASP.NET, SAFe, Azure, Gradle                                    1\n",
      "Data structures, iOS, Android, Java, Application development           1\n",
      "AJAX, Node.js, CSS, Software troubleshooting, Software deployment      1\n",
      "Azure, MVC, Cloud architecture, SAP, Google Cloud Platform             1\n",
      "Name: count, Length: 149, dtype: int64\n",
      "\n",
      "job_simp\n",
      "data scientist               63\n",
      "analyst                      35\n",
      "software developer           15\n",
      "data engineer                13\n",
      "other                         7\n",
      "machine learning engineer     7\n",
      "data architect                7\n",
      "intern                        6\n",
      "manager                       6\n",
      "nlp engineer                  5\n",
      "ai engineer                   3\n",
      "manager data scientist        2\n",
      "director                      2\n",
      "cloud related                 1\n",
      "data related                  1\n",
      "Name: count, dtype: int64\n",
      "\n"
     ]
    }
   ],
   "source": [
    "for col in xtrain.select_dtypes('object').columns:\n",
    "    print(xtrain[col].value_counts())\n",
    "    print()"
   ]
  },
  {
   "cell_type": "markdown",
   "id": "b1337f89-66d7-46c7-b510-02a075127ac0",
   "metadata": {},
   "source": [
    "### Problems encountered : \n",
    "1) how to deal with description col with many lines\n",
    "2) how to deal with cols with hundreds of categories - maybe we can make a new category as other\n",
    "3) how to deal with skills col - like we want the model should capture the importance of each skill type on the salary - so what should be done how it should be encoded ? as separate skill tag each or according to the value counts output with around 100 categoies .."
   ]
  },
  {
   "cell_type": "code",
   "execution_count": 21,
   "id": "34340d8d-9ca6-443b-ac50-e69631b234d1",
   "metadata": {},
   "outputs": [
    {
     "data": {
      "text/plain": [
       "Index(['job_description_Bachelor’s degree in computer science, Statistics, Mathematics, or related field; master’s degree preferred. Work on LLM/Gen AI based applications.…\\r\\nSkills: Machine learning, Natural language processing, Data science, AI, Communication skills',\n",
       "       'job_description_Bachelor’s degree or higher in computer science or other closely related fields. Exhibits confidence and an extensive knowledge of emerging industry practices……\\r\\nSkills: MATLAB, Big data, Mobile applications, Business analysis, System design',\n",
       "       'job_description_Bachelor’s degree or higher in computer science, aerospace or other closely related field and 3-4 or more years' related work experience.…\\r\\nSkills: CI/CD, Azure, Rust, Go, Node.js',\n",
       "       'job_description_Based on their interests and our business needs, interns will be placed in roles that best suit them. Thorough grasp of computer science principles.…\\r\\nSkills: Computer science, C#, .NET, Analysis skills, Math',\n",
       "       'job_description_Being the bridge between the delivery programmes, product teams and platform teams, and will build strong internal and external relations that help drive……\\r\\nSkills: Software deployment, Databases, Business requirements, Solution architecture',\n",
       "       'job_description_Benchmarking: Conduct benchmarking studies to compare the performance of different prompts and identify best practices.…\\r\\nSkills: TensorFlow, Machine learning, Natural language processing, Data science, AI',\n",
       "       'job_description_Build data science solutions for multiple business use cases. Initiate, design and implement innovative capabilities in the field of data science and data……\\r\\nSkills: Software deployment, SQL, Analysis skills, Presentation skills, Machine learning',\n",
       "       'job_description_Building capabilities that address a market need, basis our ongoing research efforts. Solving a specific use case for a current or potential client based on……\\r\\nSkills: Data analysis skills, Apache Hive, SQL, Analysis skills, Presentation skills',\n",
       "       'job_description_Certification or experience in data analysis, data mining, and statistical modelling is an added advantage. Familiarity with Jira and Agile methodology will be……\\r\\nSkills: Jira, TensorFlow, Computer science, Power BI, Data mining',\n",
       "       'job_description_Collaborate with Enterprise Architects and other Solution Architects and engineers to architect and design technical solutions that are aligned with enterprise……\\r\\nSkills: Azure, Application development, AWS, Data management, APIs',\n",
       "       ...\n",
       "       'skills_ Microsoft Powerpoint, Supply chain, Spark, Alteryx, Analysis skills',\n",
       "       'skills_ Microsoft Powerpoint, TensorFlow, Microsoft Excel, Microsoft Access, R',\n",
       "       'skills_ Node.js, Data structures, iOS, Android, Application development',\n",
       "       'skills_ Node.js, React, Software deployment, Angular, Django',\n",
       "       'skills_ Ontology, Azure, AWS, Analysis skills, Machine learning',\n",
       "       'skills_ Operating systems, Management, Information security, Analysis skills, Incident response',\n",
       "       'skills_ Oracle, Software troubleshooting',\n",
       "       'skills_ Oracle, XML, Spark, NoSQL, MongoDB',\n",
       "       'skills_ Performance tuning, Data modeling, Azure, Spark, NoSQL',\n",
       "       'skills_ Power BI, Azure, Big data, Spark, R'],\n",
       "      dtype='object', length=400)"
      ]
     },
     "execution_count": 21,
     "metadata": {},
     "output_type": "execute_result"
    }
   ],
   "source": [
    "# lets try one hot encoding\n",
    "pd.get_dummies(df, columns = xtrain.select_dtypes('object').columns, drop_first = True).columns[200:600]"
   ]
  },
  {
   "cell_type": "markdown",
   "id": "fb522b86-0a03-4f9c-a586-af2e481a6a9f",
   "metadata": {},
   "source": [
    "## Modeling"
   ]
  },
  {
   "cell_type": "code",
   "execution_count": 22,
   "id": "49fcaaa2-e34f-4cb3-add9-01382dc804f4",
   "metadata": {},
   "outputs": [
    {
     "ename": "SyntaxError",
     "evalue": "invalid syntax (3224696157.py, line 1)",
     "output_type": "error",
     "traceback": [
      "\u001b[1;36m  Cell \u001b[1;32mIn[22], line 1\u001b[1;36m\u001b[0m\n\u001b[1;33m    -m python --version\u001b[0m\n\u001b[1;37m       ^\u001b[0m\n\u001b[1;31mSyntaxError\u001b[0m\u001b[1;31m:\u001b[0m invalid syntax\n"
     ]
    }
   ],
   "source": [
    "-m python --version"
   ]
  },
  {
   "cell_type": "code",
   "execution_count": 40,
   "id": "6de4ce2c-fefa-43da-b8cc-1ac5e2ae76de",
   "metadata": {},
   "outputs": [
    {
     "name": "stdout",
     "output_type": "stream",
     "text": [
      "Requirement already satisfied: pip in d:\\program files\\python\\lib\\site-packages (24.2)\n",
      "Collecting pip\n",
      "  Downloading pip-24.3.1-py3-none-any.whl.metadata (3.7 kB)\n",
      "Downloading pip-24.3.1-py3-none-any.whl (1.8 MB)\n",
      "   ---------------------------------------- 0.0/1.8 MB ? eta -:--:--\n",
      "   ----------------- ---------------------- 0.8/1.8 MB 5.1 MB/s eta 0:00:01\n",
      "   ---------------------------------------- 1.8/1.8 MB 5.2 MB/s eta 0:00:00\n",
      "Installing collected packages: pip\n",
      "  Attempting uninstall: pip\n",
      "    Found existing installation: pip 24.2\n",
      "    Uninstalling pip-24.2:\n",
      "      Successfully uninstalled pip-24.2\n",
      "Successfully installed pip-24.3.1\n",
      "Note: you may need to restart the kernel to use updated packages.\n"
     ]
    }
   ],
   "source": [
    "pip install --upgrade pip\n"
   ]
  },
  {
   "cell_type": "code",
   "execution_count": 23,
   "id": "1497a00b-f9f8-41d2-952a-24be7bbb3746",
   "metadata": {},
   "outputs": [
    {
     "name": "stderr",
     "output_type": "stream",
     "text": [
      "ERROR: Could not find a version that satisfies the requirement tensorflow (from versions: none)\n",
      "ERROR: No matching distribution found for tensorflow\n"
     ]
    }
   ],
   "source": [
    "!pip install tensorflow"
   ]
  },
  {
   "cell_type": "code",
   "execution_count": 36,
   "id": "1ad4d6b7-86b7-4901-9043-df2f0392e6ca",
   "metadata": {},
   "outputs": [
    {
     "ename": "ModuleNotFoundError",
     "evalue": "No module named 'tensorflow'",
     "output_type": "error",
     "traceback": [
      "\u001b[1;31m---------------------------------------------------------------------------\u001b[0m",
      "\u001b[1;31mModuleNotFoundError\u001b[0m                       Traceback (most recent call last)",
      "Cell \u001b[1;32mIn[36], line 1\u001b[0m\n\u001b[1;32m----> 1\u001b[0m \u001b[38;5;28;01mfrom\u001b[39;00m \u001b[38;5;21;01mtensorflow\u001b[39;00m \u001b[38;5;28;01mimport\u001b[39;00m keras\n",
      "\u001b[1;31mModuleNotFoundError\u001b[0m: No module named 'tensorflow'"
     ]
    }
   ],
   "source": [
    "from tensorflow import keras"
   ]
  },
  {
   "cell_type": "markdown",
   "id": "7f9dc707-9b4b-44d2-b2f6-3faa1a6bce1f",
   "metadata": {},
   "source": [
    "## Cross validation and hyperparameter tuning"
   ]
  },
  {
   "cell_type": "markdown",
   "id": "8bf7e2a5-a92f-4964-a49b-500a493a7b30",
   "metadata": {},
   "source": [
    "## Evaluation"
   ]
  },
  {
   "cell_type": "code",
   "execution_count": null,
   "id": "62b2160a-726f-436f-834f-0673664e13b0",
   "metadata": {},
   "outputs": [],
   "source": []
  }
 ],
 "metadata": {
  "kernelspec": {
   "display_name": "Python 3 (ipykernel)",
   "language": "python",
   "name": "python3"
  },
  "language_info": {
   "codemirror_mode": {
    "name": "ipython",
    "version": 3
   },
   "file_extension": ".py",
   "mimetype": "text/x-python",
   "name": "python",
   "nbconvert_exporter": "python",
   "pygments_lexer": "ipython3",
   "version": "3.13.0"
  }
 },
 "nbformat": 4,
 "nbformat_minor": 5
}
