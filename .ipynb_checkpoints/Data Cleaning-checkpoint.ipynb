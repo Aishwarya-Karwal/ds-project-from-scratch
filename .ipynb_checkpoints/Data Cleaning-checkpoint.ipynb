{
 "cells": [
  {
   "cell_type": "code",
   "execution_count": 1,
   "id": "6d1b73a8",
   "metadata": {},
   "outputs": [],
   "source": [
    "import pandas as pd\n",
    "import numpy as np\n",
    "\n",
    "import warnings \n",
    "warnings.filterwarnings('ignore')"
   ]
  },
  {
   "cell_type": "code",
   "execution_count": 2,
   "id": "7ac71b59",
   "metadata": {},
   "outputs": [],
   "source": [
    "data = pd.read_csv(\"jobs.csv\", usecols = lambda x : x != \"Unnamed: 0\")"
   ]
  },
  {
   "cell_type": "code",
   "execution_count": 3,
   "id": "386567d1",
   "metadata": {},
   "outputs": [
    {
     "data": {
      "text/html": [
       "<div>\n",
       "<style scoped>\n",
       "    .dataframe tbody tr th:only-of-type {\n",
       "        vertical-align: middle;\n",
       "    }\n",
       "\n",
       "    .dataframe tbody tr th {\n",
       "        vertical-align: top;\n",
       "    }\n",
       "\n",
       "    .dataframe thead th {\n",
       "        text-align: right;\n",
       "    }\n",
       "</style>\n",
       "<table border=\"1\" class=\"dataframe\">\n",
       "  <thead>\n",
       "    <tr style=\"text-align: right;\">\n",
       "      <th></th>\n",
       "      <th>company_name</th>\n",
       "      <th>location</th>\n",
       "      <th>job_title</th>\n",
       "      <th>job_description</th>\n",
       "      <th>salary_estimate</th>\n",
       "      <th>other_details</th>\n",
       "      <th>rating</th>\n",
       "    </tr>\n",
       "  </thead>\n",
       "  <tbody>\n",
       "    <tr>\n",
       "      <th>0</th>\n",
       "      <td>Procter &amp; Gamble</td>\n",
       "      <td>Mumbai</td>\n",
       "      <td>Senior Manager – SAP Security Governance: Risk...</td>\n",
       "      <td>The Senior Manager’s role will ensure that the...</td>\n",
       "      <td>₹4L - ₹7L (Glassdoor Est.)</td>\n",
       "      <td>Size\\n10000+ Employees\\nFounded\\n1837\\nType\\nC...</td>\n",
       "      <td>4.1</td>\n",
       "    </tr>\n",
       "    <tr>\n",
       "      <th>1</th>\n",
       "      <td>S&amp;P Global</td>\n",
       "      <td>Gurgaon</td>\n",
       "      <td>Apprentice – Data Analyst</td>\n",
       "      <td>We are responsible for assuring that data impa...</td>\n",
       "      <td>₹5L - ₹7L (Glassdoor Est.)</td>\n",
       "      <td>Size\\n10000+ Employees\\nFounded\\n1860\\nType\\nC...</td>\n",
       "      <td>4.1</td>\n",
       "    </tr>\n",
       "    <tr>\n",
       "      <th>2</th>\n",
       "      <td>Oracuz Infotech Pvt Ltd</td>\n",
       "      <td>Remote</td>\n",
       "      <td>Data Science Intern</td>\n",
       "      <td>You will be assigned with module projects and ...</td>\n",
       "      <td>₹5T (Employer Est.)</td>\n",
       "      <td>NaN</td>\n",
       "      <td>NaN</td>\n",
       "    </tr>\n",
       "    <tr>\n",
       "      <th>3</th>\n",
       "      <td>Optum</td>\n",
       "      <td>Bengaluru</td>\n",
       "      <td>Manager Data Scientist</td>\n",
       "      <td>As an Associate Manager, you will play a criti...</td>\n",
       "      <td>₹10L (Glassdoor Est.)</td>\n",
       "      <td>NaN</td>\n",
       "      <td>NaN</td>\n",
       "    </tr>\n",
       "    <tr>\n",
       "      <th>4</th>\n",
       "      <td>ITI Data</td>\n",
       "      <td>Chennai</td>\n",
       "      <td>AWS Glue Data Engineer</td>\n",
       "      <td>Require Financial Services industry experience...</td>\n",
       "      <td>₹2L - ₹9L (Glassdoor Est.)</td>\n",
       "      <td>Size\\n201 to 500 Employees\\nFounded\\n1999\\nTyp...</td>\n",
       "      <td>4.2</td>\n",
       "    </tr>\n",
       "  </tbody>\n",
       "</table>\n",
       "</div>"
      ],
      "text/plain": [
       "              company_name   location  \\\n",
       "0         Procter & Gamble     Mumbai   \n",
       "1               S&P Global    Gurgaon   \n",
       "2  Oracuz Infotech Pvt Ltd     Remote   \n",
       "3                    Optum  Bengaluru   \n",
       "4                 ITI Data    Chennai   \n",
       "\n",
       "                                           job_title  \\\n",
       "0  Senior Manager – SAP Security Governance: Risk...   \n",
       "1                          Apprentice – Data Analyst   \n",
       "2                                Data Science Intern   \n",
       "3                             Manager Data Scientist   \n",
       "4                             AWS Glue Data Engineer   \n",
       "\n",
       "                                     job_description  \\\n",
       "0  The Senior Manager’s role will ensure that the...   \n",
       "1  We are responsible for assuring that data impa...   \n",
       "2  You will be assigned with module projects and ...   \n",
       "3  As an Associate Manager, you will play a criti...   \n",
       "4  Require Financial Services industry experience...   \n",
       "\n",
       "              salary_estimate  \\\n",
       "0  ₹4L - ₹7L (Glassdoor Est.)   \n",
       "1  ₹5L - ₹7L (Glassdoor Est.)   \n",
       "2         ₹5T (Employer Est.)   \n",
       "3       ₹10L (Glassdoor Est.)   \n",
       "4  ₹2L - ₹9L (Glassdoor Est.)   \n",
       "\n",
       "                                       other_details  rating  \n",
       "0  Size\\n10000+ Employees\\nFounded\\n1837\\nType\\nC...     4.1  \n",
       "1  Size\\n10000+ Employees\\nFounded\\n1860\\nType\\nC...     4.1  \n",
       "2                                                NaN     NaN  \n",
       "3                                                NaN     NaN  \n",
       "4  Size\\n201 to 500 Employees\\nFounded\\n1999\\nTyp...     4.2  "
      ]
     },
     "execution_count": 3,
     "metadata": {},
     "output_type": "execute_result"
    }
   ],
   "source": [
    "data.head()"
   ]
  },
  {
   "cell_type": "code",
   "execution_count": 144,
   "id": "f06f2331",
   "metadata": {},
   "outputs": [
    {
     "data": {
      "text/plain": [
       "'Glassdoor Est.)'"
      ]
     },
     "execution_count": 144,
     "metadata": {},
     "output_type": "execute_result"
    }
   ],
   "source": [
    "data.salary_estimate.str.split('(')[data.shape[0]-1][1]"
   ]
  },
  {
   "cell_type": "code",
   "execution_count": 145,
   "id": "78cae53a",
   "metadata": {},
   "outputs": [
    {
     "data": {
      "text/plain": [
       "'-1'"
      ]
     },
     "execution_count": 145,
     "metadata": {},
     "output_type": "execute_result"
    }
   ],
   "source": [
    "data.salary_estimate.str.split('(')[39][0]"
   ]
  },
  {
   "cell_type": "code",
   "execution_count": 146,
   "id": "e0578b75",
   "metadata": {},
   "outputs": [
    {
     "data": {
      "text/plain": [
       "(1193, 7)"
      ]
     },
     "execution_count": 146,
     "metadata": {},
     "output_type": "execute_result"
    }
   ],
   "source": [
    "data.shape"
   ]
  },
  {
   "cell_type": "code",
   "execution_count": 147,
   "id": "2ca5a389",
   "metadata": {},
   "outputs": [
    {
     "data": {
      "text/plain": [
       "0.6865046102263203"
      ]
     },
     "execution_count": 147,
     "metadata": {},
     "output_type": "execute_result"
    }
   ],
   "source": [
    "data.duplicated().sum()/data.shape[0]"
   ]
  },
  {
   "cell_type": "code",
   "execution_count": 148,
   "id": "b5024b52",
   "metadata": {},
   "outputs": [
    {
     "data": {
      "text/plain": [
       "0.20400943396226415"
      ]
     },
     "execution_count": 148,
     "metadata": {},
     "output_type": "execute_result"
    }
   ],
   "source": [
    "(data[data['salary_estimate'] != '-1'].shape[0] - data[data['salary_estimate'] != '-1'].duplicated().sum())/data[data['salary_estimate'] != '-1'].shape[0]"
   ]
  },
  {
   "cell_type": "code",
   "execution_count": 149,
   "id": "6158b994",
   "metadata": {},
   "outputs": [
    {
     "data": {
      "text/plain": [
       "0.5826086956521739"
      ]
     },
     "execution_count": 149,
     "metadata": {},
     "output_type": "execute_result"
    }
   ],
   "source": [
    "(data[data.salary_estimate == '-1'].shape[0] - data[data.salary_estimate == '-1'].duplicated().sum())/data[data.salary_estimate == '-1'].shape[0]"
   ]
  },
  {
   "cell_type": "code",
   "execution_count": 4,
   "id": "5b8715f9",
   "metadata": {},
   "outputs": [],
   "source": [
    "data.drop_duplicates(inplace = True)"
   ]
  },
  {
   "cell_type": "code",
   "execution_count": 5,
   "id": "677c69bb",
   "metadata": {},
   "outputs": [
    {
     "data": {
      "text/plain": [
       "(374, 7)"
      ]
     },
     "execution_count": 5,
     "metadata": {},
     "output_type": "execute_result"
    }
   ],
   "source": [
    "data.shape"
   ]
  },
  {
   "cell_type": "code",
   "execution_count": 6,
   "id": "923c5dbf",
   "metadata": {},
   "outputs": [],
   "source": [
    "data.reset_index(drop = 'first', inplace = True)"
   ]
  },
  {
   "cell_type": "code",
   "execution_count": 153,
   "id": "ecc98e08",
   "metadata": {},
   "outputs": [
    {
     "name": "stdout",
     "output_type": "stream",
     "text": [
      "0 ['₹4L - ₹7L ', 'Glassdoor Est.)']\n",
      "1 ['₹5L - ₹7L ', 'Glassdoor Est.)']\n",
      "2 ['₹5T ', 'Employer Est.)']\n",
      "3 ['₹10L ', 'Glassdoor Est.)']\n",
      "4 ['₹2L - ₹9L ', 'Glassdoor Est.)']\n",
      "5 ['₹12L - ₹16L ', 'Employer Est.)']\n",
      "6 ['₹9L - ₹10L ', 'Glassdoor Est.)']\n",
      "7 ['₹15T - ₹20T ', 'Employer Est.)']\n",
      "8 ['₹10T - ₹16T ', 'Employer Est.)']\n",
      "9 ['₹3L - ₹10L ', 'Glassdoor Est.)']\n",
      "10 ['₹3L - ₹8L ', 'Glassdoor Est.)']\n",
      "11 ['₹6L - ₹9L ', 'Glassdoor Est.)']\n",
      "12 ['₹10T ', 'Employer Est.)']\n",
      "13 ['₹4L - ₹10L ', 'Glassdoor Est.)']\n",
      "14 ['₹10L ', 'Glassdoor Est.)']\n",
      "15 ['₹2L - ₹10L ', 'Glassdoor Est.)']\n",
      "16 ['₹3L - ₹9L ', 'Glassdoor Est.)']\n",
      "17 ['₹5L - ₹9L ', 'Glassdoor Est.)']\n",
      "18 ['₹5L - ₹10L ', 'Glassdoor Est.)']\n",
      "19 ['₹5L ', 'Glassdoor Est.)']\n",
      "20 ['₹85T - ₹9L ', 'Glassdoor Est.)']\n",
      "21 ['₹5L - ₹9L ', 'Glassdoor Est.)']\n",
      "22 ['₹4L - ₹9L ', 'Glassdoor Est.)']\n",
      "23 ['₹25L - ₹40L ', 'Employer Est.)']\n",
      "24 ['₹7L - ₹10L ', 'Glassdoor Est.)']\n",
      "25 ['₹4L - ₹6L ', 'Glassdoor Est.)']\n",
      "26 ['₹2L - ₹5L ', 'Glassdoor Est.)']\n",
      "27 ['₹8T - ₹25T ', 'Employer Est.)']\n",
      "28 ['₹10T - ₹18T ', 'Employer Est.)']\n",
      "29 ['₹6L - ₹8L ', 'Glassdoor Est.)']\n",
      "30 ['₹4L - ₹10L ', 'Glassdoor Est.)']\n",
      "31 ['₹3L - ₹8L ', 'Glassdoor Est.)']\n",
      "32 ['₹8L - ₹9L ', 'Glassdoor Est.)']\n",
      "33 ['₹25L - ₹36L ', 'Employer Est.)']\n",
      "34 ['₹5L - ₹17L ', 'Employer Est.)']\n",
      "35 ['₹10T - ₹30T ', 'Employer Est.)']\n",
      "36 ['₹5L - ₹9L ', 'Glassdoor Est.)']\n",
      "37 ['₹3L - ₹6L ', 'Employer Est.)']\n",
      "38 ['₹30T - ₹80T ', 'Employer Est.)']\n",
      "60 ['₹10L ', 'Glassdoor Est.)']\n",
      "61 ['₹4L - ₹10L ', 'Glassdoor Est.)']\n",
      "62 ['₹9L - ₹10L ', 'Glassdoor Est.)']\n",
      "63 ['₹60T - ₹4L ', 'Glassdoor Est.)']\n",
      "64 ['₹9L - ₹10L ', 'Glassdoor Est.)']\n",
      "65 ['₹6L - ₹9L ', 'Glassdoor Est.)']\n",
      "66 ['₹4L - ₹7L ', 'Glassdoor Est.)']\n",
      "67 ['₹7L - ₹8L ', 'Glassdoor Est.)']\n",
      "68 ['₹9L - ₹10L ', 'Glassdoor Est.)']\n",
      "69 ['₹1L - ₹8L ', 'Glassdoor Est.)']\n",
      "70 ['₹10L ', 'Glassdoor Est.)']\n",
      "71 ['₹6L - ₹9L ', 'Glassdoor Est.)']\n",
      "72 ['₹6L - ₹7L ', 'Glassdoor Est.)']\n",
      "73 ['₹7L - ₹9L ', 'Glassdoor Est.)']\n",
      "74 ['₹6L - ₹10L ', 'Glassdoor Est.)']\n",
      "75 ['₹6L - ₹7L ', 'Glassdoor Est.)']\n",
      "76 ['₹2L - ₹6L ', 'Glassdoor Est.)']\n",
      "77 ['₹6L - ₹9L ', 'Glassdoor Est.)']\n",
      "78 ['₹6L - ₹8L ', 'Glassdoor Est.)']\n",
      "79 ['₹4L - ₹8L ', 'Glassdoor Est.)']\n",
      "110 ['₹8L - ₹10L ', 'Glassdoor Est.)']\n",
      "111 ['₹6L - ₹7L ', 'Glassdoor Est.)']\n",
      "112 ['₹85T - ₹9L ', 'Glassdoor Est.)']\n",
      "113 ['₹9L - ₹10L ', 'Glassdoor Est.)']\n",
      "114 ['₹4L - ₹6L ', 'Employer Est.)']\n",
      "115 ['₹10T - ₹30T ', 'Employer Est.)']\n",
      "116 ['₹5L - ₹9L ', 'Glassdoor Est.)']\n",
      "117 ['₹12T - ₹20T ', 'Employer Est.)']\n",
      "118 ['₹8L ', 'Glassdoor Est.)']\n",
      "119 ['₹7L - ₹9L ', 'Glassdoor Est.)']\n",
      "120 ['₹4L ', 'Employer Est.)']\n",
      "121 ['₹20T ', 'Employer Est.)']\n",
      "122 ['₹7L - ₹9L ', 'Glassdoor Est.)']\n",
      "123 ['₹7L - ₹8L ', 'Glassdoor Est.)']\n",
      "124 ['₹96T - ₹2L ', 'Glassdoor Est.)']\n",
      "125 ['₹3L - ₹5L ', 'Glassdoor Est.)']\n",
      "126 ['₹4L - ₹9L ', 'Glassdoor Est.)']\n",
      "127 ['₹4T - ₹5T ', 'Employer Est.)']\n",
      "128 ['₹7L - ₹8L ', 'Glassdoor Est.)']\n",
      "159 ['₹3L - ₹8L ', 'Glassdoor Est.)']\n",
      "160 ['₹2L - ₹9L ', 'Glassdoor Est.)']\n",
      "161 ['₹10L ', 'Glassdoor Est.)']\n",
      "162 ['₹5L - ₹10L ', 'Glassdoor Est.)']\n",
      "163 ['₹5L - ₹10L ', 'Glassdoor Est.)']\n",
      "164 ['₹4L - ₹9L ', 'Glassdoor Est.)']\n",
      "165 ['₹5L - ₹7L ', 'Glassdoor Est.)']\n",
      "166 ['₹6L - ₹9L ', 'Glassdoor Est.)']\n",
      "167 ['₹4L - ₹7L ', 'Glassdoor Est.)']\n",
      "168 ['₹5L - ₹9L ', 'Glassdoor Est.)']\n",
      "169 ['₹10L ', 'Glassdoor Est.)']\n",
      "170 ['₹3L - ₹6L ', 'Glassdoor Est.)']\n",
      "171 ['₹3L - ₹6L ', 'Glassdoor Est.)']\n",
      "172 ['₹5L - ₹10L ', 'Glassdoor Est.)']\n",
      "173 ['₹3L - ₹8L ', 'Glassdoor Est.)']\n",
      "174 ['₹5L - ₹8L ', 'Glassdoor Est.)']\n",
      "175 ['₹6L - ₹7L ', 'Glassdoor Est.)']\n",
      "176 ['₹6L - ₹7L ', 'Glassdoor Est.)']\n",
      "177 ['₹3L - ₹6L ', 'Glassdoor Est.)']\n",
      "178 ['₹5L - ₹7L ', 'Glassdoor Est.)']\n",
      "179 ['₹3L - ₹7L ', 'Glassdoor Est.)']\n",
      "180 ['₹3L - ₹7L ', 'Glassdoor Est.)']\n",
      "211 ['₹6L - ₹7L ', 'Glassdoor Est.)']\n",
      "212 ['₹5L - ₹10L ', 'Glassdoor Est.)']\n",
      "213 ['₹85T - ₹9L ', 'Glassdoor Est.)']\n",
      "214 ['₹5L - ₹9L ', 'Glassdoor Est.)']\n",
      "215 ['₹5L - ₹9L ', 'Glassdoor Est.)']\n",
      "216 ['₹4L - ₹9L ', 'Glassdoor Est.)']\n",
      "217 ['₹36T - ₹64T ', 'Glassdoor Est.)']\n",
      "218 ['₹6L - ₹7L ', 'Glassdoor Est.)']\n",
      "219 ['₹5L - ₹9L ', 'Glassdoor Est.)']\n",
      "220 ['₹10L - ₹15L ', 'Employer Est.)']\n",
      "221 ['₹6L - ₹20L ', 'Employer Est.)']\n",
      "222 ['₹3L - ₹4L ', 'Glassdoor Est.)']\n",
      "223 ['₹3L - ₹6L ', 'Glassdoor Est.)']\n",
      "224 ['₹2L - ₹10L ', 'Glassdoor Est.)']\n",
      "225 ['₹2L - ₹4L ', 'Glassdoor Est.)']\n",
      "226 ['₹10L ', 'Glassdoor Est.)']\n",
      "227 ['₹5L - ₹10L ', 'Glassdoor Est.)']\n",
      "228 ['₹6L - ₹9L ', 'Glassdoor Est.)']\n",
      "229 ['₹50T - ₹1L ', 'Employer Est.)']\n",
      "230 ['₹10L ', 'Glassdoor Est.)']\n",
      "231 ['₹4L - ₹8L ', 'Glassdoor Est.)']\n",
      "232 ['₹3L - ₹5L ', 'Glassdoor Est.)']\n",
      "233 ['₹9L - ₹10L ', 'Glassdoor Est.)']\n",
      "234 ['₹10T - ₹45T ', 'Employer Est.)']\n",
      "235 ['₹4L ', 'Employer Est.)']\n",
      "236 ['₹4L - ₹7L ', 'Glassdoor Est.)']\n",
      "237 ['₹5L - ₹9L ', 'Glassdoor Est.)']\n",
      "269 ['₹3L - ₹8L ', 'Glassdoor Est.)']\n",
      "270 ['₹2L - ₹9L ', 'Glassdoor Est.)']\n",
      "271 ['₹4L - ₹9L ', 'Glassdoor Est.)']\n",
      "272 ['₹5L - ₹10L ', 'Glassdoor Est.)']\n",
      "273 ['₹7L - ₹10L ', 'Glassdoor Est.)']\n",
      "274 ['₹5L - ₹9L ', 'Glassdoor Est.)']\n",
      "275 ['₹3L - ₹6L ', 'Glassdoor Est.)']\n",
      "276 ['₹4L - ₹8L ', 'Glassdoor Est.)']\n",
      "277 ['₹4L - ₹7L ', 'Glassdoor Est.)']\n",
      "278 ['₹4L ', 'Glassdoor Est.)']\n",
      "279 ['₹5L - ₹10L ', 'Glassdoor Est.)']\n",
      "280 ['₹8L - ₹10L ', 'Employer Est.)']\n",
      "281 ['₹3L - ₹8L ', 'Glassdoor Est.)']\n",
      "282 ['₹7L - ₹9L ', 'Glassdoor Est.)']\n",
      "283 ['₹7L - ₹10L ', 'Glassdoor Est.)']\n",
      "284 ['₹3L - ₹6L ', 'Glassdoor Est.)']\n",
      "285 ['₹7L - ₹10L ', 'Glassdoor Est.)']\n",
      "286 ['₹3L - ₹8L ', 'Glassdoor Est.)']\n",
      "287 ['₹4L - ₹6L ', 'Glassdoor Est.)']\n",
      "288 ['₹6L - ₹7L ', 'Glassdoor Est.)']\n",
      "289 ['₹5L - ₹10L ', 'Glassdoor Est.)']\n",
      "290 ['₹2L - ₹5L ', 'Glassdoor Est.)']\n",
      "291 ['₹6L - ₹9L ', 'Glassdoor Est.)']\n",
      "323 ['₹85T - ₹9L ', 'Glassdoor Est.)']\n",
      "324 ['₹4L - ₹9L ', 'Glassdoor Est.)']\n",
      "325 ['₹6L - ₹8L ', 'Glassdoor Est.)']\n",
      "326 ['₹2L - ₹10L ', 'Glassdoor Est.)']\n",
      "327 ['₹80T - ₹1L ', 'Glassdoor Est.)']\n",
      "328 ['₹9L - ₹10L ', 'Glassdoor Est.)']\n",
      "329 ['₹7L - ₹9L ', 'Glassdoor Est.)']\n",
      "330 ['₹4L - ₹7L ', 'Glassdoor Est.)']\n",
      "331 ['₹2L - ₹5L ', 'Glassdoor Est.)']\n",
      "332 ['₹5L - ₹8L ', 'Glassdoor Est.)']\n",
      "333 ['₹3L - ₹6L ', 'Glassdoor Est.)']\n",
      "334 ['₹4L ', 'Glassdoor Est.)']\n",
      "335 ['₹4L - ₹7L ', 'Glassdoor Est.)']\n",
      "336 ['₹3L - ₹8L ', 'Glassdoor Est.)']\n",
      "337 ['₹5L - ₹8L ', 'Glassdoor Est.)']\n",
      "338 ['₹2L - ₹8L ', 'Glassdoor Est.)']\n",
      "339 ['₹4L - ₹7L ', 'Glassdoor Est.)']\n",
      "340 ['₹8L ', 'Glassdoor Est.)']\n",
      "341 ['₹4L - ₹9L ', 'Glassdoor Est.)']\n",
      "342 ['₹4L - ₹8L ', 'Glassdoor Est.)']\n",
      "343 ['₹3L - ₹7L ', 'Glassdoor Est.)']\n",
      "344 ['₹10T ', 'Employer Est.)']\n",
      "345 ['₹5L - ₹8L ', 'Employer Est.)']\n"
     ]
    }
   ],
   "source": [
    "# just checking what all does our salary estimate column have as unique values\n",
    "for i in range(data.shape[0]):\n",
    "    if(data.salary_estimate[i] != '-1'):\n",
    "        print(i , data.salary_estimate.str.split('(')[i])\n",
    "    else:\n",
    "        continue"
   ]
  },
  {
   "cell_type": "markdown",
   "id": "e1fdc4b5",
   "metadata": {},
   "source": [
    "### Checking for null values"
   ]
  },
  {
   "cell_type": "code",
   "execution_count": 154,
   "id": "0dc6f357",
   "metadata": {},
   "outputs": [
    {
     "data": {
      "text/plain": [
       "company_name        0\n",
       "location            0\n",
       "job_title           0\n",
       "job_description     0\n",
       "salary_estimate     0\n",
       "other_details      51\n",
       "rating             53\n",
       "dtype: int64"
      ]
     },
     "execution_count": 154,
     "metadata": {},
     "output_type": "execute_result"
    }
   ],
   "source": [
    "data.isnull().sum()"
   ]
  },
  {
   "cell_type": "markdown",
   "id": "fe3f728b",
   "metadata": {},
   "source": [
    "### To know about the data type of each of our columns "
   ]
  },
  {
   "cell_type": "code",
   "execution_count": 155,
   "id": "70004867",
   "metadata": {},
   "outputs": [
    {
     "name": "stdout",
     "output_type": "stream",
     "text": [
      "<class 'pandas.core.frame.DataFrame'>\n",
      "RangeIndex: 374 entries, 0 to 373\n",
      "Data columns (total 7 columns):\n",
      " #   Column           Non-Null Count  Dtype  \n",
      "---  ------           --------------  -----  \n",
      " 0   company_name     374 non-null    object \n",
      " 1   location         374 non-null    object \n",
      " 2   job_title        374 non-null    object \n",
      " 3   job_description  374 non-null    object \n",
      " 4   salary_estimate  374 non-null    object \n",
      " 5   other_details    323 non-null    object \n",
      " 6   rating           321 non-null    float64\n",
      "dtypes: float64(1), object(6)\n",
      "memory usage: 20.6+ KB\n"
     ]
    }
   ],
   "source": [
    "data.info()"
   ]
  },
  {
   "cell_type": "markdown",
   "id": "19f3b437",
   "metadata": {},
   "source": [
    "### To see how many rows have -1 as salary meaning that the salary data was not present for these rows while scraping."
   ]
  },
  {
   "cell_type": "code",
   "execution_count": 7,
   "id": "dffbab70",
   "metadata": {},
   "outputs": [
    {
     "data": {
      "text/plain": [
       "-1                             201\n",
       "₹5L - ₹9L (Glassdoor Est.)      10\n",
       "₹5L - ₹10L (Glassdoor Est.)      9\n",
       "₹4L - ₹7L (Glassdoor Est.)       8\n",
       "₹10L (Glassdoor Est.)            8\n",
       "                              ... \n",
       "₹60T - ₹4L (Glassdoor Est.)      1\n",
       "₹1L - ₹8L (Glassdoor Est.)       1\n",
       "₹6L - ₹10L (Glassdoor Est.)      1\n",
       "₹2L - ₹6L (Glassdoor Est.)       1\n",
       "₹5L - ₹8L (Employer Est.)        1\n",
       "Name: salary_estimate, Length: 67, dtype: int64"
      ]
     },
     "execution_count": 7,
     "metadata": {},
     "output_type": "execute_result"
    }
   ],
   "source": [
    "data.salary_estimate.value_counts()"
   ]
  },
  {
   "cell_type": "markdown",
   "id": "19cb3027",
   "metadata": {},
   "source": [
    "### Things that we decided to do , after looking at the data \n",
    "\n",
    "* correct the salary estimate column \n",
    "\n",
    " -- for 2 things - make it to avg salary as a numeric column and remove the -1 valued rows if feasible\n",
    " \n",
    " -- make a separate column indicating employer provided estimate \n",
    " \n",
    "* split the other details column to the required different categories"
   ]
  },
  {
   "cell_type": "markdown",
   "id": "2f8c538d",
   "metadata": {},
   "source": [
    "### Correcting the salary column"
   ]
  },
  {
   "cell_type": "markdown",
   "id": "81a4317c",
   "metadata": {},
   "source": [
    "### We can see that some salary values are in thousands while others in lakh\n",
    "We need to bring them to common scale to take their average later, one way of doing this could be to add 0's accordingly \n",
    "\n",
    "T = 1000\n",
    "L = 100000\n",
    "\n",
    "So our analysis can go this way that we take the min salary and place 0's in it then separately extract the max salary and place 0's in it."
   ]
  },
  {
   "cell_type": "markdown",
   "id": "eff1d62b",
   "metadata": {},
   "source": [
    "#### We can use the rows with -1 as salary as our test dataset !\n",
    "So let's keep this in our analysis and not drop it out since later we can do train test split"
   ]
  },
  {
   "cell_type": "code",
   "execution_count": 157,
   "id": "1e3488b6",
   "metadata": {},
   "outputs": [
    {
     "data": {
      "text/plain": [
       "(374, 7)"
      ]
     },
     "execution_count": 157,
     "metadata": {},
     "output_type": "execute_result"
    }
   ],
   "source": [
    "data.shape"
   ]
  },
  {
   "cell_type": "code",
   "execution_count": 158,
   "id": "cdd0a66f",
   "metadata": {},
   "outputs": [
    {
     "data": {
      "text/plain": [
       "True"
      ]
     },
     "execution_count": 158,
     "metadata": {},
     "output_type": "execute_result"
    }
   ],
   "source": [
    "'Glassdoor Est.' in data['salary_estimate'].str.split('(')[0][1]"
   ]
  },
  {
   "cell_type": "code",
   "execution_count": 159,
   "id": "759b3916",
   "metadata": {},
   "outputs": [
    {
     "data": {
      "text/plain": [
       "['₹4L - ₹7L ', 'Glassdoor Est.)']"
      ]
     },
     "execution_count": 159,
     "metadata": {},
     "output_type": "execute_result"
    }
   ],
   "source": [
    "data['salary_estimate'].str.split('(')[0]"
   ]
  },
  {
   "cell_type": "code",
   "execution_count": 8,
   "id": "798244a7",
   "metadata": {},
   "outputs": [],
   "source": [
    "for i in range(data.shape[0]):\n",
    "    if 'Employer Est.' in data['salary_estimate'].str.split('('):\n",
    "        print(i)"
   ]
  },
  {
   "cell_type": "code",
   "execution_count": 9,
   "id": "bb0f26e0",
   "metadata": {},
   "outputs": [],
   "source": [
    "data['employer_estimate'] = data['salary_estimate'].apply(lambda x : 1 if '(' in x and 'employer est' in x.split('(')[-1].lower() else 0)"
   ]
  },
  {
   "cell_type": "code",
   "execution_count": 10,
   "id": "d9dbbf1f",
   "metadata": {},
   "outputs": [
    {
     "data": {
      "text/plain": [
       "0    347\n",
       "1     27\n",
       "Name: salary_estimate, dtype: int64"
      ]
     },
     "execution_count": 10,
     "metadata": {},
     "output_type": "execute_result"
    }
   ],
   "source": [
    "# taking the employer est indicator column out\n",
    "data['salary_estimate'].apply(lambda x : 1 if '(' in x and 'Employer Est.' in x.split('(')[-1] else 0).value_counts()"
   ]
  },
  {
   "cell_type": "markdown",
   "id": "8d0a7147",
   "metadata": {},
   "source": [
    "`now separating min value and max value of salary in separate columns`\n"
   ]
  },
  {
   "cell_type": "code",
   "execution_count": 163,
   "id": "10fcfd8b",
   "metadata": {},
   "outputs": [
    {
     "name": "stdout",
     "output_type": "stream",
     "text": [
      "₹4L \n",
      "₹5L \n",
      "₹5T (Employer Est.)\n",
      "₹10L (Glassdoor Est.)\n",
      "₹2L \n",
      "₹12L \n",
      "₹9L \n",
      "₹15T \n",
      "₹10T \n",
      "₹3L \n",
      "₹3L \n",
      "₹6L \n",
      "₹10T (Employer Est.)\n",
      "₹4L \n",
      "₹10L (Glassdoor Est.)\n",
      "₹2L \n",
      "₹3L \n",
      "₹5L \n",
      "₹5L \n",
      "₹5L (Glassdoor Est.)\n",
      "₹85T \n",
      "₹5L \n",
      "₹4L \n",
      "₹25L \n",
      "₹7L \n",
      "₹4L \n",
      "₹2L \n",
      "₹8T \n",
      "₹10T \n",
      "₹6L \n",
      "₹4L \n",
      "₹3L \n",
      "₹8L \n",
      "₹25L \n",
      "₹5L \n",
      "₹10T \n",
      "₹5L \n",
      "₹3L \n",
      "₹30T \n",
      "₹10L (Glassdoor Est.)\n",
      "₹4L \n",
      "₹9L \n",
      "₹60T \n",
      "₹9L \n",
      "₹6L \n",
      "₹4L \n",
      "₹7L \n",
      "₹9L \n",
      "₹1L \n",
      "₹10L (Glassdoor Est.)\n",
      "₹6L \n",
      "₹6L \n",
      "₹7L \n",
      "₹6L \n",
      "₹6L \n",
      "₹2L \n",
      "₹6L \n",
      "₹6L \n",
      "₹4L \n",
      "₹8L \n",
      "₹6L \n",
      "₹85T \n",
      "₹9L \n",
      "₹4L \n",
      "₹10T \n",
      "₹5L \n",
      "₹12T \n",
      "₹8L (Glassdoor Est.)\n",
      "₹7L \n",
      "₹4L (Employer Est.)\n",
      "₹20T (Employer Est.)\n",
      "₹7L \n",
      "₹7L \n",
      "₹96T \n",
      "₹3L \n",
      "₹4L \n",
      "₹4T \n",
      "₹7L \n",
      "₹3L \n",
      "₹2L \n",
      "₹10L (Glassdoor Est.)\n",
      "₹5L \n",
      "₹5L \n",
      "₹4L \n",
      "₹5L \n",
      "₹6L \n",
      "₹4L \n",
      "₹5L \n",
      "₹10L (Glassdoor Est.)\n",
      "₹3L \n",
      "₹3L \n",
      "₹5L \n",
      "₹3L \n",
      "₹5L \n",
      "₹6L \n",
      "₹6L \n",
      "₹3L \n",
      "₹5L \n",
      "₹3L \n",
      "₹3L \n",
      "₹6L \n",
      "₹5L \n",
      "₹85T \n",
      "₹5L \n",
      "₹5L \n",
      "₹4L \n",
      "₹36T \n",
      "₹6L \n",
      "₹5L \n",
      "₹10L \n",
      "₹6L \n",
      "₹3L \n",
      "₹3L \n",
      "₹2L \n",
      "₹2L \n",
      "₹10L (Glassdoor Est.)\n",
      "₹5L \n",
      "₹6L \n",
      "₹50T \n",
      "₹10L (Glassdoor Est.)\n",
      "₹4L \n",
      "₹3L \n",
      "₹9L \n",
      "₹10T \n",
      "₹4L (Employer Est.)\n",
      "₹4L \n",
      "₹5L \n",
      "₹3L \n",
      "₹2L \n",
      "₹4L \n",
      "₹5L \n",
      "₹7L \n",
      "₹5L \n",
      "₹3L \n",
      "₹4L \n",
      "₹4L \n",
      "₹4L (Glassdoor Est.)\n",
      "₹5L \n",
      "₹8L \n",
      "₹3L \n",
      "₹7L \n",
      "₹7L \n",
      "₹3L \n",
      "₹7L \n",
      "₹3L \n",
      "₹4L \n",
      "₹6L \n",
      "₹5L \n",
      "₹2L \n",
      "₹6L \n",
      "₹85T \n",
      "₹4L \n",
      "₹6L \n",
      "₹2L \n",
      "₹80T \n",
      "₹9L \n",
      "₹7L \n",
      "₹4L \n",
      "₹2L \n",
      "₹5L \n",
      "₹3L \n",
      "₹4L (Glassdoor Est.)\n",
      "₹4L \n",
      "₹3L \n",
      "₹5L \n",
      "₹2L \n",
      "₹4L \n",
      "₹8L (Glassdoor Est.)\n",
      "₹4L \n",
      "₹4L \n",
      "₹3L \n",
      "₹10T (Employer Est.)\n",
      "₹5L \n"
     ]
    }
   ],
   "source": [
    "for i in range(data.shape[0]):\n",
    "    if data['salary_estimate'].str.split('-')[i][0] != '' :\n",
    "        print(data['salary_estimate'].str.split('-')[i][0]) # we do .str.split() since series object has no attribute as split"
   ]
  },
  {
   "cell_type": "code",
   "execution_count": 164,
   "id": "29f9520e",
   "metadata": {},
   "outputs": [
    {
     "data": {
      "text/plain": [
       "0      [₹4L ,  ₹7L (Glassdoor Est.)]\n",
       "1      [₹5L ,  ₹7L (Glassdoor Est.)]\n",
       "2              [₹5T (Employer Est.)]\n",
       "3            [₹10L (Glassdoor Est.)]\n",
       "4      [₹2L ,  ₹9L (Glassdoor Est.)]\n",
       "                   ...              \n",
       "369                            [, 1]\n",
       "370                            [, 1]\n",
       "371                            [, 1]\n",
       "372                            [, 1]\n",
       "373                            [, 1]\n",
       "Name: salary_estimate, Length: 374, dtype: object"
      ]
     },
     "execution_count": 164,
     "metadata": {},
     "output_type": "execute_result"
    }
   ],
   "source": [
    "data['salary_estimate'].str.split('-')"
   ]
  },
  {
   "cell_type": "code",
   "execution_count": 11,
   "id": "0383968a",
   "metadata": {},
   "outputs": [],
   "source": [
    "data['min_salary'] = data['salary_estimate'].apply(lambda x : x.split('-')[0] if '-1' not in x else '-1')"
   ]
  },
  {
   "cell_type": "code",
   "execution_count": 12,
   "id": "55556416",
   "metadata": {},
   "outputs": [],
   "source": [
    "data['max_salary'] = data['salary_estimate'].apply(lambda x : x.split('-')[-1] if '-1' not in x else '-1')"
   ]
  },
  {
   "cell_type": "code",
   "execution_count": 13,
   "id": "5c54466b",
   "metadata": {},
   "outputs": [],
   "source": [
    "# Now dropping out the Rs symbol and employer est or glassdoor est from the min max salaries\n",
    "# replace(r'\\(.*?\\)','', regex = True) this replaces the anything written in salary column within the brackets\n",
    "data['max_salary'] = data['max_salary'].apply(lambda x : x.replace('₹','') if '-1' not in x else '-1').replace(r'\\(.*?\\)','', regex = True)"
   ]
  },
  {
   "cell_type": "code",
   "execution_count": 14,
   "id": "f43fbd20",
   "metadata": {},
   "outputs": [],
   "source": [
    "data['min_salary'] = data['min_salary'].apply(lambda x : x.replace('₹','') if '-1' not in x else '-1').replace(r'\\(.*?\\)','', regex = True)"
   ]
  },
  {
   "cell_type": "code",
   "execution_count": 15,
   "id": "7d383183",
   "metadata": {},
   "outputs": [
    {
     "data": {
      "text/html": [
       "<div>\n",
       "<style scoped>\n",
       "    .dataframe tbody tr th:only-of-type {\n",
       "        vertical-align: middle;\n",
       "    }\n",
       "\n",
       "    .dataframe tbody tr th {\n",
       "        vertical-align: top;\n",
       "    }\n",
       "\n",
       "    .dataframe thead th {\n",
       "        text-align: right;\n",
       "    }\n",
       "</style>\n",
       "<table border=\"1\" class=\"dataframe\">\n",
       "  <thead>\n",
       "    <tr style=\"text-align: right;\">\n",
       "      <th></th>\n",
       "      <th>company_name</th>\n",
       "      <th>location</th>\n",
       "      <th>job_title</th>\n",
       "      <th>job_description</th>\n",
       "      <th>salary_estimate</th>\n",
       "      <th>other_details</th>\n",
       "      <th>rating</th>\n",
       "      <th>employer_estimate</th>\n",
       "      <th>min_salary</th>\n",
       "      <th>max_salary</th>\n",
       "    </tr>\n",
       "  </thead>\n",
       "  <tbody>\n",
       "    <tr>\n",
       "      <th>0</th>\n",
       "      <td>Procter &amp; Gamble</td>\n",
       "      <td>Mumbai</td>\n",
       "      <td>Senior Manager – SAP Security Governance: Risk...</td>\n",
       "      <td>The Senior Manager’s role will ensure that the...</td>\n",
       "      <td>₹4L - ₹7L (Glassdoor Est.)</td>\n",
       "      <td>Size\\n10000+ Employees\\nFounded\\n1837\\nType\\nC...</td>\n",
       "      <td>4.1</td>\n",
       "      <td>0</td>\n",
       "      <td>4L</td>\n",
       "      <td>7L</td>\n",
       "    </tr>\n",
       "    <tr>\n",
       "      <th>1</th>\n",
       "      <td>S&amp;P Global</td>\n",
       "      <td>Gurgaon</td>\n",
       "      <td>Apprentice – Data Analyst</td>\n",
       "      <td>We are responsible for assuring that data impa...</td>\n",
       "      <td>₹5L - ₹7L (Glassdoor Est.)</td>\n",
       "      <td>Size\\n10000+ Employees\\nFounded\\n1860\\nType\\nC...</td>\n",
       "      <td>4.1</td>\n",
       "      <td>0</td>\n",
       "      <td>5L</td>\n",
       "      <td>7L</td>\n",
       "    </tr>\n",
       "    <tr>\n",
       "      <th>2</th>\n",
       "      <td>Oracuz Infotech Pvt Ltd</td>\n",
       "      <td>Remote</td>\n",
       "      <td>Data Science Intern</td>\n",
       "      <td>You will be assigned with module projects and ...</td>\n",
       "      <td>₹5T (Employer Est.)</td>\n",
       "      <td>NaN</td>\n",
       "      <td>NaN</td>\n",
       "      <td>1</td>\n",
       "      <td>5T</td>\n",
       "      <td>5T</td>\n",
       "    </tr>\n",
       "    <tr>\n",
       "      <th>3</th>\n",
       "      <td>Optum</td>\n",
       "      <td>Bengaluru</td>\n",
       "      <td>Manager Data Scientist</td>\n",
       "      <td>As an Associate Manager, you will play a criti...</td>\n",
       "      <td>₹10L (Glassdoor Est.)</td>\n",
       "      <td>NaN</td>\n",
       "      <td>NaN</td>\n",
       "      <td>0</td>\n",
       "      <td>10L</td>\n",
       "      <td>10L</td>\n",
       "    </tr>\n",
       "    <tr>\n",
       "      <th>4</th>\n",
       "      <td>ITI Data</td>\n",
       "      <td>Chennai</td>\n",
       "      <td>AWS Glue Data Engineer</td>\n",
       "      <td>Require Financial Services industry experience...</td>\n",
       "      <td>₹2L - ₹9L (Glassdoor Est.)</td>\n",
       "      <td>Size\\n201 to 500 Employees\\nFounded\\n1999\\nTyp...</td>\n",
       "      <td>4.2</td>\n",
       "      <td>0</td>\n",
       "      <td>2L</td>\n",
       "      <td>9L</td>\n",
       "    </tr>\n",
       "  </tbody>\n",
       "</table>\n",
       "</div>"
      ],
      "text/plain": [
       "              company_name   location  \\\n",
       "0         Procter & Gamble     Mumbai   \n",
       "1               S&P Global    Gurgaon   \n",
       "2  Oracuz Infotech Pvt Ltd     Remote   \n",
       "3                    Optum  Bengaluru   \n",
       "4                 ITI Data    Chennai   \n",
       "\n",
       "                                           job_title  \\\n",
       "0  Senior Manager – SAP Security Governance: Risk...   \n",
       "1                          Apprentice – Data Analyst   \n",
       "2                                Data Science Intern   \n",
       "3                             Manager Data Scientist   \n",
       "4                             AWS Glue Data Engineer   \n",
       "\n",
       "                                     job_description  \\\n",
       "0  The Senior Manager’s role will ensure that the...   \n",
       "1  We are responsible for assuring that data impa...   \n",
       "2  You will be assigned with module projects and ...   \n",
       "3  As an Associate Manager, you will play a criti...   \n",
       "4  Require Financial Services industry experience...   \n",
       "\n",
       "              salary_estimate  \\\n",
       "0  ₹4L - ₹7L (Glassdoor Est.)   \n",
       "1  ₹5L - ₹7L (Glassdoor Est.)   \n",
       "2         ₹5T (Employer Est.)   \n",
       "3       ₹10L (Glassdoor Est.)   \n",
       "4  ₹2L - ₹9L (Glassdoor Est.)   \n",
       "\n",
       "                                       other_details  rating  \\\n",
       "0  Size\\n10000+ Employees\\nFounded\\n1837\\nType\\nC...     4.1   \n",
       "1  Size\\n10000+ Employees\\nFounded\\n1860\\nType\\nC...     4.1   \n",
       "2                                                NaN     NaN   \n",
       "3                                                NaN     NaN   \n",
       "4  Size\\n201 to 500 Employees\\nFounded\\n1999\\nTyp...     4.2   \n",
       "\n",
       "   employer_estimate min_salary max_salary  \n",
       "0                  0        4L         7L   \n",
       "1                  0        5L         7L   \n",
       "2                  1        5T         5T   \n",
       "3                  0       10L        10L   \n",
       "4                  0        2L         9L   "
      ]
     },
     "execution_count": 15,
     "metadata": {},
     "output_type": "execute_result"
    }
   ],
   "source": [
    "data.head()"
   ]
  },
  {
   "cell_type": "markdown",
   "id": "f13d7f0b",
   "metadata": {},
   "source": [
    "`Now next step is to create avg salary column after miltiplying 1000 inplace of T and 100,000 in place of L and then averaging both the column value`"
   ]
  },
  {
   "cell_type": "code",
   "execution_count": 170,
   "id": "6b5e1355",
   "metadata": {},
   "outputs": [
    {
     "data": {
      "text/plain": [
       "True"
      ]
     },
     "execution_count": 170,
     "metadata": {},
     "output_type": "execute_result"
    }
   ],
   "source": [
    "'L' in data['max_salary'][0]"
   ]
  },
  {
   "cell_type": "code",
   "execution_count": 16,
   "id": "e5480d7c",
   "metadata": {},
   "outputs": [],
   "source": [
    "for i in range(data.shape[0]):\n",
    "    if 'L' in data['max_salary'][i]:\n",
    "        data['max_salary'][i] = data['max_salary'][i].replace('L','*100000')\n",
    "    elif 'T' in data['max_salary'][i]:\n",
    "        data['max_salary'][i] = data['max_salary'][i].replace('T','*1000')"
   ]
  },
  {
   "cell_type": "code",
   "execution_count": 17,
   "id": "8880175b",
   "metadata": {},
   "outputs": [
    {
     "data": {
      "text/plain": [
       "0       7*100000 \n",
       "1       7*100000 \n",
       "2         5*1000 \n",
       "3      10*100000 \n",
       "4       9*100000 \n",
       "          ...    \n",
       "369            -1\n",
       "370            -1\n",
       "371            -1\n",
       "372            -1\n",
       "373            -1\n",
       "Name: max_salary, Length: 374, dtype: object"
      ]
     },
     "execution_count": 17,
     "metadata": {},
     "output_type": "execute_result"
    }
   ],
   "source": [
    "data['max_salary']"
   ]
  },
  {
   "cell_type": "code",
   "execution_count": 18,
   "id": "99f3b989",
   "metadata": {},
   "outputs": [],
   "source": [
    "data['max_salary'] = data['max_salary'].apply(eval)"
   ]
  },
  {
   "cell_type": "code",
   "execution_count": 19,
   "id": "86c25101",
   "metadata": {},
   "outputs": [],
   "source": [
    "for i in range(data.shape[0]):\n",
    "    if 'L' in data['min_salary'][i]:\n",
    "        data['min_salary'][i] = data['min_salary'][i].replace('L','*100000')\n",
    "    elif 'T' in data['min_salary'][i]:\n",
    "        data['min_salary'][i] = data['min_salary'][i].replace('T','*1000')"
   ]
  },
  {
   "cell_type": "code",
   "execution_count": 20,
   "id": "49064583",
   "metadata": {},
   "outputs": [],
   "source": [
    "data['min_salary'] = data['min_salary'].apply(eval)"
   ]
  },
  {
   "cell_type": "code",
   "execution_count": 21,
   "id": "de7e3c3d",
   "metadata": {},
   "outputs": [
    {
     "data": {
      "text/plain": [
       "0       400000\n",
       "1       500000\n",
       "2         5000\n",
       "3      1000000\n",
       "4       200000\n",
       "        ...   \n",
       "369         -1\n",
       "370         -1\n",
       "371         -1\n",
       "372         -1\n",
       "373         -1\n",
       "Name: min_salary, Length: 374, dtype: int64"
      ]
     },
     "execution_count": 21,
     "metadata": {},
     "output_type": "execute_result"
    }
   ],
   "source": [
    "data['min_salary']"
   ]
  },
  {
   "cell_type": "code",
   "execution_count": 22,
   "id": "1c32587c",
   "metadata": {},
   "outputs": [],
   "source": [
    "# calculating avg salary\n",
    "data['avg_salary'] = (data['max_salary'] + data['min_salary'])/2"
   ]
  },
  {
   "cell_type": "code",
   "execution_count": 23,
   "id": "34bda2ae",
   "metadata": {},
   "outputs": [
    {
     "data": {
      "text/plain": [
       "0       550000.0\n",
       "1       600000.0\n",
       "2         5000.0\n",
       "3      1000000.0\n",
       "4       550000.0\n",
       "         ...    \n",
       "369         -1.0\n",
       "370         -1.0\n",
       "371         -1.0\n",
       "372         -1.0\n",
       "373         -1.0\n",
       "Name: avg_salary, Length: 374, dtype: float64"
      ]
     },
     "execution_count": 23,
     "metadata": {},
     "output_type": "execute_result"
    }
   ],
   "source": [
    "data['avg_salary']"
   ]
  },
  {
   "cell_type": "code",
   "execution_count": 24,
   "id": "9369ccdf",
   "metadata": {},
   "outputs": [
    {
     "data": {
      "text/plain": [
       "-1.0          201\n",
       " 650000.0      20\n",
       " 550000.0      19\n",
       " 750000.0      19\n",
       " 700000.0      16\n",
       " 600000.0      11\n",
       " 450000.0       9\n",
       " 500000.0       8\n",
       " 800000.0       8\n",
       " 1000000.0      8\n",
       " 950000.0       7\n",
       " 400000.0       7\n",
       " 850000.0       5\n",
       " 492500.0       4\n",
       " 350000.0       4\n",
       " 20000.0        3\n",
       " 900000.0       2\n",
       " 10000.0        2\n",
       " 27500.0        1\n",
       " 16000.0        1\n",
       " 1300000.0      1\n",
       " 148000.0       1\n",
       " 75000.0        1\n",
       " 50000.0        1\n",
       " 1250000.0      1\n",
       " 300000.0       1\n",
       " 4500.0         1\n",
       " 3050000.0      1\n",
       " 230000.0       1\n",
       " 55000.0        1\n",
       " 1100000.0      1\n",
       " 14000.0        1\n",
       " 16500.0        1\n",
       " 3250000.0      1\n",
       " 13000.0        1\n",
       " 17500.0        1\n",
       " 1400000.0      1\n",
       " 5000.0         1\n",
       " 90000.0        1\n",
       "Name: avg_salary, dtype: int64"
      ]
     },
     "execution_count": 24,
     "metadata": {},
     "output_type": "execute_result"
    }
   ],
   "source": [
    "data.avg_salary.value_counts()"
   ]
  },
  {
   "cell_type": "code",
   "execution_count": 25,
   "id": "4ce84fe4",
   "metadata": {},
   "outputs": [
    {
     "name": "stdout",
     "output_type": "stream",
     "text": [
      "<class 'pandas.core.frame.DataFrame'>\n",
      "RangeIndex: 374 entries, 0 to 373\n",
      "Data columns (total 11 columns):\n",
      " #   Column             Non-Null Count  Dtype  \n",
      "---  ------             --------------  -----  \n",
      " 0   company_name       374 non-null    object \n",
      " 1   location           374 non-null    object \n",
      " 2   job_title          374 non-null    object \n",
      " 3   job_description    374 non-null    object \n",
      " 4   salary_estimate    374 non-null    object \n",
      " 5   other_details      323 non-null    object \n",
      " 6   rating             321 non-null    float64\n",
      " 7   employer_estimate  374 non-null    int64  \n",
      " 8   min_salary         374 non-null    int64  \n",
      " 9   max_salary         374 non-null    int64  \n",
      " 10  avg_salary         374 non-null    float64\n",
      "dtypes: float64(2), int64(3), object(6)\n",
      "memory usage: 32.3+ KB\n"
     ]
    }
   ],
   "source": [
    "data.info()"
   ]
  },
  {
   "cell_type": "markdown",
   "id": "17d13b52",
   "metadata": {},
   "source": [
    "`A bit of trial code for salary column`"
   ]
  },
  {
   "cell_type": "code",
   "execution_count": 181,
   "id": "0b2346eb",
   "metadata": {},
   "outputs": [],
   "source": [
    "# This type of treatment for salary column couldn't work since we had salary in different units i.e. thoudands and lakhs \n",
    "def extract_nums(string):\n",
    "    #lst = []\n",
    "    i = 0\n",
    "    temp = \"\"\n",
    "    while i < len(string):\n",
    "        try :\n",
    "            int(string[i])\n",
    "            temp += string[i]\n",
    "        except:\n",
    "            if(string[i] == '-'):\n",
    "                temp += string[i]\n",
    "        i+=1\n",
    "    return temp"
   ]
  },
  {
   "cell_type": "code",
   "execution_count": 182,
   "id": "b7affef4",
   "metadata": {},
   "outputs": [],
   "source": [
    "# trial on smaller piece of code\n",
    "#extract_nums(data['salary_estimate'][1191])"
   ]
  },
  {
   "cell_type": "markdown",
   "id": "a3c70b3e",
   "metadata": {},
   "source": [
    "#### Now let's create an avg salary column"
   ]
  },
  {
   "cell_type": "code",
   "execution_count": 183,
   "id": "0de222d9",
   "metadata": {},
   "outputs": [],
   "source": [
    "# for i in range(df.shape[0]):\n",
    "#     gotin = 0\n",
    "#     for j in range(len(df['avg_salary'][i])-1):\n",
    "#         gotin = 1\n",
    "#         df['avg_salary'][i] = int(df['avg_salary'][i][j]) + int(df['avg_salary'][i][j+1])/2\n",
    "#     if(gotin == 0):\n",
    "#         df['avg_salary'][i] = int(df['avg_salary'][i][0])"
   ]
  },
  {
   "cell_type": "markdown",
   "id": "ca1eee99",
   "metadata": {},
   "source": [
    "## Extracting other columns from other_details  column"
   ]
  },
  {
   "cell_type": "code",
   "execution_count": 26,
   "id": "eb9c3949",
   "metadata": {},
   "outputs": [
    {
     "data": {
      "text/plain": [
       "['Size',\n",
       " '10000+ Employees',\n",
       " 'Founded',\n",
       " '1837',\n",
       " 'Type',\n",
       " 'Company - Public',\n",
       " 'Industry',\n",
       " 'Consumer Product Manufacturing',\n",
       " 'Sector',\n",
       " 'Manufacturing',\n",
       " 'Revenue',\n",
       " '$10+ billion (USD)']"
      ]
     },
     "execution_count": 26,
     "metadata": {},
     "output_type": "execute_result"
    }
   ],
   "source": [
    "data['other_details'].str.split('\\n')[0]"
   ]
  },
  {
   "cell_type": "code",
   "execution_count": 185,
   "id": "604d0aab",
   "metadata": {},
   "outputs": [],
   "source": [
    "# there are nan values also present ...\n",
    "# nan is of type float\n",
    "for col in data['other_details']:\n",
    "    #print(type(col)) # this line tells us this fact about nan\n",
    "    pass\n"
   ]
  },
  {
   "cell_type": "code",
   "execution_count": 186,
   "id": "c669c7a4",
   "metadata": {},
   "outputs": [
    {
     "data": {
      "text/plain": [
       "float"
      ]
     },
     "execution_count": 186,
     "metadata": {},
     "output_type": "execute_result"
    }
   ],
   "source": [
    "type(data['other_details'][2])"
   ]
  },
  {
   "cell_type": "code",
   "execution_count": 187,
   "id": "38d559aa",
   "metadata": {},
   "outputs": [
    {
     "name": "stdout",
     "output_type": "stream",
     "text": [
      "Size\n",
      "10000+ Employees\n",
      "Founded\n",
      "1837\n",
      "Type\n",
      "Company - Public\n",
      "Industry\n",
      "Consumer Product Manufacturing\n",
      "Sector\n",
      "Manufacturing\n",
      "Revenue\n",
      "$10+ billion (USD)\n"
     ]
    }
   ],
   "source": [
    "# A trial code to understand the flow...\n",
    "#for col in df['other_details']:\n",
    "try:\n",
    "    if(np.isnan(data['other_details'][0])):\n",
    "        pass\n",
    "except:\n",
    "    lst = data['other_details'][0].split('\\n')\n",
    "    for i in range(0,len(lst)-1,2):\n",
    "        #print(lst[i+1])\n",
    "        print(lst[i])\n",
    "        print(lst[i+1])"
   ]
  },
  {
   "cell_type": "code",
   "execution_count": 27,
   "id": "f901f731",
   "metadata": {},
   "outputs": [],
   "source": [
    "# we noticed that \n",
    "# 1st row is column heading - next row is the value \n",
    "# below function would extract them all\n",
    "\n",
    "def form_other_columns(column):\n",
    "    for index,col in enumerate(column):\n",
    "        # if(col == np.nan): can't be used since np.nan != to itself i.e. np.nan\n",
    "        # putting below thing in try block since isnan gives error on non-numeric type\n",
    "        try:\n",
    "            if(np.isnan(col)):\n",
    "                continue\n",
    "        except:\n",
    "            lst = col.split('\\n')\n",
    "            for i in range(0,len(lst)-1,2):\n",
    "                #print(i)\n",
    "                if(index == 0):\n",
    "                    data[lst[i]] = lst[i+1] # at this time when index==0 , its the first time so the column with heading lst[i] does not exist at this moment so we can't index it further writing [index]\n",
    "                else:\n",
    "                    data[lst[i]][index] = lst[i+1] # indexing it with [index] is necessary to ensure filling the values in respective rows otherwise we'll end up filling the same entry in every cell \n",
    "        \n",
    "form_other_columns(data['other_details'])\n",
    "#df.apply(form_other_columns) "
   ]
  },
  {
   "cell_type": "code",
   "execution_count": 28,
   "id": "2ef95e9a",
   "metadata": {},
   "outputs": [
    {
     "data": {
      "text/html": [
       "<div>\n",
       "<style scoped>\n",
       "    .dataframe tbody tr th:only-of-type {\n",
       "        vertical-align: middle;\n",
       "    }\n",
       "\n",
       "    .dataframe tbody tr th {\n",
       "        vertical-align: top;\n",
       "    }\n",
       "\n",
       "    .dataframe thead th {\n",
       "        text-align: right;\n",
       "    }\n",
       "</style>\n",
       "<table border=\"1\" class=\"dataframe\">\n",
       "  <thead>\n",
       "    <tr style=\"text-align: right;\">\n",
       "      <th></th>\n",
       "      <th>company_name</th>\n",
       "      <th>location</th>\n",
       "      <th>job_title</th>\n",
       "      <th>job_description</th>\n",
       "      <th>salary_estimate</th>\n",
       "      <th>other_details</th>\n",
       "      <th>rating</th>\n",
       "      <th>employer_estimate</th>\n",
       "      <th>min_salary</th>\n",
       "      <th>max_salary</th>\n",
       "      <th>avg_salary</th>\n",
       "      <th>Size</th>\n",
       "      <th>Founded</th>\n",
       "      <th>Type</th>\n",
       "      <th>Industry</th>\n",
       "      <th>Sector</th>\n",
       "      <th>Revenue</th>\n",
       "    </tr>\n",
       "  </thead>\n",
       "  <tbody>\n",
       "    <tr>\n",
       "      <th>0</th>\n",
       "      <td>Procter &amp; Gamble</td>\n",
       "      <td>Mumbai</td>\n",
       "      <td>Senior Manager – SAP Security Governance: Risk...</td>\n",
       "      <td>The Senior Manager’s role will ensure that the...</td>\n",
       "      <td>₹4L - ₹7L (Glassdoor Est.)</td>\n",
       "      <td>Size\\n10000+ Employees\\nFounded\\n1837\\nType\\nC...</td>\n",
       "      <td>4.1</td>\n",
       "      <td>0</td>\n",
       "      <td>400000</td>\n",
       "      <td>700000</td>\n",
       "      <td>550000.0</td>\n",
       "      <td>10000+ Employees</td>\n",
       "      <td>1837</td>\n",
       "      <td>Company - Public</td>\n",
       "      <td>Consumer Product Manufacturing</td>\n",
       "      <td>Manufacturing</td>\n",
       "      <td>$10+ billion (USD)</td>\n",
       "    </tr>\n",
       "    <tr>\n",
       "      <th>1</th>\n",
       "      <td>S&amp;P Global</td>\n",
       "      <td>Gurgaon</td>\n",
       "      <td>Apprentice – Data Analyst</td>\n",
       "      <td>We are responsible for assuring that data impa...</td>\n",
       "      <td>₹5L - ₹7L (Glassdoor Est.)</td>\n",
       "      <td>Size\\n10000+ Employees\\nFounded\\n1860\\nType\\nC...</td>\n",
       "      <td>4.1</td>\n",
       "      <td>0</td>\n",
       "      <td>500000</td>\n",
       "      <td>700000</td>\n",
       "      <td>600000.0</td>\n",
       "      <td>10000+ Employees</td>\n",
       "      <td>1860</td>\n",
       "      <td>Company - Public</td>\n",
       "      <td>Research and development</td>\n",
       "      <td>Management and consulting</td>\n",
       "      <td>$10+ billion (USD)</td>\n",
       "    </tr>\n",
       "    <tr>\n",
       "      <th>2</th>\n",
       "      <td>Oracuz Infotech Pvt Ltd</td>\n",
       "      <td>Remote</td>\n",
       "      <td>Data Science Intern</td>\n",
       "      <td>You will be assigned with module projects and ...</td>\n",
       "      <td>₹5T (Employer Est.)</td>\n",
       "      <td>NaN</td>\n",
       "      <td>NaN</td>\n",
       "      <td>1</td>\n",
       "      <td>5000</td>\n",
       "      <td>5000</td>\n",
       "      <td>5000.0</td>\n",
       "      <td>10000+ Employees</td>\n",
       "      <td>1837</td>\n",
       "      <td>Company - Public</td>\n",
       "      <td>Consumer Product Manufacturing</td>\n",
       "      <td>Manufacturing</td>\n",
       "      <td>$10+ billion (USD)</td>\n",
       "    </tr>\n",
       "    <tr>\n",
       "      <th>3</th>\n",
       "      <td>Optum</td>\n",
       "      <td>Bengaluru</td>\n",
       "      <td>Manager Data Scientist</td>\n",
       "      <td>As an Associate Manager, you will play a criti...</td>\n",
       "      <td>₹10L (Glassdoor Est.)</td>\n",
       "      <td>NaN</td>\n",
       "      <td>NaN</td>\n",
       "      <td>0</td>\n",
       "      <td>1000000</td>\n",
       "      <td>1000000</td>\n",
       "      <td>1000000.0</td>\n",
       "      <td>10000+ Employees</td>\n",
       "      <td>1837</td>\n",
       "      <td>Company - Public</td>\n",
       "      <td>Consumer Product Manufacturing</td>\n",
       "      <td>Manufacturing</td>\n",
       "      <td>$10+ billion (USD)</td>\n",
       "    </tr>\n",
       "    <tr>\n",
       "      <th>4</th>\n",
       "      <td>ITI Data</td>\n",
       "      <td>Chennai</td>\n",
       "      <td>AWS Glue Data Engineer</td>\n",
       "      <td>Require Financial Services industry experience...</td>\n",
       "      <td>₹2L - ₹9L (Glassdoor Est.)</td>\n",
       "      <td>Size\\n201 to 500 Employees\\nFounded\\n1999\\nTyp...</td>\n",
       "      <td>4.2</td>\n",
       "      <td>0</td>\n",
       "      <td>200000</td>\n",
       "      <td>900000</td>\n",
       "      <td>550000.0</td>\n",
       "      <td>201 to 500 Employees</td>\n",
       "      <td>1999</td>\n",
       "      <td>Company - Private</td>\n",
       "      <td>Information Technology Support Services</td>\n",
       "      <td>Information Technology</td>\n",
       "      <td>Unknown / Non-Applicable</td>\n",
       "    </tr>\n",
       "  </tbody>\n",
       "</table>\n",
       "</div>"
      ],
      "text/plain": [
       "              company_name   location  \\\n",
       "0         Procter & Gamble     Mumbai   \n",
       "1               S&P Global    Gurgaon   \n",
       "2  Oracuz Infotech Pvt Ltd     Remote   \n",
       "3                    Optum  Bengaluru   \n",
       "4                 ITI Data    Chennai   \n",
       "\n",
       "                                           job_title  \\\n",
       "0  Senior Manager – SAP Security Governance: Risk...   \n",
       "1                          Apprentice – Data Analyst   \n",
       "2                                Data Science Intern   \n",
       "3                             Manager Data Scientist   \n",
       "4                             AWS Glue Data Engineer   \n",
       "\n",
       "                                     job_description  \\\n",
       "0  The Senior Manager’s role will ensure that the...   \n",
       "1  We are responsible for assuring that data impa...   \n",
       "2  You will be assigned with module projects and ...   \n",
       "3  As an Associate Manager, you will play a criti...   \n",
       "4  Require Financial Services industry experience...   \n",
       "\n",
       "              salary_estimate  \\\n",
       "0  ₹4L - ₹7L (Glassdoor Est.)   \n",
       "1  ₹5L - ₹7L (Glassdoor Est.)   \n",
       "2         ₹5T (Employer Est.)   \n",
       "3       ₹10L (Glassdoor Est.)   \n",
       "4  ₹2L - ₹9L (Glassdoor Est.)   \n",
       "\n",
       "                                       other_details  rating  \\\n",
       "0  Size\\n10000+ Employees\\nFounded\\n1837\\nType\\nC...     4.1   \n",
       "1  Size\\n10000+ Employees\\nFounded\\n1860\\nType\\nC...     4.1   \n",
       "2                                                NaN     NaN   \n",
       "3                                                NaN     NaN   \n",
       "4  Size\\n201 to 500 Employees\\nFounded\\n1999\\nTyp...     4.2   \n",
       "\n",
       "   employer_estimate  min_salary  max_salary  avg_salary  \\\n",
       "0                  0      400000      700000    550000.0   \n",
       "1                  0      500000      700000    600000.0   \n",
       "2                  1        5000        5000      5000.0   \n",
       "3                  0     1000000     1000000   1000000.0   \n",
       "4                  0      200000      900000    550000.0   \n",
       "\n",
       "                   Size Founded               Type  \\\n",
       "0      10000+ Employees    1837   Company - Public   \n",
       "1      10000+ Employees    1860   Company - Public   \n",
       "2      10000+ Employees    1837   Company - Public   \n",
       "3      10000+ Employees    1837   Company - Public   \n",
       "4  201 to 500 Employees    1999  Company - Private   \n",
       "\n",
       "                                  Industry                     Sector  \\\n",
       "0           Consumer Product Manufacturing              Manufacturing   \n",
       "1                 Research and development  Management and consulting   \n",
       "2           Consumer Product Manufacturing              Manufacturing   \n",
       "3           Consumer Product Manufacturing              Manufacturing   \n",
       "4  Information Technology Support Services     Information Technology   \n",
       "\n",
       "                    Revenue  \n",
       "0        $10+ billion (USD)  \n",
       "1        $10+ billion (USD)  \n",
       "2        $10+ billion (USD)  \n",
       "3        $10+ billion (USD)  \n",
       "4  Unknown / Non-Applicable  "
      ]
     },
     "execution_count": 28,
     "metadata": {},
     "output_type": "execute_result"
    }
   ],
   "source": [
    "data.head()"
   ]
  },
  {
   "cell_type": "code",
   "execution_count": 190,
   "id": "3e2fd5cd",
   "metadata": {},
   "outputs": [],
   "source": [
    "# performs the same task as the above function but avoids the use of try-except block\n",
    "\n",
    "# def form_other_columns2(column):\n",
    "#     for index,col in enumerate(column):\n",
    "#         # if(col == np.nan): can't be used since np.nan != to itself i.e. np.nan\n",
    "#         # putting below thing in try block since isnan gives error on non-numeric type\n",
    "    \n",
    "#         if(np.isinstance(col,float) and np.isnan(col)):\n",
    "#                 continue\n",
    "        \n",
    "#         lst = col.split('\\n')\n",
    "#         for i in range(0,len(lst)-1,2):\n",
    "#             #print(i)\n",
    "#             if(index == 0):\n",
    "#                 df[lst[i]] = lst[i+1]\n",
    "#             else:\n",
    "#                 df[lst[i]][index] = lst[i+1]\n",
    "        \n",
    "# form_other_columns(df['other_details'])\n",
    "\n",
    "#df.apply(form_other_columns) "
   ]
  },
  {
   "cell_type": "code",
   "execution_count": 29,
   "id": "ba370254",
   "metadata": {},
   "outputs": [],
   "source": [
    "# correcting the values of the new columns where the corresponding other_details value was nan\n",
    "data.loc[data['other_details'].isna(),['Size','Founded','Type','Industry','Sector','Revenue']] = np.nan"
   ]
  },
  {
   "cell_type": "code",
   "execution_count": 192,
   "id": "805dd5fa",
   "metadata": {},
   "outputs": [],
   "source": [
    "# confirming that those column values successfully converted to nan\n",
    "#data.loc[data['other_details'].isna(),['Size','Founded','Type','Industry','Sector','Revenue']]"
   ]
  },
  {
   "cell_type": "code",
   "execution_count": 30,
   "id": "c93b65d2",
   "metadata": {},
   "outputs": [
    {
     "name": "stdout",
     "output_type": "stream",
     "text": [
      "<class 'pandas.core.frame.DataFrame'>\n",
      "RangeIndex: 374 entries, 0 to 373\n",
      "Data columns (total 17 columns):\n",
      " #   Column             Non-Null Count  Dtype  \n",
      "---  ------             --------------  -----  \n",
      " 0   company_name       374 non-null    object \n",
      " 1   location           374 non-null    object \n",
      " 2   job_title          374 non-null    object \n",
      " 3   job_description    374 non-null    object \n",
      " 4   salary_estimate    374 non-null    object \n",
      " 5   other_details      323 non-null    object \n",
      " 6   rating             321 non-null    float64\n",
      " 7   employer_estimate  374 non-null    int64  \n",
      " 8   min_salary         374 non-null    int64  \n",
      " 9   max_salary         374 non-null    int64  \n",
      " 10  avg_salary         374 non-null    float64\n",
      " 11  Size               323 non-null    object \n",
      " 12  Founded            323 non-null    object \n",
      " 13  Type               323 non-null    object \n",
      " 14  Industry           323 non-null    object \n",
      " 15  Sector             323 non-null    object \n",
      " 16  Revenue            323 non-null    object \n",
      "dtypes: float64(2), int64(3), object(12)\n",
      "memory usage: 49.8+ KB\n"
     ]
    }
   ],
   "source": [
    "data.info()"
   ]
  },
  {
   "cell_type": "code",
   "execution_count": 31,
   "id": "d0e9da07",
   "metadata": {},
   "outputs": [],
   "source": [
    "# now we can simply drop the salary_estimate and other_details columns\n",
    "data.drop(['salary_estimate','other_details'],inplace=True,axis=1)"
   ]
  },
  {
   "cell_type": "code",
   "execution_count": 32,
   "id": "a9549e1c",
   "metadata": {},
   "outputs": [
    {
     "data": {
      "text/plain": [
       "Data Science Intern                                                   14\n",
       "Data Analyst                                                          14\n",
       "Data Scientist                                                        12\n",
       "Data Engineer                                                          6\n",
       "Data Analyst, Predictive, India- X Delivery                            6\n",
       "                                                                      ..\n",
       "Senior Knowledge Analyst - Healthcare Ops                              1\n",
       "Software Development Engineer II                                       1\n",
       "Applications Developer (Independent Contractor)—Bhubaneswar, India     1\n",
       "Engineer III - Software Engineering (IN)                               1\n",
       "2025 Bangalore Software Engineering Internship                         1\n",
       "Name: job_title, Length: 186, dtype: int64"
      ]
     },
     "execution_count": 32,
     "metadata": {},
     "output_type": "execute_result"
    }
   ],
   "source": [
    "data.job_title.value_counts()"
   ]
  },
  {
   "cell_type": "markdown",
   "id": "fb8fdc61",
   "metadata": {},
   "source": [
    "## Separating the skills column from description of jobs"
   ]
  },
  {
   "cell_type": "code",
   "execution_count": 196,
   "id": "78047da1",
   "metadata": {},
   "outputs": [
    {
     "data": {
      "text/plain": [
       "True"
      ]
     },
     "execution_count": 196,
     "metadata": {},
     "output_type": "execute_result"
    }
   ],
   "source": [
    "len(data['job_description']) == data.shape[0]"
   ]
  },
  {
   "cell_type": "code",
   "execution_count": 197,
   "id": "6abc3167",
   "metadata": {},
   "outputs": [
    {
     "data": {
      "text/plain": [
       "['Join our team as an experienced data scientist with a passion for tackling complex challenges in clean tech and climate science. If you’re also enthusiastic……']"
      ]
     },
     "execution_count": 197,
     "metadata": {},
     "output_type": "execute_result"
    }
   ],
   "source": [
    "data['job_description'].str.split('\\n')[370]#[1]"
   ]
  },
  {
   "cell_type": "code",
   "execution_count": 198,
   "id": "c0232aa0",
   "metadata": {},
   "outputs": [
    {
     "data": {
      "text/plain": [
       "(374, 15)"
      ]
     },
     "execution_count": 198,
     "metadata": {},
     "output_type": "execute_result"
    }
   ],
   "source": [
    "data.shape"
   ]
  },
  {
   "cell_type": "code",
   "execution_count": 33,
   "id": "311711d6",
   "metadata": {},
   "outputs": [],
   "source": [
    "data['skills'] = np.nan\n",
    "for i in range(data.shape[0]):\n",
    "    l = data['job_description'].str.split('\\n')\n",
    "    if(len(l[i]) > 1):\n",
    "        #print(i, l[i][1]) # for debugging purposes\n",
    "        # it gives list index out of range for the cells where skills are not mentioned explicitly\n",
    "        data['skills'][i] = l[i][1]\n"
   ]
  },
  {
   "cell_type": "code",
   "execution_count": 34,
   "id": "13314c64",
   "metadata": {},
   "outputs": [
    {
     "data": {
      "text/html": [
       "<div>\n",
       "<style scoped>\n",
       "    .dataframe tbody tr th:only-of-type {\n",
       "        vertical-align: middle;\n",
       "    }\n",
       "\n",
       "    .dataframe tbody tr th {\n",
       "        vertical-align: top;\n",
       "    }\n",
       "\n",
       "    .dataframe thead th {\n",
       "        text-align: right;\n",
       "    }\n",
       "</style>\n",
       "<table border=\"1\" class=\"dataframe\">\n",
       "  <thead>\n",
       "    <tr style=\"text-align: right;\">\n",
       "      <th></th>\n",
       "      <th>company_name</th>\n",
       "      <th>location</th>\n",
       "      <th>job_title</th>\n",
       "      <th>job_description</th>\n",
       "      <th>rating</th>\n",
       "      <th>employer_estimate</th>\n",
       "      <th>min_salary</th>\n",
       "      <th>max_salary</th>\n",
       "      <th>avg_salary</th>\n",
       "      <th>Size</th>\n",
       "      <th>Founded</th>\n",
       "      <th>Type</th>\n",
       "      <th>Industry</th>\n",
       "      <th>Sector</th>\n",
       "      <th>Revenue</th>\n",
       "      <th>skills</th>\n",
       "    </tr>\n",
       "  </thead>\n",
       "  <tbody>\n",
       "    <tr>\n",
       "      <th>0</th>\n",
       "      <td>Procter &amp; Gamble</td>\n",
       "      <td>Mumbai</td>\n",
       "      <td>Senior Manager – SAP Security Governance: Risk...</td>\n",
       "      <td>The Senior Manager’s role will ensure that the...</td>\n",
       "      <td>4.1</td>\n",
       "      <td>0</td>\n",
       "      <td>400000</td>\n",
       "      <td>700000</td>\n",
       "      <td>550000.0</td>\n",
       "      <td>10000+ Employees</td>\n",
       "      <td>1837</td>\n",
       "      <td>Company - Public</td>\n",
       "      <td>Consumer Product Manufacturing</td>\n",
       "      <td>Manufacturing</td>\n",
       "      <td>$10+ billion (USD)</td>\n",
       "      <td>Skills: SAP, SOX, Analysis skills, SAP S/4HANA...</td>\n",
       "    </tr>\n",
       "    <tr>\n",
       "      <th>1</th>\n",
       "      <td>S&amp;P Global</td>\n",
       "      <td>Gurgaon</td>\n",
       "      <td>Apprentice – Data Analyst</td>\n",
       "      <td>We are responsible for assuring that data impa...</td>\n",
       "      <td>4.1</td>\n",
       "      <td>0</td>\n",
       "      <td>500000</td>\n",
       "      <td>700000</td>\n",
       "      <td>600000.0</td>\n",
       "      <td>10000+ Employees</td>\n",
       "      <td>1860</td>\n",
       "      <td>Company - Public</td>\n",
       "      <td>Research and development</td>\n",
       "      <td>Management and consulting</td>\n",
       "      <td>$10+ billion (USD)</td>\n",
       "      <td>Skills: Business intelligence, Relational data...</td>\n",
       "    </tr>\n",
       "    <tr>\n",
       "      <th>2</th>\n",
       "      <td>Oracuz Infotech Pvt Ltd</td>\n",
       "      <td>Remote</td>\n",
       "      <td>Data Science Intern</td>\n",
       "      <td>You will be assigned with module projects and ...</td>\n",
       "      <td>NaN</td>\n",
       "      <td>1</td>\n",
       "      <td>5000</td>\n",
       "      <td>5000</td>\n",
       "      <td>5000.0</td>\n",
       "      <td>NaN</td>\n",
       "      <td>NaN</td>\n",
       "      <td>NaN</td>\n",
       "      <td>NaN</td>\n",
       "      <td>NaN</td>\n",
       "      <td>NaN</td>\n",
       "      <td>Skills: Web development, Machine learning, Dat...</td>\n",
       "    </tr>\n",
       "    <tr>\n",
       "      <th>3</th>\n",
       "      <td>Optum</td>\n",
       "      <td>Bengaluru</td>\n",
       "      <td>Manager Data Scientist</td>\n",
       "      <td>As an Associate Manager, you will play a criti...</td>\n",
       "      <td>NaN</td>\n",
       "      <td>0</td>\n",
       "      <td>1000000</td>\n",
       "      <td>1000000</td>\n",
       "      <td>1000000.0</td>\n",
       "      <td>NaN</td>\n",
       "      <td>NaN</td>\n",
       "      <td>NaN</td>\n",
       "      <td>NaN</td>\n",
       "      <td>NaN</td>\n",
       "      <td>NaN</td>\n",
       "      <td>Skills: TensorFlow, Big data, SQL, Analysis sk...</td>\n",
       "    </tr>\n",
       "    <tr>\n",
       "      <th>4</th>\n",
       "      <td>ITI Data</td>\n",
       "      <td>Chennai</td>\n",
       "      <td>AWS Glue Data Engineer</td>\n",
       "      <td>Require Financial Services industry experience...</td>\n",
       "      <td>4.2</td>\n",
       "      <td>0</td>\n",
       "      <td>200000</td>\n",
       "      <td>900000</td>\n",
       "      <td>550000.0</td>\n",
       "      <td>201 to 500 Employees</td>\n",
       "      <td>1999</td>\n",
       "      <td>Company - Private</td>\n",
       "      <td>Information Technology Support Services</td>\n",
       "      <td>Information Technology</td>\n",
       "      <td>Unknown / Non-Applicable</td>\n",
       "      <td>Skills: Oracle, XML, Spark, NoSQL, MongoDB</td>\n",
       "    </tr>\n",
       "  </tbody>\n",
       "</table>\n",
       "</div>"
      ],
      "text/plain": [
       "              company_name   location  \\\n",
       "0         Procter & Gamble     Mumbai   \n",
       "1               S&P Global    Gurgaon   \n",
       "2  Oracuz Infotech Pvt Ltd     Remote   \n",
       "3                    Optum  Bengaluru   \n",
       "4                 ITI Data    Chennai   \n",
       "\n",
       "                                           job_title  \\\n",
       "0  Senior Manager – SAP Security Governance: Risk...   \n",
       "1                          Apprentice – Data Analyst   \n",
       "2                                Data Science Intern   \n",
       "3                             Manager Data Scientist   \n",
       "4                             AWS Glue Data Engineer   \n",
       "\n",
       "                                     job_description  rating  \\\n",
       "0  The Senior Manager’s role will ensure that the...     4.1   \n",
       "1  We are responsible for assuring that data impa...     4.1   \n",
       "2  You will be assigned with module projects and ...     NaN   \n",
       "3  As an Associate Manager, you will play a criti...     NaN   \n",
       "4  Require Financial Services industry experience...     4.2   \n",
       "\n",
       "   employer_estimate  min_salary  max_salary  avg_salary  \\\n",
       "0                  0      400000      700000    550000.0   \n",
       "1                  0      500000      700000    600000.0   \n",
       "2                  1        5000        5000      5000.0   \n",
       "3                  0     1000000     1000000   1000000.0   \n",
       "4                  0      200000      900000    550000.0   \n",
       "\n",
       "                   Size Founded               Type  \\\n",
       "0      10000+ Employees    1837   Company - Public   \n",
       "1      10000+ Employees    1860   Company - Public   \n",
       "2                   NaN     NaN                NaN   \n",
       "3                   NaN     NaN                NaN   \n",
       "4  201 to 500 Employees    1999  Company - Private   \n",
       "\n",
       "                                  Industry                     Sector  \\\n",
       "0           Consumer Product Manufacturing              Manufacturing   \n",
       "1                 Research and development  Management and consulting   \n",
       "2                                      NaN                        NaN   \n",
       "3                                      NaN                        NaN   \n",
       "4  Information Technology Support Services     Information Technology   \n",
       "\n",
       "                    Revenue                                             skills  \n",
       "0        $10+ billion (USD)  Skills: SAP, SOX, Analysis skills, SAP S/4HANA...  \n",
       "1        $10+ billion (USD)  Skills: Business intelligence, Relational data...  \n",
       "2                       NaN  Skills: Web development, Machine learning, Dat...  \n",
       "3                       NaN  Skills: TensorFlow, Big data, SQL, Analysis sk...  \n",
       "4  Unknown / Non-Applicable         Skills: Oracle, XML, Spark, NoSQL, MongoDB  "
      ]
     },
     "execution_count": 34,
     "metadata": {},
     "output_type": "execute_result"
    }
   ],
   "source": [
    "data.head()"
   ]
  },
  {
   "cell_type": "code",
   "execution_count": 201,
   "id": "6b6ed42e",
   "metadata": {},
   "outputs": [
    {
     "data": {
      "text/plain": [
       "['Skills', ' SAP, SOX, Analysis skills, SAP S/4HANA, RMF']"
      ]
     },
     "execution_count": 201,
     "metadata": {},
     "output_type": "execute_result"
    }
   ],
   "source": [
    "data.skills[0].split(':')"
   ]
  },
  {
   "cell_type": "code",
   "execution_count": 35,
   "id": "69240fa6",
   "metadata": {},
   "outputs": [],
   "source": [
    "for i in range(data.shape[0]):\n",
    "    # isinstance ensures that we only check isnan when current obj is of float type this helps prevent error when isnan is called on string type\n",
    "    if(isinstance(data['skills'][i],float) and np.isnan(data['skills'][i])):\n",
    "        continue\n",
    "    #print(data['skills'].str.split(':')[i]) # debugging\n",
    "    data['skills'][i] = data['skills'].str.split(':')[i][1]"
   ]
  },
  {
   "cell_type": "code",
   "execution_count": 36,
   "id": "320bc4e2",
   "metadata": {},
   "outputs": [
    {
     "data": {
      "text/plain": [
       "0            SAP, SOX, Analysis skills, SAP S/4HANA, RMF\n",
       "1       Business intelligence, Relational databases, ...\n",
       "2        Web development, Machine learning, Data science\n",
       "3       TensorFlow, Big data, SQL, Analysis skills, M...\n",
       "4                     Oracle, XML, Spark, NoSQL, MongoDB\n",
       "                             ...                        \n",
       "369                Machine learning, Distributed systems\n",
       "370                                                  NaN\n",
       "371     Image processing, Machine learning, Natural l...\n",
       "372                                         Data science\n",
       "373     Power BI, Microsoft Excel, Salesforce, Applic...\n",
       "Name: skills, Length: 374, dtype: object"
      ]
     },
     "execution_count": 36,
     "metadata": {},
     "output_type": "execute_result"
    }
   ],
   "source": [
    "data.skills"
   ]
  },
  {
   "cell_type": "markdown",
   "id": "3fa9cdf8",
   "metadata": {},
   "source": [
    "`i think that bag of words can be used for finding the skills that are the most common since it will create a dictionary of all the distinct skills mentioned in the descriptions as a whole`"
   ]
  },
  {
   "cell_type": "code",
   "execution_count": 37,
   "id": "cdfbbe6e",
   "metadata": {},
   "outputs": [
    {
     "data": {
      "text/plain": [
       "Index(['company_name', 'location', 'job_title', 'job_description', 'rating',\n",
       "       'employer_estimate', 'min_salary', 'max_salary', 'avg_salary', 'Size',\n",
       "       'Founded', 'Type', 'Industry', 'Sector', 'Revenue', 'skills'],\n",
       "      dtype='object')"
      ]
     },
     "execution_count": 37,
     "metadata": {},
     "output_type": "execute_result"
    }
   ],
   "source": [
    "data.columns"
   ]
  },
  {
   "cell_type": "markdown",
   "id": "96376903",
   "metadata": {},
   "source": [
    "## Age of company from founded column"
   ]
  },
  {
   "cell_type": "code",
   "execution_count": 53,
   "id": "959d6b4d",
   "metadata": {},
   "outputs": [
    {
     "data": {
      "text/plain": [
       "company_name           0\n",
       "location               0\n",
       "job_title              0\n",
       "job_description        0\n",
       "rating                53\n",
       "employer_estimate      0\n",
       "min_salary             0\n",
       "max_salary             0\n",
       "avg_salary             0\n",
       "Size                  51\n",
       "Founded               51\n",
       "Type                  51\n",
       "Industry              51\n",
       "Sector                51\n",
       "Revenue               51\n",
       "skills                 1\n",
       "age                  106\n",
       "dtype: int64"
      ]
     },
     "execution_count": 53,
     "metadata": {},
     "output_type": "execute_result"
    }
   ],
   "source": [
    "data.isnull().sum()"
   ]
  },
  {
   "cell_type": "code",
   "execution_count": 70,
   "id": "09c02a30",
   "metadata": {},
   "outputs": [
    {
     "data": {
      "text/plain": [
       "1963    75\n",
       "--      55\n",
       "1916    13\n",
       "2023    12\n",
       "1982    11\n",
       "1850     9\n",
       "1860     8\n",
       "1835     8\n",
       "2015     7\n",
       "1999     7\n",
       "1908     7\n",
       "2007     7\n",
       "1995     6\n",
       "2009     6\n",
       "1973     5\n",
       "2016     5\n",
       "1953     5\n",
       "2017     5\n",
       "1994     4\n",
       "1915     4\n",
       "2014     4\n",
       "1989     4\n",
       "2002     4\n",
       "1837     3\n",
       "1858     3\n",
       "1880     3\n",
       "1799     3\n",
       "2019     2\n",
       "1870     2\n",
       "1997     2\n",
       "2013     2\n",
       "2011     2\n",
       "1690     2\n",
       "1947     2\n",
       "2020     2\n",
       "1988     2\n",
       "1977     2\n",
       "1985     2\n",
       "1969     2\n",
       "1938     2\n",
       "1981     2\n",
       "1925     2\n",
       "2008     2\n",
       "1987     2\n",
       "1849     2\n",
       "1926     1\n",
       "1727     1\n",
       "2022     1\n",
       "1841     1\n",
       "Name: Founded, dtype: int64"
      ]
     },
     "execution_count": 70,
     "metadata": {},
     "output_type": "execute_result"
    }
   ],
   "source": [
    "data.Founded.value_counts() # to see if any anomaly value this column contains"
   ]
  },
  {
   "cell_type": "code",
   "execution_count": 51,
   "id": "e266d4f1",
   "metadata": {},
   "outputs": [],
   "source": [
    "y = data.Founded.apply(lambda x : int(x) if not x == '--' and not isinstance(x,float) else x)\n",
    "data['age'] = np.nan\n",
    "for i in range(data.shape[0]):\n",
    "    if not isinstance(y[i],float) and not isinstance(y[i],str):\n",
    "        data['age'][i] = 2024 - y[i]"
   ]
  },
  {
   "cell_type": "markdown",
   "id": "cf0d663c",
   "metadata": {},
   "source": [
    "`treating null values` - to be treated in the analysis phase"
   ]
  },
  {
   "cell_type": "code",
   "execution_count": 54,
   "id": "c372495b",
   "metadata": {},
   "outputs": [
    {
     "data": {
      "text/plain": [
       "company_name           0\n",
       "location               0\n",
       "job_title              0\n",
       "job_description        0\n",
       "rating                53\n",
       "employer_estimate      0\n",
       "min_salary             0\n",
       "max_salary             0\n",
       "avg_salary             0\n",
       "Size                  51\n",
       "Founded               51\n",
       "Type                  51\n",
       "Industry              51\n",
       "Sector                51\n",
       "Revenue               51\n",
       "skills                 1\n",
       "age                  106\n",
       "dtype: int64"
      ]
     },
     "execution_count": 54,
     "metadata": {},
     "output_type": "execute_result"
    }
   ],
   "source": [
    "data.isnull().sum() "
   ]
  },
  {
   "cell_type": "markdown",
   "id": "4edef085",
   "metadata": {},
   "source": [
    "## Export the cleaned data"
   ]
  },
  {
   "cell_type": "code",
   "execution_count": 72,
   "id": "34b4b25c",
   "metadata": {},
   "outputs": [],
   "source": [
    "data.to_csv('data_cleaned.csv', index = False)"
   ]
  },
  {
   "cell_type": "code",
   "execution_count": null,
   "id": "a5e7adb4",
   "metadata": {},
   "outputs": [],
   "source": []
  },
  {
   "cell_type": "code",
   "execution_count": 69,
   "id": "d95247a6",
   "metadata": {},
   "outputs": [],
   "source": [
    "# df2 = pd.read_csv(r\"E:\\Download\\glassdoor_jobs.csv\")\n",
    "# df2.duplicated().sum()\n",
    "# df2.shape"
   ]
  }
 ],
 "metadata": {
  "kernelspec": {
   "display_name": "Python 3 (ipykernel)",
   "language": "python",
   "name": "python3"
  },
  "language_info": {
   "codemirror_mode": {
    "name": "ipython",
    "version": 3
   },
   "file_extension": ".py",
   "mimetype": "text/x-python",
   "name": "python",
   "nbconvert_exporter": "python",
   "pygments_lexer": "ipython3",
   "version": "3.9.13"
  }
 },
 "nbformat": 4,
 "nbformat_minor": 5
}
