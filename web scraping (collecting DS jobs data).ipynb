{
 "cells": [
  {
   "cell_type": "markdown",
   "id": "ac8f8260",
   "metadata": {},
   "source": [
    "https://github.com/arapfaik/scraping-glassdoor-selenium/blob/master/glassdoor%20scraping.ipynb\n",
    "\n",
    "https://github.com/PlayingNumbers/ds_salary_proj/blob/master/glassdoor_scraper.py\n",
    "\n",
    "https://stackoverflow.com/questions/27270357/closing-a-generic-pop-up-in-selenium\n",
    "\n",
    "https://developer.chrome.com/docs/chromedriver/\n",
    "https://www.glassdoor.co.in/robots.txt\n",
    "\n",
    "https://mersakarya.medium.com/selenium-tutorial-scraping-glassdoor-com-in-10-minutes-3d0915c6d905\n",
    "\n",
    "https://www.selenium.dev/"
   ]
  },
  {
   "cell_type": "code",
   "execution_count": 1,
   "id": "13eb4d2d",
   "metadata": {},
   "outputs": [],
   "source": [
    "import time\n",
    "import pandas as pd"
   ]
  },
  {
   "cell_type": "code",
   "execution_count": 4,
   "id": "8619a4da",
   "metadata": {},
   "outputs": [
    {
     "name": "stdout",
     "output_type": "stream",
     "text": [
      "Requirement already satisfied: selenium in e:\\data_science_apps\\lib\\site-packages (4.23.1)\n",
      "Requirement already satisfied: certifi>=2021.10.8 in e:\\data_science_apps\\lib\\site-packages (from selenium) (2022.9.14)\n",
      "Requirement already satisfied: trio-websocket~=0.9 in e:\\data_science_apps\\lib\\site-packages (from selenium) (0.11.1)\n",
      "Requirement already satisfied: urllib3[socks]<3,>=1.26 in e:\\data_science_apps\\lib\\site-packages (from selenium) (1.26.18)\n",
      "Requirement already satisfied: trio~=0.17 in e:\\data_science_apps\\lib\\site-packages (from selenium) (0.26.1)\n",
      "Requirement already satisfied: websocket-client~=1.8 in e:\\data_science_apps\\lib\\site-packages (from selenium) (1.8.0)\n",
      "Requirement already satisfied: typing_extensions~=4.9 in e:\\data_science_apps\\lib\\site-packages (from selenium) (4.11.0)\n",
      "Requirement already satisfied: sortedcontainers in e:\\data_science_apps\\lib\\site-packages (from trio~=0.17->selenium) (2.4.0)\n",
      "Requirement already satisfied: cffi>=1.14 in e:\\data_science_apps\\lib\\site-packages (from trio~=0.17->selenium) (1.15.1)\n",
      "Requirement already satisfied: idna in e:\\data_science_apps\\lib\\site-packages (from trio~=0.17->selenium) (3.3)\n",
      "Requirement already satisfied: exceptiongroup in e:\\data_science_apps\\lib\\site-packages (from trio~=0.17->selenium) (1.2.2)\n",
      "Requirement already satisfied: sniffio>=1.3.0 in e:\\data_science_apps\\lib\\site-packages (from trio~=0.17->selenium) (1.3.1)\n",
      "Requirement already satisfied: attrs>=23.2.0 in e:\\data_science_apps\\lib\\site-packages (from trio~=0.17->selenium) (24.2.0)\n",
      "Requirement already satisfied: outcome in e:\\data_science_apps\\lib\\site-packages (from trio~=0.17->selenium) (1.3.0.post0)\n",
      "Requirement already satisfied: wsproto>=0.14 in e:\\data_science_apps\\lib\\site-packages (from trio-websocket~=0.9->selenium) (1.2.0)\n",
      "Requirement already satisfied: PySocks!=1.5.7,<2.0,>=1.5.6 in e:\\data_science_apps\\lib\\site-packages (from urllib3[socks]<3,>=1.26->selenium) (1.7.1)\n",
      "Requirement already satisfied: pycparser in e:\\data_science_apps\\lib\\site-packages (from cffi>=1.14->trio~=0.17->selenium) (2.21)\n",
      "Requirement already satisfied: h11<1,>=0.9.0 in e:\\data_science_apps\\lib\\site-packages (from wsproto>=0.14->trio-websocket~=0.9->selenium) (0.14.0)\n",
      "Note: you may need to restart the kernel to use updated packages.\n"
     ]
    },
    {
     "name": "stderr",
     "output_type": "stream",
     "text": [
      "WARNING: Ignoring invalid distribution -rotobuf (e:\\data_science_apps\\lib\\site-packages)\n",
      "WARNING: Ignoring invalid distribution -rotobuf (e:\\data_science_apps\\lib\\site-packages)\n",
      "WARNING: Ignoring invalid distribution -rotobuf (e:\\data_science_apps\\lib\\site-packages)\n",
      "WARNING: Ignoring invalid distribution -rotobuf (e:\\data_science_apps\\lib\\site-packages)\n",
      "WARNING: Ignoring invalid distribution -rotobuf (e:\\data_science_apps\\lib\\site-packages)\n",
      "WARNING: Ignoring invalid distribution -rotobuf (e:\\data_science_apps\\lib\\site-packages)\n"
     ]
    }
   ],
   "source": [
    "pip install selenium"
   ]
  },
  {
   "cell_type": "code",
   "execution_count": 2,
   "id": "9bc810d1",
   "metadata": {},
   "outputs": [],
   "source": [
    "from selenium.common.exceptions import NoSuchElementException, ElementClickInterceptedException\n",
    "from selenium import webdriver\n",
    "from selenium.webdriver.common.by import By\n",
    "\n",
    "from selenium.webdriver.chrome.options import Options\n",
    "from selenium.webdriver.common.keys import Keys\n",
    "\n",
    "from selenium.webdriver.support.ui import WebDriverWait\n",
    "from selenium.webdriver.support import expected_conditions as EC\n"
   ]
  },
  {
   "cell_type": "code",
   "execution_count": 12,
   "id": "90957c68",
   "metadata": {},
   "outputs": [],
   "source": [
    "def get_jobs(keyword, num_jobs, verbose):\n",
    "    \n",
    "    '''Gathers jobs as a dataframe, scraped from Glassdoor'''\n",
    "    \n",
    "    #Initializing the webdriver\n",
    "    options = webdriver.ChromeOptions()\n",
    "    \n",
    "    #Uncomment the line below if you'd like to scrape without a new Chrome window every time.\n",
    "    #options.add_argument('headless')\n",
    "    \n",
    "    #Change the path to where chromedriver is in your home folder.\n",
    "    driver = webdriver.Chrome(options=options)\n",
    "    driver.set_window_size(1120, 1000)\n",
    "\n",
    "    url = 'https://www.glassdoor.com/Job/jobs.htm?sc.keyword=\"' + keyword + '\"&locT=C&locId=1147401&locKeyword=San%20Francisco,%20CA&jobType=all&fromAge=-1&minSalary=0&includeNoSalaryJobs=true&radius=100&cityId=-1&minRating=0.0&industryId=-1&sgocId=-1&seniorityType=all&companyId=-1&employerSizes=0&applicationType=0&remoteWorkType=0'\n",
    "    driver.get(url)\n",
    "    jobs = []\n",
    "\n",
    "    while len(jobs) < num_jobs:  #If true, should be still looking for new jobs.\n",
    "\n",
    "        #Let the page load. Change this number based on your internet speed.\n",
    "        #Or, wait until the webpage is loaded, instead of hardcoding it.\n",
    "        time.sleep(4)\n",
    "\n",
    "        #Test for the \"Sign Up\" prompt and get rid of it.\n",
    "        try:\n",
    "            driver.find_element_by_class_name(\"selected\").click()\n",
    "        except ElementClickInterceptedException:\n",
    "            pass\n",
    "\n",
    "        time.sleep(.1)\n",
    "\n",
    "        try:\n",
    "            driver.find_element_by_class_name(\"ModalStyle__xBtn___29PT9\").click()  #clicking to the X.\n",
    "        except NoSuchElementException:\n",
    "            pass\n",
    "\n",
    "        \n",
    "        #Going through each job in this page\n",
    "        job_buttons = driver.find_elements_by_class_name(\"jl\")  #jl for Job Listing. These are the buttons we're going to click.\n",
    "        for job_button in job_buttons:  \n",
    "\n",
    "            print(\"Progress: {}\".format(\"\" + str(len(jobs)) + \"/\" + str(num_jobs)))\n",
    "            if len(jobs) >= num_jobs:\n",
    "                break\n",
    "\n",
    "            job_button.click()  #You might \n",
    "            time.sleep(1)\n",
    "            collected_successfully = False\n",
    "            \n",
    "            while not collected_successfully:\n",
    "                try:\n",
    "                    company_name = driver.find_element_by_xpath('.//div[@class=\"employerName\"]').text\n",
    "                    location = driver.find_element_by_xpath('.//div[@class=\"location\"]').text\n",
    "                    job_title = driver.find_element_by_xpath('.//div[contains(@class, \"title\")]').text\n",
    "                    job_description = driver.find_element_by_xpath('.//div[@class=\"jobDescriptionContent desc\"]').text\n",
    "                    collected_successfully = True\n",
    "                except:\n",
    "                    time.sleep(5)\n",
    "\n",
    "            try:\n",
    "                salary_estimate = driver.find_element_by_xpath('.//span[@class=\"gray small salary\"]').text\n",
    "            except NoSuchElementException:\n",
    "                salary_estimate = -1 #You need to set a \"not found value. It's important.\"\n",
    "            \n",
    "            try:\n",
    "                rating = driver.find_element_by_xpath('.//span[@class=\"rating\"]').text\n",
    "            except NoSuchElementException:\n",
    "                rating = -1 #You need to set a \"not found value. It's important.\"\n",
    "\n",
    "            #Printing for debugging\n",
    "            if verbose:\n",
    "                print(\"Job Title: {}\".format(job_title))\n",
    "                print(\"Salary Estimate: {}\".format(salary_estimate))\n",
    "                print(\"Job Description: {}\".format(job_description[:500]))\n",
    "                print(\"Rating: {}\".format(rating))\n",
    "                print(\"Company Name: {}\".format(company_name))\n",
    "                print(\"Location: {}\".format(location))\n",
    "\n",
    "            #Going to the Company tab...\n",
    "            #clicking on this:\n",
    "            #<div class=\"tab\" data-tab-type=\"overview\"><span>Company</span></div>\n",
    "            try:\n",
    "                driver.find_element_by_xpath('.//div[@class=\"tab\" and @data-tab-type=\"overview\"]').click()\n",
    "\n",
    "                try:\n",
    "                    #<div class=\"infoEntity\">\n",
    "                    #    <label>Headquarters</label>\n",
    "                    #    <span class=\"value\">San Francisco, CA</span>\n",
    "                    #</div>\n",
    "                    headquarters = driver.find_element_by_xpath('.//div[@class=\"infoEntity\"]//label[text()=\"Headquarters\"]//following-sibling::*').text\n",
    "                except NoSuchElementException:\n",
    "                    headquarters = -1\n",
    "\n",
    "                try:\n",
    "                    size = driver.find_element_by_xpath('.//div[@class=\"infoEntity\"]//label[text()=\"Size\"]//following-sibling::*').text\n",
    "                except NoSuchElementException:\n",
    "                    size = -1\n",
    "\n",
    "                try:\n",
    "                    founded = driver.find_element_by_xpath('.//div[@class=\"infoEntity\"]//label[text()=\"Founded\"]//following-sibling::*').text\n",
    "                except NoSuchElementException:\n",
    "                    founded = -1\n",
    "\n",
    "                try:\n",
    "                    type_of_ownership = driver.find_element_by_xpath('.//div[@class=\"infoEntity\"]//label[text()=\"Type\"]//following-sibling::*').text\n",
    "                except NoSuchElementException:\n",
    "                    type_of_ownership = -1\n",
    "\n",
    "                try:\n",
    "                    industry = driver.find_element_by_xpath('.//div[@class=\"infoEntity\"]//label[text()=\"Industry\"]//following-sibling::*').text\n",
    "                except NoSuchElementException:\n",
    "                    industry = -1\n",
    "\n",
    "                try:\n",
    "                    sector = driver.find_element_by_xpath('.//div[@class=\"infoEntity\"]//label[text()=\"Sector\"]//following-sibling::*').text\n",
    "                except NoSuchElementException:\n",
    "                    sector = -1\n",
    "\n",
    "                try:\n",
    "                    revenue = driver.find_element_by_xpath('.//div[@class=\"infoEntity\"]//label[text()=\"Revenue\"]//following-sibling::*').text\n",
    "                except NoSuchElementException:\n",
    "                    revenue = -1\n",
    "\n",
    "                try:\n",
    "                    competitors = driver.find_element_by_xpath('.//div[@class=\"infoEntity\"]//label[text()=\"Competitors\"]//following-sibling::*').text\n",
    "                except NoSuchElementException:\n",
    "                    competitors = -1\n",
    "\n",
    "            except NoSuchElementException:  #Rarely, some job postings do not have the \"Company\" tab.\n",
    "                headquarters = -1\n",
    "                size = -1\n",
    "                founded = -1\n",
    "                type_of_ownership = -1\n",
    "                industry = -1\n",
    "                sector = -1\n",
    "                revenue = -1\n",
    "                competitors = -1\n",
    "\n",
    "                \n",
    "            if verbose:\n",
    "                print(\"Headquarters: {}\".format(headquarters))\n",
    "                print(\"Size: {}\".format(size))\n",
    "                print(\"Founded: {}\".format(founded))\n",
    "                print(\"Type of Ownership: {}\".format(type_of_ownership))\n",
    "                print(\"Industry: {}\".format(industry))\n",
    "                print(\"Sector: {}\".format(sector))\n",
    "                print(\"Revenue: {}\".format(revenue))\n",
    "                print(\"Competitors: {}\".format(competitors))\n",
    "                print(\"@@@@@@@@@@@@@@@@@@@@@@@@@@@@@@@@@@@@@@@@@@@@@@@@@@@@\")\n",
    "\n",
    "            jobs.append({\"Job Title\" : job_title,\n",
    "            \"Salary Estimate\" : salary_estimate,\n",
    "            \"Job Description\" : job_description,\n",
    "            \"Rating\" : rating,\n",
    "            \"Company Name\" : company_name,\n",
    "            \"Location\" : location,\n",
    "            \"Headquarters\" : headquarters,\n",
    "            \"Size\" : size,\n",
    "            \"Founded\" : founded,\n",
    "            \"Type of ownership\" : type_of_ownership,\n",
    "            \"Industry\" : industry,\n",
    "            \"Sector\" : sector,\n",
    "            \"Revenue\" : revenue,\n",
    "            \"Competitors\" : competitors})\n",
    "            #add job to jobs\n",
    "\n",
    "        #Clicking on the \"next page\" button\n",
    "        try:\n",
    "            driver.find_element_by_xpath('.//li[@class=\"next\"]//a').click()\n",
    "        except NoSuchElementException:\n",
    "            print(\"Scraping terminated before reaching target number of jobs. Needed {}, got {}.\".format(num_jobs, len(jobs)))\n",
    "            break\n",
    "\n",
    "    return pd.DataFrame(jobs)  #This line converts the dictionary object into a pandas DataFrame."
   ]
  },
  {
   "cell_type": "code",
   "execution_count": 13,
   "id": "49df440e",
   "metadata": {
    "collapsed": true
   },
   "outputs": [
    {
     "ename": "AttributeError",
     "evalue": "'WebDriver' object has no attribute 'find_element_by_class_name'",
     "output_type": "error",
     "traceback": [
      "\u001b[1;31m---------------------------------------------------------------------------\u001b[0m",
      "\u001b[1;31mAttributeError\u001b[0m                            Traceback (most recent call last)",
      "Input \u001b[1;32mIn [13]\u001b[0m, in \u001b[0;36m<cell line: 1>\u001b[1;34m()\u001b[0m\n\u001b[1;32m----> 1\u001b[0m \u001b[43mget_jobs\u001b[49m\u001b[43m(\u001b[49m\u001b[38;5;124;43m\"\u001b[39;49m\u001b[38;5;124;43mdata scientist\u001b[39;49m\u001b[38;5;124;43m\"\u001b[39;49m\u001b[43m,\u001b[49m\u001b[43m \u001b[49m\u001b[38;5;241;43m5\u001b[39;49m\u001b[43m,\u001b[49m\u001b[43m \u001b[49m\u001b[38;5;28;43;01mFalse\u001b[39;49;00m\u001b[43m)\u001b[49m\n",
      "Input \u001b[1;32mIn [12]\u001b[0m, in \u001b[0;36mget_jobs\u001b[1;34m(keyword, num_jobs, verbose)\u001b[0m\n\u001b[0;32m     25\u001b[0m \u001b[38;5;66;03m#Test for the \"Sign Up\" prompt and get rid of it.\u001b[39;00m\n\u001b[0;32m     26\u001b[0m \u001b[38;5;28;01mtry\u001b[39;00m:\n\u001b[1;32m---> 27\u001b[0m     \u001b[43mdriver\u001b[49m\u001b[38;5;241;43m.\u001b[39;49m\u001b[43mfind_element_by_class_name\u001b[49m(\u001b[38;5;124m\"\u001b[39m\u001b[38;5;124mselected\u001b[39m\u001b[38;5;124m\"\u001b[39m)\u001b[38;5;241m.\u001b[39mclick()\n\u001b[0;32m     28\u001b[0m \u001b[38;5;28;01mexcept\u001b[39;00m ElementClickInterceptedException:\n\u001b[0;32m     29\u001b[0m     \u001b[38;5;28;01mpass\u001b[39;00m\n",
      "\u001b[1;31mAttributeError\u001b[0m: 'WebDriver' object has no attribute 'find_element_by_class_name'"
     ]
    }
   ],
   "source": [
    "get_jobs(\"data scientist\", 5, False)"
   ]
  },
  {
   "cell_type": "markdown",
   "id": "5e5e095c",
   "metadata": {},
   "source": [
    "### Trial of different settings for the code "
   ]
  },
  {
   "cell_type": "code",
   "execution_count": 5,
   "id": "1a892fe8",
   "metadata": {},
   "outputs": [],
   "source": [
    "webdriver.Chrome?"
   ]
  },
  {
   "cell_type": "code",
   "execution_count": 8,
   "id": "59b43df0",
   "metadata": {},
   "outputs": [],
   "source": [
    "options = webdriver.ChromeOptions()"
   ]
  },
  {
   "cell_type": "code",
   "execution_count": 9,
   "id": "d3d85513",
   "metadata": {},
   "outputs": [
    {
     "data": {
      "text/plain": [
       "<selenium.webdriver.chrome.options.Options at 0x1bbb671ac10>"
      ]
     },
     "execution_count": 9,
     "metadata": {},
     "output_type": "execute_result"
    }
   ],
   "source": [
    "options"
   ]
  },
  {
   "cell_type": "markdown",
   "id": "ac52502a",
   "metadata": {},
   "source": [
    "r\"E:\\Download\\chromedriver-win64\\chromedriver-win64\","
   ]
  },
  {
   "cell_type": "code",
   "execution_count": 13,
   "id": "c249a34e",
   "metadata": {},
   "outputs": [
    {
     "data": {
      "text/plain": [
       "<selenium.webdriver.remote.webelement.WebElement (session=\"01fbfe764b2b3c9391ffa1344c4b1a46\", element=\"f.73CB700E1A9FBB690958FF9BBEFD669F.d.7623E4C863F73C5EA4603475EB81E39A.e.52\")>"
      ]
     },
     "execution_count": 13,
     "metadata": {},
     "output_type": "execute_result"
    }
   ],
   "source": [
    "# JUST A TRIAL CODE - to see if we are able to fetch elements\n",
    "\n",
    "options = webdriver.ChromeOptions()\n",
    "driver = webdriver.Chrome(options = options)\n",
    "\n",
    "#url = 'https://www.glassdoor.com/Job/jobs.htm?sc.keyword=\"' + \"data scientist\" + '\"&locT=C&locId=1147401&locKeyword=San%20Francisco,%20CA&jobType=all&fromAge=-1&minSalary=0&includeNoSalaryJobs=true&radius=100&cityId=-1&minRating=0.0&industryId=-1&sgocId=-1&seniorityType=all&companyId=-1&employerSizes=0&applicationType=0&remoteWorkType=0'\n",
    "url = \"https://www.glassdoor.co.in/Job/\" + \"data science\" + \"-SRCH_KO0,12.htm\"\n",
    "driver.get(url)\n",
    "\n",
    "# element = WebDriverWait(driver,30).until(\n",
    "# EC.presence_of_element_located((By.CLASS_NAME,'jl'))\n",
    "# )\n",
    "\n",
    "\n",
    "driver.find_element(By.CLASS_NAME,\"JobsList_jobListItem__wjTHv\")\n",
    "#element = driver.find_element(By.XPATH, \"//div[@class='jl']\")"
   ]
  },
  {
   "cell_type": "markdown",
   "id": "fac18375",
   "metadata": {},
   "source": [
    "driver.find_element(By.CLASS_NAME,\"JobsList_dividerWithSelected__nlvH7\") can't select element when specified with multiple class names i.e names separated by spaces in the inspect page , so give one class name at a time"
   ]
  },
  {
   "cell_type": "code",
   "execution_count": null,
   "id": "b9ccc742",
   "metadata": {},
   "outputs": [],
   "source": []
  },
  {
   "cell_type": "code",
   "execution_count": 22,
   "id": "fe1b11ce",
   "metadata": {},
   "outputs": [],
   "source": [
    "# CURRENT CODE BLOCK - to write function in\n",
    "\n",
    "options = webdriver.ChromeOptions()\n",
    "\n",
    "# not writing the executable parameter option since \n",
    "# it gives error now , maybe in updated versions\n",
    "# of selenium\n",
    "driver = webdriver.Chrome(options = options) \n",
    "driver.set_window_size(1120,1000)\n",
    "\n",
    "url = \"https://www.glassdoor.co.in/Job/\" + \"data-science-jobs\" + \"-SRCH_KO0,12.htm\"\n",
    "driver.get(url) #opens up this link in new chrome window\n",
    "jobs = []\n",
    "\n",
    "while( len(jobs) < 1):\n",
    "    # time.sleep(slp_time)\n",
    "    \n",
    "    job_buttons = driver.find_elements(By.CLASS_NAME,\"JobsList_jobListItem__wjTHv\")\n",
    "    \n",
    "    for job in job_buttons:\n",
    "        job.click()\n",
    "        time.sleep(1)\n",
    "        collected_successfully = False\n",
    "        \n",
    "        while not collected_successfully :\n",
    "            try :\n",
    "                company_name = driver.find_element(By.XPATH,'')\n",
    "                location = driver.find_element(By.XPATH,'')\n",
    "                job_title = driver.find_element(By.XPATH,'')\n",
    "                job_description = driver.find_element(By.XPATH,'')\n",
    "                collected_successfully = True\n",
    "            except:\n",
    "                time.sleep(5)\n",
    "                \n",
    "        break\n",
    "    jobs.append(job_buttons)"
   ]
  },
  {
   "cell_type": "code",
   "execution_count": 22,
   "id": "cc5d0244",
   "metadata": {
    "collapsed": true
   },
   "outputs": [
    {
     "name": "stdout",
     "output_type": "stream",
     "text": [
      "Progress: 0/1\n"
     ]
    },
    {
     "ename": "KeyboardInterrupt",
     "evalue": "",
     "output_type": "error",
     "traceback": [
      "\u001b[1;31m---------------------------------------------------------------------------\u001b[0m",
      "\u001b[1;31mNoSuchElementException\u001b[0m                    Traceback (most recent call last)",
      "Input \u001b[1;32mIn [22]\u001b[0m, in \u001b[0;36m<cell line: 36>\u001b[1;34m()\u001b[0m\n\u001b[0;32m     51\u001b[0m job_title \u001b[38;5;241m=\u001b[39m driver\u001b[38;5;241m.\u001b[39mfind_element(By\u001b[38;5;241m.\u001b[39mCLASS_NAME,\u001b[38;5;124m'\u001b[39m\u001b[38;5;124mheading_Heading__BqX5J\u001b[39m\u001b[38;5;124m'\u001b[39m)\u001b[38;5;241m.\u001b[39mtext\n\u001b[1;32m---> 52\u001b[0m job_description \u001b[38;5;241m=\u001b[39m \u001b[43mdriver\u001b[49m\u001b[38;5;241;43m.\u001b[39;49m\u001b[43mfind_element\u001b[49m\u001b[43m(\u001b[49m\u001b[43mBy\u001b[49m\u001b[38;5;241;43m.\u001b[39;49m\u001b[43mCLASS_NAME\u001b[49m\u001b[43m,\u001b[49m\u001b[38;5;124;43m'\u001b[39;49m\u001b[38;5;124;43mJobDetails_jobDescription__uW_fk\u001b[39;49m\u001b[38;5;124;43m'\u001b[39;49m\u001b[43m)\u001b[49m\u001b[38;5;241m.\u001b[39mtext\n\u001b[0;32m     53\u001b[0m collected_successfully \u001b[38;5;241m=\u001b[39m \u001b[38;5;28;01mTrue\u001b[39;00m\n",
      "File \u001b[1;32mE:\\data_science_apps\\lib\\site-packages\\selenium\\webdriver\\remote\\webdriver.py:748\u001b[0m, in \u001b[0;36mWebDriver.find_element\u001b[1;34m(self, by, value)\u001b[0m\n\u001b[0;32m    746\u001b[0m     value \u001b[38;5;241m=\u001b[39m \u001b[38;5;124mf\u001b[39m\u001b[38;5;124m'\u001b[39m\u001b[38;5;124m[name=\u001b[39m\u001b[38;5;124m\"\u001b[39m\u001b[38;5;132;01m{\u001b[39;00mvalue\u001b[38;5;132;01m}\u001b[39;00m\u001b[38;5;124m\"\u001b[39m\u001b[38;5;124m]\u001b[39m\u001b[38;5;124m'\u001b[39m\n\u001b[1;32m--> 748\u001b[0m \u001b[38;5;28;01mreturn\u001b[39;00m \u001b[38;5;28;43mself\u001b[39;49m\u001b[38;5;241;43m.\u001b[39;49m\u001b[43mexecute\u001b[49m\u001b[43m(\u001b[49m\u001b[43mCommand\u001b[49m\u001b[38;5;241;43m.\u001b[39;49m\u001b[43mFIND_ELEMENT\u001b[49m\u001b[43m,\u001b[49m\u001b[43m \u001b[49m\u001b[43m{\u001b[49m\u001b[38;5;124;43m\"\u001b[39;49m\u001b[38;5;124;43musing\u001b[39;49m\u001b[38;5;124;43m\"\u001b[39;49m\u001b[43m:\u001b[49m\u001b[43m \u001b[49m\u001b[43mby\u001b[49m\u001b[43m,\u001b[49m\u001b[43m \u001b[49m\u001b[38;5;124;43m\"\u001b[39;49m\u001b[38;5;124;43mvalue\u001b[39;49m\u001b[38;5;124;43m\"\u001b[39;49m\u001b[43m:\u001b[49m\u001b[43m \u001b[49m\u001b[43mvalue\u001b[49m\u001b[43m}\u001b[49m\u001b[43m)\u001b[49m[\u001b[38;5;124m\"\u001b[39m\u001b[38;5;124mvalue\u001b[39m\u001b[38;5;124m\"\u001b[39m]\n",
      "File \u001b[1;32mE:\\data_science_apps\\lib\\site-packages\\selenium\\webdriver\\remote\\webdriver.py:354\u001b[0m, in \u001b[0;36mWebDriver.execute\u001b[1;34m(self, driver_command, params)\u001b[0m\n\u001b[0;32m    353\u001b[0m \u001b[38;5;28;01mif\u001b[39;00m response:\n\u001b[1;32m--> 354\u001b[0m     \u001b[38;5;28;43mself\u001b[39;49m\u001b[38;5;241;43m.\u001b[39;49m\u001b[43merror_handler\u001b[49m\u001b[38;5;241;43m.\u001b[39;49m\u001b[43mcheck_response\u001b[49m\u001b[43m(\u001b[49m\u001b[43mresponse\u001b[49m\u001b[43m)\u001b[49m\n\u001b[0;32m    355\u001b[0m     response[\u001b[38;5;124m\"\u001b[39m\u001b[38;5;124mvalue\u001b[39m\u001b[38;5;124m\"\u001b[39m] \u001b[38;5;241m=\u001b[39m \u001b[38;5;28mself\u001b[39m\u001b[38;5;241m.\u001b[39m_unwrap_value(response\u001b[38;5;241m.\u001b[39mget(\u001b[38;5;124m\"\u001b[39m\u001b[38;5;124mvalue\u001b[39m\u001b[38;5;124m\"\u001b[39m, \u001b[38;5;28;01mNone\u001b[39;00m))\n",
      "File \u001b[1;32mE:\\data_science_apps\\lib\\site-packages\\selenium\\webdriver\\remote\\errorhandler.py:229\u001b[0m, in \u001b[0;36mErrorHandler.check_response\u001b[1;34m(self, response)\u001b[0m\n\u001b[0;32m    228\u001b[0m     \u001b[38;5;28;01mraise\u001b[39;00m exception_class(message, screen, stacktrace, alert_text)  \u001b[38;5;66;03m# type: ignore[call-arg]  # mypy is not smart enough here\u001b[39;00m\n\u001b[1;32m--> 229\u001b[0m \u001b[38;5;28;01mraise\u001b[39;00m exception_class(message, screen, stacktrace)\n",
      "\u001b[1;31mNoSuchElementException\u001b[0m: Message: no such element: Unable to locate element: {\"method\":\"css selector\",\"selector\":\".JobDetails_jobDescription__uW_fk\"}\n  (Session info: chrome=127.0.6533.100); For documentation on this error, please visit: https://www.selenium.dev/documentation/webdriver/troubleshooting/errors#no-such-element-exception\nStacktrace:\n\tGetHandleVerifier [0x00007FF74E359632+30946]\n\t(No symbol) [0x00007FF74E30E3C9]\n\t(No symbol) [0x00007FF74E206FDA]\n\t(No symbol) [0x00007FF74E25822C]\n\t(No symbol) [0x00007FF74E25850C]\n\t(No symbol) [0x00007FF74E29DCB7]\n\t(No symbol) [0x00007FF74E27CAAF]\n\t(No symbol) [0x00007FF74E29B041]\n\t(No symbol) [0x00007FF74E27C813]\n\t(No symbol) [0x00007FF74E24A6E5]\n\t(No symbol) [0x00007FF74E24B021]\n\tGetHandleVerifier [0x00007FF74E48F83D+1301229]\n\tGetHandleVerifier [0x00007FF74E49BDB7+1351783]\n\tGetHandleVerifier [0x00007FF74E492A03+1313971]\n\tGetHandleVerifier [0x00007FF74E38DD06+245686]\n\t(No symbol) [0x00007FF74E31758F]\n\t(No symbol) [0x00007FF74E313804]\n\t(No symbol) [0x00007FF74E313992]\n\t(No symbol) [0x00007FF74E30A3EF]\n\tBaseThreadInitThunk [0x00007FFA034C7374+20]\n\tRtlUserThreadStart [0x00007FFA05BDCC91+33]\n",
      "\nDuring handling of the above exception, another exception occurred:\n",
      "\u001b[1;31mKeyboardInterrupt\u001b[0m                         Traceback (most recent call last)",
      "Input \u001b[1;32mIn [22]\u001b[0m, in \u001b[0;36m<cell line: 36>\u001b[1;34m()\u001b[0m\n\u001b[0;32m     53\u001b[0m             collected_successfully \u001b[38;5;241m=\u001b[39m \u001b[38;5;28;01mTrue\u001b[39;00m\n\u001b[0;32m     54\u001b[0m         \u001b[38;5;28;01mexcept\u001b[39;00m:\n\u001b[1;32m---> 55\u001b[0m             \u001b[43mtime\u001b[49m\u001b[38;5;241;43m.\u001b[39;49m\u001b[43msleep\u001b[49m\u001b[43m(\u001b[49m\u001b[38;5;241;43m5\u001b[39;49m\u001b[43m)\u001b[49m\n\u001b[0;32m     57\u001b[0m     jobs\u001b[38;5;241m.\u001b[39mappend({\u001b[38;5;124m\"\u001b[39m\u001b[38;5;124mJob Title\u001b[39m\u001b[38;5;124m\"\u001b[39m : job_title,\n\u001b[0;32m     58\u001b[0m             \u001b[38;5;124m\"\u001b[39m\u001b[38;5;124mJob Description\u001b[39m\u001b[38;5;124m\"\u001b[39m : job_description,\n\u001b[0;32m     59\u001b[0m             \u001b[38;5;124m\"\u001b[39m\u001b[38;5;124mCompany Name\u001b[39m\u001b[38;5;124m\"\u001b[39m : company_name,\n\u001b[0;32m     60\u001b[0m             \u001b[38;5;124m\"\u001b[39m\u001b[38;5;124mLocation\u001b[39m\u001b[38;5;124m\"\u001b[39m : location,\n\u001b[0;32m     61\u001b[0m             })\n\u001b[0;32m     63\u001b[0m df \u001b[38;5;241m=\u001b[39m pd\u001b[38;5;241m.\u001b[39mDataFrame(jobs)\n",
      "\u001b[1;31mKeyboardInterrupt\u001b[0m: "
     ]
    }
   ],
   "source": [
    "# CURRENT CODE BLOCK \n",
    "# ERRORS ENCOUNTERD = 1) WRONG JOB TITLE FETCHED 2) JOB DESCRIPTION ELEMENT NOT FOUND\n",
    "\n",
    "#options = webdriver.ChromeOptions()\n",
    "options = Options()\n",
    "options.add_argument(\"--disable-notifications\")\n",
    "driver = webdriver.Chrome(options = options)\n",
    "\n",
    "# not writing the executable parameter in option since \n",
    "# it gives error now , maybe in updated versions\n",
    "# of selenium\n",
    "#driver = webdriver.Chrome(options = options) \n",
    "driver.set_window_size(1120,1000)\n",
    "\n",
    "url = \"https://www.glassdoor.co.in/Job/\" + \"data-science-jobs\" + \"-SRCH_KO0,12.htm\"\n",
    "driver.get(url) #opens up this link in new chrome window\n",
    "jobs = []\n",
    "num_jobs = 1\n",
    "#while(len(jobs) < num_jobs):\n",
    "try:\n",
    "    driver.find_element(By.CLASS_NAME,\"selected\").click()\n",
    "except :\n",
    "    pass\n",
    "\n",
    "time.sleep(.1)\n",
    "\n",
    "try:\n",
    "    close_button = driver.find_element(By.CSS_SELECTOR,'[alt=\"close\"]').click()\n",
    "    close_button.click()\n",
    "    print('x out worked')\n",
    "except NoSuchElementException:\n",
    "    #print('x out did not work')\n",
    "    pass\n",
    "\n",
    "\n",
    "job_buttons = driver.find_elements(By.CLASS_NAME,\"JobsList_jobListItem__wjTHv\")\n",
    "for job_button in job_buttons:\n",
    "    print(\"Progress: {}\".format(\"\"+str(len(jobs))+ \"/\" + str(num_jobs)))\n",
    "    if(len(jobs) >= num_jobs):\n",
    "        break\n",
    "    \n",
    "    job_button.click()\n",
    "    driver.find_element(By.TAG_NAME, \"body\").send_keys(Keys.ESCAPE)\n",
    "    \n",
    "    time.sleep(1)\n",
    "    collected_successfully = False\n",
    "        \n",
    "    while not collected_successfully :\n",
    "        try :\n",
    "            company_name = driver.find_element(By.CLASS_NAME,'EmployerProfile_compactEmployerName__LE242').text\n",
    "            location = driver.find_element(By.CLASS_NAME,'JobDetails_location__mSg5h').text\n",
    "            job_title = driver.find_element(By.CLASS_NAME,'heading_Heading__BqX5J').text\n",
    "            job_description = driver.find_element(By.CLASS_NAME,'JobDetails_jobDescription__uW_fk').text\n",
    "            collected_successfully = True\n",
    "        except:\n",
    "            time.sleep(5)\n",
    "            \n",
    "    jobs.append({\"Job Title\" : job_title,\n",
    "            \"Job Description\" : job_description,\n",
    "            \"Company Name\" : company_name,\n",
    "            \"Location\" : location,\n",
    "            })\n",
    "\n",
    "df = pd.DataFrame(jobs)"
   ]
  },
  {
   "cell_type": "code",
   "execution_count": 23,
   "id": "0933aaf7",
   "metadata": {},
   "outputs": [
    {
     "data": {
      "text/plain": [
       "'S&P Global'"
      ]
     },
     "execution_count": 23,
     "metadata": {},
     "output_type": "execute_result"
    }
   ],
   "source": [
    "company_name"
   ]
  },
  {
   "cell_type": "code",
   "execution_count": 24,
   "id": "513d8250",
   "metadata": {},
   "outputs": [
    {
     "data": {
      "text/plain": [
       "'Hyderābād'"
      ]
     },
     "execution_count": 24,
     "metadata": {},
     "output_type": "execute_result"
    }
   ],
   "source": [
    "location"
   ]
  },
  {
   "cell_type": "code",
   "execution_count": 25,
   "id": "8dee67a8",
   "metadata": {},
   "outputs": [
    {
     "data": {
      "text/plain": [
       "'Frequently Asked Questions'"
      ]
     },
     "execution_count": 25,
     "metadata": {},
     "output_type": "execute_result"
    }
   ],
   "source": [
    "job_title"
   ]
  },
  {
   "cell_type": "markdown",
   "id": "34984f97",
   "metadata": {},
   "source": [
    "### Handling sign up pop-up"
   ]
  },
  {
   "cell_type": "code",
   "execution_count": 17,
   "id": "ff744675",
   "metadata": {},
   "outputs": [],
   "source": [
    "# options = Options()\n",
    "# options.add_argument(\"--disable-notifications\")\n",
    "# driver = webdriver.Chrome(options = options)\n",
    "job_buttons[5].click()\n",
    "#driver.find_element(By.XPATH,'//div[contains(@class,\"ui-dialog\") and @aria-describedby=\"dialogContent2\"]//button[@title=\"Close\"]').click()\n",
    "#driver.find_element(By.CLASS_NAME,'TwoColumnLayout_backButton__kqDs_').click()\n",
    "#driver.find_element(By.CLASS_NAME,'globalNavContainer__globalNavContainerStyles__mobileCenterLink').click()\n",
    "\n",
    "# this below code finally helps get rid of the signup pop up\n",
    "from selenium.webdriver.common.keys import Keys\n",
    "driver.find_element(By.TAG_NAME, \"body\").send_keys(Keys.ESCAPE)\n"
   ]
  },
  {
   "cell_type": "code",
   "execution_count": 9,
   "id": "bc44783f",
   "metadata": {},
   "outputs": [
    {
     "data": {
      "text/plain": [
       "list"
      ]
     },
     "execution_count": 9,
     "metadata": {},
     "output_type": "execute_result"
    }
   ],
   "source": [
    "type(job_buttons)"
   ]
  },
  {
   "cell_type": "code",
   "execution_count": 10,
   "id": "73c588ea",
   "metadata": {},
   "outputs": [
    {
     "data": {
      "text/plain": [
       "31"
      ]
     },
     "execution_count": 10,
     "metadata": {},
     "output_type": "execute_result"
    }
   ],
   "source": [
    "len(job_buttons)"
   ]
  },
  {
   "cell_type": "code",
   "execution_count": 40,
   "id": "26ab0f73",
   "metadata": {},
   "outputs": [
    {
     "data": {
      "text/plain": [
       "'Procter & Gamble\\n4.1\\nSenior Manager – SAP Security Governance: Risk and Compliance Management\\nMumbai\\n₹4L - ₹7L (Glassdoor Est.)\\nJust so that you know: We are an equal opportunity employer and value diversity at our company. We produce globally recognized brands, and we grow the best……\\nSkills: SAP, SOX, Analysis skills, SAP S/4HANA, RMF\\n30d+'"
      ]
     },
     "execution_count": 40,
     "metadata": {},
     "output_type": "execute_result"
    }
   ],
   "source": [
    "job_buttons[0].text"
   ]
  },
  {
   "cell_type": "code",
   "execution_count": 18,
   "id": "017caa29",
   "metadata": {},
   "outputs": [],
   "source": [
    "#job_buttons[2].click()\n",
    "#close_button = driver.find_element(By.CSS_SELECTOR,'[alt=\"close\"]').click()\n",
    "#close_button = driver.find_element(By.CLASS_NAME,\"JobDetails_actionWrapper__vrkVQ\")\n",
    "#close_button = driver.find_element(By.CLASS_NAME,\"action-menu_ActionMenuTrigger__1QkiW\")\n",
    "#close_button.click()"
   ]
  },
  {
   "cell_type": "markdown",
   "id": "ffcfd671",
   "metadata": {},
   "source": [
    "### above pop up menu's class here in this cell\n",
    "<button class=\"action-menu_ActionMenuTrigger__lQkiW\" type=\"button\" aria-live=\"polite\" aria-label=\"More options\" data-test=\"\" id=\"radix-:rn:\" aria-haspopup=\"menu\" aria-expanded=\"false\" data-state=\"closed\"><svg width=\"24\" height=\"24\" viewBox=\"0 0 24 24\" fill=\"currentColor\" xmlns=\"http://www.w3.org/2000/svg\" aria-live=\"polite\" aria-hidden=\"false\" class=\"icon_Icon__ptI3R\"><path d=\"M6 12a2 2 0 1 1-4 0 2 2 0 0 1 4 0ZM14 12a2 2 0 1 1-4 0 2 2 0 0 1 4 0ZM20 14a2 2 0 1 0 0-4 2 2 0 0 0 0 4Z\"></path></svg></button>"
   ]
  },
  {
   "cell_type": "code",
   "execution_count": 25,
   "id": "d1ace687",
   "metadata": {
    "collapsed": true
   },
   "outputs": [
    {
     "name": "stdout",
     "output_type": "stream",
     "text": [
      "S&P Global\n",
      "4.1\n",
      "Senior MLOps Engineer\n",
      "Hyderābād\n",
      "₹6L - ₹8L (Glassdoor Est.)\n",
      "In this role, you will play a pivotal role in implementing our machine learning operations, ensuring the seamless deployment, monitoring, and management of our……\n",
      "Skills: CI/CD, Elasticsearch, Big data, NoSQL, Git\n",
      "30d+\n",
      "Procter & Gamble\n",
      "4.1\n",
      "Senior Manager – SAP Security Governance: Risk and Compliance Management\n",
      "Mumbai\n",
      "₹4L - ₹7L (Glassdoor Est.)\n",
      "The Senior Manager’s role will ensure that the SAP Security Strategy and Risk and Compliance Management frameworks are always up-to-date, new threats are……\n",
      "Skills: SAP, SOX, Analysis skills, SAP S/4HANA, RMF\n",
      "30d+\n",
      "RVR PRO\n",
      "AI and Technology Research Assistant\n",
      "Hyderābād\n",
      "₹20T - ₹35T (Employer Est.)\n",
      "Easy Apply\n",
      "In this role, you will support our efforts in exploring emerging technologies, conducting in-depth research, and contributing to the development of new……\n",
      "Skills: Data analysis skills, Research, Databases, Analysis skills, Machine learning\n",
      "21d\n",
      "Optum\n",
      "Manager Data Scientist\n",
      "Bengaluru\n",
      "Easy Apply\n",
      "Comply with the terms and conditions of the employment contract, company policies and procedures, and any and all directives (such as, but not limited to,……\n",
      "Skills: TensorFlow, Big data, SQL, Analysis skills, Machine learning\n",
      "30d+\n",
      "IPCS Global solutions pvt ltd\n",
      "Python & Data Science Trainer\n",
      "Raipur\n",
      "₹12T - ₹20T (Employer Est.)\n",
      "Easy Apply\n",
      "Excellent understanding of data visualization, data storytelling, and how to think about data problems in a business context and solving them using Machine……\n",
      "Skills: Power BI, R, Tableau, Java, Machine learning\n",
      "7d\n",
      "Optum\n",
      "Sr AI/ML Engineer\n",
      "Haryāna\n",
      "Easy Apply\n",
      "Comply with the terms and conditions of the employment contract, company policies and procedures, and any and all directives (such as, but not limited to,……\n",
      "Skills: Presentation skills, Machine learning, Deep learning, Natural language processing, Data science\n",
      "30d+\n",
      "Telstra\n",
      "4.0\n",
      "Data Engineering Analyst- Machine Learning Engineer\n",
      "Bengaluru\n",
      "₹4L - ₹11L (Glassdoor Est.)\n",
      "You are known for the integrity and accuracy of data that enables quality data-driven business decisions and equip Telstra to deliver better customer and……\n",
      "Skills: TensorFlow, CI/CD, Image processing, Azure, Computer vision\n",
      "30d+\n",
      "objectways\n",
      "NLP Project Manager\n",
      "Coimbatore\n",
      "₹4L (Employer Est.)\n",
      "Easy Apply\n",
      "The project manager role is an experienced management position for individuals who are interested in working in the Artificial Intelligence and Machine Learning……\n",
      "Skills: Computer science, Azure, Management, Google Cloud Platform, AWS\n",
      "30d+\n",
      "Ananta Consulting Group\n",
      "Senior Software Engineer\n",
      "India\n",
      "₹12L - ₹16L (Employer Est.)\n",
      "Easy Apply\n",
      "Stay up to date on latest technology and leverage those technologies to enhance the current systems and process to make them more efficient.…\n",
      "Skills: FTP, Azure, NFS, Web development, IIS\n",
      "17d\n",
      "American Express Global Business Travel\n",
      "4.2\n",
      "BI Developer\n",
      "Gurgaon\n",
      "₹10L - ₹11L (Glassdoor Est.)\n",
      "Develop the skills you want when the time is right for you, with global tuition assistance, access to over 20,000 courses on our learning platform, leadership……\n",
      "Skills: MVC, C#, R, Alteryx, Apache Hive\n",
      "30d+\n",
      "Labcorp\n",
      "3.5\n",
      "DA Senior Data Analyst\n",
      "Bengaluru\n",
      "₹3L - ₹6L (Glassdoor Est.)\n",
      "At least 3 year of experience in HealthCare or Pharmaceutical (CRO) industry. Self-starter, able to multi-task, work well under tight deadlines, and comfortable……\n",
      "Skills: Jira, Microsoft Powerpoint, Microsoft Word, CI/CD, Microsoft Excel\n",
      "2d\n",
      "Oracuz Infotech Pvt Ltd\n",
      "Data Science Intern\n",
      "Remote\n",
      "₹5T (Employer Est.)\n",
      "Easy Apply\n",
      "You will be assigned with module projects and tasks during the internship and on the basis of performance and availability of vacancies you will be hired.…\n",
      "Skills: Web development, Machine learning, Data science\n",
      "Discover more\n",
      "30d+\n",
      "Boston Consulting Group\n",
      "4.2\n",
      "Data Scientist, India - BCG X\n",
      "Gurgaon\n",
      "₹7L - ₹8L (Glassdoor Est.)\n",
      "As a Data Scientist at BCG, you will collaborate on challenging projects to increasing your understanding of complex business problems from diverse perspectives……\n",
      "Skills: Image processing, Azure, Big data, R, Google Cloud Platform\n",
      "30d+\n",
      "Boston Consulting Group\n",
      "4.2\n",
      "Analyst, Geo Analytics, India - X Delivery\n",
      "Gurgaon\n",
      "₹6L - ₹10L (Glassdoor Est.)\n",
      "Delivery Teams are our hybrid client-facing/consulting-support that leverages available tools and code bases to deliver powerful and specialized insights that……\n",
      "Skills: ArcGIS, Computer science, Power BI, Data modeling, Spark\n",
      "30d+\n",
      "Adobe\n",
      "4.2\n",
      "Senior Computer Scientist\n",
      "Bengaluru\n",
      "As a key member of the team you will be expected to design, build, test and deploy stable, scalable and simple solutions.…\n",
      "Skills: TensorFlow, Image processing, Azure, Kubernetes, Computer vision\n",
      "30d+\n",
      "Mediphore Systems and Technologies Pvt Ltd\n",
      "Sr. Software Engineer\n",
      "India\n",
      "₹6L - ₹20L (Employer Est.)\n",
      "Easy Apply\n",
      "4+ years of experience as a software developer working on industrial strength software and a proven track record of having shipped commercially successful……\n",
      "Skills: CI/CD, AJAX, Performance tuning, Azure, Node.js\n",
      "30d+\n",
      "Universal Tech\n",
      "Senior Full Stack Developer\n",
      "Remote\n",
      "₹8L - ₹11L (Employer Est.)\n",
      "Easy Apply\n",
      "This role is designed for an experienced and highly skilled developer who has an outstanding understanding of the entire web development process, including……\n",
      "Skills: Azure, Node.js, CSS, Software troubleshooting, React\n",
      "30d+\n",
      "C2Perform India\n",
      "Director of Development Operations\n",
      "Delhi\n",
      "₹25L - ₹40L (Employer Est.)\n",
      "Easy Apply\n",
      "The role is dedicated to transforming the way business functions interact with technology; therefore, you will serve as a visionary leader and advisor to our……\n",
      "Skills: Data modeling, Cloud architecture, Node.js, CSS, React\n",
      "30d+\n",
      "Lincode\n",
      "3.2\n",
      "Data Science Intern\n",
      "Remote\n",
      "₹10T - ₹16T (Employer Est.)\n",
      "Easy Apply\n",
      "Collaborate with cross-functional teams to integrate computer vision solutions into products. Assist in the development and implementation of computer vision……\n",
      "Skills: TensorFlow, Image processing, Azure, Computer vision, Google Cloud Platform\n",
      "Discover more\n",
      "18d\n",
      "NetApp\n",
      "4.2\n",
      "Performance Analysis Engineer\n",
      "Bengaluru\n",
      "₹5L - ₹9L (Glassdoor Est.)\n",
      "We provide comprehensive benefits, including health care, life and accident plans, emotional support resources for you and your family, legal services, and……\n",
      "Skills: Operating systems, C, Perl, Scripting, AI\n",
      "25d\n",
      "BOEING\n",
      "3.8\n",
      "Lead Data Scientist\n",
      "Bengaluru\n",
      "₹8L - ₹9L (Glassdoor Est.)\n",
      "Bachelor’s degree or higher in computer science or other closely related fields. Exhibits confidence and an extensive knowledge of emerging industry practices……\n",
      "Skills: MATLAB, Big data, Mobile applications, Business analysis, System design\n",
      "30d+\n",
      "Founding Teams\n",
      "Lead AI / ML / Data Science Engineer - India\n",
      "Remote\n",
      "₹63L (Employer Est.)\n",
      "Easy Apply\n",
      "Translate business needs into AI/ML problems and create innovative solutions to advance our business goals. We are supporting the next generation of AI startup……\n",
      "Skills: Statistics, Java, SQL, Math, Machine learning\n",
      "Discover more\n",
      "2d\n",
      "Dell\n",
      "4.0\n",
      "AIML OPS Engineer\n",
      "Bengaluru\n",
      "Meet business objectives, automate to reduce manual effort in tasks like model deployment and testing, implement tools and techniques to monitor model……\n",
      "Skills: Kubernetes, Docker, Machine learning, APIs, Agile\n",
      "28d\n",
      "RP2\n",
      "Data Science Intern\n",
      "Easy Apply\n",
      "Experiences you gain in this internship will help you ascertain applicability of various techniques /algorithms to various use cases.…\n",
      "Skills: Image processing, Machine learning, Natural language processing, Data science, AI\n",
      "Discover more\n",
      "3d\n",
      "Sagility\n",
      "3.4\n",
      "Data Science\n",
      "Bengaluru\n",
      "₹5L - ₹9L (Glassdoor Est.)\n",
      "Machine learning (Regression, Classification models etc) - intermediate. Computer Vision & NLP - optional but will have added advantage.…\n",
      "Skills: Image processing, R, English, SQL, Machine learning\n",
      "Discover more\n",
      "30d+\n",
      "ITI Data\n",
      "4.3\n",
      "Sr AWS Data Engineer\n",
      "Chennai\n",
      "₹10L (Glassdoor Est.)\n",
      "Require Financial Services industry experience. This is a high visibility, fast-paced key initiative will integrate data across internal and external sources,……\n",
      "Skills: Oracle, XML, Spark, NoSQL, MongoDB\n",
      "30d+\n",
      "Gentell Inc.\n",
      "Senior Application Developer / Full Stack Developer\n",
      "Noida\n",
      "₹30L - ₹40L (Employer Est.)\n",
      "Easy Apply\n",
      "The Application Development Lead will enable Gentell’s explosive growth by modernizing our business processes and data management.…\n",
      "Skills: CSS, .NET Core, English, Java, Databases\n",
      "30d+\n",
      "Boston Consulting Group\n",
      "4.2\n",
      "Lead Data Scientist, India - BCG X\n",
      "Mumbai\n",
      "₹6L - ₹8L (Glassdoor Est.)\n",
      "We are seeking a strong candidate with significant advanced analytics experience to fill an exciting Lead Data Scientist (LDS) position within BCG X. The LDS is……\n",
      "Skills: Spark, Project management, Data science\n",
      "30d+\n",
      "Proyouth.in\n",
      "Data Science\n",
      "Remote\n",
      "₹30T (Employer Est.)\n",
      "Easy Apply\n",
      "The ideal candidate will have a strong background in data science, with a deep understanding of statistical analysis, machine learning, data visualization, and……\n",
      "Skills: TensorFlow, Power BI, Big data, R, Tableau\n",
      "Discover more\n",
      "24h\n",
      "Boston Consulting Group\n",
      "4.2\n",
      "Global IT Data Engineer Senior Specialist\n",
      "Delhi\n",
      "Bachelor's degree in information science, data management, computer science or related field preferred. You are good at analyzing performance bottlenecks and……\n",
      "Skills: Jira, Computer science, Data modeling, Azure, Oracle\n",
      "30d+\n",
      "\n"
     ]
    }
   ],
   "source": [
    "for i in job_buttons:\n",
    "    print(i.text)"
   ]
  },
  {
   "cell_type": "markdown",
   "id": "131a21d0",
   "metadata": {},
   "source": [
    " '//*[@id=\"left-column\"]/div[1]/ul' xpath"
   ]
  },
  {
   "cell_type": "markdown",
   "id": "17565591",
   "metadata": {},
   "source": [
    "<li class=\"JobsList_jobListItem__wjTHv JobsList_selected__nFuMW\""
   ]
  },
  {
   "cell_type": "markdown",
   "id": "cfffcf54",
   "metadata": {},
   "source": [
    "### Handling wrong Job name and description element not found"
   ]
  },
  {
   "cell_type": "code",
   "execution_count": 10,
   "id": "4208a3de",
   "metadata": {},
   "outputs": [],
   "source": [
    "options = Options()\n",
    "options.add_argument(\"--disable-notifications\")\n",
    "driver = webdriver.Chrome(options = options)\n",
    "\n",
    "# not writing the executable parameter in option since \n",
    "# it gives error now , maybe in updated versions\n",
    "# of selenium\n",
    "#driver = webdriver.Chrome(options = options) \n",
    "driver.set_window_size(1120,1000)\n",
    "\n",
    "url = \"https://www.glassdoor.co.in/Job/\" + \"data-science-jobs\" + \"-SRCH_KO0,12.htm\"\n",
    "driver.get(url) #opens up this link in new chrome window\n",
    "jobs = []\n",
    "#num_jobs = 1\n",
    "\n",
    "\n",
    "job_buttons = driver.find_elements(By.CLASS_NAME,\"JobsList_jobListItem__wjTHv\")\n",
    " \n",
    "for button in job_buttons:\n",
    "    button.click()\n",
    "driver.find_element(By.TAG_NAME, \"body\").send_keys(Keys.ESCAPE)\n",
    "    \n",
    "\n",
    "company_name = driver.find_element(By.CLASS_NAME,'EmployerProfile_compactEmployerName__LE242').text\n",
    "location = driver.find_element(By.CLASS_NAME,'JobDetails_location__mSg5h').text\n",
    "#job_title = driver.find_element(By.CLASS_NAME,'heading_Heading__BqX5J').text\n",
    "job_title = driver.find_element(By.XPATH, '//div[@class=\"JobDetails_jobDetailsHeader__Hd9M3\"]//h1').text\n",
    "job_description = driver.find_element(By.CLASS_NAME,'JobDetails_jobDetailsSection__y_xa6').text\n",
    "#job_description = driver.find_element(By.CLASS_NAME,'JobDetails_jobDescription__uW_fk').text"
   ]
  },
  {
   "cell_type": "code",
   "execution_count": 11,
   "id": "e64c2af1",
   "metadata": {},
   "outputs": [
    {
     "data": {
      "text/plain": [
       "('Atlassian', 'Mumbai', 'Lead Data Scientist, India - BCG X')"
      ]
     },
     "execution_count": 11,
     "metadata": {},
     "output_type": "execute_result"
    }
   ],
   "source": [
    "company_name, location, job_title"
   ]
  },
  {
   "cell_type": "code",
   "execution_count": 6,
   "id": "cfa008fa",
   "metadata": {},
   "outputs": [
    {
     "data": {
      "text/plain": [
       "'Boston Consulting Group\\n4.2\\nData Engineering Lead - X Delivery\\nBengaluru'"
      ]
     },
     "execution_count": 6,
     "metadata": {},
     "output_type": "execute_result"
    }
   ],
   "source": [
    "driver.find_element(By.XPATH, '//div[@class=\"JobDetails_jobDetailsHeader__Hd9M3\"]').text"
   ]
  },
  {
   "cell_type": "code",
   "execution_count": 9,
   "id": "a81718ec",
   "metadata": {},
   "outputs": [
    {
     "data": {
      "text/plain": [
       "'Data Engineering Lead - X Delivery'"
      ]
     },
     "execution_count": 9,
     "metadata": {},
     "output_type": "execute_result"
    }
   ],
   "source": [
    "driver.find_element(By.XPATH, '//div[@class=\"JobDetails_jobDetailsHeader__Hd9M3\"]//h1').text"
   ]
  },
  {
   "cell_type": "markdown",
   "id": "d8470351",
   "metadata": {},
   "source": [
    "class name tried for job name - [@class=\"heading_Heading__BqX5J\"]"
   ]
  },
  {
   "cell_type": "code",
   "execution_count": 16,
   "id": "97c61817",
   "metadata": {},
   "outputs": [
    {
     "name": "stdout",
     "output_type": "stream",
     "text": [
      "Atlassian\n",
      "Procter & Gamble\n",
      "Arccus Inc\n",
      "Yantravision Software Pvt Ltd\n",
      "Boston Consulting Group\n",
      "Boston Consulting Group\n",
      "S&P Global\n",
      "ANZ Banking Group\n",
      "Optum\n",
      "ZF\n",
      "Wisdom college for creativity & design\n",
      "Adobe\n",
      "Adobe\n",
      "Ananta Consulting Group\n",
      "Optum\n",
      "Raaj Ventures\n",
      "BOEING\n",
      "Alignerr\n",
      "BigSpire Software\n",
      "Wahy Lab Solutions\n",
      "Sagility\n",
      "MSD\n",
      "Proyouth.in\n",
      "Ignitho\n",
      "Medtek.AI\n",
      "JPMorgan Chase & Co\n",
      "FELIX HOSPITAL\n",
      "American Express Global Business Travel\n",
      "Imurgence\n",
      "OpsFree\n"
     ]
    }
   ],
   "source": [
    "lst = driver.find_elements(By.CLASS_NAME,'EmployerProfile_compactEmployerName__LE242')#.text\n",
    "for i in range(len(lst)):\n",
    "    print(lst[i].text)\n"
   ]
  },
  {
   "cell_type": "markdown",
   "id": "5426578f",
   "metadata": {},
   "source": [
    "### We noted that , writing to find element by class name was just fwtching the first one when we wanted the company name , so we can use find_elements instead and run a loop to fetch the right company"
   ]
  },
  {
   "cell_type": "code",
   "execution_count": 18,
   "id": "fe863b75",
   "metadata": {},
   "outputs": [
    {
     "data": {
      "text/plain": [
       "[<selenium.webdriver.remote.webelement.WebElement (session=\"2d94f6e25a6d39a6cf8ef8a2041b5b39\", element=\"f.E59392EEAC35C7C867733106858BAE28.d.465028068C75994439519A9BBF6B68A9.e.93\")>]"
      ]
     },
     "execution_count": 18,
     "metadata": {},
     "output_type": "execute_result"
    }
   ],
   "source": [
    "driver.find_elements(By.CLASS_NAME,'JobDetails_location__mSg5h')#.text"
   ]
  },
  {
   "cell_type": "code",
   "execution_count": 19,
   "id": "0c3096d1",
   "metadata": {
    "collapsed": true
   },
   "outputs": [
    {
     "ename": "NoSuchElementException",
     "evalue": "Message: no such element: Unable to locate element: {\"method\":\"css selector\",\"selector\":\".JobDetails_jobDescription__uW_fk\"}\n  (Session info: chrome=127.0.6533.120); For documentation on this error, please visit: https://www.selenium.dev/documentation/webdriver/troubleshooting/errors#no-such-element-exception\nStacktrace:\n\tGetHandleVerifier [0x00007FF6ADBF9642+30946]\n\t(No symbol) [0x00007FF6ADBAE3D9]\n\t(No symbol) [0x00007FF6ADAA6FDA]\n\t(No symbol) [0x00007FF6ADAF822C]\n\t(No symbol) [0x00007FF6ADAF850C]\n\t(No symbol) [0x00007FF6ADB3DCB7]\n\t(No symbol) [0x00007FF6ADB1CAAF]\n\t(No symbol) [0x00007FF6ADB3B041]\n\t(No symbol) [0x00007FF6ADB1C813]\n\t(No symbol) [0x00007FF6ADAEA6E5]\n\t(No symbol) [0x00007FF6ADAEB021]\n\tGetHandleVerifier [0x00007FF6ADD2F84D+1301229]\n\tGetHandleVerifier [0x00007FF6ADD3BDC7+1351783]\n\tGetHandleVerifier [0x00007FF6ADD32A13+1313971]\n\tGetHandleVerifier [0x00007FF6ADC2DD16+245686]\n\t(No symbol) [0x00007FF6ADBB759F]\n\t(No symbol) [0x00007FF6ADBB3814]\n\t(No symbol) [0x00007FF6ADBB39A2]\n\t(No symbol) [0x00007FF6ADBAA3FF]\n\tBaseThreadInitThunk [0x00007FFBE11F7374+20]\n\tRtlUserThreadStart [0x00007FFBE1E5CC91+33]\n",
     "output_type": "error",
     "traceback": [
      "\u001b[1;31m---------------------------------------------------------------------------\u001b[0m",
      "\u001b[1;31mNoSuchElementException\u001b[0m                    Traceback (most recent call last)",
      "Input \u001b[1;32mIn [19]\u001b[0m, in \u001b[0;36m<cell line: 1>\u001b[1;34m()\u001b[0m\n\u001b[1;32m----> 1\u001b[0m \u001b[43mdriver\u001b[49m\u001b[38;5;241;43m.\u001b[39;49m\u001b[43mfind_element\u001b[49m\u001b[43m(\u001b[49m\u001b[43mBy\u001b[49m\u001b[38;5;241;43m.\u001b[39;49m\u001b[43mCLASS_NAME\u001b[49m\u001b[43m,\u001b[49m\u001b[38;5;124;43m'\u001b[39;49m\u001b[38;5;124;43mJobDetails_jobDescription__uW_fk\u001b[39;49m\u001b[38;5;124;43m'\u001b[39;49m\u001b[43m)\u001b[49m\n",
      "File \u001b[1;32mE:\\data_science_apps\\lib\\site-packages\\selenium\\webdriver\\remote\\webdriver.py:748\u001b[0m, in \u001b[0;36mWebDriver.find_element\u001b[1;34m(self, by, value)\u001b[0m\n\u001b[0;32m    745\u001b[0m     by \u001b[38;5;241m=\u001b[39m By\u001b[38;5;241m.\u001b[39mCSS_SELECTOR\n\u001b[0;32m    746\u001b[0m     value \u001b[38;5;241m=\u001b[39m \u001b[38;5;124mf\u001b[39m\u001b[38;5;124m'\u001b[39m\u001b[38;5;124m[name=\u001b[39m\u001b[38;5;124m\"\u001b[39m\u001b[38;5;132;01m{\u001b[39;00mvalue\u001b[38;5;132;01m}\u001b[39;00m\u001b[38;5;124m\"\u001b[39m\u001b[38;5;124m]\u001b[39m\u001b[38;5;124m'\u001b[39m\n\u001b[1;32m--> 748\u001b[0m \u001b[38;5;28;01mreturn\u001b[39;00m \u001b[38;5;28;43mself\u001b[39;49m\u001b[38;5;241;43m.\u001b[39;49m\u001b[43mexecute\u001b[49m\u001b[43m(\u001b[49m\u001b[43mCommand\u001b[49m\u001b[38;5;241;43m.\u001b[39;49m\u001b[43mFIND_ELEMENT\u001b[49m\u001b[43m,\u001b[49m\u001b[43m \u001b[49m\u001b[43m{\u001b[49m\u001b[38;5;124;43m\"\u001b[39;49m\u001b[38;5;124;43musing\u001b[39;49m\u001b[38;5;124;43m\"\u001b[39;49m\u001b[43m:\u001b[49m\u001b[43m \u001b[49m\u001b[43mby\u001b[49m\u001b[43m,\u001b[49m\u001b[43m \u001b[49m\u001b[38;5;124;43m\"\u001b[39;49m\u001b[38;5;124;43mvalue\u001b[39;49m\u001b[38;5;124;43m\"\u001b[39;49m\u001b[43m:\u001b[49m\u001b[43m \u001b[49m\u001b[43mvalue\u001b[49m\u001b[43m}\u001b[49m\u001b[43m)\u001b[49m[\u001b[38;5;124m\"\u001b[39m\u001b[38;5;124mvalue\u001b[39m\u001b[38;5;124m\"\u001b[39m]\n",
      "File \u001b[1;32mE:\\data_science_apps\\lib\\site-packages\\selenium\\webdriver\\remote\\webdriver.py:354\u001b[0m, in \u001b[0;36mWebDriver.execute\u001b[1;34m(self, driver_command, params)\u001b[0m\n\u001b[0;32m    352\u001b[0m response \u001b[38;5;241m=\u001b[39m \u001b[38;5;28mself\u001b[39m\u001b[38;5;241m.\u001b[39mcommand_executor\u001b[38;5;241m.\u001b[39mexecute(driver_command, params)\n\u001b[0;32m    353\u001b[0m \u001b[38;5;28;01mif\u001b[39;00m response:\n\u001b[1;32m--> 354\u001b[0m     \u001b[38;5;28;43mself\u001b[39;49m\u001b[38;5;241;43m.\u001b[39;49m\u001b[43merror_handler\u001b[49m\u001b[38;5;241;43m.\u001b[39;49m\u001b[43mcheck_response\u001b[49m\u001b[43m(\u001b[49m\u001b[43mresponse\u001b[49m\u001b[43m)\u001b[49m\n\u001b[0;32m    355\u001b[0m     response[\u001b[38;5;124m\"\u001b[39m\u001b[38;5;124mvalue\u001b[39m\u001b[38;5;124m\"\u001b[39m] \u001b[38;5;241m=\u001b[39m \u001b[38;5;28mself\u001b[39m\u001b[38;5;241m.\u001b[39m_unwrap_value(response\u001b[38;5;241m.\u001b[39mget(\u001b[38;5;124m\"\u001b[39m\u001b[38;5;124mvalue\u001b[39m\u001b[38;5;124m\"\u001b[39m, \u001b[38;5;28;01mNone\u001b[39;00m))\n\u001b[0;32m    356\u001b[0m     \u001b[38;5;28;01mreturn\u001b[39;00m response\n",
      "File \u001b[1;32mE:\\data_science_apps\\lib\\site-packages\\selenium\\webdriver\\remote\\errorhandler.py:229\u001b[0m, in \u001b[0;36mErrorHandler.check_response\u001b[1;34m(self, response)\u001b[0m\n\u001b[0;32m    227\u001b[0m         alert_text \u001b[38;5;241m=\u001b[39m value[\u001b[38;5;124m\"\u001b[39m\u001b[38;5;124malert\u001b[39m\u001b[38;5;124m\"\u001b[39m]\u001b[38;5;241m.\u001b[39mget(\u001b[38;5;124m\"\u001b[39m\u001b[38;5;124mtext\u001b[39m\u001b[38;5;124m\"\u001b[39m)\n\u001b[0;32m    228\u001b[0m     \u001b[38;5;28;01mraise\u001b[39;00m exception_class(message, screen, stacktrace, alert_text)  \u001b[38;5;66;03m# type: ignore[call-arg]  # mypy is not smart enough here\u001b[39;00m\n\u001b[1;32m--> 229\u001b[0m \u001b[38;5;28;01mraise\u001b[39;00m exception_class(message, screen, stacktrace)\n",
      "\u001b[1;31mNoSuchElementException\u001b[0m: Message: no such element: Unable to locate element: {\"method\":\"css selector\",\"selector\":\".JobDetails_jobDescription__uW_fk\"}\n  (Session info: chrome=127.0.6533.120); For documentation on this error, please visit: https://www.selenium.dev/documentation/webdriver/troubleshooting/errors#no-such-element-exception\nStacktrace:\n\tGetHandleVerifier [0x00007FF6ADBF9642+30946]\n\t(No symbol) [0x00007FF6ADBAE3D9]\n\t(No symbol) [0x00007FF6ADAA6FDA]\n\t(No symbol) [0x00007FF6ADAF822C]\n\t(No symbol) [0x00007FF6ADAF850C]\n\t(No symbol) [0x00007FF6ADB3DCB7]\n\t(No symbol) [0x00007FF6ADB1CAAF]\n\t(No symbol) [0x00007FF6ADB3B041]\n\t(No symbol) [0x00007FF6ADB1C813]\n\t(No symbol) [0x00007FF6ADAEA6E5]\n\t(No symbol) [0x00007FF6ADAEB021]\n\tGetHandleVerifier [0x00007FF6ADD2F84D+1301229]\n\tGetHandleVerifier [0x00007FF6ADD3BDC7+1351783]\n\tGetHandleVerifier [0x00007FF6ADD32A13+1313971]\n\tGetHandleVerifier [0x00007FF6ADC2DD16+245686]\n\t(No symbol) [0x00007FF6ADBB759F]\n\t(No symbol) [0x00007FF6ADBB3814]\n\t(No symbol) [0x00007FF6ADBB39A2]\n\t(No symbol) [0x00007FF6ADBAA3FF]\n\tBaseThreadInitThunk [0x00007FFBE11F7374+20]\n\tRtlUserThreadStart [0x00007FFBE1E5CC91+33]\n"
     ]
    }
   ],
   "source": [
    "driver.find_element(By.CLASS_NAME,'JobDetails_jobDescription__uW_fk')"
   ]
  },
  {
   "cell_type": "code",
   "execution_count": 51,
   "id": "25ccc9be",
   "metadata": {},
   "outputs": [
    {
     "data": {
      "text/plain": [
       "[<selenium.webdriver.remote.webelement.WebElement (session=\"2d94f6e25a6d39a6cf8ef8a2041b5b39\", element=\"f.E59392EEAC35C7C867733106858BAE28.d.465028068C75994439519A9BBF6B68A9.e.143\")>]"
      ]
     },
     "execution_count": 51,
     "metadata": {},
     "output_type": "execute_result"
    }
   ],
   "source": [
    "driver.find_element(By.CLASS_NAME,'JobDetails_showHidden__C_FOA')#.text"
   ]
  },
  {
   "cell_type": "code",
   "execution_count": 56,
   "id": "c1c33b2e",
   "metadata": {},
   "outputs": [
    {
     "data": {
      "text/plain": [
       "'About the Role:\\nGrade Level (for internal use): 10\\n\\nThe Team: The Data Science/AI/ML team is a newly formed innovation and deployment team within S&P Global Ratings that will be responsible for building and executing a bold vision around using Machine Learning, Artificial Intelligence, Data Science, knowledge engineering, and human computer interfaces for augmenting various business processes.\\nThe Impact: This role will have a significant impact on the success of our data science, AI, and Machine Learning projects ranging from choosing which projects should be undertaken, to delivering highest quality solution, ultimately enabling our business processes and products with AI and Machine Learning solutions.\\n\\nWe are seeking a senior MLOps Engineer to join our MLOps team within the Data Science COE at S&P Global. As a senior MLOps Engineer, you will contribute to the deployment, monitoring, and management of machine learning models and data pipelines. You will work with a peer group of MlOps engineers to develop MLops modules and engineering solutions.\\n\\n\\nIn this role, you will play a pivotal role in implementing our machine learning operations, ensuring the seamless deployment, monitoring, and management of our machine learning models and data pipelines. You will be work closely in a world class AI ML team comprised of experts in AI ML modeling, ML engineers and data science and data engineering teams. You will contribute to engineering and developing solutions for ML operations and be a critical part of leading S&P’s AI-driven transformation to drive value internally and for our customers.\\nS&P is a leader in automation and AI/ML to transform risk management. This role is a unique opportunity for MLops / LLMops engineers to grow into the next step in their career journey.\\n\\n\\nQualifications\\nAbout S&P Global Ratings\\nAt S&P Global Ratings, our analyst-driven credit ratings, research, and sustainable finance opinions provide critical insights that are essential to translating complexity into clarity so market participants can uncover opportunities and make decisions with conviction. By bringing transparency to the market through high-quality independent opinions on creditworthiness, we enable growth across a wide variety of organizations, including businesses, governments, and institutions.\\nSPGI). S&P Global is the world’s foremost provider of credit ratings, benchmarks, analytics and workflow solutions in the global capital, commodity and automotive markets. With every one of our offerings, we help many of the world’s leading organizations navigate the economic landscape so they can plan for tomorrow, today.\\n\\nFor more information, visit www.spglobal.com/ratings\\n\\nWhat’s In It For You?\\n\\n\\nProgress is not a self-starter. It requires a catalyst to be set in motion. Information, imagination, people, technology–the right combination can unlock possibility and change the world.\\n\\nOur world is in transition and getting more complex by the day. We push past expected observations and seek out new levels of understanding so that we can help companies, governments and individuals make an impact on tomorrow. At S&P Global we transform data into Essential Intelligence®, pinpointing risks and opening possibilities. We Accelerate Progress.\\n\\n\\nWe\\'re more than 35,000 strong worldwide—so we\\'re able to understand nuances while having a broad perspective. Our team is driven by curiosity and a shared belief that Essential Intelligence can help build a more prosperous future for us all.\\n\\nFrom finding new ways to measure sustainability to analyzing energy transition across the supply chain to building workflow solutions that make it easy to tap into insight and apply it. We are changing the way people see things and empowering them to make an impact on the world we live in. We’re committed to a more equitable future and to helping our customers find new, sustainable ways of doing business. We’re constantly seeking new solutions that have progress in mind. Join us and help create the critical insights that truly make a difference.\\n\\n\\nIntegrity, Discovery, Partnership\\n\\nAt S&P Global, we focus on Powering Global Markets. Throughout our history, the world\\'s leading organizations have relied on us for the Essential Intelligence they need to make confident decisions about the road ahead. We start with a foundation of integrity in all we do, bring a spirit of discovery to our work, and collaborate in close partnership with each other and our customers to achieve shared goals.\\n\\n\\nWe take care of you, so you can take care of business. We care about our people. That’s why we provide everything you—and your career—need to thrive at S&P Global.\\n\\n\\nHealth care coverage designed for the mind and body.\\n\\nGenerous time off helps keep you energized for your time on.\\n\\nAccess a wealth of resources to grow your career and learn valuable new skills.\\n\\nSecure your financial future through competitive pay, retirement planning, a continuing education program with a company-matched student loan contribution, and financial wellness programs.\\n\\nIt’s not just about you. S&P Global has perks for your partners and little ones, too, with some best-in class benefits for families.\\n\\nFrom retail discounts to referral incentive awards—small perks can make a big difference.\\nhttps://spgbenefits.com/benefit-summaries\\n\\n\\nAt S&P Global, we believe diversity fuels creative insights, equity unlocks opportunity, and inclusion drives growth and innovation – Powering Global Markets. Our commitment centers on our global workforce, ensuring that our people are empowered to bring their whole selves to work. It doesn’t stop there, we strive to better reflect and serve the communities in which we live and work, and advocate for greater opportunity for all.\\n\\nS&P Global has a Securities Disclosure and Trading Policy (“the Policy”) that seeks to mitigate conflicts of interest by monitoring and placing restrictions on personal securities holding and trading. The Policy is designed to promote compliance with global regulations. In some Divisions, pursuant to the Policy’s requirements, candidates at S&P Global may be asked to disclose securities holdings. Some roles may include a trading prohibition and remediation of positions when there is an effective or potential conflict of interest. Employment at S&P Global is contingent upon compliance with the Policy.\\n\\n-----------------------------------------------------------\\n\\nEqual Opportunity Employer\\nS&P Global is an equal opportunity employer and all qualified candidates will receive consideration for employment without regard to race/ethnicity, color, religion, sex, sexual orientation, gender identity, national origin, age, disability, marital status, military veteran status, unemployment status, or any other status protected by law. Only electronic job submissions will be considered for employment.\\n\\nIf you need an accommodation during the application process due to a disability, please send an email to: EEO.Compliance@spglobal.com and your request will be forwarded to the appropriate person.\\n\\nThe EEO is the Law Poster http://www.dol.gov/ofccp/regs/compliance/posters/pdf/eeopost.pdf describes discrimination protections under federal law.\\n\\n----------------------------------------------------------- IFTECH202.1 - Middle Professional Tier I (EEO Job Group)\\n\\n293653\\n2024-08-01\\nHyderabad, Telangana, India\\nShow more\\nBase pay range\\nThe minimum salary is ₹6L and the max salary is ₹8L.\\n₹6L – ₹8L/yr (Glassdoor est.)\\n₹7L\\n/yr Median\\nHyderābād\\nIf an employer includes a salary or salary range on their job, we display it as an \"Employer Estimate\". If a job has no salary data, Glassdoor displays a \"Glassdoor Estimate\" if available. To learn more about \"Glassdoor Estimates,\" see our FAQ page.\\nCompany overview\\nSize\\n10000+ Employees\\nFounded\\n1860\\nType\\nCompany - Public\\nIndustry\\nResearch and development\\nSector\\nManagement and consulting\\nRevenue\\n$10+ billion (USD)\\nS&P Global Ratings\\n4.1\\n85 %\\nRecommend to a friend\\n92 %\\nApprove of CEO\\nDouglas L. Peterson\\n2,444 Ratings\\nCareer opportunities\\n3.8\\nComp and Benefits\\n3.8\\nCulture and values\\n4.2\\nSenior management\\n3.7\\nWork/Life Balance\\n4.2\\nS&P Global Reviews\\nPros\\n\"work life balance is good\" (in 170 reviews)\\n\"Good benefits but very bureaucratic\" (in 108 reviews)\\n\"Good work culture and supportive\" (in 106 reviews)\\n\"Product base company and good salary.\" (in 132 reviews)\\n\"People in my team were great.\" (in 66 reviews)\\nCons\\n\"Tech stack is old and need improvement and work life balance depends on project.\" (in 170 reviews)\\n\"No benefits for contractors A lot of complicated business procedures\" (in 108 reviews)\\n\"Work culture is awful.\" (in 106 reviews)\\n\"Salaries are low I think\" (in 132 reviews)\\n\"Some people are pretty smart, but some are not....\" (in 66 reviews)\\nS&P Global Benefits\\n3.9\\n3 Ratings\\nEmployee benefit reviews\\nMost commented\\nMaternity & Paternity Leave(170 comments)\\n\"Wellbeing &amp; Wellness offs , Summer flexi off\"\\nVacation & Paid Time Off(74 comments)\\n\"Noting everything mentioned and &amp; Transend Program\"\\nWork From Home(68 comments)\\n\"Work From Home with Flexible Hours.\"\\n10 Aug 2024\\nCurrent Data Analyst in Hyderābād, Telangana\\nWork-life balance &amp; Supportive Senior leaders\\n10 Aug 2024\\nCurrent Software Engineer in Gurgaon, Haryana, Haryana\\nHealth Insurance, Cab Facility, Leaves\\n12 Aug 2024\\nFormer Internship in Noida, Uttar Pradesh\\nWork culture is very good'"
      ]
     },
     "execution_count": 56,
     "metadata": {},
     "output_type": "execute_result"
    }
   ],
   "source": [
    "# below one is fetching the complete job details with everything from that right section\n",
    "driver.find_element(By.CLASS_NAME,'JobDetails_jobDetailsSection__y_xa6').text"
   ]
  },
  {
   "cell_type": "markdown",
   "id": "489b7e50",
   "metadata": {},
   "source": [
    "### Remember that all the below elements are fetched from the left column container where the elements are present as a list, so using find_element will only return the first occurance of the element\n",
    "\n",
    "### to get the list of all elements we would have to use find_elements()"
   ]
  },
  {
   "cell_type": "code",
   "execution_count": 31,
   "id": "abfc0bcc",
   "metadata": {
    "collapsed": true
   },
   "outputs": [
    {
     "name": "stdout",
     "output_type": "stream",
     "text": [
      "You'll be responsible for the design, build and maintenance of tools that enable our Support Engineers and related teams to be more effective and efficient at……\n",
      "Skills: Software deployment, Microservices, SQL, Docker, Machine learning\n",
      "The Senior Manager’s role will ensure that the SAP Security Strategy and Risk and Compliance Management frameworks are always up-to-date, new threats are……\n",
      "Skills: SAP, SOX, Analysis skills, SAP S/4HANA, RMF\n",
      "As a Python Developer - AI/ML Engineer, you will be responsible for designing, developing, and deploying machine learning models and AI solutions.…\n",
      "Skills: TensorFlow, Image processing, Computer vision, Calculus, Basic math\n",
      "Develop and implement methods for data collection, augmentation etc. YantraVision is involved in developing Industrial QA solutions and products based on……\n",
      "Skills: TensorFlow, Image processing, Computer vision, C++, C\n",
      "Project Ownership: Taking full ownership of data engineering projects, from conception through execution to delivery, ensuring alignment with business……\n",
      "Skills: Microsoft Powerpoint, Azure, Cassandra, Big data, Spark\n",
      "We are seeking a strong candidate with significant advanced analytics experience to fill an exciting Lead Data Scientist (LDS) position within BCG X. The LDS is……\n",
      "Skills: Spark, Project management, Data science\n",
      "In this role, you will play a pivotal role in implementing our machine learning operations, ensuring the seamless deployment, monitoring, and management of our……\n",
      "Skills: CI/CD, Elasticsearch, Big data, NoSQL, Git\n",
      "4+ years of industry experience in data and/or software engineering, data science, business intelligence, or related fields.…\n",
      "Skills: CI/CD, Data modeling, Rust, Go, Business intelligence\n",
      "Comply with the terms and conditions of the employment contract, company policies and procedures, and any and all directives (such as, but not limited to,……\n",
      "Skills: TensorFlow, Big data, SQL, Analysis skills, Machine learning\n",
      "Analyze data to uncover hidden patterns and relationships that can inform the development of new AI techniques.…\n",
      "Skills: TensorFlow, Data structures, Research, Machine learning, Distributed systems\n",
      "Acquire data from primary or secondary data sources and maintain databases/data systems. Use statistical methods to analyze data and generate useful business……\n",
      "Skills: SQL, Data science, AI, Python\n",
      "Work on Big data, data ingestion, search indexing, data mining, big data, Hadoop, deep learning, recommendations, and performance by developing a Search……\n",
      "Skills: Lucene, Search engines, Elasticsearch, Azure, Data mining\n",
      "As a key member of the team you will be expected to design, build, test and deploy stable, scalable and simple solutions.…\n",
      "Skills: TensorFlow, Image processing, Azure, Kubernetes, Computer vision\n",
      "· Stay up to date on latest technology and leverage those technologies to enhance the current systems and process to make them more efficient.…\n",
      "Skills: FTP, Azure, React, NFS, Web development\n",
      "Comply with the terms and conditions of the employment contract, company policies and procedures, and any and all directives (such as, but not limited to,……\n",
      "Skills: Presentation skills, Machine learning, Deep learning, Natural language processing, Data science\n",
      "Including evening shift Rs 15,000 (one week evening shift per month). ₹13,500 from 3rd month. Evening shift allowance (1:30 PM - 11:30PM) (Per day Rs.…\n",
      "Skills: Microsoft Excel, English\n",
      "Bachelor’s degree or higher in computer science or other closely related fields. Exhibits confidence and an extensive knowledge of emerging industry practices……\n",
      "Skills: MATLAB, Big data, Mobile applications, Business analysis, System design\n",
      "As an AI Tutor - Coding, you'll play a critical role in shaping the future of AI. Proficiency working with any of the the following (in addition to the……\n",
      "Skills: MATLAB, Rust, Go, C#, R\n",
      "Please forward your resumes to careers@bigspire.com and we will get back to you if your resume matches our job criteria.…\n",
      "Skills: Analysis skills, Communication skills, Hadoop\n",
      "We are hiring Data Science Interns , qualification : any , freshers can Apply. Job Types: Full-time, Permanent, Fresher.…\n",
      "Skills: Data science\n",
      "Machine learning (Regression, Classification models etc) - intermediate. Computer Vision & NLP - optional but will have added advantage.…\n",
      "Skills: Image processing, R, English, SQL, Machine learning\n",
      "We are seeking those who have a passion for using data, analytics, and insights to drive decision making, that will allow us to tackle some of the world’s……\n",
      "Skills: Power BI, R, SQL, AWS, Project management\n",
      "The ideal candidate will have a strong background in data science, with a deep understanding of statistical analysis, machine learning, data visualization, and……\n",
      "Skills: TensorFlow, Power BI, Big data, R, Tableau\n",
      "Bachelor’s degree in computer science, Statistics, Mathematics, or related field; master’s degree preferred. Work on LLM/Gen AI based applications.…\n",
      "Skills: Machine learning, Natural language processing, Data science, AI, Communication skills\n",
      "Ability to work in cross-functional, multi-cultural and international clinical trial teams. Performing data manipulation, analysis, and reporting of clinical……\n",
      "Skills: Statistics, Oracle, SAS, R, Tableau\n",
      "Identify key data sources that can make business impacts. Proficient in Visualization and story telling which can make an impact to the business .…\n",
      "Skills: Statistics, Performance tuning, Data modeling, Alteryx, Data analysis skills\n",
      "Proficiency in using query languages such as SQL and experience of working with relationaland non-relational databases like mySQL, PostGres, Presto, Mongo ……\n",
      "Skills: Statistics, Data mining, Relational databases, Tableau, SQL\n",
      "Develop the skills you want when the time is right for you, with global tuition assistance, access to over 20,000 courses on our learning platform, leadership……\n",
      "Skills: CSS, Software troubleshooting, React, Data structures, NoSQL\n",
      "Alternatively, an extraordinary curiosity about business and industry. Discuss, brainstorm on new modules with the senior team, write business logic with……\n",
      "Skills: Statistics, Microsoft Excel, Data mining, R, SQL\n",
      "Support the team in developing data-driven solutions that address specific business challenges. Collaborate with the data science team to understand business……\n",
      "Skills: TensorFlow, Statistics, Data analysis skills, Analysis skills, Machine learning\n"
     ]
    }
   ],
   "source": [
    "# for fetching skills and description\n",
    "\n",
    "details = driver.find_elements(By.CLASS_NAME,\"JobCard_jobDescriptionSnippet__yWW8q\")#.text.split(\"\\n\")[0]\n",
    "for i in details :\n",
    "    for j in i.text.split('\\n') :\n",
    "        print(j)\n",
    "        #print(skills)"
   ]
  },
  {
   "cell_type": "code",
   "execution_count": 36,
   "id": "bc321e37",
   "metadata": {},
   "outputs": [
    {
     "data": {
      "text/plain": [
       "'Skills: Software deployment, Microservices, SQL, Docker, Machine learning'"
      ]
     },
     "execution_count": 36,
     "metadata": {},
     "output_type": "execute_result"
    }
   ],
   "source": [
    "# How to fetch skills\n",
    "driver.find_elements(By.CLASS_NAME,\"JobCard_jobDescriptionSnippet__yWW8q\")[0].text.split('\\n')[1]"
   ]
  },
  {
   "cell_type": "code",
   "execution_count": 37,
   "id": "b37dc884",
   "metadata": {},
   "outputs": [
    {
     "data": {
      "text/plain": [
       "\"You'll be responsible for the design, build and maintenance of tools that enable our Support Engineers and related teams to be more effective and efficient at……\""
      ]
     },
     "execution_count": 37,
     "metadata": {},
     "output_type": "execute_result"
    }
   ],
   "source": [
    "# how to fetch details of job\n",
    "driver.find_elements(By.CLASS_NAME,\"JobCard_jobDescriptionSnippet__yWW8q\")[0].text.split('\\n')[0]"
   ]
  },
  {
   "cell_type": "code",
   "execution_count": 43,
   "id": "738ecf78",
   "metadata": {},
   "outputs": [
    {
     "data": {
      "text/plain": [
       "'₹4L - ₹7L (Glassdoor Est.)'"
      ]
     },
     "execution_count": 43,
     "metadata": {},
     "output_type": "execute_result"
    }
   ],
   "source": [
    "# for fetching salary estimate\n",
    "driver.find_element(By.CLASS_NAME,'JobCard_salaryEstimate__arV5J').text#.split()#[0]\n"
   ]
  },
  {
   "cell_type": "code",
   "execution_count": 48,
   "id": "787f0165",
   "metadata": {},
   "outputs": [],
   "source": [
    "# the paths specified in the video codes do not match the current \n",
    "# site's elements, below is an example to fetch job description \n",
    "#driver.find_element(By.XPATH,'.//div[@class=\"jobDescriptionContent\"]').text"
   ]
  },
  {
   "cell_type": "code",
   "execution_count": null,
   "id": "637783f4",
   "metadata": {},
   "outputs": [],
   "source": []
  }
 ],
 "metadata": {
  "kernelspec": {
   "display_name": "Python 3 (ipykernel)",
   "language": "python",
   "name": "python3"
  },
  "language_info": {
   "codemirror_mode": {
    "name": "ipython",
    "version": 3
   },
   "file_extension": ".py",
   "mimetype": "text/x-python",
   "name": "python",
   "nbconvert_exporter": "python",
   "pygments_lexer": "ipython3",
   "version": "3.9.13"
  }
 },
 "nbformat": 4,
 "nbformat_minor": 5
}
